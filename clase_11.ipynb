{
  "nbformat": 4,
  "nbformat_minor": 0,
  "metadata": {
    "colab": {
      "name": "clase_11.ipynb",
      "provenance": []
    },
    "kernelspec": {
      "name": "python3",
      "display_name": "Python 3"
    },
    "language_info": {
      "name": "python"
    }
  },
  "cells": [
    {
      "cell_type": "markdown",
      "metadata": {
        "id": "DYIDOPx5-uhY"
      },
      "source": [
        "# Clase 11. LDA y Regresión logística"
      ]
    },
    {
      "cell_type": "code",
      "metadata": {
        "id": "2DgMo-rc-5WG"
      },
      "source": [
        "import matplotlib.pyplot as plt\n",
        "import numpy as np\n",
        "import seaborn as sns\n",
        "\n",
        "import pandas as pd\n",
        "\n",
        "from sklearn.model_selection import train_test_split\n",
        "from sklearn.metrics import confusion_matrix, accuracy_score, recall_score, f1_score, precision_score"
      ],
      "execution_count": null,
      "outputs": []
    },
    {
      "cell_type": "code",
      "metadata": {
        "colab": {
          "base_uri": "https://localhost:8080/"
        },
        "id": "Qdz9DcwONAzB",
        "outputId": "70b9602a-6b1e-40c3-efca-eb63ebd0bf82"
      },
      "source": [
        "pip install wooldridge"
      ],
      "execution_count": null,
      "outputs": [
        {
          "output_type": "stream",
          "name": "stdout",
          "text": [
            "Requirement already satisfied: wooldridge in /usr/local/lib/python3.7/dist-packages (0.4.4)\n",
            "Requirement already satisfied: pandas in /usr/local/lib/python3.7/dist-packages (from wooldridge) (1.1.5)\n",
            "Requirement already satisfied: python-dateutil>=2.7.3 in /usr/local/lib/python3.7/dist-packages (from pandas->wooldridge) (2.8.2)\n",
            "Requirement already satisfied: numpy>=1.15.4 in /usr/local/lib/python3.7/dist-packages (from pandas->wooldridge) (1.19.5)\n",
            "Requirement already satisfied: pytz>=2017.2 in /usr/local/lib/python3.7/dist-packages (from pandas->wooldridge) (2018.9)\n",
            "Requirement already satisfied: six>=1.5 in /usr/local/lib/python3.7/dist-packages (from python-dateutil>=2.7.3->pandas->wooldridge) (1.15.0)\n"
          ]
        }
      ]
    },
    {
      "cell_type": "code",
      "metadata": {
        "id": "gw3CfdkxMzji"
      },
      "source": [
        "import wooldridge as wd\n",
        "mroz = wd.data('mroz')"
      ],
      "execution_count": null,
      "outputs": []
    },
    {
      "cell_type": "code",
      "metadata": {
        "colab": {
          "base_uri": "https://localhost:8080/"
        },
        "id": "nQ9sT1eYpWAW",
        "outputId": "b0350e04-1efd-47dc-defd-61de675cebcb"
      },
      "source": [
        "wd.data('mroz', description=True)"
      ],
      "execution_count": null,
      "outputs": [
        {
          "output_type": "stream",
          "name": "stdout",
          "text": [
            "name of dataset: mroz\n",
            "no of variables: 22\n",
            "no of observations: 753\n",
            "\n",
            "+----------+---------------------------------+\n",
            "| variable | label                           |\n",
            "+----------+---------------------------------+\n",
            "| inlf     | =1 if in lab frce, 1975         |\n",
            "| hours    | hours worked, 1975              |\n",
            "| kidslt6  | # kids < 6 years                |\n",
            "| kidsge6  | # kids 6-18                     |\n",
            "| age      | woman's age in yrs              |\n",
            "| educ     | years of schooling              |\n",
            "| wage     | est. wage from earn, hrs        |\n",
            "| repwage  | rep. wage at interview in 1976  |\n",
            "| hushrs   | hours worked by husband, 1975   |\n",
            "| husage   | husband's age                   |\n",
            "| huseduc  | husband's years of schooling    |\n",
            "| huswage  | husband's hourly wage, 1975     |\n",
            "| faminc   | family income, 1975             |\n",
            "| mtr      | fed. marg. tax rte facing woman |\n",
            "| motheduc | mother's years of schooling     |\n",
            "| fatheduc | father's years of schooling     |\n",
            "| unem     | unem. rate in county of resid.  |\n",
            "| city     | =1 if live in SMSA              |\n",
            "| exper    | actual labor mkt exper          |\n",
            "| nwifeinc | (faminc - wage*hours)/1000      |\n",
            "| lwage    | log(wage)                       |\n",
            "| expersq  | exper^2                         |\n",
            "+----------+---------------------------------+\n",
            "\n",
            "T.A. Mroz (1987), “The Sensitivity of an Empirical Model of Married\n",
            "Women’s Hours of Work to Economic and Statistical Assumptions,”\n",
            "Econometrica 55, 765-799. Professor Ernst R. Berndt, of MIT, kindly\n",
            "provided the data, which he obtained from Professor Mroz.\n"
          ]
        }
      ]
    },
    {
      "cell_type": "markdown",
      "metadata": {
        "id": "HIkjPp5oCOaZ"
      },
      "source": [
        "## Clasificación con regresión lineal\n",
        "\n",
        "$$y=\\textbf{X}\\textbf{b}$$\n",
        "\n",
        "Dos problemas:\n",
        " - Heterocedasticidad\n",
        " - Probabilidades podrían no estar entre 0 y 1"
      ]
    },
    {
      "cell_type": "code",
      "metadata": {
        "id": "a68MvsfDCN_7"
      },
      "source": [
        "from sklearn.linear_model import LinearRegression"
      ],
      "execution_count": null,
      "outputs": []
    },
    {
      "cell_type": "code",
      "metadata": {
        "id": "Zjkeq56fNUVo"
      },
      "source": [
        "y = mroz.pop('inlf')\n",
        "X = mroz.filter(['nwifeinc','educ','exper','expersq','age','kidslt6','kidsge6'])"
      ],
      "execution_count": null,
      "outputs": []
    },
    {
      "cell_type": "code",
      "metadata": {
        "id": "aEH8Dz0KNUQY"
      },
      "source": [
        "X_train, X_test, y_train, y_test = train_test_split(X, y, test_size=0.2, random_state=42)"
      ],
      "execution_count": null,
      "outputs": []
    },
    {
      "cell_type": "code",
      "metadata": {
        "colab": {
          "base_uri": "https://localhost:8080/"
        },
        "id": "-aAeXx-hNUL2",
        "outputId": "a8f2ff91-2a84-416f-82e4-eb753dae8351"
      },
      "source": [
        "reg = LinearRegression()\n",
        "reg.fit(X_train,y_train)"
      ],
      "execution_count": null,
      "outputs": [
        {
          "output_type": "execute_result",
          "data": {
            "text/plain": [
              "LinearRegression(copy_X=True, fit_intercept=True, n_jobs=None, normalize=False)"
            ]
          },
          "metadata": {},
          "execution_count": 48
        }
      ]
    },
    {
      "cell_type": "code",
      "metadata": {
        "id": "iPt3Nep8NUH3"
      },
      "source": [
        "model_lr = reg.predict(X_train)"
      ],
      "execution_count": null,
      "outputs": []
    },
    {
      "cell_type": "code",
      "metadata": {
        "id": "JW0VAmmJOltH"
      },
      "source": [
        "y_pred = reg.predict(X_test)\n",
        "y_clas = np.zeros(len(y_pred), dtype=int)\n",
        "\n",
        "for pos,j in enumerate(y_pred):\n",
        "  if j>=0.5:\n",
        "    y_clas[pos] = 1\n",
        "  else:\n",
        "    y_clas[pos] = 0"
      ],
      "execution_count": null,
      "outputs": []
    },
    {
      "cell_type": "code",
      "metadata": {
        "colab": {
          "base_uri": "https://localhost:8080/"
        },
        "id": "V0J_eaJIL81H",
        "outputId": "972b7ed8-10b0-4db4-c83a-0f24cbfd3005"
      },
      "source": [
        "y_clas"
      ],
      "execution_count": null,
      "outputs": [
        {
          "output_type": "execute_result",
          "data": {
            "text/plain": [
              "array([1, 0, 1, 1, 1, 1, 1, 0, 1, 0, 0, 0, 1, 1, 1, 1, 1, 1, 1, 1, 1, 0,\n",
              "       1, 0, 1, 1, 1, 0, 0, 1, 0, 1, 1, 1, 1, 0, 1, 1, 0, 1, 1, 0, 0, 1,\n",
              "       1, 1, 0, 0, 1, 1, 1, 1, 0, 1, 1, 1, 1, 1, 1, 1, 1, 0, 1, 1, 1, 1,\n",
              "       0, 1, 1, 0, 0, 1, 0, 1, 0, 1, 0, 1, 1, 1, 1, 0, 1, 1, 0, 0, 1, 1,\n",
              "       1, 0, 0, 1, 1, 1, 1, 1, 0, 1, 1, 1, 0, 1, 1, 1, 1, 1, 1, 1, 1, 1,\n",
              "       0, 0, 1, 1, 0, 1, 0, 1, 1, 0, 0, 1, 1, 1, 0, 0, 0, 1, 0, 1, 0, 1,\n",
              "       1, 0, 0, 0, 0, 1, 1, 1, 1, 1, 0, 1, 1, 0, 1, 1, 1, 0, 1])"
            ]
          },
          "metadata": {},
          "execution_count": 52
        }
      ]
    },
    {
      "cell_type": "markdown",
      "metadata": {
        "id": "KQDxe8LXrmK1"
      },
      "source": [
        "### Métricas\n",
        "\n",
        "1. Matriz de confusión\n",
        "\n",
        "\n",
        "||Pr|Nr|\n",
        "|---|---|---\n",
        "|Pe|TP|FP|\n",
        "|Ne|FN|TN|\n",
        "\n",
        "Error tipo I: falso positivo\n",
        "\n",
        "Error tipo II: falso negativo\n",
        "\n",
        "2. Accuracy score\n",
        "\n",
        "$$\\frac{TP+TN}{TP+TN+FP+FN}$$\n",
        "\n",
        "3. Recall (sensitivity) score\n",
        "\n",
        "$$\\frac{TP}{TP+FN}$$\n",
        "\n",
        "4. Precision score\n",
        "\n",
        "$$\\frac{TP}{TP+FP}$$\n",
        "\n",
        "5. F1 score\n",
        "\n",
        "$$\\frac{2 \\text{ x precision x recall}}{\\text{precision+recall}}$$\n",
        "\n",
        "6. Specificity\n",
        "\n",
        "$$\\frac{TN}{TN+FP}$$\n",
        "\n",
        "7. ROC curve: Sensitivity vs. 1 - specificity\n",
        "\n",
        "8. Precision-recall curve\n",
        "\n",
        "\n"
      ]
    },
    {
      "cell_type": "code",
      "metadata": {
        "colab": {
          "base_uri": "https://localhost:8080/",
          "height": 282
        },
        "id": "3WFW3duHO4v7",
        "outputId": "455f6b8f-1742-4a0d-e2b6-416d331d86c8"
      },
      "source": [
        "cm = confusion_matrix(y_test, y_clas)\n",
        "\n",
        "sns.heatmap(cm, annot=True)"
      ],
      "execution_count": null,
      "outputs": [
        {
          "output_type": "execute_result",
          "data": {
            "text/plain": [
              "<matplotlib.axes._subplots.AxesSubplot at 0x7f2e8dbd4a90>"
            ]
          },
          "metadata": {},
          "execution_count": 53
        },
        {
          "output_type": "display_data",
          "data": {
            "image/png": "[encoded data removed]",
            "text/plain": [
              "<Figure size 432x288 with 2 Axes>"
            ]
          },
          "metadata": {
            "needs_background": "light"
          }
        }
      ]
    },
    {
      "cell_type": "code",
      "metadata": {
        "colab": {
          "base_uri": "https://localhost:8080/"
        },
        "id": "6XTacT2GP4xl",
        "outputId": "634cecb1-7035-4996-b4ef-749748fd29d3"
      },
      "source": [
        "print(f'Accuracy_score: {accuracy_score(y_test,y_clas)}')\n",
        "print(f'Recall score: {recall_score(y_test, y_clas)}')\n",
        "print(f'F1 score: {f1_score(y_test, y_clas)}')\n",
        "print(f'Precision score: {precision_score(y_test, y_clas)}')"
      ],
      "execution_count": null,
      "outputs": [
        {
          "output_type": "stream",
          "name": "stdout",
          "text": [
            "Accuracy_score: 0.7284768211920529\n",
            "Recall score: 0.8588235294117647\n",
            "F1 score: 0.7807486631016043\n",
            "Precision score: 0.7156862745098039\n"
          ]
        }
      ]
    },
    {
      "cell_type": "code",
      "metadata": {
        "colab": {
          "base_uri": "https://localhost:8080/",
          "height": 282
        },
        "id": "nOMqLpYBNT77",
        "outputId": "654a2d5c-f5dc-4a13-9d82-22827e1874b0"
      },
      "source": [
        "sns.histplot(model_lr)\n",
        "plt.axvline(0, color='k', alpha=0.2, ls='--')\n",
        "plt.axvline(1, color='k', alpha=0.2, ls='--')"
      ],
      "execution_count": null,
      "outputs": [
        {
          "output_type": "execute_result",
          "data": {
            "text/plain": [
              "<matplotlib.lines.Line2D at 0x7f2e8df2c350>"
            ]
          },
          "metadata": {},
          "execution_count": 55
        },
        {
          "output_type": "display_data",
          "data": {
            "image/png": "[encoded data removed]",
            "text/plain": [
              "<Figure size 432x288 with 1 Axes>"
            ]
          },
          "metadata": {
            "needs_background": "light"
          }
        }
      ]
    },
    {
      "cell_type": "code",
      "metadata": {
        "id": "6oA1TXlwthVT"
      },
      "source": [
        "from sklearn.metrics import roc_curve, roc_auc_score, precision_recall_curve\n",
        "\n",
        "ns_probs = np.zeros(len(y_test))\n",
        "reg_pred = reg.predict(X_test)\n",
        "ns_auc = roc_auc_score(y_test, ns_probs)\n",
        "reg_auc = roc_auc_score(y_test, reg_pred)\n"
      ],
      "execution_count": null,
      "outputs": []
    },
    {
      "cell_type": "code",
      "metadata": {
        "id": "_wGqVrJwuHLv"
      },
      "source": [
        "ns_fpr, ns_tpr, _ = roc_curve(y_test, ns_probs)\n",
        "reg_fpr, reg_tpr, _ = roc_curve(y_test, reg_pred)"
      ],
      "execution_count": null,
      "outputs": []
    },
    {
      "cell_type": "code",
      "metadata": {
        "colab": {
          "base_uri": "https://localhost:8080/",
          "height": 298
        },
        "id": "czVTLcVpuHDK",
        "outputId": "0b53b830-4441-4199-9ead-fea84c7ee6dc"
      },
      "source": [
        "plt.plot(ns_fpr, ns_tpr, linestyle='--')\n",
        "plt.plot(reg_fpr,reg_tpr, marker='.')\n",
        "plt.title('ROC curve')"
      ],
      "execution_count": null,
      "outputs": [
        {
          "output_type": "execute_result",
          "data": {
            "text/plain": [
              "Text(0.5, 1.0, 'ROC curve')"
            ]
          },
          "metadata": {},
          "execution_count": 59
        },
        {
          "output_type": "display_data",
          "data": {
            "image/png": "[encoded data removed]",
            "text/plain": [
              "<Figure size 432x288 with 1 Axes>"
            ]
          },
          "metadata": {
            "needs_background": "light"
          }
        }
      ]
    },
    {
      "cell_type": "code",
      "metadata": {
        "colab": {
          "base_uri": "https://localhost:8080/"
        },
        "id": "LJbC7g1DO3k5",
        "outputId": "c3d1b1d8-6877-45fd-ed63-9a24626b45a5"
      },
      "source": [
        "reg_auc"
      ],
      "execution_count": null,
      "outputs": [
        {
          "output_type": "execute_result",
          "data": {
            "text/plain": [
              "0.7789661319073082"
            ]
          },
          "metadata": {},
          "execution_count": 60
        }
      ]
    },
    {
      "cell_type": "code",
      "metadata": {
        "colab": {
          "base_uri": "https://localhost:8080/",
          "height": 282
        },
        "id": "E1ospMcPwkBY",
        "outputId": "64a4c830-4ccd-4467-caf4-58971590a04a"
      },
      "source": [
        "reg_precision, reg_recall, _ = precision_recall_curve(y_test,reg_pred)\n",
        "plt.plot(reg_recall, reg_precision, marker='.')"
      ],
      "execution_count": null,
      "outputs": [
        {
          "output_type": "execute_result",
          "data": {
            "text/plain": [
              "[<matplotlib.lines.Line2D at 0x7f2e8d895450>]"
            ]
          },
          "metadata": {},
          "execution_count": 61
        },
        {
          "output_type": "display_data",
          "data": {
            "image/png": "[encoded data removed]",
            "text/plain": [
              "<Figure size 432x288 with 1 Axes>"
            ]
          },
          "metadata": {
            "needs_background": "light"
          }
        }
      ]
    },
    {
      "cell_type": "markdown",
      "metadata": {
        "id": "kVW1mE8J-yXS"
      },
      "source": [
        "## LDA: Linear Discriminant Analysis\n",
        "\n",
        "La intuición detás de LDA es que se busca minimizar la distancia entre cada clase y maximizar la distancia entre las clases. \n",
        "\n",
        "\n",
        "1. Se obtiene la matriz $S$\n",
        "\n",
        "$$S = W^{-1} B$$\n",
        "\n",
        " - La matriz $W$ es el promedio de las matrices de covarianza within. \n",
        " - La matriz $B$ es igual a\n",
        " $$T=B+W$$\n",
        " $$B=T-W$$\n",
        "\n",
        " Esta hace referencia a la matriz de covarianzas between.\n",
        " - Con esta información ya se puede obtener la matriz $S$.\n",
        "\n",
        "2. Se obtienen los eigenvalores y los eigenvectores de la matriz S\n",
        "\n",
        "3. Se proyecta la matrix $X$ sobre los eigenvectores (los eigenvectores pueden ser normalizados con la raíz cuadrada de la varianza agrupada)\n",
        "\n",
        "4. Los valores obtenidos son modelados a partir de una función de densidad normal. A partir de allí se calculan las probabilidades de que pertenezca a una clase determinada utilizando el teorema de Bayes.\n",
        "\n",
        "$$P(G=k|X=x)=\\frac{f_k(x)\\pi_k}{\\sum_{l=1}^K f_l(x)\\pi_l}$$\n",
        "\n",
        "Donde se asume que \n",
        "\n",
        "$$f_k(x)=\\frac{1}{(2\\pi)^{p/2}|\\Sigma_k|^{1/2}}e^{-\\frac{1}{2}(x-\\mu_k)^{T}\\Sigma_k^{-1}(x-\\mu_k)}$$\n",
        "\n",
        "Se observa LDA cuando se tiene una matriz de covarianzas común $\\Sigma_k=\\Sigma\\forall k$.\n",
        "\n",
        "En un caso donde se tienen solo dos clases $k$ y $l$, se puede observar el log-ratio y se tiene:\n",
        "\n",
        "$$\\log\\frac{P(G=k|X=x)}{P(G=l|X=x)}=\\log\\frac{f_k(x)}{f_l(x)}+\\log\\frac{\\pi_k}{\\pi_l}$$\n",
        "$$=\\log\\frac{\\pi_k}{\\pi_l}-\\frac{1}{2}(\\mu_k+\\mu_l)^T\\Sigma^{-1}(\\mu_k-\\mu_l)+x^T\\Sigma^{-1}(\\mu_k-\\mu_l)$$\n",
        "\n",
        "Esto es una ecuación lineal en $x$. Esta función linear de log-odds implica que el límite de decisión entre las clases $k$ y $l$ (conjunto en el cual las probabilidades son iguales) son lineales en $x$ y en $p$ dimensiones un hiperplano.\n",
        "\n",
        "Los parámetros de la distribución Gaussiana no son conocidos en la práctica. Es necesario estimarlos:\n",
        "\n",
        "$$\\hat{\\pi}_k=N_k/N$$\n",
        "$$\\hat{\\mu}=\\sum_{gi=k}x_i/N_k$$\n",
        "$$\\hat{\\Sigma}=\\sum_{k=1}^K\\sum_{gi=k}(x_i-\\hat{\\mu}_k)(x_i-\\hat{\\mu}_k)^T/(N-K)$$"
      ]
    },
    {
      "cell_type": "code",
      "metadata": {
        "id": "BhvTLZZC-x6Y"
      },
      "source": [
        "from sklearn.discriminant_analysis import LinearDiscriminantAnalysis"
      ],
      "execution_count": null,
      "outputs": []
    },
    {
      "cell_type": "code",
      "metadata": {
        "id": "diPmkj-h_2_P"
      },
      "source": [
        "LDA = LinearDiscriminantAnalysis()"
      ],
      "execution_count": null,
      "outputs": []
    },
    {
      "cell_type": "code",
      "metadata": {
        "colab": {
          "base_uri": "https://localhost:8080/"
        },
        "id": "vAOtCo0FRQRQ",
        "outputId": "11515861-ca3e-4ef4-9633-35bd6bb6b876"
      },
      "source": [
        "LDA.fit(X_train, y_train)"
      ],
      "execution_count": null,
      "outputs": [
        {
          "output_type": "execute_result",
          "data": {
            "text/plain": [
              "LinearDiscriminantAnalysis(n_components=None, priors=None, shrinkage=None,\n",
              "                           solver='svd', store_covariance=False, tol=0.0001)"
            ]
          },
          "metadata": {},
          "execution_count": 64
        }
      ]
    },
    {
      "cell_type": "code",
      "metadata": {
        "id": "eC-1kWitplZ5"
      },
      "source": [
        "model_lda = LDA.predict_proba(X_train)"
      ],
      "execution_count": null,
      "outputs": []
    },
    {
      "cell_type": "code",
      "metadata": {
        "colab": {
          "base_uri": "https://localhost:8080/"
        },
        "id": "w3khnijcUNF5",
        "outputId": "b63af1dc-6fdc-4272-e331-9e3f87ac5bde"
      },
      "source": [
        "LDA.predict_proba(X_test)[:5]"
      ],
      "execution_count": null,
      "outputs": [
        {
          "output_type": "execute_result",
          "data": {
            "text/plain": [
              "array([[0.43431813, 0.56568187],\n",
              "       [0.53442752, 0.46557248],\n",
              "       [0.40070172, 0.59929828],\n",
              "       [0.05696971, 0.94303029],\n",
              "       [0.27357563, 0.72642437]])"
            ]
          },
          "metadata": {},
          "execution_count": 70
        }
      ]
    },
    {
      "cell_type": "code",
      "metadata": {
        "colab": {
          "base_uri": "https://localhost:8080/"
        },
        "id": "EjKpFRA7UAH9",
        "outputId": "cb6cd4c4-b3a1-4627-94f5-88d03567efac"
      },
      "source": [
        "model_lda[:5]"
      ],
      "execution_count": null,
      "outputs": [
        {
          "output_type": "execute_result",
          "data": {
            "text/plain": [
              "array([[0.73157385, 0.26842615],\n",
              "       [0.91914492, 0.08085508],\n",
              "       [0.15473615, 0.84526385],\n",
              "       [0.10211599, 0.89788401],\n",
              "       [0.33399896, 0.66600104]])"
            ]
          },
          "metadata": {},
          "execution_count": 66
        }
      ]
    },
    {
      "cell_type": "code",
      "metadata": {
        "id": "4trwkc6oRQLu"
      },
      "source": [
        "y_pred = LDA.predict(X_test)"
      ],
      "execution_count": null,
      "outputs": []
    },
    {
      "cell_type": "code",
      "metadata": {
        "colab": {
          "base_uri": "https://localhost:8080/"
        },
        "id": "b0yYo1IqUFr-",
        "outputId": "1cb3e13d-4748-46ec-8c89-e2e215012b2e"
      },
      "source": [
        "y_pred[:5]"
      ],
      "execution_count": null,
      "outputs": [
        {
          "output_type": "execute_result",
          "data": {
            "text/plain": [
              "array([1, 0, 1, 1, 1])"
            ]
          },
          "metadata": {},
          "execution_count": 68
        }
      ]
    },
    {
      "cell_type": "code",
      "metadata": {
        "colab": {
          "base_uri": "https://localhost:8080/",
          "height": 282
        },
        "id": "_tJqhL2DRQGL",
        "outputId": "e99e1c88-e5b1-4a38-c10c-ee6cbe2e8162"
      },
      "source": [
        "cm_lda = confusion_matrix(y_test, y_pred)\n",
        "\n",
        "sns.heatmap(cm_lda, annot=True)"
      ],
      "execution_count": null,
      "outputs": [
        {
          "output_type": "execute_result",
          "data": {
            "text/plain": [
              "<matplotlib.axes._subplots.AxesSubplot at 0x7f2e9738e050>"
            ]
          },
          "metadata": {},
          "execution_count": 71
        },
        {
          "output_type": "display_data",
          "data": {
            "image/png": "[encoded data removed]",
            "text/plain": [
              "<Figure size 432x288 with 2 Axes>"
            ]
          },
          "metadata": {
            "needs_background": "light"
          }
        }
      ]
    },
    {
      "cell_type": "code",
      "metadata": {
        "colab": {
          "base_uri": "https://localhost:8080/"
        },
        "id": "VPnuGYvSRd4m",
        "outputId": "bf115d9d-586c-473c-93ad-da5ab6376b4a"
      },
      "source": [
        "print(f'Accuracy_score: {accuracy_score(y_test,y_pred)}')\n",
        "print(f'Recall score: {recall_score(y_test, y_pred)}')\n",
        "print(f'F1 score: {f1_score(y_test, y_pred)}')\n",
        "print(f'Precision score: {precision_score(y_test, y_pred)}')"
      ],
      "execution_count": null,
      "outputs": [
        {
          "output_type": "stream",
          "name": "stdout",
          "text": [
            "Accuracy_score: 0.7284768211920529\n",
            "Recall score: 0.8588235294117647\n",
            "F1 score: 0.7807486631016043\n",
            "Precision score: 0.7156862745098039\n"
          ]
        }
      ]
    },
    {
      "cell_type": "code",
      "metadata": {
        "colab": {
          "base_uri": "https://localhost:8080/",
          "height": 282
        },
        "id": "AJQ_jL9qqGIb",
        "outputId": "45d8a0fd-52a3-4663-dfd8-597ebf9d4b6b"
      },
      "source": [
        "sns.histplot(model_lda)"
      ],
      "execution_count": null,
      "outputs": [
        {
          "output_type": "execute_result",
          "data": {
            "text/plain": [
              "<matplotlib.axes._subplots.AxesSubplot at 0x7f2e88ebaad0>"
            ]
          },
          "metadata": {},
          "execution_count": 73
        },
        {
          "output_type": "display_data",
          "data": {
            "image/png": "[encoded data removed]",
            "text/plain": [
              "<Figure size 432x288 with 1 Axes>"
            ]
          },
          "metadata": {
            "needs_background": "light"
          }
        }
      ]
    },
    {
      "cell_type": "code",
      "metadata": {
        "colab": {
          "base_uri": "https://localhost:8080/",
          "height": 386
        },
        "id": "io8VCKybpqno",
        "outputId": "c417f95f-e27c-4a38-bb8a-fae68539ef0e"
      },
      "source": [
        "sns.displot(model_lda, kind='kde')"
      ],
      "execution_count": null,
      "outputs": [
        {
          "output_type": "execute_result",
          "data": {
            "text/plain": [
              "<seaborn.axisgrid.FacetGrid at 0x7f2e8d898550>"
            ]
          },
          "metadata": {},
          "execution_count": 74
        },
        {
          "output_type": "display_data",
          "data": {
            "image/png": "[encoded data removed]",
            "text/plain": [
              "<Figure size 402.375x360 with 1 Axes>"
            ]
          },
          "metadata": {
            "needs_background": "light"
          }
        }
      ]
    },
    {
      "cell_type": "code",
      "metadata": {
        "colab": {
          "base_uri": "https://localhost:8080/",
          "height": 282
        },
        "id": "B8ElX4Q0utPS",
        "outputId": "b983e91d-e892-49ac-987d-8a79774a1ff1"
      },
      "source": [
        "lda_proba = LDA.predict_proba(X_test)[:, 1]\n",
        "lda_auc = roc_auc_score(y_test, lda_proba)\n",
        "\n",
        "lda_fpr, lda_tpr, _ = roc_curve(y_test, lda_proba)\n",
        "\n",
        "plt.plot(ns_fpr, ns_tpr, linestyle='--')\n",
        "plt.plot(reg_fpr,reg_tpr, marker='.',label='reg')\n",
        "plt.plot(lda_fpr,lda_tpr, marker='.',label='LDA')\n",
        "plt.legend()"
      ],
      "execution_count": null,
      "outputs": [
        {
          "output_type": "execute_result",
          "data": {
            "text/plain": [
              "<matplotlib.legend.Legend at 0x7f2e88bd4a50>"
            ]
          },
          "metadata": {},
          "execution_count": 77
        },
        {
          "output_type": "display_data",
          "data": {
            "image/png": "[encoded data removed]",
            "text/plain": [
              "<Figure size 432x288 with 1 Axes>"
            ]
          },
          "metadata": {
            "needs_background": "light"
          }
        }
      ]
    },
    {
      "cell_type": "code",
      "metadata": {
        "colab": {
          "base_uri": "https://localhost:8080/",
          "height": 282
        },
        "id": "WjWcaz8fxJ0c",
        "outputId": "6a8cc640-d7fc-4390-caa9-864e134ee0ac"
      },
      "source": [
        "lda_precision, lda_recall, _ = precision_recall_curve(y_test,lda_proba)\n",
        "plt.plot(reg_recall, reg_precision, marker='.')\n",
        "plt.plot(lda_recall, lda_precision, marker='.')"
      ],
      "execution_count": null,
      "outputs": [
        {
          "output_type": "execute_result",
          "data": {
            "text/plain": [
              "[<matplotlib.lines.Line2D at 0x7f2e88c14ed0>]"
            ]
          },
          "metadata": {},
          "execution_count": 76
        },
        {
          "output_type": "display_data",
          "data": {
            "image/png": "[encoded data removed]",
            "text/plain": [
              "<Figure size 432x288 with 1 Axes>"
            ]
          },
          "metadata": {
            "needs_background": "light"
          }
        }
      ]
    },
    {
      "cell_type": "markdown",
      "metadata": {
        "id": "bBZj7ySv-2EL"
      },
      "source": [
        "## Regresión logística\n",
        "\n",
        "Se tiene\n",
        "\n",
        "$$h_\\beta(x)=g(\\textbf{X}\\textbf{b})=p(y=1|\\textbf{X};\\textbf{b})$$\n",
        "$$g(z)=\\frac{1}{1+e^{-z}}$$\n",
        "\n",
        "Esta función es conocida como función logística o sigmoide.\n",
        "\n",
        "Función de pérdida\n",
        "\n",
        "$$J(h_\\beta(x), y)=\\begin{cases}\n",
        "-log(h_\\beta(x)) & \\text{if }y=1\\\\\n",
        "-log(1-h_\\beta(x)) & \\text{if }y=0\n",
        "\\end{cases}$$\n",
        "\n",
        "$$-\\frac{1}{m}\\sum_{i=1}^my_i\\log h_\\beta(x_i)+(1-y_i)\\log(1-h_\\beta(x_i))$$\n",
        "\n",
        "Descenso del gradiente\n",
        "\n",
        "$$\\textbf{b}:=\\textbf{b}-r\\sum_{i=1}^m(h_\\beta(x_i)-y_i)x_i$$\n",
        "\n",
        "Si se observa es exactamente el mismo que se tenía en la regresión lineal, la diferencia radica en que ahora la hipótesis es diferente:\n",
        "\n",
        "$$h_\\beta(x)=\\frac{1}{1+e^{–\\textbf{X}\\textbf{b}}}$$"
      ]
    },
    {
      "cell_type": "code",
      "metadata": {
        "id": "6fpZMDI9-slJ"
      },
      "source": [
        "from sklearn.linear_model import LogisticRegression"
      ],
      "execution_count": null,
      "outputs": []
    },
    {
      "cell_type": "code",
      "metadata": {
        "id": "81AgE10WQcpz"
      },
      "source": [
        "log = LogisticRegression(max_iter=10000)"
      ],
      "execution_count": null,
      "outputs": []
    },
    {
      "cell_type": "code",
      "metadata": {
        "colab": {
          "base_uri": "https://localhost:8080/"
        },
        "id": "G8g15G5HQjMg",
        "outputId": "279b861f-ce39-4dc2-b24c-db08c1796c95"
      },
      "source": [
        "log.fit(X_train, y_train)"
      ],
      "execution_count": null,
      "outputs": [
        {
          "output_type": "execute_result",
          "data": {
            "text/plain": [
              "LogisticRegression(C=1.0, class_weight=None, dual=False, fit_intercept=True,\n",
              "                   intercept_scaling=1, l1_ratio=None, max_iter=10000,\n",
              "                   multi_class='auto', n_jobs=None, penalty='l2',\n",
              "                   random_state=None, solver='lbfgs', tol=0.0001, verbose=0,\n",
              "                   warm_start=False)"
            ]
          },
          "metadata": {},
          "execution_count": 80
        }
      ]
    },
    {
      "cell_type": "code",
      "metadata": {
        "id": "yG-7IrvpqN7L"
      },
      "source": [
        "model_log = log.predict_proba(X_train)"
      ],
      "execution_count": null,
      "outputs": []
    },
    {
      "cell_type": "code",
      "metadata": {
        "id": "FKXpcOBhQk-S"
      },
      "source": [
        "y_pred = log.predict(X_test)"
      ],
      "execution_count": null,
      "outputs": []
    },
    {
      "cell_type": "code",
      "metadata": {
        "colab": {
          "base_uri": "https://localhost:8080/",
          "height": 282
        },
        "id": "d3l9_Ix9RD8R",
        "outputId": "d77292dc-05c3-4753-afe6-54cd15f08bf1"
      },
      "source": [
        "cm_log = confusion_matrix(y_test, y_pred)\n",
        "\n",
        "sns.heatmap(cm_log, annot=True)"
      ],
      "execution_count": null,
      "outputs": [
        {
          "output_type": "execute_result",
          "data": {
            "text/plain": [
              "<matplotlib.axes._subplots.AxesSubplot at 0x7f2e88b4d350>"
            ]
          },
          "metadata": {},
          "execution_count": 83
        },
        {
          "output_type": "display_data",
          "data": {
            "image/png": "[encoded data removed]",
            "text/plain": [
              "<Figure size 432x288 with 2 Axes>"
            ]
          },
          "metadata": {
            "needs_background": "light"
          }
        }
      ]
    },
    {
      "cell_type": "code",
      "metadata": {
        "colab": {
          "base_uri": "https://localhost:8080/"
        },
        "id": "Z5bJ6DuMQnuP",
        "outputId": "5de92be3-22e0-4649-f0fa-64dd1020f939"
      },
      "source": [
        "print(f'Accuracy_score: {accuracy_score(y_test,y_pred)}')\n",
        "print(f'Recall score: {recall_score(y_test, y_pred)}')\n",
        "print(f'F1 score: {f1_score(y_test, y_pred)}')\n",
        "print(f'Precision score: {precision_score(y_test, y_pred)}')"
      ],
      "execution_count": null,
      "outputs": [
        {
          "output_type": "stream",
          "name": "stdout",
          "text": [
            "Accuracy_score: 0.7350993377483444\n",
            "Recall score: 0.8705882352941177\n",
            "F1 score: 0.7872340425531914\n",
            "Precision score: 0.7184466019417476\n"
          ]
        }
      ]
    },
    {
      "cell_type": "code",
      "metadata": {
        "colab": {
          "base_uri": "https://localhost:8080/",
          "height": 282
        },
        "id": "1ThdwLA5QuSh",
        "outputId": "5b5c8d40-f816-4519-d6c5-76d5372a9313"
      },
      "source": [
        "sns.histplot(model_log)"
      ],
      "execution_count": null,
      "outputs": [
        {
          "output_type": "execute_result",
          "data": {
            "text/plain": [
              "<matplotlib.axes._subplots.AxesSubplot at 0x7f2e88af5dd0>"
            ]
          },
          "metadata": {},
          "execution_count": 85
        },
        {
          "output_type": "display_data",
          "data": {
            "image/png": "[encoded data removed]",
            "text/plain": [
              "<Figure size 432x288 with 1 Axes>"
            ]
          },
          "metadata": {
            "needs_background": "light"
          }
        }
      ]
    },
    {
      "cell_type": "code",
      "metadata": {
        "id": "CSo5R_Q0qWyi"
      },
      "source": [
        "log.predict_proba(X_train)"
      ],
      "execution_count": null,
      "outputs": []
    },
    {
      "cell_type": "code",
      "metadata": {
        "colab": {
          "base_uri": "https://localhost:8080/",
          "height": 282
        },
        "id": "kMIpmkCovaKs",
        "outputId": "eed85671-92ac-4c92-fd6b-c62ae087b926"
      },
      "source": [
        "log_proba = log.predict_proba(X_test)[:, 1]\n",
        "log_auc = roc_auc_score(y_test, log_proba)\n",
        "\n",
        "log_fpr, log_tpr, _ = roc_curve(y_test, log_proba)\n",
        "\n",
        "plt.plot(ns_fpr, ns_tpr, linestyle='--')\n",
        "plt.plot(reg_fpr,reg_tpr, marker='.',label='reg')\n",
        "plt.plot(lda_fpr,lda_tpr, marker='.',label='LDA')\n",
        "plt.plot(log_fpr,log_tpr, marker='.',label='logit')\n",
        "plt.legend()"
      ],
      "execution_count": null,
      "outputs": [
        {
          "output_type": "execute_result",
          "data": {
            "text/plain": [
              "<matplotlib.legend.Legend at 0x7f2e889efa50>"
            ]
          },
          "metadata": {},
          "execution_count": 86
        },
        {
          "output_type": "display_data",
          "data": {
            "image/png": "[encoded data removed]",
            "text/plain": [
              "<Figure size 432x288 with 1 Axes>"
            ]
          },
          "metadata": {
            "needs_background": "light"
          }
        }
      ]
    },
    {
      "cell_type": "code",
      "metadata": {
        "colab": {
          "base_uri": "https://localhost:8080/",
          "height": 282
        },
        "id": "HYhq8OVtxUOi",
        "outputId": "47e58f11-459a-4edd-db7c-bc1cbf541012"
      },
      "source": [
        "log_precision, log_recall, _ = precision_recall_curve(y_test,log_proba)\n",
        "plt.plot(reg_recall, reg_precision, marker='.')\n",
        "plt.plot(lda_recall, lda_precision, marker='.')\n",
        "plt.plot(log_recall, log_precision, marker='.')"
      ],
      "execution_count": null,
      "outputs": [
        {
          "output_type": "execute_result",
          "data": {
            "text/plain": [
              "[<matplotlib.lines.Line2D at 0x7f2e8897ef10>]"
            ]
          },
          "metadata": {},
          "execution_count": 87
        },
        {
          "output_type": "display_data",
          "data": {
            "image/png": "[encoded data removed]",
            "text/plain": [
              "<Figure size 432x288 with 1 Axes>"
            ]
          },
          "metadata": {
            "needs_background": "light"
          }
        }
      ]
    },
    {
      "cell_type": "code",
      "metadata": {
        "colab": {
          "base_uri": "https://localhost:8080/"
        },
        "id": "rz-8LrmcW3-m",
        "outputId": "bf1955d4-f47d-46dd-d8c4-e917a0c57f75"
      },
      "source": [
        "print(reg_auc)\n",
        "print(lda_auc)\n",
        "print(log_auc)"
      ],
      "execution_count": null,
      "outputs": [
        {
          "output_type": "stream",
          "name": "stdout",
          "text": [
            "0.7789661319073082\n",
            "0.7789661319073082\n",
            "0.770409982174688\n"
          ]
        }
      ]
    },
    {
      "cell_type": "code",
      "metadata": {
        "colab": {
          "base_uri": "https://localhost:8080/"
        },
        "id": "9vSX7dFoXA3V",
        "outputId": "1105af31-ac28-429b-9490-4e347cfbd1a0"
      },
      "source": [
        "accuracy_score(y_train, LDA.predict(X_train)), accuracy_score(y_test, LDA.predict(X_test))"
      ],
      "execution_count": null,
      "outputs": [
        {
          "output_type": "execute_result",
          "data": {
            "text/plain": [
              "(0.729235880398671, 0.7284768211920529)"
            ]
          },
          "metadata": {},
          "execution_count": 93
        }
      ]
    },
    {
      "cell_type": "code",
      "metadata": {
        "colab": {
          "base_uri": "https://localhost:8080/"
        },
        "id": "dH0J8ilUXQe4",
        "outputId": "42abc49e-8adc-4571-c8d3-982015a4f30a"
      },
      "source": [
        "accuracy_score(y_train, log.predict(X_train)), accuracy_score(y_test, log.predict(X_test))"
      ],
      "execution_count": null,
      "outputs": [
        {
          "output_type": "execute_result",
          "data": {
            "text/plain": [
              "(0.7308970099667774, 0.7350993377483444)"
            ]
          },
          "metadata": {},
          "execution_count": 94
        }
      ]
    },
    {
      "cell_type": "code",
      "metadata": {
        "id": "dnIeWrZAXr2f"
      },
      "source": [
        ""
      ],
      "execution_count": null,
      "outputs": []
    }
  ]
}