{
  "nbformat": 4,
  "nbformat_minor": 0,
  "metadata": {
    "colab": {
      "name": "clase_5.ipynb",
      "provenance": []
    },
    "kernelspec": {
      "display_name": "Python 3",
      "name": "python3"
    },
    "language_info": {
      "name": "python"
    }
  },
  "cells": [
    {
      "cell_type": "markdown",
      "metadata": {
        "id": "hHSbERJzbPk-"
      },
      "source": [
        "#Clase 5\n",
        "## Álgebra lineal, probabilidad y estadística con python"
      ]
    },
    {
      "cell_type": "code",
      "metadata": {
        "id": "2ry0o1yNbap5"
      },
      "source": [
        "import numpy as np"
      ],
      "execution_count": null,
      "outputs": []
    },
    {
      "cell_type": "code",
      "metadata": {
        "id": "39fUmRSmDzpU"
      },
      "source": [
        ""
      ],
      "execution_count": null,
      "outputs": []
    },
    {
      "cell_type": "code",
      "metadata": {
        "id": "PiZjRUL_bcGE"
      },
      "source": [
        "vec1 = np.array([1,2,3])\n",
        "vec2 = np.array([4,5,6])"
      ],
      "execution_count": null,
      "outputs": []
    },
    {
      "cell_type": "code",
      "metadata": {
        "colab": {
          "base_uri": "https://localhost:8080/"
        },
        "id": "xRFHvp_acpsI",
        "outputId": "aca190ec-9a43-4bc2-dc03-25a38f5a3ea7"
      },
      "source": [
        "vec1.shape"
      ],
      "execution_count": null,
      "outputs": [
        {
          "output_type": "execute_result",
          "data": {
            "text/plain": [
              "(3,)"
            ]
          },
          "metadata": {},
          "execution_count": 3
        }
      ]
    },
    {
      "cell_type": "code",
      "metadata": {
        "colab": {
          "base_uri": "https://localhost:8080/"
        },
        "id": "O10yaOXDcuAm",
        "outputId": "eaba9941-76b2-4bee-8ec3-3ad7e7a9ee32"
      },
      "source": [
        "vec1.size"
      ],
      "execution_count": null,
      "outputs": [
        {
          "output_type": "execute_result",
          "data": {
            "text/plain": [
              "3"
            ]
          },
          "metadata": {},
          "execution_count": 4
        }
      ]
    },
    {
      "cell_type": "code",
      "metadata": {
        "colab": {
          "base_uri": "https://localhost:8080/"
        },
        "id": "K7i5uIpWdcjg",
        "outputId": "4746668f-5ff9-46cd-b036-76d60fa0817a"
      },
      "source": [
        "vec1.ndim"
      ],
      "execution_count": null,
      "outputs": [
        {
          "output_type": "execute_result",
          "data": {
            "text/plain": [
              "1"
            ]
          },
          "metadata": {},
          "execution_count": 5
        }
      ]
    },
    {
      "cell_type": "code",
      "metadata": {
        "colab": {
          "base_uri": "https://localhost:8080/"
        },
        "id": "RiWHP5TChFTY",
        "outputId": "eef7a675-cab5-4831-ab13-c25d112ad888"
      },
      "source": [
        "vec1.dtype"
      ],
      "execution_count": null,
      "outputs": [
        {
          "output_type": "execute_result",
          "data": {
            "text/plain": [
              "dtype('int64')"
            ]
          },
          "metadata": {},
          "execution_count": 6
        }
      ]
    },
    {
      "cell_type": "code",
      "metadata": {
        "colab": {
          "base_uri": "https://localhost:8080/"
        },
        "id": "wOA3IOSkdDO0",
        "outputId": "4708b287-305a-427f-a9d7-36a9c32cf597"
      },
      "source": [
        "vec1[0]"
      ],
      "execution_count": null,
      "outputs": [
        {
          "output_type": "execute_result",
          "data": {
            "text/plain": [
              "1"
            ]
          },
          "metadata": {},
          "execution_count": 7
        }
      ]
    },
    {
      "cell_type": "code",
      "metadata": {
        "colab": {
          "base_uri": "https://localhost:8080/"
        },
        "id": "bA0HWZhvdFoR",
        "outputId": "3cb0564d-48ef-4e7b-9ded-7d8a99f9bf75"
      },
      "source": [
        "vec1 + vec2"
      ],
      "execution_count": null,
      "outputs": [
        {
          "output_type": "execute_result",
          "data": {
            "text/plain": [
              "array([5, 7, 9])"
            ]
          },
          "metadata": {},
          "execution_count": 8
        }
      ]
    },
    {
      "cell_type": "code",
      "metadata": {
        "colab": {
          "base_uri": "https://localhost:8080/"
        },
        "id": "oPVOv2JddP_E",
        "outputId": "1da3fe65-cd79-4ec0-d4b2-7d32a7f15bfb"
      },
      "source": [
        "vec1 * vec2"
      ],
      "execution_count": null,
      "outputs": [
        {
          "output_type": "execute_result",
          "data": {
            "text/plain": [
              "array([ 4, 10, 18])"
            ]
          },
          "metadata": {},
          "execution_count": 9
        }
      ]
    },
    {
      "cell_type": "code",
      "metadata": {
        "colab": {
          "base_uri": "https://localhost:8080/"
        },
        "id": "xzsazjNVdThY",
        "outputId": "b8fe5820-1196-4bd5-b33b-3fbfab484b70"
      },
      "source": [
        "vec1 / vec2"
      ],
      "execution_count": null,
      "outputs": [
        {
          "output_type": "execute_result",
          "data": {
            "text/plain": [
              "array([0.25, 0.4 , 0.5 ])"
            ]
          },
          "metadata": {},
          "execution_count": 10
        }
      ]
    },
    {
      "cell_type": "code",
      "metadata": {
        "colab": {
          "base_uri": "https://localhost:8080/"
        },
        "id": "awFCfKJQdauB",
        "outputId": "8805b9ac-7e73-4614-a3c2-cfaa1bc9347a"
      },
      "source": [
        "vec2 % vec1"
      ],
      "execution_count": null,
      "outputs": [
        {
          "output_type": "execute_result",
          "data": {
            "text/plain": [
              "array([0, 1, 0])"
            ]
          },
          "metadata": {},
          "execution_count": 11
        }
      ]
    },
    {
      "cell_type": "code",
      "metadata": {
        "colab": {
          "base_uri": "https://localhost:8080/"
        },
        "id": "aZbBqgsUeIbc",
        "outputId": "98456889-977a-4acd-940b-aa79ad453ec6"
      },
      "source": [
        "vec2 // vec1"
      ],
      "execution_count": null,
      "outputs": [
        {
          "output_type": "execute_result",
          "data": {
            "text/plain": [
              "array([4, 2, 2])"
            ]
          },
          "metadata": {},
          "execution_count": 12
        }
      ]
    },
    {
      "cell_type": "code",
      "metadata": {
        "id": "aA0xeqdQfMFS",
        "colab": {
          "base_uri": "https://localhost:8080/"
        },
        "outputId": "c973b819-a219-469f-e3e7-f21e21475092"
      },
      "source": [
        "()"
      ],
      "execution_count": null,
      "outputs": [
        {
          "output_type": "execute_result",
          "data": {
            "text/plain": [
              "()"
            ]
          },
          "metadata": {},
          "execution_count": 13
        }
      ]
    },
    {
      "cell_type": "code",
      "metadata": {
        "colab": {
          "base_uri": "https://localhost:8080/"
        },
        "id": "DoJe3aRCeOMU",
        "outputId": "392d0d74-fcf4-443b-cf53-1d5073eefe3e"
      },
      "source": [
        "2 * vec1"
      ],
      "execution_count": null,
      "outputs": [
        {
          "output_type": "execute_result",
          "data": {
            "text/plain": [
              "array([2, 4, 6])"
            ]
          },
          "metadata": {},
          "execution_count": 14
        }
      ]
    },
    {
      "cell_type": "code",
      "metadata": {
        "colab": {
          "base_uri": "https://localhost:8080/"
        },
        "id": "sw3lnZSzeQqn",
        "outputId": "7b7a67b3-ceef-4d68-ab03-52802060336d"
      },
      "source": [
        "5 + vec1"
      ],
      "execution_count": null,
      "outputs": [
        {
          "output_type": "execute_result",
          "data": {
            "text/plain": [
              "array([6, 7, 8])"
            ]
          },
          "metadata": {},
          "execution_count": 15
        }
      ]
    },
    {
      "cell_type": "code",
      "metadata": {
        "colab": {
          "base_uri": "https://localhost:8080/"
        },
        "id": "edhqNEN6eRwn",
        "outputId": "726ea825-c715-42c0-e364-bcb9e31ba901"
      },
      "source": [
        "10 - vec1"
      ],
      "execution_count": null,
      "outputs": [
        {
          "output_type": "execute_result",
          "data": {
            "text/plain": [
              "array([9, 8, 7])"
            ]
          },
          "metadata": {},
          "execution_count": 16
        }
      ]
    },
    {
      "cell_type": "code",
      "metadata": {
        "colab": {
          "base_uri": "https://localhost:8080/"
        },
        "id": "eoX0IuTJeTWM",
        "outputId": "ac5d9227-aa1c-4498-cbc3-00bf867ab971"
      },
      "source": [
        "vec1 ** 2"
      ],
      "execution_count": null,
      "outputs": [
        {
          "output_type": "execute_result",
          "data": {
            "text/plain": [
              "array([1, 4, 9])"
            ]
          },
          "metadata": {},
          "execution_count": 17
        }
      ]
    },
    {
      "cell_type": "code",
      "metadata": {
        "id": "APkYnUDxeVbx"
      },
      "source": [
        "vec3 = np.array([3,54,5,6,7,12,2,4])"
      ],
      "execution_count": null,
      "outputs": []
    },
    {
      "cell_type": "code",
      "metadata": {
        "colab": {
          "base_uri": "https://localhost:8080/"
        },
        "id": "bfrmtN3wfPPY",
        "outputId": "e853160d-2c46-4e6f-86a3-58a659ebb3e4"
      },
      "source": [
        "vec3[0]"
      ],
      "execution_count": null,
      "outputs": [
        {
          "output_type": "execute_result",
          "data": {
            "text/plain": [
              "3"
            ]
          },
          "metadata": {},
          "execution_count": 19
        }
      ]
    },
    {
      "cell_type": "code",
      "metadata": {
        "colab": {
          "base_uri": "https://localhost:8080/"
        },
        "id": "vdb3C1oVfQ8e",
        "outputId": "27fd7fb7-62f2-43fd-cf95-9a8f85978d83"
      },
      "source": [
        "vec3[0:3]"
      ],
      "execution_count": null,
      "outputs": [
        {
          "output_type": "execute_result",
          "data": {
            "text/plain": [
              "array([ 3, 54,  5])"
            ]
          },
          "metadata": {},
          "execution_count": 20
        }
      ]
    },
    {
      "cell_type": "code",
      "metadata": {
        "colab": {
          "base_uri": "https://localhost:8080/"
        },
        "id": "VYyQ3NvGfSMN",
        "outputId": "05b6c74d-e5d3-4434-ae18-6d098c579fea"
      },
      "source": [
        "vec3[0:4:2]"
      ],
      "execution_count": null,
      "outputs": [
        {
          "output_type": "execute_result",
          "data": {
            "text/plain": [
              "array([3, 5])"
            ]
          },
          "metadata": {},
          "execution_count": 21
        }
      ]
    },
    {
      "cell_type": "code",
      "metadata": {
        "colab": {
          "base_uri": "https://localhost:8080/"
        },
        "id": "lXH4iOdifW71",
        "outputId": "a5bf46fb-751d-4360-d4be-48b3b50f91c0"
      },
      "source": [
        "vec3[::-1]"
      ],
      "execution_count": null,
      "outputs": [
        {
          "output_type": "execute_result",
          "data": {
            "text/plain": [
              "array([ 4,  2, 12,  7,  6,  5, 54,  3])"
            ]
          },
          "metadata": {},
          "execution_count": 22
        }
      ]
    },
    {
      "cell_type": "code",
      "metadata": {
        "id": "Djm61XP1fYxM"
      },
      "source": [
        "M = np.array([[4,5,6],\n",
        "              [1,2,3],\n",
        "              [34,5,6]])"
      ],
      "execution_count": null,
      "outputs": []
    },
    {
      "cell_type": "code",
      "metadata": {
        "id": "mlgolz6ED2k0"
      },
      "source": [
        "M1 = np.array([[4,5],\n",
        "              [1,2]])"
      ],
      "execution_count": null,
      "outputs": []
    },
    {
      "cell_type": "code",
      "metadata": {
        "colab": {
          "base_uri": "https://localhost:8080/",
          "height": 167
        },
        "id": "wHm4v1TqD2Pt",
        "outputId": "9d2827de-2a8f-4155-d43f-b8838645e02b"
      },
      "source": [
        "M + M1"
      ],
      "execution_count": null,
      "outputs": [
        {
          "output_type": "error",
          "ename": "ValueError",
          "evalue": "ignored",
          "traceback": [
            "\u001b[0;31m---------------------------------------------------------------------------\u001b[0m",
            "\u001b[0;31mValueError\u001b[0m                                Traceback (most recent call last)",
            "\u001b[0;32m<ipython-input-7-416e73e373d4>\u001b[0m in \u001b[0;36m<module>\u001b[0;34m()\u001b[0m\n\u001b[0;32m----> 1\u001b[0;31m \u001b[0mM\u001b[0m \u001b[0;34m+\u001b[0m \u001b[0mM1\u001b[0m\u001b[0;34m\u001b[0m\u001b[0;34m\u001b[0m\u001b[0m\n\u001b[0m",
            "\u001b[0;31mValueError\u001b[0m: operands could not be broadcast together with shapes (3,3) (2,2) "
          ]
        }
      ]
    },
    {
      "cell_type": "code",
      "metadata": {
        "colab": {
          "base_uri": "https://localhost:8080/"
        },
        "id": "mWPkS-Ujf8aW",
        "outputId": "3ca864dc-93a2-492f-93c7-6c033337e5e4"
      },
      "source": [
        "M.shape"
      ],
      "execution_count": null,
      "outputs": [
        {
          "output_type": "execute_result",
          "data": {
            "text/plain": [
              "(3, 3)"
            ]
          },
          "metadata": {},
          "execution_count": 24
        }
      ]
    },
    {
      "cell_type": "code",
      "metadata": {
        "colab": {
          "base_uri": "https://localhost:8080/"
        },
        "id": "JNuPlz8Jf8Mm",
        "outputId": "2dcdc7cd-6d08-4428-9dc0-5f1992a759f2"
      },
      "source": [
        "M.size"
      ],
      "execution_count": null,
      "outputs": [
        {
          "output_type": "execute_result",
          "data": {
            "text/plain": [
              "9"
            ]
          },
          "metadata": {},
          "execution_count": 25
        }
      ]
    },
    {
      "cell_type": "code",
      "metadata": {
        "colab": {
          "base_uri": "https://localhost:8080/"
        },
        "id": "_yyk_Y3Vf7-b",
        "outputId": "133694de-3e94-40e0-d2e7-c7cb36351956"
      },
      "source": [
        "M.ndim"
      ],
      "execution_count": null,
      "outputs": [
        {
          "output_type": "execute_result",
          "data": {
            "text/plain": [
              "2"
            ]
          },
          "metadata": {},
          "execution_count": 26
        }
      ]
    },
    {
      "cell_type": "code",
      "metadata": {
        "colab": {
          "base_uri": "https://localhost:8080/"
        },
        "id": "4Gn5zrCNfhun",
        "outputId": "4db4040f-3b3c-438a-ef4f-bcfcf0d59cf0"
      },
      "source": [
        "M[0]"
      ],
      "execution_count": null,
      "outputs": [
        {
          "output_type": "execute_result",
          "data": {
            "text/plain": [
              "array([4, 5, 6])"
            ]
          },
          "metadata": {},
          "execution_count": 27
        }
      ]
    },
    {
      "cell_type": "code",
      "metadata": {
        "colab": {
          "base_uri": "https://localhost:8080/"
        },
        "id": "v7c2cWU7fijX",
        "outputId": "a228812f-3cd7-45d5-f246-6158627506ad"
      },
      "source": [
        "M[0,1]"
      ],
      "execution_count": null,
      "outputs": [
        {
          "output_type": "execute_result",
          "data": {
            "text/plain": [
              "5"
            ]
          },
          "metadata": {},
          "execution_count": 28
        }
      ]
    },
    {
      "cell_type": "code",
      "metadata": {
        "colab": {
          "base_uri": "https://localhost:8080/"
        },
        "id": "rNV3p5effjnx",
        "outputId": "9fca6d48-4b5e-47d0-ecd5-41db63ee4384"
      },
      "source": [
        "M[0:2:2,0:2:2]"
      ],
      "execution_count": null,
      "outputs": [
        {
          "output_type": "execute_result",
          "data": {
            "text/plain": [
              "array([[4]])"
            ]
          },
          "metadata": {},
          "execution_count": 29
        }
      ]
    },
    {
      "cell_type": "code",
      "metadata": {
        "colab": {
          "base_uri": "https://localhost:8080/"
        },
        "id": "foQZw_-wfuv6",
        "outputId": "f1a95293-5029-4e32-bf9d-d57c5a665ad5"
      },
      "source": [
        "2 * M"
      ],
      "execution_count": null,
      "outputs": [
        {
          "output_type": "execute_result",
          "data": {
            "text/plain": [
              "array([[ 8, 10, 12],\n",
              "       [ 2,  4,  6],\n",
              "       [68, 10, 12]])"
            ]
          },
          "metadata": {},
          "execution_count": 30
        }
      ]
    },
    {
      "cell_type": "code",
      "metadata": {
        "colab": {
          "base_uri": "https://localhost:8080/"
        },
        "id": "EwABVUKlgC_z",
        "outputId": "7a38f995-8494-4159-ee55-c051b15e79cb"
      },
      "source": [
        "M - 3"
      ],
      "execution_count": null,
      "outputs": [
        {
          "output_type": "execute_result",
          "data": {
            "text/plain": [
              "array([[ 1,  2,  3],\n",
              "       [-2, -1,  0],\n",
              "       [31,  2,  3]])"
            ]
          },
          "metadata": {},
          "execution_count": 31
        }
      ]
    },
    {
      "cell_type": "code",
      "metadata": {
        "colab": {
          "base_uri": "https://localhost:8080/"
        },
        "id": "A-QszqYLgD9J",
        "outputId": "fba7a6cd-6415-4a9e-f0da-7c954dd977ae"
      },
      "source": [
        "M / 4"
      ],
      "execution_count": null,
      "outputs": [
        {
          "output_type": "execute_result",
          "data": {
            "text/plain": [
              "array([[1.  , 1.25, 1.5 ],\n",
              "       [0.25, 0.5 , 0.75],\n",
              "       [8.5 , 1.25, 1.5 ]])"
            ]
          },
          "metadata": {},
          "execution_count": 32
        }
      ]
    },
    {
      "cell_type": "code",
      "metadata": {
        "colab": {
          "base_uri": "https://localhost:8080/"
        },
        "id": "e-ztPXFTgGTS",
        "outputId": "ad0c9e5f-3b61-4c4b-cfa4-6ab2919ad837"
      },
      "source": [
        "M * M"
      ],
      "execution_count": null,
      "outputs": [
        {
          "output_type": "execute_result",
          "data": {
            "text/plain": [
              "array([[  16,   25,   36],\n",
              "       [   1,    4,    9],\n",
              "       [1156,   25,   36]])"
            ]
          },
          "metadata": {},
          "execution_count": 33
        }
      ]
    },
    {
      "cell_type": "code",
      "metadata": {
        "colab": {
          "base_uri": "https://localhost:8080/"
        },
        "id": "b2wVVFVogIWn",
        "outputId": "42399da9-d715-41de-bda0-362efdc4eaba"
      },
      "source": [
        "M @ M"
      ],
      "execution_count": null,
      "outputs": [
        {
          "output_type": "execute_result",
          "data": {
            "text/plain": [
              "array([[225,  60,  75],\n",
              "       [108,  24,  30],\n",
              "       [345, 210, 255]])"
            ]
          },
          "metadata": {},
          "execution_count": 34
        }
      ]
    },
    {
      "cell_type": "code",
      "metadata": {
        "colab": {
          "base_uri": "https://localhost:8080/"
        },
        "id": "NjRxz-BagMIJ",
        "outputId": "b93d8da2-5ca6-4e5c-d115-5df6987d5cd0"
      },
      "source": [
        "np.dot(M, M)"
      ],
      "execution_count": null,
      "outputs": [
        {
          "output_type": "execute_result",
          "data": {
            "text/plain": [
              "array([[225,  60,  75],\n",
              "       [108,  24,  30],\n",
              "       [345, 210, 255]])"
            ]
          },
          "metadata": {},
          "execution_count": 35
        }
      ]
    },
    {
      "cell_type": "code",
      "metadata": {
        "colab": {
          "base_uri": "https://localhost:8080/"
        },
        "id": "6olrDrHXgOrb",
        "outputId": "d1b3b316-a42f-4b95-8631-89e26a24fb73"
      },
      "source": [
        "M.dot(M)"
      ],
      "execution_count": null,
      "outputs": [
        {
          "output_type": "execute_result",
          "data": {
            "text/plain": [
              "array([[225,  60,  75],\n",
              "       [108,  24,  30],\n",
              "       [345, 210, 255]])"
            ]
          },
          "metadata": {},
          "execution_count": 36
        }
      ]
    },
    {
      "cell_type": "code",
      "metadata": {
        "colab": {
          "base_uri": "https://localhost:8080/"
        },
        "id": "rye1bGP4gQly",
        "outputId": "b1e19fa2-ee4c-4777-819d-17443303b22d"
      },
      "source": [
        "np.dot(vec1, M)"
      ],
      "execution_count": null,
      "outputs": [
        {
          "output_type": "execute_result",
          "data": {
            "text/plain": [
              "array([108,  24,  30])"
            ]
          },
          "metadata": {},
          "execution_count": 37
        }
      ]
    },
    {
      "cell_type": "code",
      "metadata": {
        "colab": {
          "base_uri": "https://localhost:8080/"
        },
        "id": "Vb8uo_3fgYNM",
        "outputId": "70b6021d-6f66-48e4-d910-5fb95acc20ae"
      },
      "source": [
        "np.dot(M, vec1)"
      ],
      "execution_count": null,
      "outputs": [
        {
          "output_type": "execute_result",
          "data": {
            "text/plain": [
              "array([32, 14, 62])"
            ]
          },
          "metadata": {},
          "execution_count": 38
        }
      ]
    },
    {
      "cell_type": "code",
      "metadata": {
        "colab": {
          "base_uri": "https://localhost:8080/"
        },
        "id": "4LX0TCj5gc43",
        "outputId": "52830d09-418f-448f-cf07-edfb7ff05db0"
      },
      "source": [
        "vec1.T"
      ],
      "execution_count": null,
      "outputs": [
        {
          "output_type": "execute_result",
          "data": {
            "text/plain": [
              "array([1, 2, 3])"
            ]
          },
          "metadata": {},
          "execution_count": 39
        }
      ]
    },
    {
      "cell_type": "code",
      "metadata": {
        "colab": {
          "base_uri": "https://localhost:8080/"
        },
        "id": "CvOctby8gmvc",
        "outputId": "c8f8e721-60ff-4aed-f463-d8f7e87d3a8b"
      },
      "source": [
        "M.T"
      ],
      "execution_count": null,
      "outputs": [
        {
          "output_type": "execute_result",
          "data": {
            "text/plain": [
              "array([[ 4,  1, 34],\n",
              "       [ 5,  2,  5],\n",
              "       [ 6,  3,  6]])"
            ]
          },
          "metadata": {},
          "execution_count": 40
        }
      ]
    },
    {
      "cell_type": "code",
      "metadata": {
        "colab": {
          "base_uri": "https://localhost:8080/"
        },
        "id": "QRcdes-lgn4s",
        "outputId": "c42178af-18f5-4129-c508-20ad668713f3"
      },
      "source": [
        "np.eye(4)"
      ],
      "execution_count": null,
      "outputs": [
        {
          "output_type": "execute_result",
          "data": {
            "text/plain": [
              "array([[1., 0., 0., 0.],\n",
              "       [0., 1., 0., 0.],\n",
              "       [0., 0., 1., 0.],\n",
              "       [0., 0., 0., 1.]])"
            ]
          },
          "metadata": {},
          "execution_count": 41
        }
      ]
    },
    {
      "cell_type": "markdown",
      "metadata": {
        "id": "vVYPyTj8jTlJ"
      },
      "source": [
        "## Generar vectores"
      ]
    },
    {
      "cell_type": "code",
      "metadata": {
        "colab": {
          "base_uri": "https://localhost:8080/"
        },
        "id": "3ex2reGQi1CQ",
        "outputId": "9766e8ed-1ec8-4f4e-e5e0-888ede126322"
      },
      "source": [
        "np.zeros(10)"
      ],
      "execution_count": null,
      "outputs": [
        {
          "output_type": "execute_result",
          "data": {
            "text/plain": [
              "array([0., 0., 0., 0., 0., 0., 0., 0., 0., 0.])"
            ]
          },
          "metadata": {},
          "execution_count": 42
        }
      ]
    },
    {
      "cell_type": "code",
      "metadata": {
        "colab": {
          "base_uri": "https://localhost:8080/"
        },
        "id": "CLiNbSzti2pj",
        "outputId": "c2c6b236-9dbc-4e77-9c75-3e4e1dfba91d"
      },
      "source": [
        "np.ones(10)"
      ],
      "execution_count": null,
      "outputs": [
        {
          "output_type": "execute_result",
          "data": {
            "text/plain": [
              "array([1., 1., 1., 1., 1., 1., 1., 1., 1., 1.])"
            ]
          },
          "metadata": {},
          "execution_count": 43
        }
      ]
    },
    {
      "cell_type": "code",
      "metadata": {
        "colab": {
          "base_uri": "https://localhost:8080/"
        },
        "id": "iTZvdVNdi5Jm",
        "outputId": "09bf69fc-5e38-4e65-83cf-19e446b5f8f2"
      },
      "source": [
        "np.full((3,4),16)"
      ],
      "execution_count": null,
      "outputs": [
        {
          "output_type": "execute_result",
          "data": {
            "text/plain": [
              "array([[16, 16, 16, 16],\n",
              "       [16, 16, 16, 16],\n",
              "       [16, 16, 16, 16]])"
            ]
          },
          "metadata": {},
          "execution_count": 44
        }
      ]
    },
    {
      "cell_type": "code",
      "metadata": {
        "colab": {
          "base_uri": "https://localhost:8080/"
        },
        "id": "WB9Kc8lVi8ZV",
        "outputId": "9c71a1e6-a6ba-4d14-ae61-d1abafb9d764"
      },
      "source": [
        "np.diag([3,4,5])"
      ],
      "execution_count": null,
      "outputs": [
        {
          "output_type": "execute_result",
          "data": {
            "text/plain": [
              "array([[3, 0, 0],\n",
              "       [0, 4, 0],\n",
              "       [0, 0, 5]])"
            ]
          },
          "metadata": {},
          "execution_count": 45
        }
      ]
    },
    {
      "cell_type": "code",
      "metadata": {
        "colab": {
          "base_uri": "https://localhost:8080/"
        },
        "id": "JhNYRR4bi_-9",
        "outputId": "dd24dde2-01ef-4960-af56-db10ce892c72"
      },
      "source": [
        "np.arange(0,10,0.2)"
      ],
      "execution_count": null,
      "outputs": [
        {
          "output_type": "execute_result",
          "data": {
            "text/plain": [
              "array([0. , 0.2, 0.4, 0.6, 0.8, 1. , 1.2, 1.4, 1.6, 1.8, 2. , 2.2, 2.4,\n",
              "       2.6, 2.8, 3. , 3.2, 3.4, 3.6, 3.8, 4. , 4.2, 4.4, 4.6, 4.8, 5. ,\n",
              "       5.2, 5.4, 5.6, 5.8, 6. , 6.2, 6.4, 6.6, 6.8, 7. , 7.2, 7.4, 7.6,\n",
              "       7.8, 8. , 8.2, 8.4, 8.6, 8.8, 9. , 9.2, 9.4, 9.6, 9.8])"
            ]
          },
          "metadata": {},
          "execution_count": 46
        }
      ]
    },
    {
      "cell_type": "code",
      "metadata": {
        "colab": {
          "base_uri": "https://localhost:8080/"
        },
        "id": "TBCzB-rPjHpk",
        "outputId": "827f7026-8953-4d70-893c-512e647d08b5"
      },
      "source": [
        "np.linspace(0,10,100)"
      ],
      "execution_count": null,
      "outputs": [
        {
          "output_type": "execute_result",
          "data": {
            "text/plain": [
              "array([ 0.        ,  0.1010101 ,  0.2020202 ,  0.3030303 ,  0.4040404 ,\n",
              "        0.50505051,  0.60606061,  0.70707071,  0.80808081,  0.90909091,\n",
              "        1.01010101,  1.11111111,  1.21212121,  1.31313131,  1.41414141,\n",
              "        1.51515152,  1.61616162,  1.71717172,  1.81818182,  1.91919192,\n",
              "        2.02020202,  2.12121212,  2.22222222,  2.32323232,  2.42424242,\n",
              "        2.52525253,  2.62626263,  2.72727273,  2.82828283,  2.92929293,\n",
              "        3.03030303,  3.13131313,  3.23232323,  3.33333333,  3.43434343,\n",
              "        3.53535354,  3.63636364,  3.73737374,  3.83838384,  3.93939394,\n",
              "        4.04040404,  4.14141414,  4.24242424,  4.34343434,  4.44444444,\n",
              "        4.54545455,  4.64646465,  4.74747475,  4.84848485,  4.94949495,\n",
              "        5.05050505,  5.15151515,  5.25252525,  5.35353535,  5.45454545,\n",
              "        5.55555556,  5.65656566,  5.75757576,  5.85858586,  5.95959596,\n",
              "        6.06060606,  6.16161616,  6.26262626,  6.36363636,  6.46464646,\n",
              "        6.56565657,  6.66666667,  6.76767677,  6.86868687,  6.96969697,\n",
              "        7.07070707,  7.17171717,  7.27272727,  7.37373737,  7.47474747,\n",
              "        7.57575758,  7.67676768,  7.77777778,  7.87878788,  7.97979798,\n",
              "        8.08080808,  8.18181818,  8.28282828,  8.38383838,  8.48484848,\n",
              "        8.58585859,  8.68686869,  8.78787879,  8.88888889,  8.98989899,\n",
              "        9.09090909,  9.19191919,  9.29292929,  9.39393939,  9.49494949,\n",
              "        9.5959596 ,  9.6969697 ,  9.7979798 ,  9.8989899 , 10.        ])"
            ]
          },
          "metadata": {},
          "execution_count": 47
        }
      ]
    },
    {
      "cell_type": "markdown",
      "metadata": {
        "id": "oa6E2RD-jP1a"
      },
      "source": [
        "## Álgebra lineal"
      ]
    },
    {
      "cell_type": "code",
      "metadata": {
        "id": "xFBVp0-VjK4T"
      },
      "source": [
        "M = np.array([[3,4],\n",
        "              [5,6]])"
      ],
      "execution_count": null,
      "outputs": []
    },
    {
      "cell_type": "code",
      "metadata": {
        "colab": {
          "base_uri": "https://localhost:8080/"
        },
        "id": "c0ABWoTyjavu",
        "outputId": "58019c20-4cc6-4134-d968-ed83150760e0"
      },
      "source": [
        "np.linalg.det(M)"
      ],
      "execution_count": null,
      "outputs": [
        {
          "output_type": "execute_result",
          "data": {
            "text/plain": [
              "-1.9999999999999971"
            ]
          },
          "metadata": {},
          "execution_count": 49
        }
      ]
    },
    {
      "cell_type": "code",
      "metadata": {
        "colab": {
          "base_uri": "https://localhost:8080/"
        },
        "id": "13bp9vprjdQ6",
        "outputId": "96143208-993a-4539-8d60-23cca303e225"
      },
      "source": [
        "np.linalg.inv(M)"
      ],
      "execution_count": null,
      "outputs": [
        {
          "output_type": "execute_result",
          "data": {
            "text/plain": [
              "array([[-3. ,  2. ],\n",
              "       [ 2.5, -1.5]])"
            ]
          },
          "metadata": {},
          "execution_count": 50
        }
      ]
    },
    {
      "cell_type": "code",
      "metadata": {
        "colab": {
          "base_uri": "https://localhost:8080/"
        },
        "id": "YCMGPKaKjfgf",
        "outputId": "c4342efc-4c7f-4658-83b9-8c6692b3ba2b"
      },
      "source": [
        "np.linalg.norm(vec1)"
      ],
      "execution_count": null,
      "outputs": [
        {
          "output_type": "execute_result",
          "data": {
            "text/plain": [
              "3.7416573867739413"
            ]
          },
          "metadata": {},
          "execution_count": 51
        }
      ]
    },
    {
      "cell_type": "code",
      "metadata": {
        "colab": {
          "base_uri": "https://localhost:8080/"
        },
        "id": "3HGey4Ecjjej",
        "outputId": "4cf680ec-c137-4c42-811c-62c3598de690"
      },
      "source": [
        "np.linalg.eig(M)"
      ],
      "execution_count": null,
      "outputs": [
        {
          "output_type": "execute_result",
          "data": {
            "text/plain": [
              "(array([-0.21699057,  9.21699057]), array([[-0.77925158, -0.54107946],\n",
              "        [ 0.62671124, -0.84097147]]))"
            ]
          },
          "metadata": {},
          "execution_count": 52
        }
      ]
    },
    {
      "cell_type": "code",
      "metadata": {
        "colab": {
          "base_uri": "https://localhost:8080/"
        },
        "id": "qE5HiFmfjtMi",
        "outputId": "4b47403c-79e6-4aa3-dd5b-10c2c5181c05"
      },
      "source": [
        "np.linalg.eigvals(M)"
      ],
      "execution_count": null,
      "outputs": [
        {
          "output_type": "execute_result",
          "data": {
            "text/plain": [
              "array([-0.21699057,  9.21699057])"
            ]
          },
          "metadata": {},
          "execution_count": 53
        }
      ]
    },
    {
      "cell_type": "code",
      "metadata": {
        "id": "b9nFsA-RjxNW"
      },
      "source": [
        "N = np.array([[2,0],\n",
        "              [0,2]])"
      ],
      "execution_count": null,
      "outputs": []
    },
    {
      "cell_type": "code",
      "metadata": {
        "colab": {
          "base_uri": "https://localhost:8080/"
        },
        "id": "o3eCbJSFj9PG",
        "outputId": "f50b6ec1-14a1-4729-cac5-71d89216925a"
      },
      "source": [
        "np.linalg.cholesky(N)"
      ],
      "execution_count": null,
      "outputs": [
        {
          "output_type": "execute_result",
          "data": {
            "text/plain": [
              "array([[1.41421356, 0.        ],\n",
              "       [0.        , 1.41421356]])"
            ]
          },
          "metadata": {},
          "execution_count": 55
        }
      ]
    },
    {
      "cell_type": "markdown",
      "metadata": {
        "id": "XjCIYmdJknE9"
      },
      "source": [
        "$$2x+3y=3$$\n",
        "\n",
        "$$5x+y=7$$\n",
        "\n",
        "$$\\begin{bmatrix}\n",
        "2 & 3 \\\\\n",
        "5 & 1\n",
        "\\end{bmatrix}\n",
        "\\begin{bmatrix}\n",
        "x \\\\\n",
        "y\n",
        "\\end{bmatrix}\n",
        "\\begin{bmatrix}\n",
        "3 \\\\\n",
        "7\n",
        "\\end{bmatrix}$$"
      ]
    },
    {
      "cell_type": "code",
      "metadata": {
        "id": "-l-3hVewkmTt"
      },
      "source": [
        "A = np.array([[2,3],[5,1]])\n",
        "b = np.array([3,7])"
      ],
      "execution_count": null,
      "outputs": []
    },
    {
      "cell_type": "code",
      "metadata": {
        "colab": {
          "base_uri": "https://localhost:8080/"
        },
        "id": "OapDHQVCkLoU",
        "outputId": "a4ba9803-9db5-419a-90ae-80d3c8e33c5f"
      },
      "source": [
        "np.linalg.solve(A,b)"
      ],
      "execution_count": null,
      "outputs": [
        {
          "output_type": "execute_result",
          "data": {
            "text/plain": [
              "array([1.38461538, 0.07692308])"
            ]
          },
          "metadata": {},
          "execution_count": 57
        }
      ]
    },
    {
      "cell_type": "code",
      "metadata": {
        "id": "06b2h01NlTqM"
      },
      "source": [
        "x = np.arange(0,50,1)\n",
        "e = np.array([np.random.normal(0,10) for i in range(50)])\n",
        "y = 10 + 4 * x + e"
      ],
      "execution_count": null,
      "outputs": []
    },
    {
      "cell_type": "code",
      "metadata": {
        "id": "BhQMIXM7ldTY"
      },
      "source": [
        "import matplotlib.pyplot as plt"
      ],
      "execution_count": null,
      "outputs": []
    },
    {
      "cell_type": "code",
      "metadata": {
        "colab": {
          "base_uri": "https://localhost:8080/",
          "height": 282
        },
        "id": "Jrw3hS3flwrd",
        "outputId": "ebb09fa7-c9f1-47dc-dd7e-3f3d60e155aa"
      },
      "source": [
        "plt.scatter(x,y)"
      ],
      "execution_count": null,
      "outputs": [
        {
          "output_type": "execute_result",
          "data": {
            "text/plain": [
              "<matplotlib.collections.PathCollection at 0x7f6139c57fd0>"
            ]
          },
          "metadata": {},
          "execution_count": 60
        },
        {
          "output_type": "display_data",
          "data": {
            "image/png": "[encoded data removed]",
            "text/plain": [
              "<Figure size 432x288 with 1 Axes>"
            ]
          },
          "metadata": {
            "needs_background": "light"
          }
        }
      ]
    },
    {
      "cell_type": "code",
      "metadata": {
        "id": "g52wrNT-lxtE"
      },
      "source": [
        "b = np.linalg.lstsq(np.c_[np.ones(50),x], y, rcond=None)[0]"
      ],
      "execution_count": null,
      "outputs": []
    },
    {
      "cell_type": "code",
      "metadata": {
        "colab": {
          "base_uri": "https://localhost:8080/",
          "height": 282
        },
        "id": "BwYm6KuAmO8v",
        "outputId": "529b0d06-25a6-4c0d-ce24-66b76c8270de"
      },
      "source": [
        "plt.scatter(x,y)\n",
        "plt.plot(x, b[0]+b[1]*x, color='red')"
      ],
      "execution_count": null,
      "outputs": [
        {
          "output_type": "execute_result",
          "data": {
            "text/plain": [
              "[<matplotlib.lines.Line2D at 0x7f612bbd5110>]"
            ]
          },
          "metadata": {},
          "execution_count": 62
        },
        {
          "output_type": "display_data",
          "data": {
            "image/png": "[encoded data removed]",
            "text/plain": [
              "<Figure size 432x288 with 1 Axes>"
            ]
          },
          "metadata": {
            "needs_background": "light"
          }
        }
      ]
    },
    {
      "cell_type": "markdown",
      "metadata": {
        "id": "c6gIDs4sqSL6"
      },
      "source": [
        "## Generación de números pseudoaleatorios"
      ]
    },
    {
      "cell_type": "code",
      "metadata": {
        "colab": {
          "base_uri": "https://localhost:8080/"
        },
        "id": "lHBgduXKmtHY",
        "outputId": "c6eb6281-0576-4081-f157-0c39508c2822"
      },
      "source": [
        "np.random.binomial(10,0.3)"
      ],
      "execution_count": null,
      "outputs": [
        {
          "output_type": "execute_result",
          "data": {
            "text/plain": [
              "2"
            ]
          },
          "metadata": {},
          "execution_count": 77
        }
      ]
    },
    {
      "cell_type": "code",
      "metadata": {
        "colab": {
          "base_uri": "https://localhost:8080/",
          "height": 37
        },
        "id": "dcz_zt6KqiMb",
        "outputId": "ec71a9b5-592d-41c5-b092-8640ad53a11f"
      },
      "source": [
        "np.random.choice(['M','F'])"
      ],
      "execution_count": null,
      "outputs": [
        {
          "output_type": "execute_result",
          "data": {
            "application/vnd.google.colaboratory.intrinsic+json": {
              "type": "string"
            },
            "text/plain": [
              "'M'"
            ]
          },
          "metadata": {},
          "execution_count": 79
        }
      ]
    },
    {
      "cell_type": "code",
      "metadata": {
        "colab": {
          "base_uri": "https://localhost:8080/"
        },
        "id": "vQXkOfqnqkCN",
        "outputId": "26593ea4-b0a4-4da1-c68d-d0191af121d3"
      },
      "source": [
        "np.random.normal(0,10)"
      ],
      "execution_count": null,
      "outputs": [
        {
          "output_type": "execute_result",
          "data": {
            "text/plain": [
              "7.15937104541993"
            ]
          },
          "metadata": {},
          "execution_count": 81
        }
      ]
    },
    {
      "cell_type": "code",
      "metadata": {
        "colab": {
          "base_uri": "https://localhost:8080/"
        },
        "id": "IMGeidatqn1F",
        "outputId": "89bd5711-53cb-4a33-af0c-8c599db586f5"
      },
      "source": [
        "np.random.randint(0,100)"
      ],
      "execution_count": null,
      "outputs": [
        {
          "output_type": "execute_result",
          "data": {
            "text/plain": [
              "53"
            ]
          },
          "metadata": {},
          "execution_count": 83
        }
      ]
    },
    {
      "cell_type": "code",
      "metadata": {
        "colab": {
          "base_uri": "https://localhost:8080/"
        },
        "id": "cEq6SMxiqql6",
        "outputId": "4f7accff-6ee1-40aa-99d6-4581e6f2d397"
      },
      "source": [
        "np.random.randn()"
      ],
      "execution_count": null,
      "outputs": [
        {
          "output_type": "execute_result",
          "data": {
            "text/plain": [
              "-1.2275903620232655"
            ]
          },
          "metadata": {},
          "execution_count": 85
        }
      ]
    },
    {
      "cell_type": "code",
      "metadata": {
        "id": "evwfKKK8qtHK",
        "colab": {
          "base_uri": "https://localhost:8080/"
        },
        "outputId": "0d0e4b8e-3e7a-4a68-9aff-7f8ac273a33c"
      },
      "source": [
        "np.random.uniform()"
      ],
      "execution_count": null,
      "outputs": [
        {
          "output_type": "execute_result",
          "data": {
            "text/plain": [
              "0.7973807801220354"
            ]
          },
          "metadata": {},
          "execution_count": 90
        }
      ]
    },
    {
      "cell_type": "code",
      "metadata": {
        "colab": {
          "base_uri": "https://localhost:8080/",
          "height": 245
        },
        "id": "FaDFNpuGlxyW",
        "outputId": "16404cb3-940e-4367-a8de-ff3c333dcaf2"
      },
      "source": [
        "plt.style.use('ggplot')\n",
        "fig, axes = plt.subplots(1,3,figsize=(12,3))\n",
        "x1 = [np.random.randn() for i in range(1000)]\n",
        "x2 = [np.random.rand() for i in range(1000)]\n",
        "x3 = [np.random.randint(0,100) for i in range(1000)]\n",
        "axes[0].hist(x1)\n",
        "axes[0].set_title('randn')\n",
        "axes[1].hist(x2)\n",
        "axes[1].set_title('rand')\n",
        "axes[2].hist(x3)\n",
        "axes[2].set_title('randint')\n",
        "\n"
      ],
      "execution_count": null,
      "outputs": [
        {
          "output_type": "execute_result",
          "data": {
            "text/plain": [
              "Text(0.5, 1.0, 'randint')"
            ]
          },
          "metadata": {},
          "execution_count": 106
        },
        {
          "output_type": "display_data",
          "data": {
            "image/png": "[encoded data removed]",
            "text/plain": [
              "<Figure size 864x216 with 3 Axes>"
            ]
          },
          "metadata": {}
        }
      ]
    },
    {
      "cell_type": "markdown",
      "metadata": {
        "id": "w4axnrflqy7K"
      },
      "source": [
        "# Algo de estadística y probabilidad"
      ]
    },
    {
      "cell_type": "code",
      "metadata": {
        "id": "vm9xXF4mq0RA"
      },
      "source": [
        "np.random.seed(108)\n",
        "vec = np.random.normal(10,23.5, 100)"
      ],
      "execution_count": null,
      "outputs": []
    },
    {
      "cell_type": "code",
      "metadata": {
        "colab": {
          "base_uri": "https://localhost:8080/"
        },
        "id": "XaUk3PdMr2v-",
        "outputId": "add795e7-86c2-4b5e-ba07-17b5fb179fe4"
      },
      "source": [
        "np.mean(vec)"
      ],
      "execution_count": null,
      "outputs": [
        {
          "output_type": "execute_result",
          "data": {
            "text/plain": [
              "14.477811100415854"
            ]
          },
          "metadata": {},
          "execution_count": 96
        }
      ]
    },
    {
      "cell_type": "code",
      "metadata": {
        "colab": {
          "base_uri": "https://localhost:8080/"
        },
        "id": "g-57npDRr3J_",
        "outputId": "62fe6c27-6851-4a63-a745-f2ea0eac17cc"
      },
      "source": [
        "np.median(vec)"
      ],
      "execution_count": null,
      "outputs": [
        {
          "output_type": "execute_result",
          "data": {
            "text/plain": [
              "14.206263579983027"
            ]
          },
          "metadata": {},
          "execution_count": 97
        }
      ]
    },
    {
      "cell_type": "code",
      "metadata": {
        "colab": {
          "base_uri": "https://localhost:8080/"
        },
        "id": "_JZ-rQebr7Op",
        "outputId": "e70271d7-da64-4fef-8ab1-7be5c7f6db3c"
      },
      "source": [
        "vec.var()"
      ],
      "execution_count": null,
      "outputs": [
        {
          "output_type": "execute_result",
          "data": {
            "text/plain": [
              "430.9827816539848"
            ]
          },
          "metadata": {},
          "execution_count": 98
        }
      ]
    },
    {
      "cell_type": "code",
      "metadata": {
        "colab": {
          "base_uri": "https://localhost:8080/"
        },
        "id": "eTlZvxefsBtI",
        "outputId": "ce821f59-03b3-4ada-ff35-ec7da66ee2b2"
      },
      "source": [
        "vec.std()"
      ],
      "execution_count": null,
      "outputs": [
        {
          "output_type": "execute_result",
          "data": {
            "text/plain": [
              "20.76012479861296"
            ]
          },
          "metadata": {},
          "execution_count": 99
        }
      ]
    },
    {
      "cell_type": "code",
      "metadata": {
        "colab": {
          "base_uri": "https://localhost:8080/"
        },
        "id": "fCuUc2nvY8le",
        "outputId": "e59a10f4-f13d-43dd-feb4-eb455ce9bb16"
      },
      "source": [
        "vec.min()"
      ],
      "execution_count": null,
      "outputs": [
        {
          "output_type": "execute_result",
          "data": {
            "text/plain": [
              "-35.70544860872"
            ]
          },
          "metadata": {},
          "execution_count": 100
        }
      ]
    },
    {
      "cell_type": "code",
      "metadata": {
        "id": "xaMRAx8wY8ED",
        "colab": {
          "base_uri": "https://localhost:8080/"
        },
        "outputId": "3b5cdb3c-737b-4c24-e972-81e75c4a6b2d"
      },
      "source": [
        "vec.max()"
      ],
      "execution_count": null,
      "outputs": [
        {
          "output_type": "execute_result",
          "data": {
            "text/plain": [
              "52.456268775305055"
            ]
          },
          "metadata": {},
          "execution_count": 101
        }
      ]
    },
    {
      "cell_type": "code",
      "metadata": {
        "id": "aPWqX5wtsEnU"
      },
      "source": [
        "from scipy import stats"
      ],
      "execution_count": null,
      "outputs": []
    },
    {
      "cell_type": "code",
      "metadata": {
        "id": "lh49GKiD2X6x"
      },
      "source": [
        "X = stats.norm(100,25)"
      ],
      "execution_count": null,
      "outputs": []
    },
    {
      "cell_type": "code",
      "metadata": {
        "colab": {
          "base_uri": "https://localhost:8080/"
        },
        "id": "m197pT3G2aBu",
        "outputId": "8664b38e-8364-4b2a-d9d8-272950eba6d4"
      },
      "source": [
        "X.mean()"
      ],
      "execution_count": null,
      "outputs": [
        {
          "data": {
            "text/plain": [
              "100.0"
            ]
          },
          "execution_count": 135,
          "metadata": {},
          "output_type": "execute_result"
        }
      ]
    },
    {
      "cell_type": "code",
      "metadata": {
        "colab": {
          "base_uri": "https://localhost:8080/"
        },
        "id": "M3xqTHRl2ny1",
        "outputId": "eca44eeb-9363-45bd-ff28-0fd2394161f4"
      },
      "source": [
        "X.median()"
      ],
      "execution_count": null,
      "outputs": [
        {
          "data": {
            "text/plain": [
              "100.0"
            ]
          },
          "execution_count": 136,
          "metadata": {},
          "output_type": "execute_result"
        }
      ]
    },
    {
      "cell_type": "code",
      "metadata": {
        "colab": {
          "base_uri": "https://localhost:8080/"
        },
        "id": "mbZWNoiO2oyn",
        "outputId": "422f09e4-8dcd-497f-f849-04eba227526b"
      },
      "source": [
        "X.std()"
      ],
      "execution_count": null,
      "outputs": [
        {
          "data": {
            "text/plain": [
              "25.0"
            ]
          },
          "execution_count": 144,
          "metadata": {},
          "output_type": "execute_result"
        }
      ]
    },
    {
      "cell_type": "code",
      "metadata": {
        "colab": {
          "base_uri": "https://localhost:8080/"
        },
        "id": "GKOWtsPX2uLA",
        "outputId": "f989b20f-b403-4e1d-be16-fae927a54976"
      },
      "source": [
        "X.var()"
      ],
      "execution_count": null,
      "outputs": [
        {
          "data": {
            "text/plain": [
              "625.0"
            ]
          },
          "execution_count": 145,
          "metadata": {},
          "output_type": "execute_result"
        }
      ]
    },
    {
      "cell_type": "code",
      "metadata": {
        "id": "sNeKqINh27F4"
      },
      "source": [
        "x_min_999, x_max_999 = X.interval(0.999)"
      ],
      "execution_count": null,
      "outputs": []
    },
    {
      "cell_type": "code",
      "metadata": {
        "id": "HzvR0JUA287h",
        "colab": {
          "base_uri": "https://localhost:8080/"
        },
        "outputId": "816b6089-476d-4ac1-bcdf-9ee170aaadfd"
      },
      "source": [
        "x_min_999"
      ],
      "execution_count": null,
      "outputs": [
        {
          "output_type": "execute_result",
          "data": {
            "text/plain": [
              "17.73683171270264"
            ]
          },
          "metadata": {},
          "execution_count": 115
        }
      ]
    },
    {
      "cell_type": "code",
      "metadata": {
        "colab": {
          "base_uri": "https://localhost:8080/"
        },
        "id": "kd2WIffnpnpZ",
        "outputId": "2d015bc1-3434-4dd5-d656-2b31d1207069"
      },
      "source": [
        "x_max_999"
      ],
      "execution_count": null,
      "outputs": [
        {
          "output_type": "execute_result",
          "data": {
            "text/plain": [
              "182.26316828729813"
            ]
          },
          "metadata": {},
          "execution_count": 116
        }
      ]
    },
    {
      "cell_type": "code",
      "metadata": {
        "id": "41m7aEn1ppGX"
      },
      "source": [
        "x999 = np.linspace(x_min_999,x_max_999,1000)"
      ],
      "execution_count": null,
      "outputs": []
    },
    {
      "cell_type": "code",
      "metadata": {
        "colab": {
          "base_uri": "https://localhost:8080/",
          "height": 228
        },
        "id": "C4uyNwfMpsoj",
        "outputId": "427fdbde-4898-4660-de00-e3f267d6e412"
      },
      "source": [
        "fig, axes = plt.subplots(1,3,figsize=(12,3))\n",
        "axes[0].plot(x999,X.pdf(x999))\n",
        "axes[1].plot(x999,X.cdf(x999))\n",
        "axes[2].plot(x999,X.sf(x999))"
      ],
      "execution_count": null,
      "outputs": [
        {
          "output_type": "execute_result",
          "data": {
            "text/plain": [
              "[<matplotlib.lines.Line2D at 0x7f6118b4c3d0>]"
            ]
          },
          "metadata": {},
          "execution_count": 121
        },
        {
          "output_type": "display_data",
          "data": {
            "image/png": "[encoded data removed]",
            "text/plain": [
              "<Figure size 864x216 with 3 Axes>"
            ]
          },
          "metadata": {}
        }
      ]
    },
    {
      "cell_type": "code",
      "metadata": {
        "id": "JSmQSVLCpzOR"
      },
      "source": [
        "def graficar_probs_cont(X):\n",
        "  x_min_999, x_max_999 = X.interval(0.999)\n",
        "  x999 = np.linspace(x_min_999,x_max_999,1000)\n",
        "\n",
        "  fig, axes = plt.subplots(1,3, figsize=(12,3))\n",
        "  axes[0].plot(x999,X.pdf(x999))\n",
        "  axes[0].set_title('pdf')\n",
        "  axes[1].plot(x999,X.cdf(x999))\n",
        "  axes[1].set_title('cdf')\n",
        "  axes[2].plot(x999,X.sf(x999))\n",
        "  axes[2].set_title('sf')\n",
        "\n",
        "  plt.show()"
      ],
      "execution_count": null,
      "outputs": []
    },
    {
      "cell_type": "code",
      "metadata": {
        "id": "hJMe-yRap4wT"
      },
      "source": [
        "X = stats.f(2,50)"
      ],
      "execution_count": null,
      "outputs": []
    },
    {
      "cell_type": "code",
      "metadata": {
        "colab": {
          "base_uri": "https://localhost:8080/",
          "height": 228
        },
        "id": "9Y-JUM_Tro_O",
        "outputId": "b04ba788-4900-4395-a0fc-6d89404063d8"
      },
      "source": [
        "graficar_probs_cont(X)"
      ],
      "execution_count": null,
      "outputs": [
        {
          "output_type": "display_data",
          "data": {
            "image/png": "[encoded data removed]",
            "text/plain": [
              "<Figure size 864x216 with 3 Axes>"
            ]
          },
          "metadata": {}
        }
      ]
    },
    {
      "cell_type": "code",
      "metadata": {
        "id": "db9V_DX9rqt2"
      },
      "source": [
        "vec_f = X.rvs(10000)"
      ],
      "execution_count": null,
      "outputs": []
    },
    {
      "cell_type": "code",
      "metadata": {
        "colab": {
          "base_uri": "https://localhost:8080/",
          "height": 265
        },
        "id": "cDP4nBH1uAXs",
        "outputId": "8e3f9f03-9978-4424-826e-5f5fb9af7181"
      },
      "source": [
        "x_lim = X.interval(.999)\n",
        "x_vec = np.linspace(*x_lim, num=10000)\n",
        "fig, axes = plt.subplots(1,1)\n",
        "axes.plot(x_vec, X.pdf(x_vec), label='PDF')\n",
        "axes.hist(vec_f, density=True, bins=85, histtype='barstacked', label='muestras')\n",
        "plt.legend()\n",
        "plt.show()"
      ],
      "execution_count": null,
      "outputs": [
        {
          "output_type": "display_data",
          "data": {
            "image/png": "[encoded data removed]",
            "text/plain": [
              "<Figure size 432x288 with 1 Axes>"
            ]
          },
          "metadata": {}
        }
      ]
    },
    {
      "cell_type": "code",
      "metadata": {
        "id": "TTQaQt31uSTK"
      },
      "source": [
        "X = stats.norm(100,25)"
      ],
      "execution_count": null,
      "outputs": []
    },
    {
      "cell_type": "code",
      "metadata": {
        "colab": {
          "base_uri": "https://localhost:8080/",
          "height": 265
        },
        "id": "d3DQ8joFvWCR",
        "outputId": "284be09c-9f33-486d-d2a0-0b4f08f260ac"
      },
      "source": [
        "x_lim = X.interval(.999)\n",
        "x_vec = np.linspace(*x_lim, num=10000)\n",
        "fig, axes = plt.subplots(1,1)\n",
        "axes.plot(x_vec, X.pdf(x_vec), label='PDF')\n",
        "axes.hist(vec_norm, density=True, bins=85, histtype='barstacked', label='muestras')\n",
        "plt.legend()\n",
        "plt.show()"
      ],
      "execution_count": null,
      "outputs": [
        {
          "output_type": "display_data",
          "data": {
            "image/png": "[encoded data removed]",
            "text/plain": [
              "<Figure size 432x288 with 1 Axes>"
            ]
          },
          "metadata": {}
        }
      ]
    },
    {
      "cell_type": "code",
      "metadata": {
        "id": "7dyVA5xRvfO3"
      },
      "source": [
        "i = 'Japon\\tinfo\\tinfo\\tinfo'"
      ],
      "execution_count": null,
      "outputs": []
    },
    {
      "cell_type": "code",
      "metadata": {
        "colab": {
          "base_uri": "https://localhost:8080/"
        },
        "id": "bFnQilYr3qDX",
        "outputId": "4e22b3e3-77ff-4114-d47d-401ce4ab1b91"
      },
      "source": [
        "i.split('\\t')"
      ],
      "execution_count": null,
      "outputs": [
        {
          "output_type": "execute_result",
          "data": {
            "text/plain": [
              "['Japon', 'info', 'info', 'info']"
            ]
          },
          "metadata": {},
          "execution_count": 172
        }
      ]
    },
    {
      "cell_type": "code",
      "metadata": {
        "id": "Q9v_vzgp3rFR"
      },
      "source": [
        ""
      ],
      "execution_count": null,
      "outputs": []
    }
  ]
}