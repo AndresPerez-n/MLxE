{
 "cells": [
  {
   "cell_type": "code",
   "execution_count": 10,
   "metadata": {},
   "outputs": [],
   "source": [
    "import numpy as np \n",
    "import pandas as pd"
   ]
  },
  {
   "cell_type": "code",
   "execution_count": 59,
   "metadata": {},
   "outputs": [
    {
     "name": "stdout",
     "output_type": "stream",
     "text": [
      "[[1 2 3]\n",
      " [4 5 6]\n",
      " [7 8 9]] [[4]\n",
      " [5]\n",
      " [7]]\n"
     ]
    }
   ],
   "source": [
    "x=np.array([[1,2,3],[4,5,6],[7,8,9]])\n",
    "y=np.array([[4],[5],[7]])\n",
    "print(x,y)"
   ]
  },
  {
   "cell_type": "code",
   "execution_count": 60,
   "metadata": {},
   "outputs": [],
   "source": [
    "class regresion:\n",
    "  def __init__(self,matriz_y,matriz_x):\n",
    "    self.matriz_y=matriz_y\n",
    "    self.matriz_x=matriz_x\n",
    "  def matriz_x(self):\n",
    "    if self.matriz_x==np.ndarray:\n",
    "       print(\"esta correcta la matriz x\")\n",
    "    else:\n",
    "      print(\"ingresar una matriz valida\")\n",
    "  def matriz_y(self):\n",
    "    if self.matriz_x==np.ndarray:\n",
    "      print(\"esta correcta la matriz y\")\n",
    "    else:\n",
    "      print(\"ingrese una matriz valida\")\n",
    "  def coefi1(self):\n",
    "    betas=np.linalg.inv(self.matriz_x.T @ self.matriz_x) @ self.matriz_x.T @ self.matriz_y\n",
    "    print(betas)\n",
    "\n"
   ]
  },
  {
   "cell_type": "code",
   "execution_count": 61,
   "metadata": {},
   "outputs": [],
   "source": [
    "intento_1= regresion(y,x)"
   ]
  },
  {
   "cell_type": "code",
   "execution_count": 62,
   "metadata": {},
   "outputs": [
    {
     "name": "stdout",
     "output_type": "stream",
     "text": [
      "[[-1.984375 ]\n",
      " [ 0.       ]\n",
      " [ 1.9609375]]\n"
     ]
    }
   ],
   "source": [
    "intento_1.coefi1()"
   ]
  },
  {
   "cell_type": "code",
   "execution_count": null,
   "metadata": {},
   "outputs": [],
   "source": []
  }
 ],
 "metadata": {
  "kernelspec": {
   "display_name": "Python 3",
   "language": "python",
   "name": "python3"
  },
  "language_info": {
   "codemirror_mode": {
    "name": "ipython",
    "version": 3
   },
   "file_extension": ".py",
   "mimetype": "text/x-python",
   "name": "python",
   "nbconvert_exporter": "python",
   "pygments_lexer": "ipython3",
   "version": "3.8.5"
  }
 },
 "nbformat": 4,
 "nbformat_minor": 4
}
