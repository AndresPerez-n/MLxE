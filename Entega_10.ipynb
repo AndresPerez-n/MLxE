{
  "nbformat": 4,
  "nbformat_minor": 0,
  "metadata": {
    "colab": {
      "name": "Untitled2.ipynb",
      "provenance": [],
      "collapsed_sections": [
        "NS0C_0KcqPXB"
      ]
    },
    "kernelspec": {
      "name": "python3",
      "display_name": "Python 3"
    },
    "language_info": {
      "name": "python"
    }
  },
  "cells": [
    {
      "cell_type": "markdown",
      "metadata": {
        "id": "zHws9edrzdMT"
      },
      "source": [
        ""
      ]
    },
    {
      "cell_type": "markdown",
      "metadata": {
        "id": "p8MblozvzdT7"
      },
      "source": [
        "## descarga de bases\n",
        "\n",
        "\n",
        "\n",
        "\n"
      ]
    },
    {
      "cell_type": "code",
      "metadata": {
        "id": "DRLERovnzg0R"
      },
      "source": [
        "import pandas as pd \n",
        "import numpy as np \n",
        "import seaborn as sns\n",
        "import datetime as datetime\n",
        "pd.set_option('display.max_columns', None) #Mostrar todas las columns\n",
        "pd.set_option('display.max_rows',None)#Momstrar todas las filas"
      ],
      "execution_count": null,
      "outputs": []
    },
    {
      "cell_type": "code",
      "metadata": {
        "id": "-7UiE3l0KDR-"
      },
      "source": [
        "weeb='https://github.com/AndresPerez-n/MLxE/raw/main/Crimen%20Colombia%202019/abigeato_2019_3.xlsx'"
      ],
      "execution_count": null,
      "outputs": []
    },
    {
      "cell_type": "code",
      "metadata": {
        "id": "x8AdxtOyI1y6"
      },
      "source": [
        "abigeato_2019=pd.read_excel(weeb,skiprows={0,1,2,3,4,5,6,7,8,9})"
      ],
      "execution_count": null,
      "outputs": []
    },
    {
      "cell_type": "code",
      "metadata": {
        "colab": {
          "base_uri": "https://localhost:8080/"
        },
        "id": "Y_r2RK-JKzQX",
        "outputId": "873cc8e7-ae79-41da-c8e2-d5552bf297c2"
      },
      "source": [
        "abigeato_2019.head(7)"
      ],
      "execution_count": null,
      "outputs": [
        {
          "output_type": "execute_result",
          "data": {
            "text/html": [
              "<div>\n",
              "<style scoped>\n",
              "    .dataframe tbody tr th:only-of-type {\n",
              "        vertical-align: middle;\n",
              "    }\n",
              "\n",
              "    .dataframe tbody tr th {\n",
              "        vertical-align: top;\n",
              "    }\n",
              "\n",
              "    .dataframe thead th {\n",
              "        text-align: right;\n",
              "    }\n",
              "</style>\n",
              "<table border=\"1\" class=\"dataframe\">\n",
              "  <thead>\n",
              "    <tr style=\"text-align: right;\">\n",
              "      <th></th>\n",
              "      <th>DEPARTAMENTO</th>\n",
              "      <th>MUNICIPIO</th>\n",
              "      <th>CODIGO DANE</th>\n",
              "      <th>ARMAS MEDIOS</th>\n",
              "      <th>FECHA HECHO</th>\n",
              "      <th>GENERO</th>\n",
              "      <th>AGRUPA EDAD PERSONA</th>\n",
              "      <th>CANTIDAD</th>\n",
              "    </tr>\n",
              "  </thead>\n",
              "  <tbody>\n",
              "    <tr>\n",
              "      <th>0</th>\n",
              "      <td>CESAR</td>\n",
              "      <td>BECERRIL</td>\n",
              "      <td>20045000.0</td>\n",
              "      <td>SIN EMPLEO DE ARMAS</td>\n",
              "      <td>2019-04-30</td>\n",
              "      <td>MASCULINO</td>\n",
              "      <td>ADULTOS</td>\n",
              "      <td>1.0</td>\n",
              "    </tr>\n",
              "    <tr>\n",
              "      <th>1</th>\n",
              "      <td>CESAR</td>\n",
              "      <td>VALLEDUPAR (CT)</td>\n",
              "      <td>20001000.0</td>\n",
              "      <td>SIN EMPLEO DE ARMAS</td>\n",
              "      <td>2019-03-15</td>\n",
              "      <td>MASCULINO</td>\n",
              "      <td>ADULTOS</td>\n",
              "      <td>1.0</td>\n",
              "    </tr>\n",
              "    <tr>\n",
              "      <th>2</th>\n",
              "      <td>CESAR</td>\n",
              "      <td>VALLEDUPAR (CT)</td>\n",
              "      <td>20001000.0</td>\n",
              "      <td>SIN EMPLEO DE ARMAS</td>\n",
              "      <td>2019-03-29</td>\n",
              "      <td>MASCULINO</td>\n",
              "      <td>ADULTOS</td>\n",
              "      <td>1.0</td>\n",
              "    </tr>\n",
              "    <tr>\n",
              "      <th>3</th>\n",
              "      <td>CESAR</td>\n",
              "      <td>VALLEDUPAR (CT)</td>\n",
              "      <td>20001000.0</td>\n",
              "      <td>SIN EMPLEO DE ARMAS</td>\n",
              "      <td>2019-04-23</td>\n",
              "      <td>MASCULINO</td>\n",
              "      <td>ADULTOS</td>\n",
              "      <td>1.0</td>\n",
              "    </tr>\n",
              "    <tr>\n",
              "      <th>4</th>\n",
              "      <td>CESAR</td>\n",
              "      <td>VALLEDUPAR (CT)</td>\n",
              "      <td>20001000.0</td>\n",
              "      <td>SIN EMPLEO DE ARMAS</td>\n",
              "      <td>2019-05-11</td>\n",
              "      <td>MASCULINO</td>\n",
              "      <td>ADULTOS</td>\n",
              "      <td>1.0</td>\n",
              "    </tr>\n",
              "    <tr>\n",
              "      <th>5</th>\n",
              "      <td>CESAR</td>\n",
              "      <td>VALLEDUPAR (CT)</td>\n",
              "      <td>20001000.0</td>\n",
              "      <td>SIN EMPLEO DE ARMAS</td>\n",
              "      <td>2019-05-20</td>\n",
              "      <td>MASCULINO</td>\n",
              "      <td>ADULTOS</td>\n",
              "      <td>1.0</td>\n",
              "    </tr>\n",
              "    <tr>\n",
              "      <th>6</th>\n",
              "      <td>CESAR</td>\n",
              "      <td>VALLEDUPAR (CT)</td>\n",
              "      <td>20001000.0</td>\n",
              "      <td>SIN EMPLEO DE ARMAS</td>\n",
              "      <td>2019-07-02</td>\n",
              "      <td>MASCULINO</td>\n",
              "      <td>ADULTOS</td>\n",
              "      <td>1.0</td>\n",
              "    </tr>\n",
              "  </tbody>\n",
              "</table>\n",
              "</div>"
            ],
            "text/plain": [
              "  DEPARTAMENTO        MUNICIPIO  CODIGO DANE         ARMAS MEDIOS FECHA HECHO  \\\n",
              "0        CESAR         BECERRIL   20045000.0  SIN EMPLEO DE ARMAS  2019-04-30   \n",
              "1        CESAR  VALLEDUPAR (CT)   20001000.0  SIN EMPLEO DE ARMAS  2019-03-15   \n",
              "2        CESAR  VALLEDUPAR (CT)   20001000.0  SIN EMPLEO DE ARMAS  2019-03-29   \n",
              "3        CESAR  VALLEDUPAR (CT)   20001000.0  SIN EMPLEO DE ARMAS  2019-04-23   \n",
              "4        CESAR  VALLEDUPAR (CT)   20001000.0  SIN EMPLEO DE ARMAS  2019-05-11   \n",
              "5        CESAR  VALLEDUPAR (CT)   20001000.0  SIN EMPLEO DE ARMAS  2019-05-20   \n",
              "6        CESAR  VALLEDUPAR (CT)   20001000.0  SIN EMPLEO DE ARMAS  2019-07-02   \n",
              "\n",
              "      GENERO AGRUPA EDAD PERSONA  CANTIDAD  \n",
              "0  MASCULINO             ADULTOS       1.0  \n",
              "1  MASCULINO             ADULTOS       1.0  \n",
              "2  MASCULINO             ADULTOS       1.0  \n",
              "3  MASCULINO             ADULTOS       1.0  \n",
              "4  MASCULINO             ADULTOS       1.0  \n",
              "5  MASCULINO             ADULTOS       1.0  \n",
              "6  MASCULINO             ADULTOS       1.0  "
            ]
          },
          "metadata": {},
          "execution_count": 6
        }
      ]
    },
    {
      "cell_type": "code",
      "metadata": {
        "id": "SY6X4anxKjaI"
      },
      "source": [
        "weeb1='https://github.com/AndresPerez-n/MLxE/raw/main/Crimen%20Colombia%202019/abigeato_2019_3.xlsx'\n",
        "weeb2='https://github.com/AndresPerez-n/MLxE/raw/main/Crimen%20Colombia%202019/abigeato_2019_3.xlsx'\n",
        "weeb3='https://github.com/AndresPerez-n/MLxE/raw/main/Crimen%20Colombia%202019/amenazas_2019_1.xlsx'\n",
        "weeb4='https://github.com/AndresPerez-n/MLxE/raw/main/Crimen%20Colombia%202019/delitos_sexuales_2019_0.xlsx'\n",
        "weeb5='https://github.com/AndresPerez-n/MLxE/raw/main/Crimen%20Colombia%202019/extorsion_2019_4.xlsx'\n",
        "weeb6='https://github.com/AndresPerez-n/MLxE/raw/main/Crimen%20Colombia%202019/homicidios_2019_3.xlsx'\n",
        "weeb7='https://github.com/AndresPerez-n/MLxE/raw/main/Crimen%20Colombia%202019/homicidios_en_accidente_de_transito_2019.xlsx'\n",
        "weeb8='https://github.com/AndresPerez-n/MLxE/raw/main/Crimen%20Colombia%202019/hurto_a_entidades_financieras_2019_3.xlsx'\n",
        "weeb9='https://github.com/AndresPerez-n/MLxE/raw/main/Crimen%20Colombia%202019/hurto_a_personas_2019_0.xlsx'\n",
        "weeb10='https://github.com/AndresPerez-n/MLxE/raw/main/Crimen%20Colombia%202019/hurto_a_residencias_2019_0.xlsx'\n",
        "weeb11='https://github.com/AndresPerez-n/MLxE/raw/main/Crimen%20Colombia%202019/hurto_automotores_2019_0.xlsx'\n",
        "weeb12='https://github.com/AndresPerez-n/MLxE/raw/main/Crimen%20Colombia%202019/hurto_motocicletas_2019_0.xlsx'\n",
        "weeb13='https://github.com/AndresPerez-n/MLxE/raw/main/Crimen%20Colombia%202019/lesiones_en_accidente_de_transito_2019_0.xlsx'\n",
        "weeb14='https://github.com/AndresPerez-n/MLxE/raw/main/Crimen%20Colombia%202019/lesiones_personales_2019_0.xlsx'\n",
        "weeb15='https://github.com/AndresPerez-n/MLxE/raw/main/Crimen%20Colombia%202019/pirateria_terrestre_2019_3.xlsx'\n",
        "weeb16='https://github.com/AndresPerez-n/MLxE/raw/main/Crimen%20Colombia%202019/secuestro_2019_3.xlsx'\n",
        "weeb17='https://github.com/AndresPerez-n/MLxE/raw/main/Crimen%20Colombia%202019/violencia_intrafamiliar_2019_0.xlsx'\n"
      ],
      "execution_count": null,
      "outputs": []
    },
    {
      "cell_type": "code",
      "metadata": {
        "id": "VkFGeo74L1FZ"
      },
      "source": [
        "amenazas_2019=pd.read_excel(weeb3,skiprows={0,1,2,3,4,5,6,7,8,9})\n",
        "delitos_sexuales_2019=pd.read_excel(weeb4,skiprows={0,1,2,3,4,5,6,7,8,9})\n",
        "extorsion_2019=pd.read_excel(weeb5,skiprows={0,1,2,3,4,5,6,7,8})\n",
        "homicidios_2019=pd.read_excel(weeb6,skiprows={0,1,2,3,4,5,6,7,8,9})\n",
        "homicidios_en_accidente_de_transito_2019=pd.read_excel(weeb7,skiprows={0,1,2,3,4,5,6,7,8,9})\n",
        "hurto_a_entidades_financieras_2019=pd.read_excel(weeb8,skiprows={0,1,2,3,4,5,6,7,8,9})\n",
        "hurto_a_personas_2019=pd.read_excel(weeb9,skiprows={0,1,2,3,4,5,6,7,8,9})\n",
        "hurto_a_residencias_2019=pd.read_excel(weeb10,skiprows={0,1,2,3,4,5,6,7,8,9})\n",
        "hurto_automotores_2019=pd.read_excel(weeb11,skiprows={0,1,2,3,4,5,6,7,8,9})\n",
        "hurto_motocicletas_2019=pd.read_excel(weeb12,skiprows={0,1,2,3,4,5,6,7,8,9})\n",
        "lesiones_en_accidente_de_transito_2019=pd.read_excel(weeb13,skiprows={0,1,2,3,4,5,6,7,8,9})\n",
        "lesiones_personales_2019=pd.read_excel(weeb14,skiprows={0,1,2,3,4,5,6,7,8,9})\n",
        "pirateria_terrestre_2019=pd.read_excel(weeb15,skiprows={0,1,2,3,4,5,6,7,8,9})\n",
        "secuestro_2019=pd.read_excel(weeb16,skiprows={0,1,2,3,4,5,6,7,8,9})\n",
        "violencia_intrafamiliar_2019=pd.read_excel(weeb17,skiprows={0,1,2,3,4,5,6,7,8,9})"
      ],
      "execution_count": null,
      "outputs": []
    },
    {
      "cell_type": "markdown",
      "metadata": {
        "id": "NS0C_0KcqPXB"
      },
      "source": [
        "## Union de Bases genrtacion de Dummy de tipo de delito "
      ]
    },
    {
      "cell_type": "code",
      "metadata": {
        "id": "3bv1KZLwqX1E"
      },
      "source": [
        "amenazas_2019['DELITO']='amenazas_2019'\n",
        "delitos_sexuales_2019['DELITO']='delitos_sexuales_2019'\n",
        "extorsion_2019['DELITO']='extorsion_2019'\n",
        "homicidios_2019['DELITO']='homicidios_2019'\n",
        "homicidios_en_accidente_de_transito_2019['DELITO']='homicidios_en_accidente_de_transito_2019'\n",
        "hurto_a_entidades_financieras_2019['DELITO']='hurto_a_entidades_financieras_2019'\n",
        "hurto_a_personas_2019['DELITO']='hurto_a_personas_2019'\n",
        "hurto_a_residencias_2019['DELITO']='hurto_a_residencias_2019'\n",
        "hurto_automotores_2019['DELITO']='hurto_automotores_2019'\n",
        "hurto_motocicletas_2019['DELITO']='hurto_motocicletas_2019'\n",
        "lesiones_en_accidente_de_transito_2019['DELITO']='lesiones_en_accidente_de_transito_2019'\n",
        "lesiones_personales_2019['DELITO']='lesiones_personales_2019'\n",
        "pirateria_terrestre_2019['DELITO']='pirateria_terrestre_2019'\n",
        "secuestro_2019['DELITO']='secuestro_2019'\n",
        "violencia_intrafamiliar_2019['DELITO']='violencia_intrafamiliar_2019'"
      ],
      "execution_count": null,
      "outputs": []
    },
    {
      "cell_type": "code",
      "metadata": {
        "colab": {
          "base_uri": "https://localhost:8080/"
        },
        "id": "Spz0dT6lqevk",
        "outputId": "b946df37-b9f7-4912-fcb7-d2bc79c13762"
      },
      "source": [
        "amenazas_2019.head()"
      ],
      "execution_count": null,
      "outputs": [
        {
          "output_type": "execute_result",
          "data": {
            "text/html": [
              "<div>\n",
              "<style scoped>\n",
              "    .dataframe tbody tr th:only-of-type {\n",
              "        vertical-align: middle;\n",
              "    }\n",
              "\n",
              "    .dataframe tbody tr th {\n",
              "        vertical-align: top;\n",
              "    }\n",
              "\n",
              "    .dataframe thead th {\n",
              "        text-align: right;\n",
              "    }\n",
              "</style>\n",
              "<table border=\"1\" class=\"dataframe\">\n",
              "  <thead>\n",
              "    <tr style=\"text-align: right;\">\n",
              "      <th></th>\n",
              "      <th>DEPARTAMENTO</th>\n",
              "      <th>MUNICIPIO</th>\n",
              "      <th>CODIGO DANE</th>\n",
              "      <th>ARMAS MEDIOS</th>\n",
              "      <th>FECHA HECHO</th>\n",
              "      <th>GENERO</th>\n",
              "      <th>AGRUPA EDAD PERSONA</th>\n",
              "      <th>CANTIDAD</th>\n",
              "      <th>DELITO</th>\n",
              "    </tr>\n",
              "  </thead>\n",
              "  <tbody>\n",
              "    <tr>\n",
              "      <th>0</th>\n",
              "      <td>CESAR</td>\n",
              "      <td>VALLEDUPAR (CT)</td>\n",
              "      <td>20001000.0</td>\n",
              "      <td>NaN</td>\n",
              "      <td>2019-12-17</td>\n",
              "      <td>FEMENINO</td>\n",
              "      <td>MENORES</td>\n",
              "      <td>1.0</td>\n",
              "      <td>amenazas_2019</td>\n",
              "    </tr>\n",
              "    <tr>\n",
              "      <th>1</th>\n",
              "      <td>QUINDÍO</td>\n",
              "      <td>ARMENIA (CT)</td>\n",
              "      <td>63001000.0</td>\n",
              "      <td>SIN EMPLEO DE ARMAS</td>\n",
              "      <td>2019-03-17</td>\n",
              "      <td>FEMENINO</td>\n",
              "      <td>MENORES</td>\n",
              "      <td>1.0</td>\n",
              "      <td>amenazas_2019</td>\n",
              "    </tr>\n",
              "    <tr>\n",
              "      <th>2</th>\n",
              "      <td>SANTANDER</td>\n",
              "      <td>BARRANCABERMEJA</td>\n",
              "      <td>68081000.0</td>\n",
              "      <td>NaN</td>\n",
              "      <td>2019-08-25</td>\n",
              "      <td>MASCULINO</td>\n",
              "      <td>MENORES</td>\n",
              "      <td>1.0</td>\n",
              "      <td>amenazas_2019</td>\n",
              "    </tr>\n",
              "    <tr>\n",
              "      <th>3</th>\n",
              "      <td>TOLIMA</td>\n",
              "      <td>IBAGUÉ (CT)</td>\n",
              "      <td>73001000.0</td>\n",
              "      <td>NaN</td>\n",
              "      <td>2019-04-25</td>\n",
              "      <td>MASCULINO</td>\n",
              "      <td>MENORES</td>\n",
              "      <td>1.0</td>\n",
              "      <td>amenazas_2019</td>\n",
              "    </tr>\n",
              "    <tr>\n",
              "      <th>4</th>\n",
              "      <td>TOLIMA</td>\n",
              "      <td>IBAGUÉ (CT)</td>\n",
              "      <td>73001000.0</td>\n",
              "      <td>NaN</td>\n",
              "      <td>2019-12-22</td>\n",
              "      <td>MASCULINO</td>\n",
              "      <td>MENORES</td>\n",
              "      <td>1.0</td>\n",
              "      <td>amenazas_2019</td>\n",
              "    </tr>\n",
              "  </tbody>\n",
              "</table>\n",
              "</div>"
            ],
            "text/plain": [
              "  DEPARTAMENTO        MUNICIPIO  CODIGO DANE         ARMAS MEDIOS FECHA HECHO  \\\n",
              "0        CESAR  VALLEDUPAR (CT)   20001000.0                  NaN  2019-12-17   \n",
              "1      QUINDÍO     ARMENIA (CT)   63001000.0  SIN EMPLEO DE ARMAS  2019-03-17   \n",
              "2    SANTANDER  BARRANCABERMEJA   68081000.0                  NaN  2019-08-25   \n",
              "3       TOLIMA      IBAGUÉ (CT)   73001000.0                  NaN  2019-04-25   \n",
              "4       TOLIMA      IBAGUÉ (CT)   73001000.0                  NaN  2019-12-22   \n",
              "\n",
              "      GENERO AGRUPA EDAD PERSONA  CANTIDAD         DELITO  \n",
              "0   FEMENINO             MENORES       1.0  amenazas_2019  \n",
              "1   FEMENINO             MENORES       1.0  amenazas_2019  \n",
              "2  MASCULINO             MENORES       1.0  amenazas_2019  \n",
              "3  MASCULINO             MENORES       1.0  amenazas_2019  \n",
              "4  MASCULINO             MENORES       1.0  amenazas_2019  "
            ]
          },
          "metadata": {},
          "execution_count": 10
        }
      ]
    },
    {
      "cell_type": "code",
      "metadata": {
        "colab": {
          "base_uri": "https://localhost:8080/"
        },
        "id": "C1-bodIysRoJ",
        "outputId": "ca23cb5e-722c-4b74-9282-f551efd312dc"
      },
      "source": [
        "hurto_a_entidades_financieras_2019.head()"
      ],
      "execution_count": null,
      "outputs": [
        {
          "output_type": "execute_result",
          "data": {
            "text/html": [
              "<div>\n",
              "<style scoped>\n",
              "    .dataframe tbody tr th:only-of-type {\n",
              "        vertical-align: middle;\n",
              "    }\n",
              "\n",
              "    .dataframe tbody tr th {\n",
              "        vertical-align: top;\n",
              "    }\n",
              "\n",
              "    .dataframe thead th {\n",
              "        text-align: right;\n",
              "    }\n",
              "</style>\n",
              "<table border=\"1\" class=\"dataframe\">\n",
              "  <thead>\n",
              "    <tr style=\"text-align: right;\">\n",
              "      <th></th>\n",
              "      <th>DEPARTAMENTO</th>\n",
              "      <th>MUNICIPIO</th>\n",
              "      <th>CODIGO DANE</th>\n",
              "      <th>ARMAS MEDIOS</th>\n",
              "      <th>FECHA HECHO</th>\n",
              "      <th>CANTIDAD</th>\n",
              "      <th>Unnamed: 6</th>\n",
              "      <th>Unnamed: 7</th>\n",
              "      <th>DELITO</th>\n",
              "    </tr>\n",
              "  </thead>\n",
              "  <tbody>\n",
              "    <tr>\n",
              "      <th>0</th>\n",
              "      <td>VALLE</td>\n",
              "      <td>CALI (CT)</td>\n",
              "      <td>76001000.0</td>\n",
              "      <td>ARMA DE FUEGO</td>\n",
              "      <td>2019-02-26</td>\n",
              "      <td>1.0</td>\n",
              "      <td>NaN</td>\n",
              "      <td>NaN</td>\n",
              "      <td>hurto_a_entidades_financieras_2019</td>\n",
              "    </tr>\n",
              "    <tr>\n",
              "      <th>1</th>\n",
              "      <td>ATLÁNTICO</td>\n",
              "      <td>BARRANQUILLA (CT)</td>\n",
              "      <td>8001000.0</td>\n",
              "      <td>ARMA DE FUEGO</td>\n",
              "      <td>2019-11-08</td>\n",
              "      <td>1.0</td>\n",
              "      <td>NaN</td>\n",
              "      <td>NaN</td>\n",
              "      <td>hurto_a_entidades_financieras_2019</td>\n",
              "    </tr>\n",
              "    <tr>\n",
              "      <th>2</th>\n",
              "      <td>SUCRE</td>\n",
              "      <td>COVEÑAS</td>\n",
              "      <td>70221000.0</td>\n",
              "      <td>CONTUNDENTES</td>\n",
              "      <td>2019-11-30</td>\n",
              "      <td>1.0</td>\n",
              "      <td>NaN</td>\n",
              "      <td>NaN</td>\n",
              "      <td>hurto_a_entidades_financieras_2019</td>\n",
              "    </tr>\n",
              "    <tr>\n",
              "      <th>3</th>\n",
              "      <td>SANTANDER</td>\n",
              "      <td>BARRANCABERMEJA</td>\n",
              "      <td>68081000.0</td>\n",
              "      <td>SIN EMPLEO DE ARMAS</td>\n",
              "      <td>2019-04-15</td>\n",
              "      <td>1.0</td>\n",
              "      <td>NaN</td>\n",
              "      <td>NaN</td>\n",
              "      <td>hurto_a_entidades_financieras_2019</td>\n",
              "    </tr>\n",
              "    <tr>\n",
              "      <th>4</th>\n",
              "      <td>CUNDINAMARCA</td>\n",
              "      <td>BOGOTÁ D.C. (CT)</td>\n",
              "      <td>11001000.0</td>\n",
              "      <td>ARMA DE FUEGO</td>\n",
              "      <td>2019-12-23</td>\n",
              "      <td>1.0</td>\n",
              "      <td>NaN</td>\n",
              "      <td>NaN</td>\n",
              "      <td>hurto_a_entidades_financieras_2019</td>\n",
              "    </tr>\n",
              "  </tbody>\n",
              "</table>\n",
              "</div>"
            ],
            "text/plain": [
              "   DEPARTAMENTO          MUNICIPIO  CODIGO DANE         ARMAS MEDIOS  \\\n",
              "0         VALLE          CALI (CT)   76001000.0        ARMA DE FUEGO   \n",
              "1     ATLÁNTICO  BARRANQUILLA (CT)    8001000.0        ARMA DE FUEGO   \n",
              "2         SUCRE            COVEÑAS   70221000.0         CONTUNDENTES   \n",
              "3     SANTANDER    BARRANCABERMEJA   68081000.0  SIN EMPLEO DE ARMAS   \n",
              "4  CUNDINAMARCA   BOGOTÁ D.C. (CT)   11001000.0        ARMA DE FUEGO   \n",
              "\n",
              "  FECHA HECHO  CANTIDAD  Unnamed: 6  Unnamed: 7  \\\n",
              "0  2019-02-26       1.0         NaN         NaN   \n",
              "1  2019-11-08       1.0         NaN         NaN   \n",
              "2  2019-11-30       1.0         NaN         NaN   \n",
              "3  2019-04-15       1.0         NaN         NaN   \n",
              "4  2019-12-23       1.0         NaN         NaN   \n",
              "\n",
              "                               DELITO  \n",
              "0  hurto_a_entidades_financieras_2019  \n",
              "1  hurto_a_entidades_financieras_2019  \n",
              "2  hurto_a_entidades_financieras_2019  \n",
              "3  hurto_a_entidades_financieras_2019  \n",
              "4  hurto_a_entidades_financieras_2019  "
            ]
          },
          "metadata": {},
          "execution_count": 11
        }
      ]
    },
    {
      "cell_type": "code",
      "metadata": {
        "id": "x8cmS6xRzgvT"
      },
      "source": [
        "hurto_a_entidades_financieras_2019=hurto_a_entidades_financieras_2019.drop(columns={'Unnamed: 6','Unnamed: 7'})"
      ],
      "execution_count": null,
      "outputs": []
    },
    {
      "cell_type": "code",
      "metadata": {
        "id": "WyPyaaE713kM"
      },
      "source": [
        "hurto_automotores_2019=hurto_automotores_2019.drop(columns={'Unnamed: 6','Unnamed: 7'})"
      ],
      "execution_count": null,
      "outputs": []
    },
    {
      "cell_type": "code",
      "metadata": {
        "id": "7bxUaT8p6DJJ"
      },
      "source": [
        "lesiones_en_accidente_de_transito_2019=lesiones_en_accidente_de_transito_2019.drop(columns={'Unnamed: 7'})"
      ],
      "execution_count": null,
      "outputs": []
    },
    {
      "cell_type": "code",
      "metadata": {
        "id": "_rk5hCG3w9ch"
      },
      "source": [
        "merge1=amenazas_2019.merge(delitos_sexuales_2019,how='outer')\n",
        "merge2=merge1.merge(extorsion_2019,how='outer')\n",
        "merge3=merge2.merge(homicidios_2019,how='outer')\n",
        "merge4=merge3.merge(homicidios_en_accidente_de_transito_2019,how='outer')\n",
        "merge5=merge4.merge(hurto_a_entidades_financieras_2019,how='outer')\n",
        "merge6=merge5.merge(hurto_a_personas_2019,how='outer')\n",
        "merge7=merge6.merge(hurto_a_residencias_2019,how='outer')\n",
        "merge8=merge7.merge(hurto_automotores_2019,how='outer')\n",
        "merge9=merge8.merge(hurto_motocicletas_2019,how='outer')\n",
        "merge10=merge9.merge(lesiones_en_accidente_de_transito_2019,how='outer')\n",
        "merge11=merge10.merge(lesiones_personales_2019,how='outer')\n",
        "merge12=merge11.merge(pirateria_terrestre_2019,how='outer')\n",
        "merge13=merge12.merge(secuestro_2019,how='outer')\n",
        "merge14=merge13.merge(violencia_intrafamiliar_2019,how='outer')"
      ],
      "execution_count": null,
      "outputs": []
    },
    {
      "cell_type": "code",
      "metadata": {
        "colab": {
          "base_uri": "https://localhost:8080/"
        },
        "id": "HEmE06PH7-L_",
        "outputId": "e4fb8c0e-0935-4676-d108-088bfc0b4610"
      },
      "source": [
        "#merge14.info()\n",
        "crimenes_2019=merge14.drop(columns={'Unnamed: 7'})\n",
        "crimenes_2019.info()"
      ],
      "execution_count": null,
      "outputs": [
        {
          "output_type": "stream",
          "name": "stdout",
          "text": [
            "<class 'pandas.core.frame.DataFrame'>\n",
            "Int64Index: 781216 entries, 0 to 781215\n",
            "Data columns (total 10 columns):\n",
            " #   Column                Non-Null Count   Dtype         \n",
            "---  ------                --------------   -----         \n",
            " 0   DEPARTAMENTO          781216 non-null  object        \n",
            " 1   MUNICIPIO             781142 non-null  object        \n",
            " 2   CODIGO DANE           781142 non-null  object        \n",
            " 3   ARMAS MEDIOS          712946 non-null  object        \n",
            " 4   FECHA HECHO           781142 non-null  datetime64[ns]\n",
            " 5   GENERO                734420 non-null  object        \n",
            " 6   AGRUPA EDAD PERSONA   724666 non-null  object        \n",
            " 7   CANTIDAD              781157 non-null  float64       \n",
            " 8   DELITO                781216 non-null  object        \n",
            " 9   DESCRIPCION CONDUCTA  92 non-null      object        \n",
            "dtypes: datetime64[ns](1), float64(1), object(8)\n",
            "memory usage: 65.6+ MB\n"
          ]
        }
      ]
    },
    {
      "cell_type": "markdown",
      "metadata": {
        "id": "k06JPHhU6snX"
      },
      "source": [
        "## Preparacion PCA "
      ]
    },
    {
      "cell_type": "code",
      "metadata": {
        "id": "FZ-lQgRd6u5u"
      },
      "source": [
        "\n",
        "import matplotlib.pyplot as plt\n",
        "import seaborn as sns\n",
        "import plotly.express as px"
      ],
      "execution_count": null,
      "outputs": []
    },
    {
      "cell_type": "markdown",
      "metadata": {
        "id": "qhka8s7PLLAC"
      },
      "source": [
        "Se usan solamente varibales numericas "
      ]
    },
    {
      "cell_type": "markdown",
      "metadata": {
        "id": "VpbQnp53LU0f"
      },
      "source": [
        "Generando variables numericas con las variables otorgadas "
      ]
    },
    {
      "cell_type": "code",
      "metadata": {
        "colab": {
          "base_uri": "https://localhost:8080/"
        },
        "id": "ZlN8ke0iBpmP",
        "outputId": "fa247ede-b754-465c-fa80-ba5f964508f6"
      },
      "source": [
        "crimenes_2019.CANTIDAD.value_counts()"
      ],
      "execution_count": null,
      "outputs": [
        {
          "output_type": "execute_result",
          "data": {
            "text/plain": [
              "1.0         774542\n",
              "2.0           5576\n",
              "3.0            585\n",
              "4.0            215\n",
              "5.0             91\n",
              "6.0             43\n",
              "7.0             36\n",
              "10.0            14\n",
              "8.0             11\n",
              "9.0             10\n",
              "11.0             6\n",
              "13.0             2\n",
              "12.0             2\n",
              "16.0             2\n",
              "20.0             2\n",
              "17.0             1\n",
              "8210.0           1\n",
              "35713.0          1\n",
              "141.0            1\n",
              "38204.0          1\n",
              "40152.0          1\n",
              "6054.0           1\n",
              "92.0             1\n",
              "10499.0          1\n",
              "306847.0         1\n",
              "46465.0          1\n",
              "48679.0          1\n",
              "21.0             1\n",
              "12656.0          1\n",
              "318.0            1\n",
              "14.0             1\n",
              "116534.0         1\n",
              "15.0             1\n",
              "19.0             1\n",
              "119302.0         1\n",
              "Name: CANTIDAD, dtype: int64"
            ]
          },
          "metadata": {},
          "execution_count": 18
        }
      ]
    },
    {
      "cell_type": "code",
      "metadata": {
        "colab": {
          "base_uri": "https://localhost:8080/",
          "height": 309
        },
        "id": "Lsi7Vx6WHMYK",
        "outputId": "db78baf7-5880-4124-fbbd-a2cb284527d1"
      },
      "source": [
        "crimenes_2019['MES']= pd.DatetimeIndex(crimenes_2019['FECHA HECHO']).month\n",
        "crimenes_2019['DIA']= pd.DatetimeIndex(crimenes_2019['FECHA HECHO']).day\n",
        "#crimenes_2019['AÑO']= pd.DatetimeIndex(crimenes_2019['FECHA HECHO']).year\n",
        "crimenes_2019.head()"
      ],
      "execution_count": null,
      "outputs": [
        {
          "output_type": "execute_result",
          "data": {
            "text/html": [
              "<div>\n",
              "<style scoped>\n",
              "    .dataframe tbody tr th:only-of-type {\n",
              "        vertical-align: middle;\n",
              "    }\n",
              "\n",
              "    .dataframe tbody tr th {\n",
              "        vertical-align: top;\n",
              "    }\n",
              "\n",
              "    .dataframe thead th {\n",
              "        text-align: right;\n",
              "    }\n",
              "</style>\n",
              "<table border=\"1\" class=\"dataframe\">\n",
              "  <thead>\n",
              "    <tr style=\"text-align: right;\">\n",
              "      <th></th>\n",
              "      <th>DEPARTAMENTO</th>\n",
              "      <th>MUNICIPIO</th>\n",
              "      <th>CODIGO DANE</th>\n",
              "      <th>ARMAS MEDIOS</th>\n",
              "      <th>FECHA HECHO</th>\n",
              "      <th>GENERO</th>\n",
              "      <th>AGRUPA EDAD PERSONA</th>\n",
              "      <th>CANTIDAD</th>\n",
              "      <th>DELITO</th>\n",
              "      <th>DESCRIPCION CONDUCTA</th>\n",
              "      <th>MES</th>\n",
              "      <th>DIA</th>\n",
              "    </tr>\n",
              "  </thead>\n",
              "  <tbody>\n",
              "    <tr>\n",
              "      <th>0</th>\n",
              "      <td>CESAR</td>\n",
              "      <td>VALLEDUPAR (CT)</td>\n",
              "      <td>2.0001e+07</td>\n",
              "      <td>NaN</td>\n",
              "      <td>2019-12-17</td>\n",
              "      <td>FEMENINO</td>\n",
              "      <td>MENORES</td>\n",
              "      <td>1.0</td>\n",
              "      <td>amenazas_2019</td>\n",
              "      <td>NaN</td>\n",
              "      <td>12.0</td>\n",
              "      <td>17.0</td>\n",
              "    </tr>\n",
              "    <tr>\n",
              "      <th>1</th>\n",
              "      <td>CESAR</td>\n",
              "      <td>VALLEDUPAR (CT)</td>\n",
              "      <td>2.0001e+07</td>\n",
              "      <td>NaN</td>\n",
              "      <td>2019-12-17</td>\n",
              "      <td>MASCULINO</td>\n",
              "      <td>ADOLESCENTES</td>\n",
              "      <td>1.0</td>\n",
              "      <td>amenazas_2019</td>\n",
              "      <td>NaN</td>\n",
              "      <td>12.0</td>\n",
              "      <td>17.0</td>\n",
              "    </tr>\n",
              "    <tr>\n",
              "      <th>2</th>\n",
              "      <td>CESAR</td>\n",
              "      <td>VALLEDUPAR (CT)</td>\n",
              "      <td>2.0001e+07</td>\n",
              "      <td>NaN</td>\n",
              "      <td>2019-12-17</td>\n",
              "      <td>MASCULINO</td>\n",
              "      <td>ADULTOS</td>\n",
              "      <td>1.0</td>\n",
              "      <td>amenazas_2019</td>\n",
              "      <td>NaN</td>\n",
              "      <td>12.0</td>\n",
              "      <td>17.0</td>\n",
              "    </tr>\n",
              "    <tr>\n",
              "      <th>3</th>\n",
              "      <td>CESAR</td>\n",
              "      <td>VALLEDUPAR (CT)</td>\n",
              "      <td>2.0001e+07</td>\n",
              "      <td>NaN</td>\n",
              "      <td>2019-12-17</td>\n",
              "      <td>MASCULINO</td>\n",
              "      <td>NaN</td>\n",
              "      <td>1.0</td>\n",
              "      <td>amenazas_2019</td>\n",
              "      <td>NaN</td>\n",
              "      <td>12.0</td>\n",
              "      <td>17.0</td>\n",
              "    </tr>\n",
              "    <tr>\n",
              "      <th>4</th>\n",
              "      <td>QUINDÍO</td>\n",
              "      <td>ARMENIA (CT)</td>\n",
              "      <td>6.3001e+07</td>\n",
              "      <td>SIN EMPLEO DE ARMAS</td>\n",
              "      <td>2019-03-17</td>\n",
              "      <td>FEMENINO</td>\n",
              "      <td>MENORES</td>\n",
              "      <td>1.0</td>\n",
              "      <td>amenazas_2019</td>\n",
              "      <td>NaN</td>\n",
              "      <td>3.0</td>\n",
              "      <td>17.0</td>\n",
              "    </tr>\n",
              "  </tbody>\n",
              "</table>\n",
              "</div>"
            ],
            "text/plain": [
              "  DEPARTAMENTO        MUNICIPIO CODIGO DANE         ARMAS MEDIOS FECHA HECHO  \\\n",
              "0        CESAR  VALLEDUPAR (CT)  2.0001e+07                  NaN  2019-12-17   \n",
              "1        CESAR  VALLEDUPAR (CT)  2.0001e+07                  NaN  2019-12-17   \n",
              "2        CESAR  VALLEDUPAR (CT)  2.0001e+07                  NaN  2019-12-17   \n",
              "3        CESAR  VALLEDUPAR (CT)  2.0001e+07                  NaN  2019-12-17   \n",
              "4      QUINDÍO     ARMENIA (CT)  6.3001e+07  SIN EMPLEO DE ARMAS  2019-03-17   \n",
              "\n",
              "      GENERO AGRUPA EDAD PERSONA  CANTIDAD         DELITO  \\\n",
              "0   FEMENINO             MENORES       1.0  amenazas_2019   \n",
              "1  MASCULINO        ADOLESCENTES       1.0  amenazas_2019   \n",
              "2  MASCULINO             ADULTOS       1.0  amenazas_2019   \n",
              "3  MASCULINO                 NaN       1.0  amenazas_2019   \n",
              "4   FEMENINO             MENORES       1.0  amenazas_2019   \n",
              "\n",
              "  DESCRIPCION CONDUCTA   MES   DIA  \n",
              "0                  NaN  12.0  17.0  \n",
              "1                  NaN  12.0  17.0  \n",
              "2                  NaN  12.0  17.0  \n",
              "3                  NaN  12.0  17.0  \n",
              "4                  NaN   3.0  17.0  "
            ]
          },
          "metadata": {},
          "execution_count": 19
        }
      ]
    },
    {
      "cell_type": "code",
      "metadata": {
        "colab": {
          "base_uri": "https://localhost:8080/"
        },
        "id": "qahlPMgHK3HM",
        "outputId": "f3c67b18-0a79-4764-a609-e78ad74f7c32"
      },
      "source": [
        "crimenes_2019.info()"
      ],
      "execution_count": null,
      "outputs": [
        {
          "output_type": "stream",
          "name": "stdout",
          "text": [
            "<class 'pandas.core.frame.DataFrame'>\n",
            "Int64Index: 781216 entries, 0 to 781215\n",
            "Data columns (total 12 columns):\n",
            " #   Column                Non-Null Count   Dtype         \n",
            "---  ------                --------------   -----         \n",
            " 0   DEPARTAMENTO          781216 non-null  object        \n",
            " 1   MUNICIPIO             781142 non-null  object        \n",
            " 2   CODIGO DANE           781142 non-null  object        \n",
            " 3   ARMAS MEDIOS          712946 non-null  object        \n",
            " 4   FECHA HECHO           781142 non-null  datetime64[ns]\n",
            " 5   GENERO                734420 non-null  object        \n",
            " 6   AGRUPA EDAD PERSONA   724666 non-null  object        \n",
            " 7   CANTIDAD              781157 non-null  float64       \n",
            " 8   DELITO                781216 non-null  object        \n",
            " 9   DESCRIPCION CONDUCTA  92 non-null      object        \n",
            " 10  MES                   781142 non-null  float64       \n",
            " 11  DIA                   781142 non-null  float64       \n",
            "dtypes: datetime64[ns](1), float64(3), object(8)\n",
            "memory usage: 77.5+ MB\n"
          ]
        }
      ]
    },
    {
      "cell_type": "code",
      "metadata": {
        "id": "OS_F44oK-LbI"
      },
      "source": [
        ""
      ],
      "execution_count": null,
      "outputs": []
    },
    {
      "cell_type": "markdown",
      "metadata": {
        "id": "s6n7ivNq-My6"
      },
      "source": [
        "## Automatizacion ACP"
      ]
    },
    {
      "cell_type": "code",
      "metadata": {
        "id": "XNSE3EIX-SXt"
      },
      "source": [
        "class ACP:\n",
        "  def __init__(self,acp,Y, scale= True):\n",
        "    self.acp = acp\n",
        "    self.scale = scale\n",
        "    self.Y = Y\n",
        "    self.eigvecs = None\n",
        "  def inercia(self):\n",
        "    if self.scale == True:\n",
        "      acp_scal = np.zeros(acp.shape)\n",
        "      for i in range(acp_scal.shape[1]):\n",
        "        acp_scal[:,i] = (acp[:,i] - acp[:,i].mean())/acp[:,i].std()\n",
        "        acp_nn,acp_n=self.acp.shape\n",
        "        acp_scal[acp_n]\n",
        "        self.acp = self.acp\n",
        "        cov = self.acp.T.dot(self.acp)/(self.acp.shape[0])\n",
        "        eigvals, self.eigvecs = np.linalg.eig(cov)\n",
        "        var_exp = {i:i/sum(eigvals) for i in eigvals}\n",
        "        m_inercia = pd.DataFrame({'eigvals':eigvals,\n",
        "                               'eigvals_acum': np.cumsum(eigvals),\n",
        "                               'var_exp': var_exp.values(),\n",
        "                               'v_expl_acum': np.cumsum(list(var_exp.values()))})\n",
        "        return m_inercia.T\n",
        "    \n",
        "    else :\n",
        "       self.acp=self.acp\n",
        "       print('error')\n",
        "   \n",
        "  def proyec(self):\n",
        "      acp_scal = np.zeros(acp.shape)\n",
        "      for i in range(acp_scal.shape[1]):\n",
        "        acp_scal[:,i] = (acp[:,i] - acp[:,i].mean())/acp[:,i].std()\n",
        "        acp_nn,acp_n = self.acp.shape\n",
        "        acp_scal[acp_n]\n",
        "        self.acp = self.acp\n",
        "        cov = self.acp.T.dot(self.acp)/(self.acp.shape[0])\n",
        "        eigvals, eigvecs = np.linalg.eig(cov)\n",
        "        var_exp = {i:i/sum(eigvals) for i in eigvals}\n",
        "        m_inercia = pd.DataFrame({'eigvals':eigvals,\n",
        "                               'eigvals_acum': np.cumsum(eigvals),\n",
        "                               'var_exp': var_exp.values(),\n",
        "                               'v_expl_acum': np.cumsum(list(var_exp.values()))})\n",
        "        proyec= X_scal.dot(eigvecs[:,:acp_n])\n",
        "    \n",
        "        lista_vacia = []\n",
        "\n",
        "        for i in range(3):\n",
        "            lista_vacia.append(f'PC{i}')\n",
        "        lista_vacia.remove('PC0') \n",
        "        a,b=lista_vacia\n",
        "      \n",
        "        proyec= pd.DataFrame(proyect,columns = lista_vacia )\n",
        "      \n",
        "        plt.scatter(proyec[a],proyect[b])\n",
        "        print(proyec)"
      ],
      "execution_count": 381,
      "outputs": []
    },
    {
      "cell_type": "markdown",
      "metadata": {
        "id": "Oc_bakDovJBm"
      },
      "source": [
        "##  Ensayo Colombia"
      ]
    },
    {
      "cell_type": "code",
      "metadata": {
        "id": "q0yZ9O-UIU8M"
      },
      "source": [
        "df=crimenes_2019\n",
        "numeric_data = df.select_dtypes(include=[np.number])\n",
        "categorical_data = df.select_dtypes(exclude=[np.number])\n",
        "numeric=numeric_data.dropna()\n",
        "X=np.array(numeric_data.drop(columns='CANTIDAD'))\n",
        "Y=np.array(numeric_data['CANTIDAD'])"
      ],
      "execution_count": 296,
      "outputs": []
    },
    {
      "cell_type": "code",
      "metadata": {
        "id": "Rtify-VosTKo"
      },
      "source": [
        "Colombia=ACP(X,Y)"
      ],
      "execution_count": 378,
      "outputs": []
    },
    {
      "cell_type": "code",
      "metadata": {
        "colab": {
          "base_uri": "https://localhost:8080/",
          "height": 437
        },
        "id": "V1lRnSn5s7Ou",
        "outputId": "325da28f-1bc0-495b-a8d4-9b042d090167"
      },
      "source": [
        "Colombia.proyec()"
      ],
      "execution_count": 379,
      "outputs": [
        {
          "output_type": "stream",
          "name": "stderr",
          "text": [
            "IOPub data rate exceeded.\n",
            "The notebook server will temporarily stop sending output\n",
            "to the client in order to avoid crashing it.\n",
            "To change this limit, set the config variable\n",
            "`--NotebookApp.iopub_data_rate_limit`.\n",
            "\n",
            "Current values:\n",
            "NotebookApp.iopub_data_rate_limit=1000000.0 (bytes/sec)\n",
            "NotebookApp.rate_limit_window=3.0 (secs)\n",
            "\n"
          ]
        },
        {
          "output_type": "display_data",
          "data": {
            "image/png": "[encoded data removed]",
            "text/plain": [
              "<Figure size 432x288 with 1 Axes>"
            ]
          },
          "metadata": {
            "needs_background": "light"
          }
        }
      ]
    },
    {
      "cell_type": "code",
      "metadata": {
        "colab": {
          "base_uri": "https://localhost:8080/",
          "height": 174
        },
        "id": "LfwFr3LBsTUg",
        "outputId": "a9e46311-5f07-4d24-f528-c0dcedc4b405"
      },
      "source": [
        "Colombia.inercia()"
      ],
      "execution_count": 380,
      "outputs": [
        {
          "output_type": "execute_result",
          "data": {
            "text/html": [
              "<div>\n",
              "<style scoped>\n",
              "    .dataframe tbody tr th:only-of-type {\n",
              "        vertical-align: middle;\n",
              "    }\n",
              "\n",
              "    .dataframe tbody tr th {\n",
              "        vertical-align: top;\n",
              "    }\n",
              "\n",
              "    .dataframe thead th {\n",
              "        text-align: right;\n",
              "    }\n",
              "</style>\n",
              "<table border=\"1\" class=\"dataframe\">\n",
              "  <thead>\n",
              "    <tr style=\"text-align: right;\">\n",
              "      <th></th>\n",
              "      <th>0</th>\n",
              "      <th>1</th>\n",
              "    </tr>\n",
              "  </thead>\n",
              "  <tbody>\n",
              "    <tr>\n",
              "      <th>eigvals</th>\n",
              "      <td>20.057874</td>\n",
              "      <td>357.838495</td>\n",
              "    </tr>\n",
              "    <tr>\n",
              "      <th>eigvals_acum</th>\n",
              "      <td>20.057874</td>\n",
              "      <td>377.896368</td>\n",
              "    </tr>\n",
              "    <tr>\n",
              "      <th>var_exp</th>\n",
              "      <td>0.053078</td>\n",
              "      <td>0.946922</td>\n",
              "    </tr>\n",
              "    <tr>\n",
              "      <th>v_expl_acum</th>\n",
              "      <td>0.053078</td>\n",
              "      <td>1.000000</td>\n",
              "    </tr>\n",
              "  </tbody>\n",
              "</table>\n",
              "</div>"
            ],
            "text/plain": [
              "                      0           1\n",
              "eigvals       20.057874  357.838495\n",
              "eigvals_acum  20.057874  377.896368\n",
              "var_exp        0.053078    0.946922\n",
              "v_expl_acum    0.053078    1.000000"
            ]
          },
          "metadata": {},
          "execution_count": 380
        }
      ]
    },
    {
      "cell_type": "markdown",
      "metadata": {
        "id": "_dfQb7hW-Cz_"
      },
      "source": [
        "## Departamentos\n"
      ]
    },
    {
      "cell_type": "code",
      "metadata": {
        "colab": {
          "base_uri": "https://localhost:8080/"
        },
        "id": "8fzNdIvC-u52",
        "outputId": "32c668ab-ef38-4669-ab63-11f030ed52eb"
      },
      "source": [
        "crimenes_2019['DEPARTAMENTO'].value_counts()"
      ],
      "execution_count": 395,
      "outputs": [
        {
          "output_type": "execute_result",
          "data": {
            "text/plain": [
              "CUNDINAMARCA                                                                                                                                                                                                                                                                      263148\n",
              "ANTIOQUIA                                                                                                                                                                                                                                                                          99688\n",
              "VALLE                                                                                                                                                                                                                                                                              80707\n",
              "SANTANDER                                                                                                                                                                                                                                                                          34619\n",
              "ATLÁNTICO                                                                                                                                                                                                                                                                          32520\n",
              "TOLIMA                                                                                                                                                                                                                                                                             23399\n",
              "BOLÍVAR                                                                                                                                                                                                                                                                            22521\n",
              "CAUCA                                                                                                                                                                                                                                                                              21851\n",
              "META                                                                                                                                                                                                                                                                               20374\n",
              "NARIÑO                                                                                                                                                                                                                                                                             20045\n",
              "HUILA                                                                                                                                                                                                                                                                              17312\n",
              "NORTE DE SANTANDER                                                                                                                                                                                                                                                                 17016\n",
              "BOYACÁ                                                                                                                                                                                                                                                                             16731\n",
              "RISARALDA                                                                                                                                                                                                                                                                          13514\n",
              "MAGDALENA                                                                                                                                                                                                                                                                          13380\n",
              "CÓRDOBA                                                                                                                                                                                                                                                                            13207\n",
              "CESAR                                                                                                                                                                                                                                                                              12552\n",
              "CALDAS                                                                                                                                                                                                                                                                              9901\n",
              "SUCRE                                                                                                                                                                                                                                                                               8492\n",
              "QUINDÍO                                                                                                                                                                                                                                                                             7718\n",
              "GUAJIRA                                                                                                                                                                                                                                                                             6860\n",
              "CASANARE                                                                                                                                                                                                                                                                            6019\n",
              "CAQUETÁ                                                                                                                                                                                                                                                                             4980\n",
              "CHOCÓ                                                                                                                                                                                                                                                                               3791\n",
              "ARAUCA                                                                                                                                                                                                                                                                              3121\n",
              "PUTUMAYO                                                                                                                                                                                                                                                                            3002\n",
              "SAN ANDRÉS                                                                                                                                                                                                                                                                          1419\n",
              "GUAVIARE                                                                                                                                                                                                                                                                            1036\n",
              "AMAZONAS                                                                                                                                                                                                                                                                             949\n",
              "GUAINÍA                                                                                                                                                                                                                                                                              492\n",
              "VICHADA                                                                                                                                                                                                                                                                              460\n",
              "VAUPÉS                                                                                                                                                                                                                                                                               315\n",
              "Revisado: ST Jhon Albarracin                                                                                                                                                                                                                                                          15\n",
              "TOTAL                                                                                                                                                                                                                                                                                 15\n",
              "Elaborado: Patrullero Javier Andrés Lozano Rodríguez                                                                                                                                                                                                                                  14\n",
              "FUENTE:                            DIJIN-POLICÍA NACIONAL. DATOS EXTRAIDOS EL DIA 08 DE SEPTIEMBRE DEL AÑO 2020. CIFRAS  SUJETAS A VARIACIÓN, EN PROCESO DE INTEGRACIÓN Y CONSOLIDACIÓN CON INFORMACIÓN DE FISCALÍA GENERAL DE LA NACIÓN.                                             13\n",
              "*Agrupación referente a la clasificación del código de infancia y adolescencia ley 1098 de del 8 de noviembre de 2006, en su artículo 3 donde se establecen los menores entre los 0 y los 12 años, adolescentes entre los 13 y los 17 años y adultos de 18 en adelante.               12\n",
              "NO REGISTRA                                                                                                                                                                                                                                                                            3\n",
              "El contador para este indicador hace referencia a la cantidad de bienes hurtados, incautados o recuperados según sea el caso                                                                                                                                                           2\n",
              "FUENTE:                            DIJIN-POLICÍA NACIONAL. DATOS EXTRAIDOS EL DIA 15 DE JULIO DEL AÑO 2020. CIFRAS  SUJETAS A VARIACIÓN, EN PROCESO DE INTEGRACIÓN Y CONSOLIDACIÓN CON INFORMACIÓN DE FISCALÍA GENERAL DE LA NACIÓN.                                                   2\n",
              "Elaborado: PT Javier Andres Lozano Rodríguez                                                                                                                                                                                                                                           1\n",
              "Name: DEPARTAMENTO, dtype: int64"
            ]
          },
          "metadata": {},
          "execution_count": 395
        }
      ]
    },
    {
      "cell_type": "markdown",
      "metadata": {
        "id": "KYViLse3-uKQ"
      },
      "source": [
        "CUNDINAMARCA"
      ]
    },
    {
      "cell_type": "code",
      "metadata": {
        "id": "JAVib8Ef-r5G"
      },
      "source": [
        "df=crimenes_2019[crimenes_2019['DEPARTAMENTO']=='CUNDINAMARCA']\n",
        "numeric_data = df.select_dtypes(include=[np.number])\n",
        "categorical_data = df.select_dtypes(exclude=[np.number])\n",
        "numeric=numeric_data.dropna()\n",
        "X=np.array(numeric_data.drop(columns='CANTIDAD'))\n",
        "Y=np.array(numeric_data['CANTIDAD'])\n",
        "CUNDINAMARCA=ACP(X,Y)"
      ],
      "execution_count": 389,
      "outputs": []
    },
    {
      "cell_type": "code",
      "metadata": {
        "colab": {
          "base_uri": "https://localhost:8080/",
          "height": 437
        },
        "id": "Vfs-93Y0-r5P",
        "outputId": "7edb25d8-5d8d-4076-d23f-c23350d161c9"
      },
      "source": [
        "CUNDINAMARCA.proyec()"
      ],
      "execution_count": 392,
      "outputs": [
        {
          "output_type": "stream",
          "name": "stderr",
          "text": [
            "IOPub data rate exceeded.\n",
            "The notebook server will temporarily stop sending output\n",
            "to the client in order to avoid crashing it.\n",
            "To change this limit, set the config variable\n",
            "`--NotebookApp.iopub_data_rate_limit`.\n",
            "\n",
            "Current values:\n",
            "NotebookApp.iopub_data_rate_limit=1000000.0 (bytes/sec)\n",
            "NotebookApp.rate_limit_window=3.0 (secs)\n",
            "\n"
          ]
        },
        {
          "output_type": "display_data",
          "data": {
            "image/png": "[encoded data removed]",
            "text/plain": [
              "<Figure size 432x288 with 1 Axes>"
            ]
          },
          "metadata": {
            "needs_background": "light"
          }
        }
      ]
    },
    {
      "cell_type": "code",
      "metadata": {
        "colab": {
          "base_uri": "https://localhost:8080/",
          "height": 174
        },
        "id": "h0BYhBhi-r5Q",
        "outputId": "0541f498-5a83-4533-b5d4-7c4892c50444"
      },
      "source": [
        "CUNDINAMARCA.inercia()"
      ],
      "execution_count": 396,
      "outputs": [
        {
          "output_type": "execute_result",
          "data": {
            "text/html": [
              "<div>\n",
              "<style scoped>\n",
              "    .dataframe tbody tr th:only-of-type {\n",
              "        vertical-align: middle;\n",
              "    }\n",
              "\n",
              "    .dataframe tbody tr th {\n",
              "        vertical-align: top;\n",
              "    }\n",
              "\n",
              "    .dataframe thead th {\n",
              "        text-align: right;\n",
              "    }\n",
              "</style>\n",
              "<table border=\"1\" class=\"dataframe\">\n",
              "  <thead>\n",
              "    <tr style=\"text-align: right;\">\n",
              "      <th></th>\n",
              "      <th>0</th>\n",
              "      <th>1</th>\n",
              "    </tr>\n",
              "  </thead>\n",
              "  <tbody>\n",
              "    <tr>\n",
              "      <th>eigvals</th>\n",
              "      <td>20.299155</td>\n",
              "      <td>360.366942</td>\n",
              "    </tr>\n",
              "    <tr>\n",
              "      <th>eigvals_acum</th>\n",
              "      <td>20.299155</td>\n",
              "      <td>380.666097</td>\n",
              "    </tr>\n",
              "    <tr>\n",
              "      <th>var_exp</th>\n",
              "      <td>0.053325</td>\n",
              "      <td>0.946675</td>\n",
              "    </tr>\n",
              "    <tr>\n",
              "      <th>v_expl_acum</th>\n",
              "      <td>0.053325</td>\n",
              "      <td>1.000000</td>\n",
              "    </tr>\n",
              "  </tbody>\n",
              "</table>\n",
              "</div>"
            ],
            "text/plain": [
              "                      0           1\n",
              "eigvals       20.299155  360.366942\n",
              "eigvals_acum  20.299155  380.666097\n",
              "var_exp        0.053325    0.946675\n",
              "v_expl_acum    0.053325    1.000000"
            ]
          },
          "metadata": {},
          "execution_count": 396
        }
      ]
    },
    {
      "cell_type": "markdown",
      "metadata": {
        "id": "laA6kuISAVv5"
      },
      "source": [
        "ANTIOQUIA "
      ]
    },
    {
      "cell_type": "code",
      "metadata": {
        "id": "Hgj7ViPQCUd3"
      },
      "source": [
        ""
      ],
      "execution_count": null,
      "outputs": []
    },
    {
      "cell_type": "code",
      "metadata": {
        "id": "Kg1799HFCcbT"
      },
      "source": [
        "df=crimenes_2019[crimenes_2019['DEPARTAMENTO']=='ANTIOQUIA']\n",
        "numeric_data = df.select_dtypes(include=[np.number])\n",
        "categorical_data = df.select_dtypes(exclude=[np.number])\n",
        "numeric=numeric_data.dropna()\n",
        "X=np.array(numeric_data.drop(columns='CANTIDAD'))\n",
        "Y=np.array(numeric_data['CANTIDAD'])\n",
        "ANTIOQUIA =ACP(X,Y)"
      ],
      "execution_count": 400,
      "outputs": []
    },
    {
      "cell_type": "code",
      "metadata": {
        "colab": {
          "base_uri": "https://localhost:8080/",
          "height": 437
        },
        "id": "F-7Ak3BICcbU",
        "outputId": "0b5557d3-939a-40d8-b374-fea10ed5a529"
      },
      "source": [
        "ANTIOQUIA .proyec()"
      ],
      "execution_count": 401,
      "outputs": [
        {
          "output_type": "stream",
          "name": "stderr",
          "text": [
            "IOPub data rate exceeded.\n",
            "The notebook server will temporarily stop sending output\n",
            "to the client in order to avoid crashing it.\n",
            "To change this limit, set the config variable\n",
            "`--NotebookApp.iopub_data_rate_limit`.\n",
            "\n",
            "Current values:\n",
            "NotebookApp.iopub_data_rate_limit=1000000.0 (bytes/sec)\n",
            "NotebookApp.rate_limit_window=3.0 (secs)\n",
            "\n"
          ]
        },
        {
          "output_type": "display_data",
          "data": {
            "image/png": "[encoded data removed]",
            "text/plain": [
              "<Figure size 432x288 with 1 Axes>"
            ]
          },
          "metadata": {
            "needs_background": "light"
          }
        }
      ]
    },
    {
      "cell_type": "code",
      "metadata": {
        "colab": {
          "base_uri": "https://localhost:8080/",
          "height": 174
        },
        "id": "piMdLDc1CcbU",
        "outputId": "d45ee915-bb11-47df-a686-6a8dd83b1a62"
      },
      "source": [
        "ANTIOQUIA .inercia()"
      ],
      "execution_count": 402,
      "outputs": [
        {
          "output_type": "execute_result",
          "data": {
            "text/html": [
              "<div>\n",
              "<style scoped>\n",
              "    .dataframe tbody tr th:only-of-type {\n",
              "        vertical-align: middle;\n",
              "    }\n",
              "\n",
              "    .dataframe tbody tr th {\n",
              "        vertical-align: top;\n",
              "    }\n",
              "\n",
              "    .dataframe thead th {\n",
              "        text-align: right;\n",
              "    }\n",
              "</style>\n",
              "<table border=\"1\" class=\"dataframe\">\n",
              "  <thead>\n",
              "    <tr style=\"text-align: right;\">\n",
              "      <th></th>\n",
              "      <th>0</th>\n",
              "      <th>1</th>\n",
              "    </tr>\n",
              "  </thead>\n",
              "  <tbody>\n",
              "    <tr>\n",
              "      <th>eigvals</th>\n",
              "      <td>20.016877</td>\n",
              "      <td>357.346768</td>\n",
              "    </tr>\n",
              "    <tr>\n",
              "      <th>eigvals_acum</th>\n",
              "      <td>20.016877</td>\n",
              "      <td>377.363645</td>\n",
              "    </tr>\n",
              "    <tr>\n",
              "      <th>var_exp</th>\n",
              "      <td>0.053044</td>\n",
              "      <td>0.946956</td>\n",
              "    </tr>\n",
              "    <tr>\n",
              "      <th>v_expl_acum</th>\n",
              "      <td>0.053044</td>\n",
              "      <td>1.000000</td>\n",
              "    </tr>\n",
              "  </tbody>\n",
              "</table>\n",
              "</div>"
            ],
            "text/plain": [
              "                      0           1\n",
              "eigvals       20.016877  357.346768\n",
              "eigvals_acum  20.016877  377.363645\n",
              "var_exp        0.053044    0.946956\n",
              "v_expl_acum    0.053044    1.000000"
            ]
          },
          "metadata": {},
          "execution_count": 402
        }
      ]
    },
    {
      "cell_type": "markdown",
      "metadata": {
        "id": "W_H7jPQ0AV6q"
      },
      "source": [
        "VALLE "
      ]
    },
    {
      "cell_type": "code",
      "metadata": {
        "id": "GYp7DJHsCeu4"
      },
      "source": [
        ""
      ],
      "execution_count": null,
      "outputs": []
    },
    {
      "cell_type": "code",
      "metadata": {
        "id": "drORyOnLCfEB"
      },
      "source": [
        "df=crimenes_2019[crimenes_2019['DEPARTAMENTO']=='VALLE']\n",
        "numeric_data = df.select_dtypes(include=[np.number])\n",
        "categorical_data = df.select_dtypes(exclude=[np.number])\n",
        "numeric=numeric_data.dropna()\n",
        "X=np.array(numeric_data.drop(columns='CANTIDAD'))\n",
        "Y=np.array(numeric_data['CANTIDAD'])\n",
        "VALLE=ACP(X,Y)"
      ],
      "execution_count": 403,
      "outputs": []
    },
    {
      "cell_type": "code",
      "metadata": {
        "colab": {
          "base_uri": "https://localhost:8080/",
          "height": 437
        },
        "id": "KEbIvXGXCfEC",
        "outputId": "018587a9-7005-4b2f-9055-8d152199daf4"
      },
      "source": [
        "VALLE.proyec()"
      ],
      "execution_count": 404,
      "outputs": [
        {
          "output_type": "stream",
          "name": "stderr",
          "text": [
            "IOPub data rate exceeded.\n",
            "The notebook server will temporarily stop sending output\n",
            "to the client in order to avoid crashing it.\n",
            "To change this limit, set the config variable\n",
            "`--NotebookApp.iopub_data_rate_limit`.\n",
            "\n",
            "Current values:\n",
            "NotebookApp.iopub_data_rate_limit=1000000.0 (bytes/sec)\n",
            "NotebookApp.rate_limit_window=3.0 (secs)\n",
            "\n"
          ]
        },
        {
          "output_type": "display_data",
          "data": {
            "image/png": "[encoded data removed]",
            "text/plain": [
              "<Figure size 432x288 with 1 Axes>"
            ]
          },
          "metadata": {
            "needs_background": "light"
          }
        }
      ]
    },
    {
      "cell_type": "code",
      "metadata": {
        "colab": {
          "base_uri": "https://localhost:8080/",
          "height": 174
        },
        "id": "cBvtXDxcCfEC",
        "outputId": "203fd8a5-222d-4283-b006-20988c98b198"
      },
      "source": [
        "VALLE.inercia()"
      ],
      "execution_count": 405,
      "outputs": [
        {
          "output_type": "execute_result",
          "data": {
            "text/html": [
              "<div>\n",
              "<style scoped>\n",
              "    .dataframe tbody tr th:only-of-type {\n",
              "        vertical-align: middle;\n",
              "    }\n",
              "\n",
              "    .dataframe tbody tr th {\n",
              "        vertical-align: top;\n",
              "    }\n",
              "\n",
              "    .dataframe thead th {\n",
              "        text-align: right;\n",
              "    }\n",
              "</style>\n",
              "<table border=\"1\" class=\"dataframe\">\n",
              "  <thead>\n",
              "    <tr style=\"text-align: right;\">\n",
              "      <th></th>\n",
              "      <th>0</th>\n",
              "      <th>1</th>\n",
              "    </tr>\n",
              "  </thead>\n",
              "  <tbody>\n",
              "    <tr>\n",
              "      <th>eigvals</th>\n",
              "      <td>20.125617</td>\n",
              "      <td>356.294880</td>\n",
              "    </tr>\n",
              "    <tr>\n",
              "      <th>eigvals_acum</th>\n",
              "      <td>20.125617</td>\n",
              "      <td>376.420496</td>\n",
              "    </tr>\n",
              "    <tr>\n",
              "      <th>var_exp</th>\n",
              "      <td>0.053466</td>\n",
              "      <td>0.946534</td>\n",
              "    </tr>\n",
              "    <tr>\n",
              "      <th>v_expl_acum</th>\n",
              "      <td>0.053466</td>\n",
              "      <td>1.000000</td>\n",
              "    </tr>\n",
              "  </tbody>\n",
              "</table>\n",
              "</div>"
            ],
            "text/plain": [
              "                      0           1\n",
              "eigvals       20.125617  356.294880\n",
              "eigvals_acum  20.125617  376.420496\n",
              "var_exp        0.053466    0.946534\n",
              "v_expl_acum    0.053466    1.000000"
            ]
          },
          "metadata": {},
          "execution_count": 405
        }
      ]
    },
    {
      "cell_type": "markdown",
      "metadata": {
        "id": "hqRAr-t3Aqmp"
      },
      "source": [
        "SANTANDER  "
      ]
    },
    {
      "cell_type": "code",
      "metadata": {
        "id": "FXedQphBCgmB"
      },
      "source": [
        "df=crimenes_2019[crimenes_2019['DEPARTAMENTO']=='SANTANDER']\n",
        "numeric_data = df.select_dtypes(include=[np.number])\n",
        "categorical_data = df.select_dtypes(exclude=[np.number])\n",
        "numeric=numeric_data.dropna()\n",
        "X=np.array(numeric_data.drop(columns='CANTIDAD'))\n",
        "Y=np.array(numeric_data['CANTIDAD'])\n",
        "SANTANDER=ACP(X,Y)"
      ],
      "execution_count": 410,
      "outputs": []
    },
    {
      "cell_type": "code",
      "metadata": {
        "colab": {
          "base_uri": "https://localhost:8080/",
          "height": 437
        },
        "id": "Oa7LeQd5CgmC",
        "outputId": "1eee7ed9-cdc5-4564-8c5c-4f835cd0e230"
      },
      "source": [
        "SANTANDER.proyec()"
      ],
      "execution_count": 411,
      "outputs": [
        {
          "output_type": "stream",
          "name": "stderr",
          "text": [
            "IOPub data rate exceeded.\n",
            "The notebook server will temporarily stop sending output\n",
            "to the client in order to avoid crashing it.\n",
            "To change this limit, set the config variable\n",
            "`--NotebookApp.iopub_data_rate_limit`.\n",
            "\n",
            "Current values:\n",
            "NotebookApp.iopub_data_rate_limit=1000000.0 (bytes/sec)\n",
            "NotebookApp.rate_limit_window=3.0 (secs)\n",
            "\n"
          ]
        },
        {
          "output_type": "display_data",
          "data": {
            "image/png": "[encoded data removed]",
            "text/plain": [
              "<Figure size 432x288 with 1 Axes>"
            ]
          },
          "metadata": {
            "needs_background": "light"
          }
        }
      ]
    },
    {
      "cell_type": "code",
      "metadata": {
        "colab": {
          "base_uri": "https://localhost:8080/",
          "height": 174
        },
        "id": "Xr2YIrYdCgmC",
        "outputId": "6d3efaa6-752a-49ff-bfd0-55022325da7f"
      },
      "source": [
        "SANTANDER.inercia()"
      ],
      "execution_count": 412,
      "outputs": [
        {
          "output_type": "execute_result",
          "data": {
            "text/html": [
              "<div>\n",
              "<style scoped>\n",
              "    .dataframe tbody tr th:only-of-type {\n",
              "        vertical-align: middle;\n",
              "    }\n",
              "\n",
              "    .dataframe tbody tr th {\n",
              "        vertical-align: top;\n",
              "    }\n",
              "\n",
              "    .dataframe thead th {\n",
              "        text-align: right;\n",
              "    }\n",
              "</style>\n",
              "<table border=\"1\" class=\"dataframe\">\n",
              "  <thead>\n",
              "    <tr style=\"text-align: right;\">\n",
              "      <th></th>\n",
              "      <th>0</th>\n",
              "      <th>1</th>\n",
              "    </tr>\n",
              "  </thead>\n",
              "  <tbody>\n",
              "    <tr>\n",
              "      <th>eigvals</th>\n",
              "      <td>20.241911</td>\n",
              "      <td>358.784404</td>\n",
              "    </tr>\n",
              "    <tr>\n",
              "      <th>eigvals_acum</th>\n",
              "      <td>20.241911</td>\n",
              "      <td>379.026315</td>\n",
              "    </tr>\n",
              "    <tr>\n",
              "      <th>var_exp</th>\n",
              "      <td>0.053405</td>\n",
              "      <td>0.946595</td>\n",
              "    </tr>\n",
              "    <tr>\n",
              "      <th>v_expl_acum</th>\n",
              "      <td>0.053405</td>\n",
              "      <td>1.000000</td>\n",
              "    </tr>\n",
              "  </tbody>\n",
              "</table>\n",
              "</div>"
            ],
            "text/plain": [
              "                      0           1\n",
              "eigvals       20.241911  358.784404\n",
              "eigvals_acum  20.241911  379.026315\n",
              "var_exp        0.053405    0.946595\n",
              "v_expl_acum    0.053405    1.000000"
            ]
          },
          "metadata": {},
          "execution_count": 412
        }
      ]
    },
    {
      "cell_type": "code",
      "metadata": {
        "id": "9xg9cZqYBar7"
      },
      "source": [
        "ATLÁNTICO"
      ],
      "execution_count": null,
      "outputs": []
    },
    {
      "cell_type": "code",
      "metadata": {
        "id": "NthqWv-DCjuz"
      },
      "source": [
        ""
      ],
      "execution_count": null,
      "outputs": []
    },
    {
      "cell_type": "code",
      "metadata": {
        "id": "2FUOhAkxCj_7"
      },
      "source": [
        "df=crimenes_2019[crimenes_2019['DEPARTAMENTO']=='ATLÁNTICO']\n",
        "numeric_data = df.select_dtypes(include=[np.number])\n",
        "categorical_data = df.select_dtypes(exclude=[np.number])\n",
        "numeric=numeric_data.dropna()\n",
        "X=np.array(numeric_data.drop(columns='CANTIDAD'))\n",
        "Y=np.array(numeric_data['CANTIDAD'])\n",
        "ATLÁNTICO=ACP(X,Y)"
      ],
      "execution_count": 413,
      "outputs": []
    },
    {
      "cell_type": "code",
      "metadata": {
        "colab": {
          "base_uri": "https://localhost:8080/",
          "height": 437
        },
        "id": "kwCFkuFhCj_8",
        "outputId": "b89c1e25-0e84-403a-f993-78912b8bea1a"
      },
      "source": [
        "ATLÁNTICO.proyec()"
      ],
      "execution_count": 414,
      "outputs": [
        {
          "output_type": "stream",
          "name": "stderr",
          "text": [
            "IOPub data rate exceeded.\n",
            "The notebook server will temporarily stop sending output\n",
            "to the client in order to avoid crashing it.\n",
            "To change this limit, set the config variable\n",
            "`--NotebookApp.iopub_data_rate_limit`.\n",
            "\n",
            "Current values:\n",
            "NotebookApp.iopub_data_rate_limit=1000000.0 (bytes/sec)\n",
            "NotebookApp.rate_limit_window=3.0 (secs)\n",
            "\n"
          ]
        },
        {
          "output_type": "display_data",
          "data": {
            "image/png": "[encoded data removed]",
            "text/plain": [
              "<Figure size 432x288 with 1 Axes>"
            ]
          },
          "metadata": {
            "needs_background": "light"
          }
        }
      ]
    },
    {
      "cell_type": "code",
      "metadata": {
        "colab": {
          "base_uri": "https://localhost:8080/",
          "height": 174
        },
        "id": "N-jqP1URCj_9",
        "outputId": "6bc9784a-d31a-4b7f-9583-61d2ec215709"
      },
      "source": [
        "ATLÁNTICO.inercia()"
      ],
      "execution_count": 415,
      "outputs": [
        {
          "output_type": "execute_result",
          "data": {
            "text/html": [
              "<div>\n",
              "<style scoped>\n",
              "    .dataframe tbody tr th:only-of-type {\n",
              "        vertical-align: middle;\n",
              "    }\n",
              "\n",
              "    .dataframe tbody tr th {\n",
              "        vertical-align: top;\n",
              "    }\n",
              "\n",
              "    .dataframe thead th {\n",
              "        text-align: right;\n",
              "    }\n",
              "</style>\n",
              "<table border=\"1\" class=\"dataframe\">\n",
              "  <thead>\n",
              "    <tr style=\"text-align: right;\">\n",
              "      <th></th>\n",
              "      <th>0</th>\n",
              "      <th>1</th>\n",
              "    </tr>\n",
              "  </thead>\n",
              "  <tbody>\n",
              "    <tr>\n",
              "      <th>eigvals</th>\n",
              "      <td>19.994862</td>\n",
              "      <td>352.699542</td>\n",
              "    </tr>\n",
              "    <tr>\n",
              "      <th>eigvals_acum</th>\n",
              "      <td>19.994862</td>\n",
              "      <td>372.694403</td>\n",
              "    </tr>\n",
              "    <tr>\n",
              "      <th>var_exp</th>\n",
              "      <td>0.053649</td>\n",
              "      <td>0.946351</td>\n",
              "    </tr>\n",
              "    <tr>\n",
              "      <th>v_expl_acum</th>\n",
              "      <td>0.053649</td>\n",
              "      <td>1.000000</td>\n",
              "    </tr>\n",
              "  </tbody>\n",
              "</table>\n",
              "</div>"
            ],
            "text/plain": [
              "                      0           1\n",
              "eigvals       19.994862  352.699542\n",
              "eigvals_acum  19.994862  372.694403\n",
              "var_exp        0.053649    0.946351\n",
              "v_expl_acum    0.053649    1.000000"
            ]
          },
          "metadata": {},
          "execution_count": 415
        }
      ]
    },
    {
      "cell_type": "markdown",
      "metadata": {
        "id": "MXdLZeW9BdDo"
      },
      "source": [
        "TOLIMA  "
      ]
    },
    {
      "cell_type": "code",
      "metadata": {
        "id": "bIJar_B7CkwC"
      },
      "source": [
        "df=crimenes_2019[crimenes_2019['DEPARTAMENTO']=='TOLIMA']\n",
        "numeric_data = df.select_dtypes(include=[np.number])\n",
        "categorical_data = df.select_dtypes(exclude=[np.number])\n",
        "numeric=numeric_data.dropna()\n",
        "X=np.array(numeric_data.drop(columns='CANTIDAD'))\n",
        "Y=np.array(numeric_data['CANTIDAD'])\n",
        "TOLIMA=ACP(X,Y)"
      ],
      "execution_count": 416,
      "outputs": []
    },
    {
      "cell_type": "code",
      "metadata": {
        "colab": {
          "base_uri": "https://localhost:8080/",
          "height": 437
        },
        "id": "VieJRq84CkwC",
        "outputId": "87c94817-f348-4be3-94ab-c1f2b1decff7"
      },
      "source": [
        "TOLIMA.proyec()"
      ],
      "execution_count": 417,
      "outputs": [
        {
          "output_type": "stream",
          "name": "stderr",
          "text": [
            "IOPub data rate exceeded.\n",
            "The notebook server will temporarily stop sending output\n",
            "to the client in order to avoid crashing it.\n",
            "To change this limit, set the config variable\n",
            "`--NotebookApp.iopub_data_rate_limit`.\n",
            "\n",
            "Current values:\n",
            "NotebookApp.iopub_data_rate_limit=1000000.0 (bytes/sec)\n",
            "NotebookApp.rate_limit_window=3.0 (secs)\n",
            "\n"
          ]
        },
        {
          "output_type": "display_data",
          "data": {
            "image/png": "[encoded data removed]",
            "text/plain": [
              "<Figure size 432x288 with 1 Axes>"
            ]
          },
          "metadata": {
            "needs_background": "light"
          }
        }
      ]
    },
    {
      "cell_type": "code",
      "metadata": {
        "colab": {
          "base_uri": "https://localhost:8080/",
          "height": 174
        },
        "id": "8sr_5A1bCkwC",
        "outputId": "54be6669-34be-4ec6-af85-69f010004c52"
      },
      "source": [
        "TOLIMA.inercia()"
      ],
      "execution_count": 418,
      "outputs": [
        {
          "output_type": "execute_result",
          "data": {
            "text/html": [
              "<div>\n",
              "<style scoped>\n",
              "    .dataframe tbody tr th:only-of-type {\n",
              "        vertical-align: middle;\n",
              "    }\n",
              "\n",
              "    .dataframe tbody tr th {\n",
              "        vertical-align: top;\n",
              "    }\n",
              "\n",
              "    .dataframe thead th {\n",
              "        text-align: right;\n",
              "    }\n",
              "</style>\n",
              "<table border=\"1\" class=\"dataframe\">\n",
              "  <thead>\n",
              "    <tr style=\"text-align: right;\">\n",
              "      <th></th>\n",
              "      <th>0</th>\n",
              "      <th>1</th>\n",
              "    </tr>\n",
              "  </thead>\n",
              "  <tbody>\n",
              "    <tr>\n",
              "      <th>eigvals</th>\n",
              "      <td>19.785950</td>\n",
              "      <td>357.538380</td>\n",
              "    </tr>\n",
              "    <tr>\n",
              "      <th>eigvals_acum</th>\n",
              "      <td>19.785950</td>\n",
              "      <td>377.324330</td>\n",
              "    </tr>\n",
              "    <tr>\n",
              "      <th>var_exp</th>\n",
              "      <td>0.052438</td>\n",
              "      <td>0.947562</td>\n",
              "    </tr>\n",
              "    <tr>\n",
              "      <th>v_expl_acum</th>\n",
              "      <td>0.052438</td>\n",
              "      <td>1.000000</td>\n",
              "    </tr>\n",
              "  </tbody>\n",
              "</table>\n",
              "</div>"
            ],
            "text/plain": [
              "                      0           1\n",
              "eigvals       19.785950  357.538380\n",
              "eigvals_acum  19.785950  377.324330\n",
              "var_exp        0.052438    0.947562\n",
              "v_expl_acum    0.052438    1.000000"
            ]
          },
          "metadata": {},
          "execution_count": 418
        }
      ]
    },
    {
      "cell_type": "markdown",
      "metadata": {
        "id": "v2WtjZY4BfSj"
      },
      "source": [
        "BOLÍVAR  "
      ]
    },
    {
      "cell_type": "code",
      "metadata": {
        "id": "B6LP7-jdClPx"
      },
      "source": [
        "df=crimenes_2019[crimenes_2019['DEPARTAMENTO']=='BOLÍVAR']\n",
        "numeric_data = df.select_dtypes(include=[np.number])\n",
        "categorical_data = df.select_dtypes(exclude=[np.number])\n",
        "numeric=numeric_data.dropna()\n",
        "X=np.array(numeric_data.drop(columns='CANTIDAD'))\n",
        "Y=np.array(numeric_data['CANTIDAD'])\n",
        "BOLÍVAR=ACP(X,Y)"
      ],
      "execution_count": 419,
      "outputs": []
    },
    {
      "cell_type": "code",
      "metadata": {
        "colab": {
          "base_uri": "https://localhost:8080/",
          "height": 437
        },
        "id": "0-TyFETeClPx",
        "outputId": "e549d025-702f-4620-dcfa-c66634b03eec"
      },
      "source": [
        "BOLÍVAR.proyec()"
      ],
      "execution_count": 420,
      "outputs": [
        {
          "output_type": "stream",
          "name": "stderr",
          "text": [
            "IOPub data rate exceeded.\n",
            "The notebook server will temporarily stop sending output\n",
            "to the client in order to avoid crashing it.\n",
            "To change this limit, set the config variable\n",
            "`--NotebookApp.iopub_data_rate_limit`.\n",
            "\n",
            "Current values:\n",
            "NotebookApp.iopub_data_rate_limit=1000000.0 (bytes/sec)\n",
            "NotebookApp.rate_limit_window=3.0 (secs)\n",
            "\n"
          ]
        },
        {
          "output_type": "display_data",
          "data": {
            "image/png": "[encoded data removed]",
            "text/plain": [
              "<Figure size 432x288 with 1 Axes>"
            ]
          },
          "metadata": {
            "needs_background": "light"
          }
        }
      ]
    },
    {
      "cell_type": "code",
      "metadata": {
        "colab": {
          "base_uri": "https://localhost:8080/",
          "height": 174
        },
        "id": "wG9mBfpmClPy",
        "outputId": "0b0d9b76-3ee8-4fdf-8c1e-04f4dfe72a96"
      },
      "source": [
        "BOLÍVAR.inercia()"
      ],
      "execution_count": 421,
      "outputs": [
        {
          "output_type": "execute_result",
          "data": {
            "text/html": [
              "<div>\n",
              "<style scoped>\n",
              "    .dataframe tbody tr th:only-of-type {\n",
              "        vertical-align: middle;\n",
              "    }\n",
              "\n",
              "    .dataframe tbody tr th {\n",
              "        vertical-align: top;\n",
              "    }\n",
              "\n",
              "    .dataframe thead th {\n",
              "        text-align: right;\n",
              "    }\n",
              "</style>\n",
              "<table border=\"1\" class=\"dataframe\">\n",
              "  <thead>\n",
              "    <tr style=\"text-align: right;\">\n",
              "      <th></th>\n",
              "      <th>0</th>\n",
              "      <th>1</th>\n",
              "    </tr>\n",
              "  </thead>\n",
              "  <tbody>\n",
              "    <tr>\n",
              "      <th>eigvals</th>\n",
              "      <td>20.331993</td>\n",
              "      <td>355.811118</td>\n",
              "    </tr>\n",
              "    <tr>\n",
              "      <th>eigvals_acum</th>\n",
              "      <td>20.331993</td>\n",
              "      <td>376.143111</td>\n",
              "    </tr>\n",
              "    <tr>\n",
              "      <th>var_exp</th>\n",
              "      <td>0.054054</td>\n",
              "      <td>0.945946</td>\n",
              "    </tr>\n",
              "    <tr>\n",
              "      <th>v_expl_acum</th>\n",
              "      <td>0.054054</td>\n",
              "      <td>1.000000</td>\n",
              "    </tr>\n",
              "  </tbody>\n",
              "</table>\n",
              "</div>"
            ],
            "text/plain": [
              "                      0           1\n",
              "eigvals       20.331993  355.811118\n",
              "eigvals_acum  20.331993  376.143111\n",
              "var_exp        0.054054    0.945946\n",
              "v_expl_acum    0.054054    1.000000"
            ]
          },
          "metadata": {},
          "execution_count": 421
        }
      ]
    },
    {
      "cell_type": "markdown",
      "metadata": {
        "id": "n6SpdUJUBh4p"
      },
      "source": [
        "CAUCA   "
      ]
    },
    {
      "cell_type": "code",
      "metadata": {
        "id": "IUh4h8CmClwE"
      },
      "source": [
        "df=crimenes_2019[crimenes_2019['DEPARTAMENTO']=='CUNDINAMARCA']\n",
        "numeric_data = df.select_dtypes(include=[np.number])\n",
        "categorical_data = df.select_dtypes(exclude=[np.number])\n",
        "numeric=numeric_data.dropna()\n",
        "X=np.array(numeric_data.drop(columns='CANTIDAD'))\n",
        "Y=np.array(numeric_data['CANTIDAD'])\n",
        "CUNDINAMARCA=ACP(X,Y)"
      ],
      "execution_count": 422,
      "outputs": []
    },
    {
      "cell_type": "code",
      "metadata": {
        "colab": {
          "base_uri": "https://localhost:8080/",
          "height": 437
        },
        "id": "0csmiL4qClwE",
        "outputId": "6dee3c39-7637-49a6-9b41-4ffd340b925f"
      },
      "source": [
        "CUNDINAMARCA.proyec()"
      ],
      "execution_count": 423,
      "outputs": [
        {
          "output_type": "stream",
          "name": "stderr",
          "text": [
            "IOPub data rate exceeded.\n",
            "The notebook server will temporarily stop sending output\n",
            "to the client in order to avoid crashing it.\n",
            "To change this limit, set the config variable\n",
            "`--NotebookApp.iopub_data_rate_limit`.\n",
            "\n",
            "Current values:\n",
            "NotebookApp.iopub_data_rate_limit=1000000.0 (bytes/sec)\n",
            "NotebookApp.rate_limit_window=3.0 (secs)\n",
            "\n"
          ]
        },
        {
          "output_type": "display_data",
          "data": {
            "image/png": "[encoded data removed]",
            "text/plain": [
              "<Figure size 432x288 with 1 Axes>"
            ]
          },
          "metadata": {
            "needs_background": "light"
          }
        }
      ]
    },
    {
      "cell_type": "code",
      "metadata": {
        "colab": {
          "base_uri": "https://localhost:8080/",
          "height": 174
        },
        "id": "GJP37GBrClwF",
        "outputId": "7385d66e-f6f1-4b22-9788-97a61513b725"
      },
      "source": [
        "BOLÍVAR.inercia()"
      ],
      "execution_count": 424,
      "outputs": [
        {
          "output_type": "execute_result",
          "data": {
            "text/html": [
              "<div>\n",
              "<style scoped>\n",
              "    .dataframe tbody tr th:only-of-type {\n",
              "        vertical-align: middle;\n",
              "    }\n",
              "\n",
              "    .dataframe tbody tr th {\n",
              "        vertical-align: top;\n",
              "    }\n",
              "\n",
              "    .dataframe thead th {\n",
              "        text-align: right;\n",
              "    }\n",
              "</style>\n",
              "<table border=\"1\" class=\"dataframe\">\n",
              "  <thead>\n",
              "    <tr style=\"text-align: right;\">\n",
              "      <th></th>\n",
              "      <th>0</th>\n",
              "      <th>1</th>\n",
              "    </tr>\n",
              "  </thead>\n",
              "  <tbody>\n",
              "    <tr>\n",
              "      <th>eigvals</th>\n",
              "      <td>20.331993</td>\n",
              "      <td>355.811118</td>\n",
              "    </tr>\n",
              "    <tr>\n",
              "      <th>eigvals_acum</th>\n",
              "      <td>20.331993</td>\n",
              "      <td>376.143111</td>\n",
              "    </tr>\n",
              "    <tr>\n",
              "      <th>var_exp</th>\n",
              "      <td>0.054054</td>\n",
              "      <td>0.945946</td>\n",
              "    </tr>\n",
              "    <tr>\n",
              "      <th>v_expl_acum</th>\n",
              "      <td>0.054054</td>\n",
              "      <td>1.000000</td>\n",
              "    </tr>\n",
              "  </tbody>\n",
              "</table>\n",
              "</div>"
            ],
            "text/plain": [
              "                      0           1\n",
              "eigvals       20.331993  355.811118\n",
              "eigvals_acum  20.331993  376.143111\n",
              "var_exp        0.054054    0.945946\n",
              "v_expl_acum    0.054054    1.000000"
            ]
          },
          "metadata": {},
          "execution_count": 424
        }
      ]
    },
    {
      "cell_type": "markdown",
      "metadata": {
        "id": "hvq08gxaBjgT"
      },
      "source": [
        "META "
      ]
    },
    {
      "cell_type": "code",
      "metadata": {
        "id": "nvkxWTSKCmZ7"
      },
      "source": [
        "df=crimenes_2019[crimenes_2019['DEPARTAMENTO']=='META']\n",
        "numeric_data = df.select_dtypes(include=[np.number])\n",
        "categorical_data = df.select_dtypes(exclude=[np.number])\n",
        "numeric=numeric_data.dropna()\n",
        "X=np.array(numeric_data.drop(columns='CANTIDAD'))\n",
        "Y=np.array(numeric_data['CANTIDAD'])\n",
        "META=ACP(X,Y)"
      ],
      "execution_count": 425,
      "outputs": []
    },
    {
      "cell_type": "code",
      "metadata": {
        "colab": {
          "base_uri": "https://localhost:8080/",
          "height": 437
        },
        "id": "59XLHAGjCmZ8",
        "outputId": "30e18491-5762-4674-c7c1-e99a41f8f921"
      },
      "source": [
        "META.proyec()"
      ],
      "execution_count": 426,
      "outputs": [
        {
          "output_type": "stream",
          "name": "stderr",
          "text": [
            "IOPub data rate exceeded.\n",
            "The notebook server will temporarily stop sending output\n",
            "to the client in order to avoid crashing it.\n",
            "To change this limit, set the config variable\n",
            "`--NotebookApp.iopub_data_rate_limit`.\n",
            "\n",
            "Current values:\n",
            "NotebookApp.iopub_data_rate_limit=1000000.0 (bytes/sec)\n",
            "NotebookApp.rate_limit_window=3.0 (secs)\n",
            "\n"
          ]
        },
        {
          "output_type": "display_data",
          "data": {
            "image/png": "[encoded data removed]",
            "text/plain": [
              "<Figure size 432x288 with 1 Axes>"
            ]
          },
          "metadata": {
            "needs_background": "light"
          }
        }
      ]
    },
    {
      "cell_type": "code",
      "metadata": {
        "colab": {
          "base_uri": "https://localhost:8080/",
          "height": 174
        },
        "id": "D7UEPypxCmZ8",
        "outputId": "ba1b94ee-cfe6-420c-a332-67822299c3d5"
      },
      "source": [
        "META.inercia()"
      ],
      "execution_count": 427,
      "outputs": [
        {
          "output_type": "execute_result",
          "data": {
            "text/html": [
              "<div>\n",
              "<style scoped>\n",
              "    .dataframe tbody tr th:only-of-type {\n",
              "        vertical-align: middle;\n",
              "    }\n",
              "\n",
              "    .dataframe tbody tr th {\n",
              "        vertical-align: top;\n",
              "    }\n",
              "\n",
              "    .dataframe thead th {\n",
              "        text-align: right;\n",
              "    }\n",
              "</style>\n",
              "<table border=\"1\" class=\"dataframe\">\n",
              "  <thead>\n",
              "    <tr style=\"text-align: right;\">\n",
              "      <th></th>\n",
              "      <th>0</th>\n",
              "      <th>1</th>\n",
              "    </tr>\n",
              "  </thead>\n",
              "  <tbody>\n",
              "    <tr>\n",
              "      <th>eigvals</th>\n",
              "      <td>20.103171</td>\n",
              "      <td>363.045793</td>\n",
              "    </tr>\n",
              "    <tr>\n",
              "      <th>eigvals_acum</th>\n",
              "      <td>20.103171</td>\n",
              "      <td>383.148964</td>\n",
              "    </tr>\n",
              "    <tr>\n",
              "      <th>var_exp</th>\n",
              "      <td>0.052468</td>\n",
              "      <td>0.947532</td>\n",
              "    </tr>\n",
              "    <tr>\n",
              "      <th>v_expl_acum</th>\n",
              "      <td>0.052468</td>\n",
              "      <td>1.000000</td>\n",
              "    </tr>\n",
              "  </tbody>\n",
              "</table>\n",
              "</div>"
            ],
            "text/plain": [
              "                      0           1\n",
              "eigvals       20.103171  363.045793\n",
              "eigvals_acum  20.103171  383.148964\n",
              "var_exp        0.052468    0.947532\n",
              "v_expl_acum    0.052468    1.000000"
            ]
          },
          "metadata": {},
          "execution_count": 427
        }
      ]
    },
    {
      "cell_type": "markdown",
      "metadata": {
        "id": "x4EXV5iEBjsE"
      },
      "source": [
        "NARIÑO "
      ]
    },
    {
      "cell_type": "code",
      "metadata": {
        "id": "BHtEl1_cCm-0"
      },
      "source": [
        "df=crimenes_2019[crimenes_2019['DEPARTAMENTO']=='NARIÑO']\n",
        "numeric_data = df.select_dtypes(include=[np.number])\n",
        "categorical_data = df.select_dtypes(exclude=[np.number])\n",
        "numeric=numeric_data.dropna()\n",
        "X=np.array(numeric_data.drop(columns='CANTIDAD'))\n",
        "Y=np.array(numeric_data['CANTIDAD'])\n",
        "NARIÑO=ACP(X,Y)"
      ],
      "execution_count": 431,
      "outputs": []
    },
    {
      "cell_type": "code",
      "metadata": {
        "colab": {
          "base_uri": "https://localhost:8080/",
          "height": 437
        },
        "id": "8InUY9lnCm-1",
        "outputId": "6e1da884-9fe1-4859-da2a-483d22f960de"
      },
      "source": [
        "NARIÑO.proyec()"
      ],
      "execution_count": 432,
      "outputs": [
        {
          "output_type": "stream",
          "name": "stderr",
          "text": [
            "IOPub data rate exceeded.\n",
            "The notebook server will temporarily stop sending output\n",
            "to the client in order to avoid crashing it.\n",
            "To change this limit, set the config variable\n",
            "`--NotebookApp.iopub_data_rate_limit`.\n",
            "\n",
            "Current values:\n",
            "NotebookApp.iopub_data_rate_limit=1000000.0 (bytes/sec)\n",
            "NotebookApp.rate_limit_window=3.0 (secs)\n",
            "\n"
          ]
        },
        {
          "output_type": "display_data",
          "data": {
            "image/png": "[encoded data removed]",
            "text/plain": [
              "<Figure size 432x288 with 1 Axes>"
            ]
          },
          "metadata": {
            "needs_background": "light"
          }
        }
      ]
    },
    {
      "cell_type": "code",
      "metadata": {
        "colab": {
          "base_uri": "https://localhost:8080/",
          "height": 174
        },
        "id": "Cwc2URWxCm-1",
        "outputId": "2451ad4b-4908-4a6c-fd14-dd83947bc507"
      },
      "source": [
        "NARIÑO.inercia()"
      ],
      "execution_count": 433,
      "outputs": [
        {
          "output_type": "execute_result",
          "data": {
            "text/html": [
              "<div>\n",
              "<style scoped>\n",
              "    .dataframe tbody tr th:only-of-type {\n",
              "        vertical-align: middle;\n",
              "    }\n",
              "\n",
              "    .dataframe tbody tr th {\n",
              "        vertical-align: top;\n",
              "    }\n",
              "\n",
              "    .dataframe thead th {\n",
              "        text-align: right;\n",
              "    }\n",
              "</style>\n",
              "<table border=\"1\" class=\"dataframe\">\n",
              "  <thead>\n",
              "    <tr style=\"text-align: right;\">\n",
              "      <th></th>\n",
              "      <th>0</th>\n",
              "      <th>1</th>\n",
              "    </tr>\n",
              "  </thead>\n",
              "  <tbody>\n",
              "    <tr>\n",
              "      <th>eigvals</th>\n",
              "      <td>19.498370</td>\n",
              "      <td>354.795669</td>\n",
              "    </tr>\n",
              "    <tr>\n",
              "      <th>eigvals_acum</th>\n",
              "      <td>19.498370</td>\n",
              "      <td>374.294038</td>\n",
              "    </tr>\n",
              "    <tr>\n",
              "      <th>var_exp</th>\n",
              "      <td>0.052094</td>\n",
              "      <td>0.947906</td>\n",
              "    </tr>\n",
              "    <tr>\n",
              "      <th>v_expl_acum</th>\n",
              "      <td>0.052094</td>\n",
              "      <td>1.000000</td>\n",
              "    </tr>\n",
              "  </tbody>\n",
              "</table>\n",
              "</div>"
            ],
            "text/plain": [
              "                      0           1\n",
              "eigvals       19.498370  354.795669\n",
              "eigvals_acum  19.498370  374.294038\n",
              "var_exp        0.052094    0.947906\n",
              "v_expl_acum    0.052094    1.000000"
            ]
          },
          "metadata": {},
          "execution_count": 433
        }
      ]
    },
    {
      "cell_type": "markdown",
      "metadata": {
        "id": "3stAPdYCBpEZ"
      },
      "source": [
        "HUILA"
      ]
    },
    {
      "cell_type": "code",
      "metadata": {
        "id": "_xF1JQNBCnmi"
      },
      "source": [
        "df=crimenes_2019[crimenes_2019['DEPARTAMENTO']=='HUILA']\n",
        "numeric_data = df.select_dtypes(include=[np.number])\n",
        "categorical_data = df.select_dtypes(exclude=[np.number])\n",
        "numeric=numeric_data.dropna()\n",
        "X=np.array(numeric_data.drop(columns='CANTIDAD'))\n",
        "Y=np.array(numeric_data['CANTIDAD'])\n",
        "HUILA=ACP(X,Y)"
      ],
      "execution_count": 434,
      "outputs": []
    },
    {
      "cell_type": "code",
      "metadata": {
        "colab": {
          "base_uri": "https://localhost:8080/",
          "height": 437
        },
        "id": "XiZ74xtUCnmi",
        "outputId": "244e15d8-02af-46e6-e1a1-7acf0e72449b"
      },
      "source": [
        "HUILA.proyec()"
      ],
      "execution_count": 435,
      "outputs": [
        {
          "output_type": "stream",
          "name": "stderr",
          "text": [
            "IOPub data rate exceeded.\n",
            "The notebook server will temporarily stop sending output\n",
            "to the client in order to avoid crashing it.\n",
            "To change this limit, set the config variable\n",
            "`--NotebookApp.iopub_data_rate_limit`.\n",
            "\n",
            "Current values:\n",
            "NotebookApp.iopub_data_rate_limit=1000000.0 (bytes/sec)\n",
            "NotebookApp.rate_limit_window=3.0 (secs)\n",
            "\n"
          ]
        },
        {
          "output_type": "display_data",
          "data": {
            "image/png": "[encoded data removed]",
            "text/plain": [
              "<Figure size 432x288 with 1 Axes>"
            ]
          },
          "metadata": {
            "needs_background": "light"
          }
        }
      ]
    },
    {
      "cell_type": "code",
      "metadata": {
        "colab": {
          "base_uri": "https://localhost:8080/",
          "height": 174
        },
        "id": "Q--WIeG6Cnmj",
        "outputId": "dcd79283-b52e-41a6-b9b8-63be814b3830"
      },
      "source": [
        "HUILA.inercia()"
      ],
      "execution_count": 436,
      "outputs": [
        {
          "output_type": "execute_result",
          "data": {
            "text/html": [
              "<div>\n",
              "<style scoped>\n",
              "    .dataframe tbody tr th:only-of-type {\n",
              "        vertical-align: middle;\n",
              "    }\n",
              "\n",
              "    .dataframe tbody tr th {\n",
              "        vertical-align: top;\n",
              "    }\n",
              "\n",
              "    .dataframe thead th {\n",
              "        text-align: right;\n",
              "    }\n",
              "</style>\n",
              "<table border=\"1\" class=\"dataframe\">\n",
              "  <thead>\n",
              "    <tr style=\"text-align: right;\">\n",
              "      <th></th>\n",
              "      <th>0</th>\n",
              "      <th>1</th>\n",
              "    </tr>\n",
              "  </thead>\n",
              "  <tbody>\n",
              "    <tr>\n",
              "      <th>eigvals</th>\n",
              "      <td>19.662737</td>\n",
              "      <td>364.423099</td>\n",
              "    </tr>\n",
              "    <tr>\n",
              "      <th>eigvals_acum</th>\n",
              "      <td>19.662737</td>\n",
              "      <td>384.085836</td>\n",
              "    </tr>\n",
              "    <tr>\n",
              "      <th>var_exp</th>\n",
              "      <td>0.051194</td>\n",
              "      <td>0.948806</td>\n",
              "    </tr>\n",
              "    <tr>\n",
              "      <th>v_expl_acum</th>\n",
              "      <td>0.051194</td>\n",
              "      <td>1.000000</td>\n",
              "    </tr>\n",
              "  </tbody>\n",
              "</table>\n",
              "</div>"
            ],
            "text/plain": [
              "                      0           1\n",
              "eigvals       19.662737  364.423099\n",
              "eigvals_acum  19.662737  384.085836\n",
              "var_exp        0.051194    0.948806\n",
              "v_expl_acum    0.051194    1.000000"
            ]
          },
          "metadata": {},
          "execution_count": 436
        }
      ]
    },
    {
      "cell_type": "markdown",
      "metadata": {
        "id": "VSawZplLBpyz"
      },
      "source": [
        "NORTE DE SANTANDER    "
      ]
    },
    {
      "cell_type": "code",
      "metadata": {
        "id": "rchsLzA2CoFS"
      },
      "source": [
        "df=crimenes_2019[crimenes_2019['DEPARTAMENTO']=='NORTE DE SANTANDER']\n",
        "numeric_data = df.select_dtypes(include=[np.number])\n",
        "categorical_data = df.select_dtypes(exclude=[np.number])\n",
        "numeric=numeric_data.dropna()\n",
        "X=np.array(numeric_data.drop(columns='CANTIDAD'))\n",
        "Y=np.array(numeric_data['CANTIDAD'])\n",
        "NORTE_DE_SANTANDER=ACP(X,Y)"
      ],
      "execution_count": 438,
      "outputs": []
    },
    {
      "cell_type": "code",
      "metadata": {
        "colab": {
          "base_uri": "https://localhost:8080/",
          "height": 437
        },
        "id": "MAaoWuqYCoFT",
        "outputId": "16e760af-00b5-48fb-8fba-549a502ae485"
      },
      "source": [
        "NORTE_DE_SANTANDER.proyec()"
      ],
      "execution_count": 440,
      "outputs": [
        {
          "output_type": "stream",
          "name": "stderr",
          "text": [
            "IOPub data rate exceeded.\n",
            "The notebook server will temporarily stop sending output\n",
            "to the client in order to avoid crashing it.\n",
            "To change this limit, set the config variable\n",
            "`--NotebookApp.iopub_data_rate_limit`.\n",
            "\n",
            "Current values:\n",
            "NotebookApp.iopub_data_rate_limit=1000000.0 (bytes/sec)\n",
            "NotebookApp.rate_limit_window=3.0 (secs)\n",
            "\n"
          ]
        },
        {
          "output_type": "display_data",
          "data": {
            "image/png": "[encoded data removed]",
            "text/plain": [
              "<Figure size 432x288 with 1 Axes>"
            ]
          },
          "metadata": {
            "needs_background": "light"
          }
        }
      ]
    },
    {
      "cell_type": "code",
      "metadata": {
        "colab": {
          "base_uri": "https://localhost:8080/",
          "height": 174
        },
        "id": "Uz-fvM_sCoFT",
        "outputId": "68f178b8-afa8-45f4-e98c-31d8898f3575"
      },
      "source": [
        "NORTE_DE_SANTANDER.inercia()"
      ],
      "execution_count": 439,
      "outputs": [
        {
          "output_type": "execute_result",
          "data": {
            "text/html": [
              "<div>\n",
              "<style scoped>\n",
              "    .dataframe tbody tr th:only-of-type {\n",
              "        vertical-align: middle;\n",
              "    }\n",
              "\n",
              "    .dataframe tbody tr th {\n",
              "        vertical-align: top;\n",
              "    }\n",
              "\n",
              "    .dataframe thead th {\n",
              "        text-align: right;\n",
              "    }\n",
              "</style>\n",
              "<table border=\"1\" class=\"dataframe\">\n",
              "  <thead>\n",
              "    <tr style=\"text-align: right;\">\n",
              "      <th></th>\n",
              "      <th>0</th>\n",
              "      <th>1</th>\n",
              "    </tr>\n",
              "  </thead>\n",
              "  <tbody>\n",
              "    <tr>\n",
              "      <th>eigvals</th>\n",
              "      <td>19.643894</td>\n",
              "      <td>361.909585</td>\n",
              "    </tr>\n",
              "    <tr>\n",
              "      <th>eigvals_acum</th>\n",
              "      <td>19.643894</td>\n",
              "      <td>381.553479</td>\n",
              "    </tr>\n",
              "    <tr>\n",
              "      <th>var_exp</th>\n",
              "      <td>0.051484</td>\n",
              "      <td>0.948516</td>\n",
              "    </tr>\n",
              "    <tr>\n",
              "      <th>v_expl_acum</th>\n",
              "      <td>0.051484</td>\n",
              "      <td>1.000000</td>\n",
              "    </tr>\n",
              "  </tbody>\n",
              "</table>\n",
              "</div>"
            ],
            "text/plain": [
              "                      0           1\n",
              "eigvals       19.643894  361.909585\n",
              "eigvals_acum  19.643894  381.553479\n",
              "var_exp        0.051484    0.948516\n",
              "v_expl_acum    0.051484    1.000000"
            ]
          },
          "metadata": {},
          "execution_count": 439
        }
      ]
    },
    {
      "cell_type": "markdown",
      "metadata": {
        "id": "nZ9z9X4NBrtX"
      },
      "source": [
        "BOYACÁ       "
      ]
    },
    {
      "cell_type": "code",
      "metadata": {
        "id": "BcAV-x2XComC"
      },
      "source": [
        "df=crimenes_2019[crimenes_2019['DEPARTAMENTO']=='BOYACÁ']\n",
        "numeric_data = df.select_dtypes(include=[np.number])\n",
        "categorical_data = df.select_dtypes(exclude=[np.number])\n",
        "numeric=numeric_data.dropna()\n",
        "X=np.array(numeric_data.drop(columns='CANTIDAD'))\n",
        "Y=np.array(numeric_data['CANTIDAD'])\n",
        "BOYACÁ=ACP(X,Y)"
      ],
      "execution_count": 441,
      "outputs": []
    },
    {
      "cell_type": "code",
      "metadata": {
        "colab": {
          "base_uri": "https://localhost:8080/",
          "height": 437
        },
        "id": "vZK6tDn_ComD",
        "outputId": "61511e5c-c20d-4cb0-d598-bb5cb8825586"
      },
      "source": [
        "BOYACÁ.proyec()"
      ],
      "execution_count": 442,
      "outputs": [
        {
          "output_type": "stream",
          "name": "stderr",
          "text": [
            "IOPub data rate exceeded.\n",
            "The notebook server will temporarily stop sending output\n",
            "to the client in order to avoid crashing it.\n",
            "To change this limit, set the config variable\n",
            "`--NotebookApp.iopub_data_rate_limit`.\n",
            "\n",
            "Current values:\n",
            "NotebookApp.iopub_data_rate_limit=1000000.0 (bytes/sec)\n",
            "NotebookApp.rate_limit_window=3.0 (secs)\n",
            "\n"
          ]
        },
        {
          "output_type": "display_data",
          "data": {
            "image/png": "[encoded data removed]",
            "text/plain": [
              "<Figure size 432x288 with 1 Axes>"
            ]
          },
          "metadata": {
            "needs_background": "light"
          }
        }
      ]
    },
    {
      "cell_type": "code",
      "metadata": {
        "colab": {
          "base_uri": "https://localhost:8080/",
          "height": 174
        },
        "id": "435horhcComE",
        "outputId": "b583e20f-ea81-4c85-ddff-ec3016c63007"
      },
      "source": [
        "BOYACÁ.inercia()"
      ],
      "execution_count": 443,
      "outputs": [
        {
          "output_type": "execute_result",
          "data": {
            "text/html": [
              "<div>\n",
              "<style scoped>\n",
              "    .dataframe tbody tr th:only-of-type {\n",
              "        vertical-align: middle;\n",
              "    }\n",
              "\n",
              "    .dataframe tbody tr th {\n",
              "        vertical-align: top;\n",
              "    }\n",
              "\n",
              "    .dataframe thead th {\n",
              "        text-align: right;\n",
              "    }\n",
              "</style>\n",
              "<table border=\"1\" class=\"dataframe\">\n",
              "  <thead>\n",
              "    <tr style=\"text-align: right;\">\n",
              "      <th></th>\n",
              "      <th>0</th>\n",
              "      <th>1</th>\n",
              "    </tr>\n",
              "  </thead>\n",
              "  <tbody>\n",
              "    <tr>\n",
              "      <th>eigvals</th>\n",
              "      <td>20.178718</td>\n",
              "      <td>355.170753</td>\n",
              "    </tr>\n",
              "    <tr>\n",
              "      <th>eigvals_acum</th>\n",
              "      <td>20.178718</td>\n",
              "      <td>375.349471</td>\n",
              "    </tr>\n",
              "    <tr>\n",
              "      <th>var_exp</th>\n",
              "      <td>0.053760</td>\n",
              "      <td>0.946240</td>\n",
              "    </tr>\n",
              "    <tr>\n",
              "      <th>v_expl_acum</th>\n",
              "      <td>0.053760</td>\n",
              "      <td>1.000000</td>\n",
              "    </tr>\n",
              "  </tbody>\n",
              "</table>\n",
              "</div>"
            ],
            "text/plain": [
              "                      0           1\n",
              "eigvals       20.178718  355.170753\n",
              "eigvals_acum  20.178718  375.349471\n",
              "var_exp        0.053760    0.946240\n",
              "v_expl_acum    0.053760    1.000000"
            ]
          },
          "metadata": {},
          "execution_count": 443
        }
      ]
    },
    {
      "cell_type": "markdown",
      "metadata": {
        "id": "wK7ZzGsPBtP2"
      },
      "source": [
        "RISARALDA "
      ]
    },
    {
      "cell_type": "code",
      "metadata": {
        "id": "qABRBQo8CpCb"
      },
      "source": [
        "df=crimenes_2019[crimenes_2019['DEPARTAMENTO']=='RISARALDA']\n",
        "numeric_data = df.select_dtypes(include=[np.number])\n",
        "categorical_data = df.select_dtypes(exclude=[np.number])\n",
        "numeric=numeric_data.dropna()\n",
        "X=np.array(numeric_data.drop(columns='CANTIDAD'))\n",
        "Y=np.array(numeric_data['CANTIDAD'])\n",
        "RISARALDA=ACP(X,Y)"
      ],
      "execution_count": 444,
      "outputs": []
    },
    {
      "cell_type": "code",
      "metadata": {
        "colab": {
          "base_uri": "https://localhost:8080/",
          "height": 437
        },
        "id": "_0xssqTiCpCc",
        "outputId": "d77e5faa-adca-49ef-bc12-59e842c89190"
      },
      "source": [
        "RISARALDA.proyec()"
      ],
      "execution_count": 445,
      "outputs": [
        {
          "output_type": "stream",
          "name": "stderr",
          "text": [
            "IOPub data rate exceeded.\n",
            "The notebook server will temporarily stop sending output\n",
            "to the client in order to avoid crashing it.\n",
            "To change this limit, set the config variable\n",
            "`--NotebookApp.iopub_data_rate_limit`.\n",
            "\n",
            "Current values:\n",
            "NotebookApp.iopub_data_rate_limit=1000000.0 (bytes/sec)\n",
            "NotebookApp.rate_limit_window=3.0 (secs)\n",
            "\n"
          ]
        },
        {
          "output_type": "display_data",
          "data": {
            "image/png": "[encoded data removed]",
            "text/plain": [
              "<Figure size 432x288 with 1 Axes>"
            ]
          },
          "metadata": {
            "needs_background": "light"
          }
        }
      ]
    },
    {
      "cell_type": "code",
      "metadata": {
        "colab": {
          "base_uri": "https://localhost:8080/",
          "height": 174
        },
        "id": "SdDlPFZbCpCc",
        "outputId": "bd81811c-8137-4653-f454-ede2f9d3a6b0"
      },
      "source": [
        "RISARALDA.inercia()"
      ],
      "execution_count": 446,
      "outputs": [
        {
          "output_type": "execute_result",
          "data": {
            "text/html": [
              "<div>\n",
              "<style scoped>\n",
              "    .dataframe tbody tr th:only-of-type {\n",
              "        vertical-align: middle;\n",
              "    }\n",
              "\n",
              "    .dataframe tbody tr th {\n",
              "        vertical-align: top;\n",
              "    }\n",
              "\n",
              "    .dataframe thead th {\n",
              "        text-align: right;\n",
              "    }\n",
              "</style>\n",
              "<table border=\"1\" class=\"dataframe\">\n",
              "  <thead>\n",
              "    <tr style=\"text-align: right;\">\n",
              "      <th></th>\n",
              "      <th>0</th>\n",
              "      <th>1</th>\n",
              "    </tr>\n",
              "  </thead>\n",
              "  <tbody>\n",
              "    <tr>\n",
              "      <th>eigvals</th>\n",
              "      <td>20.464539</td>\n",
              "      <td>356.000312</td>\n",
              "    </tr>\n",
              "    <tr>\n",
              "      <th>eigvals_acum</th>\n",
              "      <td>20.464539</td>\n",
              "      <td>376.464851</td>\n",
              "    </tr>\n",
              "    <tr>\n",
              "      <th>var_exp</th>\n",
              "      <td>0.054360</td>\n",
              "      <td>0.945640</td>\n",
              "    </tr>\n",
              "    <tr>\n",
              "      <th>v_expl_acum</th>\n",
              "      <td>0.054360</td>\n",
              "      <td>1.000000</td>\n",
              "    </tr>\n",
              "  </tbody>\n",
              "</table>\n",
              "</div>"
            ],
            "text/plain": [
              "                      0           1\n",
              "eigvals       20.464539  356.000312\n",
              "eigvals_acum  20.464539  376.464851\n",
              "var_exp        0.054360    0.945640\n",
              "v_expl_acum    0.054360    1.000000"
            ]
          },
          "metadata": {},
          "execution_count": 446
        }
      ]
    },
    {
      "cell_type": "markdown",
      "metadata": {
        "id": "WFz7m0PhBup-"
      },
      "source": [
        "MAGDALENA "
      ]
    },
    {
      "cell_type": "code",
      "metadata": {
        "id": "-Jaz4jJCCpn6"
      },
      "source": [
        "df=crimenes_2019[crimenes_2019['DEPARTAMENTO']=='MAGDALENA']\n",
        "numeric_data = df.select_dtypes(include=[np.number])\n",
        "categorical_data = df.select_dtypes(exclude=[np.number])\n",
        "numeric=numeric_data.dropna()\n",
        "X=np.array(numeric_data.drop(columns='CANTIDAD'))\n",
        "Y=np.array(numeric_data['CANTIDAD'])\n",
        "MAGDALENA=ACP(X,Y)"
      ],
      "execution_count": 447,
      "outputs": []
    },
    {
      "cell_type": "code",
      "metadata": {
        "colab": {
          "base_uri": "https://localhost:8080/",
          "height": 437
        },
        "id": "Sl_CuAabCpn6",
        "outputId": "5670ef4b-384d-4987-ce29-25e0ef152156"
      },
      "source": [
        "MAGDALENA.proyec()"
      ],
      "execution_count": 448,
      "outputs": [
        {
          "output_type": "stream",
          "name": "stderr",
          "text": [
            "IOPub data rate exceeded.\n",
            "The notebook server will temporarily stop sending output\n",
            "to the client in order to avoid crashing it.\n",
            "To change this limit, set the config variable\n",
            "`--NotebookApp.iopub_data_rate_limit`.\n",
            "\n",
            "Current values:\n",
            "NotebookApp.iopub_data_rate_limit=1000000.0 (bytes/sec)\n",
            "NotebookApp.rate_limit_window=3.0 (secs)\n",
            "\n"
          ]
        },
        {
          "output_type": "display_data",
          "data": {
            "image/png": "[encoded data removed]",
            "text/plain": [
              "<Figure size 432x288 with 1 Axes>"
            ]
          },
          "metadata": {
            "needs_background": "light"
          }
        }
      ]
    },
    {
      "cell_type": "code",
      "metadata": {
        "colab": {
          "base_uri": "https://localhost:8080/",
          "height": 174
        },
        "id": "yNrb2cnQCpn6",
        "outputId": "a49cdf2d-b77d-4658-8c9f-8211206b7a86"
      },
      "source": [
        "MAGDALENA.inercia()"
      ],
      "execution_count": 449,
      "outputs": [
        {
          "output_type": "execute_result",
          "data": {
            "text/html": [
              "<div>\n",
              "<style scoped>\n",
              "    .dataframe tbody tr th:only-of-type {\n",
              "        vertical-align: middle;\n",
              "    }\n",
              "\n",
              "    .dataframe tbody tr th {\n",
              "        vertical-align: top;\n",
              "    }\n",
              "\n",
              "    .dataframe thead th {\n",
              "        text-align: right;\n",
              "    }\n",
              "</style>\n",
              "<table border=\"1\" class=\"dataframe\">\n",
              "  <thead>\n",
              "    <tr style=\"text-align: right;\">\n",
              "      <th></th>\n",
              "      <th>0</th>\n",
              "      <th>1</th>\n",
              "    </tr>\n",
              "  </thead>\n",
              "  <tbody>\n",
              "    <tr>\n",
              "      <th>eigvals</th>\n",
              "      <td>19.379967</td>\n",
              "      <td>349.003516</td>\n",
              "    </tr>\n",
              "    <tr>\n",
              "      <th>eigvals_acum</th>\n",
              "      <td>19.379967</td>\n",
              "      <td>368.383483</td>\n",
              "    </tr>\n",
              "    <tr>\n",
              "      <th>var_exp</th>\n",
              "      <td>0.052608</td>\n",
              "      <td>0.947392</td>\n",
              "    </tr>\n",
              "    <tr>\n",
              "      <th>v_expl_acum</th>\n",
              "      <td>0.052608</td>\n",
              "      <td>1.000000</td>\n",
              "    </tr>\n",
              "  </tbody>\n",
              "</table>\n",
              "</div>"
            ],
            "text/plain": [
              "                      0           1\n",
              "eigvals       19.379967  349.003516\n",
              "eigvals_acum  19.379967  368.383483\n",
              "var_exp        0.052608    0.947392\n",
              "v_expl_acum    0.052608    1.000000"
            ]
          },
          "metadata": {},
          "execution_count": 449
        }
      ]
    },
    {
      "cell_type": "markdown",
      "metadata": {
        "id": "9Fpiokw-B1WE"
      },
      "source": [
        "CÓRDOBA    "
      ]
    },
    {
      "cell_type": "code",
      "metadata": {
        "id": "Vv-2cQC4CqJD"
      },
      "source": [
        "df=crimenes_2019[crimenes_2019['DEPARTAMENTO']=='CÓRDOBA']\n",
        "numeric_data = df.select_dtypes(include=[np.number])\n",
        "categorical_data = df.select_dtypes(exclude=[np.number])\n",
        "numeric=numeric_data.dropna()\n",
        "X=np.array(numeric_data.drop(columns='CANTIDAD'))\n",
        "Y=np.array(numeric_data['CANTIDAD'])\n",
        "CÓRDOBA=ACP(X,Y)"
      ],
      "execution_count": 450,
      "outputs": []
    },
    {
      "cell_type": "code",
      "metadata": {
        "colab": {
          "base_uri": "https://localhost:8080/",
          "height": 437
        },
        "id": "g_C5YVbdCqJE",
        "outputId": "adb23c0b-aa2a-4edc-b0f5-4f3d144bf354"
      },
      "source": [
        "CÓRDOBA.proyec()"
      ],
      "execution_count": 451,
      "outputs": [
        {
          "output_type": "stream",
          "name": "stderr",
          "text": [
            "IOPub data rate exceeded.\n",
            "The notebook server will temporarily stop sending output\n",
            "to the client in order to avoid crashing it.\n",
            "To change this limit, set the config variable\n",
            "`--NotebookApp.iopub_data_rate_limit`.\n",
            "\n",
            "Current values:\n",
            "NotebookApp.iopub_data_rate_limit=1000000.0 (bytes/sec)\n",
            "NotebookApp.rate_limit_window=3.0 (secs)\n",
            "\n"
          ]
        },
        {
          "output_type": "display_data",
          "data": {
            "image/png": "[encoded data removed]",
            "text/plain": [
              "<Figure size 432x288 with 1 Axes>"
            ]
          },
          "metadata": {
            "needs_background": "light"
          }
        }
      ]
    },
    {
      "cell_type": "code",
      "metadata": {
        "colab": {
          "base_uri": "https://localhost:8080/",
          "height": 174
        },
        "id": "W3Ox72Y5CqJE",
        "outputId": "b57a54ae-2fb3-40cd-845e-17a46d568b8a"
      },
      "source": [
        "CÓRDOBA.inercia()"
      ],
      "execution_count": 452,
      "outputs": [
        {
          "output_type": "execute_result",
          "data": {
            "text/html": [
              "<div>\n",
              "<style scoped>\n",
              "    .dataframe tbody tr th:only-of-type {\n",
              "        vertical-align: middle;\n",
              "    }\n",
              "\n",
              "    .dataframe tbody tr th {\n",
              "        vertical-align: top;\n",
              "    }\n",
              "\n",
              "    .dataframe thead th {\n",
              "        text-align: right;\n",
              "    }\n",
              "</style>\n",
              "<table border=\"1\" class=\"dataframe\">\n",
              "  <thead>\n",
              "    <tr style=\"text-align: right;\">\n",
              "      <th></th>\n",
              "      <th>0</th>\n",
              "      <th>1</th>\n",
              "    </tr>\n",
              "  </thead>\n",
              "  <tbody>\n",
              "    <tr>\n",
              "      <th>eigvals</th>\n",
              "      <td>20.216714</td>\n",
              "      <td>353.438469</td>\n",
              "    </tr>\n",
              "    <tr>\n",
              "      <th>eigvals_acum</th>\n",
              "      <td>20.216714</td>\n",
              "      <td>373.655183</td>\n",
              "    </tr>\n",
              "    <tr>\n",
              "      <th>var_exp</th>\n",
              "      <td>0.054105</td>\n",
              "      <td>0.945895</td>\n",
              "    </tr>\n",
              "    <tr>\n",
              "      <th>v_expl_acum</th>\n",
              "      <td>0.054105</td>\n",
              "      <td>1.000000</td>\n",
              "    </tr>\n",
              "  </tbody>\n",
              "</table>\n",
              "</div>"
            ],
            "text/plain": [
              "                      0           1\n",
              "eigvals       20.216714  353.438469\n",
              "eigvals_acum  20.216714  373.655183\n",
              "var_exp        0.054105    0.945895\n",
              "v_expl_acum    0.054105    1.000000"
            ]
          },
          "metadata": {},
          "execution_count": 452
        }
      ]
    },
    {
      "cell_type": "markdown",
      "metadata": {
        "id": "PO9GDeQrB20c"
      },
      "source": [
        "CESAR "
      ]
    },
    {
      "cell_type": "code",
      "metadata": {
        "id": "vT27VWldCqul"
      },
      "source": [
        "df=crimenes_2019[crimenes_2019['DEPARTAMENTO']=='CESAR']\n",
        "numeric_data = df.select_dtypes(include=[np.number])\n",
        "categorical_data = df.select_dtypes(exclude=[np.number])\n",
        "numeric=numeric_data.dropna()\n",
        "X=np.array(numeric_data.drop(columns='CANTIDAD'))\n",
        "Y=np.array(numeric_data['CANTIDAD'])\n",
        "CESAR=ACP(X,Y)"
      ],
      "execution_count": 457,
      "outputs": []
    },
    {
      "cell_type": "code",
      "metadata": {
        "colab": {
          "base_uri": "https://localhost:8080/",
          "height": 437
        },
        "id": "MNCDmAf6Cqum",
        "outputId": "47981b6f-27de-41d6-9c8d-b37be00d3fd1"
      },
      "source": [
        "CESAR.proyec()"
      ],
      "execution_count": 458,
      "outputs": [
        {
          "output_type": "stream",
          "name": "stderr",
          "text": [
            "IOPub data rate exceeded.\n",
            "The notebook server will temporarily stop sending output\n",
            "to the client in order to avoid crashing it.\n",
            "To change this limit, set the config variable\n",
            "`--NotebookApp.iopub_data_rate_limit`.\n",
            "\n",
            "Current values:\n",
            "NotebookApp.iopub_data_rate_limit=1000000.0 (bytes/sec)\n",
            "NotebookApp.rate_limit_window=3.0 (secs)\n",
            "\n"
          ]
        },
        {
          "output_type": "display_data",
          "data": {
            "image/png": "[encoded data removed]",
            "text/plain": [
              "<Figure size 432x288 with 1 Axes>"
            ]
          },
          "metadata": {
            "needs_background": "light"
          }
        }
      ]
    },
    {
      "cell_type": "code",
      "metadata": {
        "colab": {
          "base_uri": "https://localhost:8080/",
          "height": 174
        },
        "id": "yXwjtDbDCqum",
        "outputId": "f98671f6-f2f6-4342-b1d5-74cc93f8b921"
      },
      "source": [
        "CESAR.inercia()"
      ],
      "execution_count": 459,
      "outputs": [
        {
          "output_type": "execute_result",
          "data": {
            "text/html": [
              "<div>\n",
              "<style scoped>\n",
              "    .dataframe tbody tr th:only-of-type {\n",
              "        vertical-align: middle;\n",
              "    }\n",
              "\n",
              "    .dataframe tbody tr th {\n",
              "        vertical-align: top;\n",
              "    }\n",
              "\n",
              "    .dataframe thead th {\n",
              "        text-align: right;\n",
              "    }\n",
              "</style>\n",
              "<table border=\"1\" class=\"dataframe\">\n",
              "  <thead>\n",
              "    <tr style=\"text-align: right;\">\n",
              "      <th></th>\n",
              "      <th>0</th>\n",
              "      <th>1</th>\n",
              "    </tr>\n",
              "  </thead>\n",
              "  <tbody>\n",
              "    <tr>\n",
              "      <th>eigvals</th>\n",
              "      <td>19.710239</td>\n",
              "      <td>354.765462</td>\n",
              "    </tr>\n",
              "    <tr>\n",
              "      <th>eigvals_acum</th>\n",
              "      <td>19.710239</td>\n",
              "      <td>374.475701</td>\n",
              "    </tr>\n",
              "    <tr>\n",
              "      <th>var_exp</th>\n",
              "      <td>0.052634</td>\n",
              "      <td>0.947366</td>\n",
              "    </tr>\n",
              "    <tr>\n",
              "      <th>v_expl_acum</th>\n",
              "      <td>0.052634</td>\n",
              "      <td>1.000000</td>\n",
              "    </tr>\n",
              "  </tbody>\n",
              "</table>\n",
              "</div>"
            ],
            "text/plain": [
              "                      0           1\n",
              "eigvals       19.710239  354.765462\n",
              "eigvals_acum  19.710239  374.475701\n",
              "var_exp        0.052634    0.947366\n",
              "v_expl_acum    0.052634    1.000000"
            ]
          },
          "metadata": {},
          "execution_count": 459
        }
      ]
    },
    {
      "cell_type": "markdown",
      "metadata": {
        "id": "xNiMUWbyB5aP"
      },
      "source": [
        "CALDAS  "
      ]
    },
    {
      "cell_type": "code",
      "metadata": {
        "id": "MYVbtXi9CrXN"
      },
      "source": [
        "df=crimenes_2019[crimenes_2019['DEPARTAMENTO']=='CALDAS']\n",
        "numeric_data = df.select_dtypes(include=[np.number])\n",
        "categorical_data = df.select_dtypes(exclude=[np.number])\n",
        "numeric=numeric_data.dropna()\n",
        "X=np.array(numeric_data.drop(columns='CANTIDAD'))\n",
        "Y=np.array(numeric_data['CANTIDAD'])\n",
        "CALDAS=ACP(X,Y)"
      ],
      "execution_count": 460,
      "outputs": []
    },
    {
      "cell_type": "code",
      "metadata": {
        "colab": {
          "base_uri": "https://localhost:8080/"
        },
        "id": "Ns_u75emCrXO",
        "outputId": "bff665d2-7332-46ed-a70d-9c50d4e3b30b"
      },
      "source": [
        "CALDAS.proyec()"
      ],
      "execution_count": null,
      "outputs": [
        {
          "output_type": "stream",
          "name": "stderr",
          "text": [
            "IOPub data rate exceeded.\n",
            "The notebook server will temporarily stop sending output\n",
            "to the client in order to avoid crashing it.\n",
            "To change this limit, set the config variable\n",
            "`--NotebookApp.iopub_data_rate_limit`.\n",
            "\n",
            "Current values:\n",
            "NotebookApp.iopub_data_rate_limit=1000000.0 (bytes/sec)\n",
            "NotebookApp.rate_limit_window=3.0 (secs)\n",
            "\n"
          ]
        }
      ]
    },
    {
      "cell_type": "code",
      "metadata": {
        "id": "h2Fvi7uHCrXO"
      },
      "source": [
        "CALDAS.inercia()"
      ],
      "execution_count": null,
      "outputs": []
    },
    {
      "cell_type": "markdown",
      "metadata": {
        "id": "DReao8CXB7fH"
      },
      "source": [
        "SUCRE  "
      ]
    },
    {
      "cell_type": "code",
      "metadata": {
        "id": "5FTKRhD4Cr2V"
      },
      "source": [
        "df=crimenes_2019[crimenes_2019['DEPARTAMENTO']=='SUCRE']\n",
        "numeric_data = df.select_dtypes(include=[np.number])\n",
        "categorical_data = df.select_dtypes(exclude=[np.number])\n",
        "numeric=numeric_data.dropna()\n",
        "X=np.array(numeric_data.drop(columns='CANTIDAD'))\n",
        "Y=np.array(numeric_data['CANTIDAD'])\n",
        "SUCRE=ACP(X,Y)"
      ],
      "execution_count": null,
      "outputs": []
    },
    {
      "cell_type": "code",
      "metadata": {
        "id": "YAAbTEiICr2W"
      },
      "source": [
        "SUCRE.proyec()"
      ],
      "execution_count": null,
      "outputs": []
    },
    {
      "cell_type": "code",
      "metadata": {
        "id": "U9buVxBLCr2X"
      },
      "source": [
        "SUCRE.inercia()"
      ],
      "execution_count": null,
      "outputs": []
    },
    {
      "cell_type": "markdown",
      "metadata": {
        "id": "8PY_IEcfB9IM"
      },
      "source": [
        "QUINDÍO"
      ]
    },
    {
      "cell_type": "code",
      "metadata": {
        "id": "ezBepxReCsad"
      },
      "source": [
        "df=crimenes_2019[crimenes_2019['DEPARTAMENTO']=='QUINDÍO']\n",
        "numeric_data = df.select_dtypes(include=[np.number])\n",
        "categorical_data = df.select_dtypes(exclude=[np.number])\n",
        "numeric=numeric_data.dropna()\n",
        "X=np.array(numeric_data.drop(columns='CANTIDAD'))\n",
        "Y=np.array(numeric_data['CANTIDAD'])\n",
        "QUINDÍO=ACP(X,Y)"
      ],
      "execution_count": null,
      "outputs": []
    },
    {
      "cell_type": "code",
      "metadata": {
        "id": "39m1lW_TCsad"
      },
      "source": [
        "QUINDÍO.proyec()"
      ],
      "execution_count": null,
      "outputs": []
    },
    {
      "cell_type": "code",
      "metadata": {
        "id": "XnFMLhjjCsad"
      },
      "source": [
        "QUINDÍO.inercia()"
      ],
      "execution_count": null,
      "outputs": []
    },
    {
      "cell_type": "markdown",
      "metadata": {
        "id": "c6gGndhCB-eF"
      },
      "source": [
        "GUAJIRA "
      ]
    },
    {
      "cell_type": "code",
      "metadata": {
        "id": "czSDg-V3CtC-"
      },
      "source": [
        "df=crimenes_2019[crimenes_2019['DEPARTAMENTO']=='GUAJIRA']\n",
        "numeric_data = df.select_dtypes(include=[np.number])\n",
        "categorical_data = df.select_dtypes(exclude=[np.number])\n",
        "numeric=numeric_data.dropna()\n",
        "X=np.array(numeric_data.drop(columns='CANTIDAD'))\n",
        "Y=np.array(numeric_data['CANTIDAD'])\n",
        "GUAJIRA=ACP(X,Y)"
      ],
      "execution_count": null,
      "outputs": []
    },
    {
      "cell_type": "code",
      "metadata": {
        "id": "E1KJ91Y2CtC_"
      },
      "source": [
        "GUAJIRA.proyec()"
      ],
      "execution_count": null,
      "outputs": []
    },
    {
      "cell_type": "code",
      "metadata": {
        "id": "Is75upgjCtC_"
      },
      "source": [
        "GUAJIRA.inercia()"
      ],
      "execution_count": null,
      "outputs": []
    },
    {
      "cell_type": "markdown",
      "metadata": {
        "id": "CIK5P5KZB_ss"
      },
      "source": [
        "CASANARE"
      ]
    },
    {
      "cell_type": "code",
      "metadata": {
        "id": "eQAP9TXnCtiu"
      },
      "source": [
        "df=crimenes_2019[crimenes_2019['DEPARTAMENTO']=='CASANARE']\n",
        "numeric_data = df.select_dtypes(include=[np.number])\n",
        "categorical_data = df.select_dtypes(exclude=[np.number])\n",
        "numeric=numeric_data.dropna()\n",
        "X=np.array(numeric_data.drop(columns='CANTIDAD'))\n",
        "Y=np.array(numeric_data['CANTIDAD'])\n",
        "CASANARE=ACP(X,Y)"
      ],
      "execution_count": null,
      "outputs": []
    },
    {
      "cell_type": "code",
      "metadata": {
        "id": "gSzZwcsaCtiu"
      },
      "source": [
        "CASANARE.proyec()"
      ],
      "execution_count": null,
      "outputs": []
    },
    {
      "cell_type": "code",
      "metadata": {
        "id": "sGKWqZySCtiv"
      },
      "source": [
        "CASANARE.inercia()"
      ],
      "execution_count": null,
      "outputs": []
    },
    {
      "cell_type": "markdown",
      "metadata": {
        "id": "jmkmSsQtCAeP"
      },
      "source": [
        "CAQUETÁ  "
      ]
    },
    {
      "cell_type": "code",
      "metadata": {
        "id": "irrPrtJcCuBM"
      },
      "source": [
        "df=crimenes_2019[crimenes_2019['DEPARTAMENTO']=='CAQUETÁ']\n",
        "numeric_data = df.select_dtypes(include=[np.number])\n",
        "categorical_data = df.select_dtypes(exclude=[np.number])\n",
        "numeric=numeric_data.dropna()\n",
        "X=np.array(numeric_data.drop(columns='CANTIDAD'))\n",
        "Y=np.array(numeric_data['CANTIDAD'])\n",
        "CAQUETÁ=ACP(X,Y)"
      ],
      "execution_count": null,
      "outputs": []
    },
    {
      "cell_type": "code",
      "metadata": {
        "id": "_-USIcChCuBN"
      },
      "source": [
        "CAQUETÁ.proyec()"
      ],
      "execution_count": null,
      "outputs": []
    },
    {
      "cell_type": "code",
      "metadata": {
        "id": "vmCZop01CuBN"
      },
      "source": [
        "CAQUETÁ.inercia()"
      ],
      "execution_count": null,
      "outputs": []
    },
    {
      "cell_type": "markdown",
      "metadata": {
        "id": "M63ypmV-CClE"
      },
      "source": [
        "CHOCÓ"
      ]
    },
    {
      "cell_type": "code",
      "metadata": {
        "id": "SIf-m2iPCufP"
      },
      "source": [
        "df=crimenes_2019[crimenes_2019['DEPARTAMENTO']=='CHOCÓ']\n",
        "numeric_data = df.select_dtypes(include=[np.number])\n",
        "categorical_data = df.select_dtypes(exclude=[np.number])\n",
        "numeric=numeric_data.dropna()\n",
        "X=np.array(numeric_data.drop(columns='CANTIDAD'))\n",
        "Y=np.array(numeric_data['CANTIDAD'])\n",
        "CHOCÓ=ACP(X,Y)"
      ],
      "execution_count": null,
      "outputs": []
    },
    {
      "cell_type": "code",
      "metadata": {
        "id": "pt9-p4UoCufQ"
      },
      "source": [
        "CHOCÓ.proyec()"
      ],
      "execution_count": null,
      "outputs": []
    },
    {
      "cell_type": "code",
      "metadata": {
        "id": "ceHJ1IfECufQ"
      },
      "source": [
        "CHOCÓ.inercia()"
      ],
      "execution_count": null,
      "outputs": []
    },
    {
      "cell_type": "markdown",
      "metadata": {
        "id": "oSPRXzppCEOm"
      },
      "source": [
        "ARAUCA "
      ]
    },
    {
      "cell_type": "code",
      "metadata": {
        "id": "8TgPIS69Cu6D"
      },
      "source": [
        "df=crimenes_2019[crimenes_2019['DEPARTAMENTO']=='ARAUCA']\n",
        "numeric_data = df.select_dtypes(include=[np.number])\n",
        "categorical_data = df.select_dtypes(exclude=[np.number])\n",
        "numeric=numeric_data.dropna()\n",
        "X=np.array(numeric_data.drop(columns='CANTIDAD'))\n",
        "Y=np.array(numeric_data['CANTIDAD'])\n",
        "ARAUCA=ACP(X,Y)"
      ],
      "execution_count": null,
      "outputs": []
    },
    {
      "cell_type": "code",
      "metadata": {
        "id": "DAw-_r4dCu6E"
      },
      "source": [
        "ARAUCA.proyec()"
      ],
      "execution_count": null,
      "outputs": []
    },
    {
      "cell_type": "code",
      "metadata": {
        "id": "SLSG41cMCu6E"
      },
      "source": [
        "ARAUCA.inercia()"
      ],
      "execution_count": null,
      "outputs": []
    },
    {
      "cell_type": "markdown",
      "metadata": {
        "id": "5hQP3t7gCFcq"
      },
      "source": [
        "    PUTUMAYO                                                                                                                                                                                                                                                                         3121\n"
      ]
    },
    {
      "cell_type": "code",
      "metadata": {
        "id": "1Iesi9VbCwan"
      },
      "source": [
        "df=crimenes_2019[crimenes_2019['DEPARTAMENTO']=='PUTUMAYO']\n",
        "numeric_data = df.select_dtypes(include=[np.number])\n",
        "categorical_data = df.select_dtypes(exclude=[np.number])\n",
        "numeric=numeric_data.dropna()\n",
        "X=np.array(numeric_data.drop(columns='CANTIDAD'))\n",
        "Y=np.array(numeric_data['CANTIDAD'])\n",
        "CUNDINAMARCA=ACP(X,Y)"
      ],
      "execution_count": null,
      "outputs": []
    },
    {
      "cell_type": "code",
      "metadata": {
        "id": "9z1oGEoSCwan"
      },
      "source": [
        "PUTUMAYO.proyec()"
      ],
      "execution_count": null,
      "outputs": []
    },
    {
      "cell_type": "code",
      "metadata": {
        "id": "g667UrpXCwao"
      },
      "source": [
        "PUTUMAYO.inercia()"
      ],
      "execution_count": null,
      "outputs": []
    },
    {
      "cell_type": "markdown",
      "metadata": {
        "id": "4lpeEqpsCGn5"
      },
      "source": [
        "SAN ANDRÉS   "
      ]
    },
    {
      "cell_type": "code",
      "metadata": {
        "id": "t0GGzNypCw4d"
      },
      "source": [
        "df=crimenes_2019[crimenes_2019['DEPARTAMENTO']=='SAN ANDRÉS']\n",
        "numeric_data = df.select_dtypes(include=[np.number])\n",
        "categorical_data = df.select_dtypes(exclude=[np.number])\n",
        "numeric=numeric_data.dropna()\n",
        "X=np.array(numeric_data.drop(columns='CANTIDAD'))\n",
        "Y=np.array(numeric_data['CANTIDAD'])\n",
        "SAN_ANDRES=ACP(X,Y)"
      ],
      "execution_count": null,
      "outputs": []
    },
    {
      "cell_type": "code",
      "metadata": {
        "id": "WoRPp95BCw4e"
      },
      "source": [
        "SAN_ANDRES.proyec()"
      ],
      "execution_count": null,
      "outputs": []
    },
    {
      "cell_type": "code",
      "metadata": {
        "id": "atlZ068aCw4e"
      },
      "source": [
        "SAN_ANDRES.inercia()"
      ],
      "execution_count": null,
      "outputs": []
    },
    {
      "cell_type": "markdown",
      "metadata": {
        "id": "0mXr5nQDCK03"
      },
      "source": [
        "GUAVIARE"
      ]
    },
    {
      "cell_type": "code",
      "metadata": {
        "id": "_i858BrTCxU0"
      },
      "source": [
        "df=crimenes_2019[crimenes_2019['DEPARTAMENTO']=='GUAVIARE']\n",
        "numeric_data = df.select_dtypes(include=[np.number])\n",
        "categorical_data = df.select_dtypes(exclude=[np.number])\n",
        "numeric=numeric_data.dropna()\n",
        "X=np.array(numeric_data.drop(columns='CANTIDAD'))\n",
        "Y=np.array(numeric_data['CANTIDAD'])\n",
        "CUNDINAMARCA=ACP(X,Y)"
      ],
      "execution_count": null,
      "outputs": []
    },
    {
      "cell_type": "code",
      "metadata": {
        "id": "8s_K7rpuCxU1"
      },
      "source": [
        "GUAVIARE.proyec()"
      ],
      "execution_count": null,
      "outputs": []
    },
    {
      "cell_type": "code",
      "metadata": {
        "id": "o17PWVGPCxU1"
      },
      "source": [
        "GUAVIARE.inercia()"
      ],
      "execution_count": null,
      "outputs": []
    },
    {
      "cell_type": "markdown",
      "metadata": {
        "id": "M5X9x5znCMYB"
      },
      "source": [
        "AMAZONAS "
      ]
    },
    {
      "cell_type": "code",
      "metadata": {
        "id": "ZCkDOOwSCxtd"
      },
      "source": [
        "df=crimenes_2019[crimenes_2019['DEPARTAMENTO']=='AMAZONAS']\n",
        "numeric_data = df.select_dtypes(include=[np.number])\n",
        "categorical_data = df.select_dtypes(exclude=[np.number])\n",
        "numeric=numeric_data.dropna()\n",
        "X=np.array(numeric_data.drop(columns='CANTIDAD'))\n",
        "Y=np.array(numeric_data['CANTIDAD'])\n",
        "AMAZONAS=ACP(X,Y)"
      ],
      "execution_count": null,
      "outputs": []
    },
    {
      "cell_type": "code",
      "metadata": {
        "id": "MPe23aZICxte"
      },
      "source": [
        "AMAZONAS.proyec()"
      ],
      "execution_count": null,
      "outputs": []
    },
    {
      "cell_type": "code",
      "metadata": {
        "id": "AhF6vyUYCxte"
      },
      "source": [
        "AMAZONAS.inercia()"
      ],
      "execution_count": null,
      "outputs": []
    },
    {
      "cell_type": "markdown",
      "metadata": {
        "id": "uDoZ6yqoCO78"
      },
      "source": [
        "GUAINÍA "
      ]
    },
    {
      "cell_type": "code",
      "metadata": {
        "id": "6Je-SLYKCyMd"
      },
      "source": [
        "df=crimenes_2019[crimenes_2019['DEPARTAMENTO']=='GUAINÍA']\n",
        "numeric_data = df.select_dtypes(include=[np.number])\n",
        "categorical_data = df.select_dtypes(exclude=[np.number])\n",
        "numeric=numeric_data.dropna()\n",
        "X=np.array(numeric_data.drop(columns='CANTIDAD'))\n",
        "Y=np.array(numeric_data['CANTIDAD'])\n",
        "GUAINÍA=ACP(X,Y)"
      ],
      "execution_count": null,
      "outputs": []
    },
    {
      "cell_type": "code",
      "metadata": {
        "id": "yBp4eLw3CyMe"
      },
      "source": [
        "GUAINÍA.proyec()"
      ],
      "execution_count": null,
      "outputs": []
    },
    {
      "cell_type": "code",
      "metadata": {
        "id": "1MBTASh-CyMe"
      },
      "source": [
        "GUAINÍA.inercia()"
      ],
      "execution_count": null,
      "outputs": []
    },
    {
      "cell_type": "markdown",
      "metadata": {
        "id": "GHzeC2n7CQRS"
      },
      "source": [
        "VICHADA "
      ]
    },
    {
      "cell_type": "code",
      "metadata": {
        "id": "Co4Qh037CyuW"
      },
      "source": [
        "df=crimenes_2019[crimenes_2019['DEPARTAMENTO']=='VICHADA']\n",
        "numeric_data = df.select_dtypes(include=[np.number])\n",
        "categorical_data = df.select_dtypes(exclude=[np.number])\n",
        "numeric=numeric_data.dropna()\n",
        "X=np.array(numeric_data.drop(columns='CANTIDAD'))\n",
        "Y=np.array(numeric_data['CANTIDAD'])\n",
        "CUNDINAMARCA=ACP(X,Y)"
      ],
      "execution_count": null,
      "outputs": []
    },
    {
      "cell_type": "code",
      "metadata": {
        "colab": {
          "base_uri": "https://localhost:8080/",
          "height": 437
        },
        "id": "OEYPIW1ZCyuX",
        "outputId": "7edb25d8-5d8d-4076-d23f-c23350d161c9"
      },
      "source": [
        "VICHADA.proyec()"
      ],
      "execution_count": null,
      "outputs": [
        {
          "output_type": "stream",
          "name": "stderr",
          "text": [
            "IOPub data rate exceeded.\n",
            "The notebook server will temporarily stop sending output\n",
            "to the client in order to avoid crashing it.\n",
            "To change this limit, set the config variable\n",
            "`--NotebookApp.iopub_data_rate_limit`.\n",
            "\n",
            "Current values:\n",
            "NotebookApp.iopub_data_rate_limit=1000000.0 (bytes/sec)\n",
            "NotebookApp.rate_limit_window=3.0 (secs)\n",
            "\n"
          ]
        },
        {
          "output_type": "display_data",
          "data": {
            "image/png": "[encoded data removed]",
            "text/plain": [
              "<Figure size 432x288 with 1 Axes>"
            ]
          },
          "metadata": {
            "needs_background": "light"
          }
        }
      ]
    },
    {
      "cell_type": "code",
      "metadata": {
        "colab": {
          "base_uri": "https://localhost:8080/",
          "height": 174
        },
        "id": "X_aAe6c2CyuY",
        "outputId": "db031078-1bd9-4d74-a2e4-0ced6f6d5533"
      },
      "source": [
        "VICHADA.inercia()"
      ],
      "execution_count": null,
      "outputs": [
        {
          "output_type": "execute_result",
          "data": {
            "text/html": [
              "<div>\n",
              "<style scoped>\n",
              "    .dataframe tbody tr th:only-of-type {\n",
              "        vertical-align: middle;\n",
              "    }\n",
              "\n",
              "    .dataframe tbody tr th {\n",
              "        vertical-align: top;\n",
              "    }\n",
              "\n",
              "    .dataframe thead th {\n",
              "        text-align: right;\n",
              "    }\n",
              "</style>\n",
              "<table border=\"1\" class=\"dataframe\">\n",
              "  <thead>\n",
              "    <tr style=\"text-align: right;\">\n",
              "      <th></th>\n",
              "      <th>0</th>\n",
              "      <th>1</th>\n",
              "    </tr>\n",
              "  </thead>\n",
              "  <tbody>\n",
              "    <tr>\n",
              "      <th>eigvals</th>\n",
              "      <td>20.057874</td>\n",
              "      <td>357.838495</td>\n",
              "    </tr>\n",
              "    <tr>\n",
              "      <th>eigvals_acum</th>\n",
              "      <td>20.057874</td>\n",
              "      <td>377.896368</td>\n",
              "    </tr>\n",
              "    <tr>\n",
              "      <th>var_exp</th>\n",
              "      <td>0.053078</td>\n",
              "      <td>0.946922</td>\n",
              "    </tr>\n",
              "    <tr>\n",
              "      <th>v_expl_acum</th>\n",
              "      <td>0.053078</td>\n",
              "      <td>1.000000</td>\n",
              "    </tr>\n",
              "  </tbody>\n",
              "</table>\n",
              "</div>"
            ],
            "text/plain": [
              "                      0           1\n",
              "eigvals       20.057874  357.838495\n",
              "eigvals_acum  20.057874  377.896368\n",
              "var_exp        0.053078    0.946922\n",
              "v_expl_acum    0.053078    1.000000"
            ]
          },
          "metadata": {},
          "execution_count": 393
        }
      ]
    },
    {
      "cell_type": "markdown",
      "metadata": {
        "id": "iiBs-zdoCRZ-"
      },
      "source": [
        "VAUPÉS "
      ]
    },
    {
      "cell_type": "code",
      "metadata": {
        "id": "VmNAGabhCzLs"
      },
      "source": [
        "df=crimenes_2019[crimenes_2019['DEPARTAMENTO']=='VAUPÉS']\n",
        "numeric_data = df.select_dtypes(include=[np.number])\n",
        "categorical_data = df.select_dtypes(exclude=[np.number])\n",
        "numeric=numeric_data.dropna()\n",
        "X=np.array(numeric_data.drop(columns='CANTIDAD'))\n",
        "Y=np.array(numeric_data['CANTIDAD'])\n",
        "VAUPÉS=ACP(X,Y)"
      ],
      "execution_count": null,
      "outputs": []
    },
    {
      "cell_type": "code",
      "metadata": {
        "colab": {
          "base_uri": "https://localhost:8080/",
          "height": 437
        },
        "id": "5Gd6f7XNCzLs",
        "outputId": "7edb25d8-5d8d-4076-d23f-c23350d161c9"
      },
      "source": [
        "VAUPÉS.proyec()"
      ],
      "execution_count": null,
      "outputs": [
        {
          "output_type": "stream",
          "name": "stderr",
          "text": [
            "IOPub data rate exceeded.\n",
            "The notebook server will temporarily stop sending output\n",
            "to the client in order to avoid crashing it.\n",
            "To change this limit, set the config variable\n",
            "`--NotebookApp.iopub_data_rate_limit`.\n",
            "\n",
            "Current values:\n",
            "NotebookApp.iopub_data_rate_limit=1000000.0 (bytes/sec)\n",
            "NotebookApp.rate_limit_window=3.0 (secs)\n",
            "\n"
          ]
        },
        {
          "output_type": "display_data",
          "data": {
            "image/png": "[encoded data removed]",
            "text/plain": [
              "<Figure size 432x288 with 1 Axes>"
            ]
          },
          "metadata": {
            "needs_background": "light"
          }
        }
      ]
    },
    {
      "cell_type": "code",
      "metadata": {
        "colab": {
          "base_uri": "https://localhost:8080/",
          "height": 174
        },
        "id": "QrsF7Q5vCzLt",
        "outputId": "db031078-1bd9-4d74-a2e4-0ced6f6d5533"
      },
      "source": [
        "VAUPÉS.inercia()"
      ],
      "execution_count": null,
      "outputs": [
        {
          "output_type": "execute_result",
          "data": {
            "text/html": [
              "<div>\n",
              "<style scoped>\n",
              "    .dataframe tbody tr th:only-of-type {\n",
              "        vertical-align: middle;\n",
              "    }\n",
              "\n",
              "    .dataframe tbody tr th {\n",
              "        vertical-align: top;\n",
              "    }\n",
              "\n",
              "    .dataframe thead th {\n",
              "        text-align: right;\n",
              "    }\n",
              "</style>\n",
              "<table border=\"1\" class=\"dataframe\">\n",
              "  <thead>\n",
              "    <tr style=\"text-align: right;\">\n",
              "      <th></th>\n",
              "      <th>0</th>\n",
              "      <th>1</th>\n",
              "    </tr>\n",
              "  </thead>\n",
              "  <tbody>\n",
              "    <tr>\n",
              "      <th>eigvals</th>\n",
              "      <td>20.057874</td>\n",
              "      <td>357.838495</td>\n",
              "    </tr>\n",
              "    <tr>\n",
              "      <th>eigvals_acum</th>\n",
              "      <td>20.057874</td>\n",
              "      <td>377.896368</td>\n",
              "    </tr>\n",
              "    <tr>\n",
              "      <th>var_exp</th>\n",
              "      <td>0.053078</td>\n",
              "      <td>0.946922</td>\n",
              "    </tr>\n",
              "    <tr>\n",
              "      <th>v_expl_acum</th>\n",
              "      <td>0.053078</td>\n",
              "      <td>1.000000</td>\n",
              "    </tr>\n",
              "  </tbody>\n",
              "</table>\n",
              "</div>"
            ],
            "text/plain": [
              "                      0           1\n",
              "eigvals       20.057874  357.838495\n",
              "eigvals_acum  20.057874  377.896368\n",
              "var_exp        0.053078    0.946922\n",
              "v_expl_acum    0.053078    1.000000"
            ]
          },
          "metadata": {},
          "execution_count": 393
        }
      ]
    },
    {
      "cell_type": "markdown",
      "metadata": {
        "id": "Ag5uQxy6xk9p"
      },
      "source": [
        "## Guia ACP"
      ]
    },
    {
      "cell_type": "code",
      "metadata": {
        "id": "wOZbrQ6HXRQm"
      },
      "source": [
        "X_scal=np.zeros(X.shape)"
      ],
      "execution_count": 351,
      "outputs": []
    },
    {
      "cell_type": "code",
      "metadata": {
        "id": "ECvT2RoYsSiT"
      },
      "source": [
        ""
      ],
      "execution_count": null,
      "outputs": []
    },
    {
      "cell_type": "code",
      "metadata": {
        "id": "rYl2a4DAVfem"
      },
      "source": [
        "for i in range(X_scal.shape[1]):\n",
        "        X_scal[:,i] = (X[:,i] - X[:,i].mean())/X[:,i].std()"
      ],
      "execution_count": 352,
      "outputs": []
    },
    {
      "cell_type": "code",
      "metadata": {
        "id": "uGC_e1sx76g7"
      },
      "source": [
        "X_nn,X_n=X.shape"
      ],
      "execution_count": 355,
      "outputs": []
    },
    {
      "cell_type": "code",
      "metadata": {
        "colab": {
          "base_uri": "https://localhost:8080/"
        },
        "id": "J_dGfPbvXeFN",
        "outputId": "3828b4d9-1a39-444b-cafa-64c7dfbf2dc0"
      },
      "source": [
        "X_scal[:X_n]"
      ],
      "execution_count": 356,
      "outputs": [
        {
          "output_type": "execute_result",
          "data": {
            "text/plain": [
              "array([[1.56841458, 0.15758752],\n",
              "       [1.56841458, 0.15758752]])"
            ]
          },
          "metadata": {},
          "execution_count": 356
        }
      ]
    },
    {
      "cell_type": "code",
      "metadata": {
        "id": "FVE4EKcKXqri"
      },
      "source": [
        "cov=X_scal.T.dot(X_scal)/X_scal.shape[0]"
      ],
      "execution_count": 357,
      "outputs": []
    },
    {
      "cell_type": "code",
      "metadata": {
        "colab": {
          "base_uri": "https://localhost:8080/"
        },
        "id": "jvcM56tIX3WL",
        "outputId": "b4e72bd7-d712-46da-9460-fd321ab05174"
      },
      "source": [
        "cov"
      ],
      "execution_count": 358,
      "outputs": [
        {
          "output_type": "execute_result",
          "data": {
            "text/plain": [
              "array([[1.        , 0.01124176],\n",
              "       [0.01124176, 1.        ]])"
            ]
          },
          "metadata": {},
          "execution_count": 358
        }
      ]
    },
    {
      "cell_type": "code",
      "metadata": {
        "id": "CRoHOTBHX6H5"
      },
      "source": [
        "eigvals,eigvecs=np.linalg.eig(cov)"
      ],
      "execution_count": 359,
      "outputs": []
    },
    {
      "cell_type": "code",
      "metadata": {
        "colab": {
          "base_uri": "https://localhost:8080/"
        },
        "id": "_Vsm4n9SYGYq",
        "outputId": "81344b75-6b43-4b7e-f8ab-5432d9599179"
      },
      "source": [
        "eigvals"
      ],
      "execution_count": 360,
      "outputs": [
        {
          "output_type": "execute_result",
          "data": {
            "text/plain": [
              "array([1.01124176, 0.98875824])"
            ]
          },
          "metadata": {},
          "execution_count": 360
        }
      ]
    },
    {
      "cell_type": "code",
      "metadata": {
        "colab": {
          "base_uri": "https://localhost:8080/"
        },
        "id": "zgpBV9V8YNSD",
        "outputId": "e9c74b3a-87ef-4214-ca3f-ddde34f87f64"
      },
      "source": [
        "eigvecs"
      ],
      "execution_count": 361,
      "outputs": [
        {
          "output_type": "execute_result",
          "data": {
            "text/plain": [
              "array([[ 0.70710678, -0.70710678],\n",
              "       [ 0.70710678,  0.70710678]])"
            ]
          },
          "metadata": {},
          "execution_count": 361
        }
      ]
    },
    {
      "cell_type": "code",
      "metadata": {
        "id": "M_Ewa407YQTp"
      },
      "source": [
        "varianza_explicada={i:i/sum(eigvals) for  i in eigvals}"
      ],
      "execution_count": 362,
      "outputs": []
    },
    {
      "cell_type": "code",
      "metadata": {
        "colab": {
          "base_uri": "https://localhost:8080/"
        },
        "id": "uzHSnlXEYnLB",
        "outputId": "bc5abbe9-fe38-4242-984e-47d4159899f0"
      },
      "source": [
        "varianza_explicada"
      ],
      "execution_count": 363,
      "outputs": [
        {
          "output_type": "execute_result",
          "data": {
            "text/plain": [
              "{0.9887582374498661: 0.4943791187249333, 1.011241762550133: 0.5056208812750668}"
            ]
          },
          "metadata": {},
          "execution_count": 363
        }
      ]
    },
    {
      "cell_type": "code",
      "metadata": {
        "id": "3tbalX5cYqev"
      },
      "source": [
        "inercia = pd.DataFrame({'eigvals':eigvals,\n",
        "                       'inercia_acum':np.cumsum(eigvals),\n",
        "                       'v_expl':varianza_explicada.values(),\n",
        "                       'v_expl_acum':np.cumsum([i for i in varianza_explicada.values()])})"
      ],
      "execution_count": 364,
      "outputs": []
    },
    {
      "cell_type": "code",
      "metadata": {
        "colab": {
          "base_uri": "https://localhost:8080/",
          "height": 174
        },
        "id": "tN3zVA3qZ9Hz",
        "outputId": "53e1304a-9fae-4b2a-bd45-3a447d4afe61"
      },
      "source": [
        "inercia.T"
      ],
      "execution_count": 365,
      "outputs": [
        {
          "output_type": "execute_result",
          "data": {
            "text/html": [
              "<div>\n",
              "<style scoped>\n",
              "    .dataframe tbody tr th:only-of-type {\n",
              "        vertical-align: middle;\n",
              "    }\n",
              "\n",
              "    .dataframe tbody tr th {\n",
              "        vertical-align: top;\n",
              "    }\n",
              "\n",
              "    .dataframe thead th {\n",
              "        text-align: right;\n",
              "    }\n",
              "</style>\n",
              "<table border=\"1\" class=\"dataframe\">\n",
              "  <thead>\n",
              "    <tr style=\"text-align: right;\">\n",
              "      <th></th>\n",
              "      <th>0</th>\n",
              "      <th>1</th>\n",
              "    </tr>\n",
              "  </thead>\n",
              "  <tbody>\n",
              "    <tr>\n",
              "      <th>eigvals</th>\n",
              "      <td>1.011242</td>\n",
              "      <td>0.988758</td>\n",
              "    </tr>\n",
              "    <tr>\n",
              "      <th>inercia_acum</th>\n",
              "      <td>1.011242</td>\n",
              "      <td>2.000000</td>\n",
              "    </tr>\n",
              "    <tr>\n",
              "      <th>v_expl</th>\n",
              "      <td>0.505621</td>\n",
              "      <td>0.494379</td>\n",
              "    </tr>\n",
              "    <tr>\n",
              "      <th>v_expl_acum</th>\n",
              "      <td>0.505621</td>\n",
              "      <td>1.000000</td>\n",
              "    </tr>\n",
              "  </tbody>\n",
              "</table>\n",
              "</div>"
            ],
            "text/plain": [
              "                     0         1\n",
              "eigvals       1.011242  0.988758\n",
              "inercia_acum  1.011242  2.000000\n",
              "v_expl        0.505621  0.494379\n",
              "v_expl_acum   0.505621  1.000000"
            ]
          },
          "metadata": {},
          "execution_count": 365
        }
      ]
    },
    {
      "cell_type": "code",
      "metadata": {
        "id": "ablO2pfhaC9l"
      },
      "source": [
        "proyec= X_scal.dot(eigvecs[:,:2])"
      ],
      "execution_count": 188,
      "outputs": []
    },
    {
      "cell_type": "code",
      "metadata": {
        "id": "lC_TozyOah8C"
      },
      "source": [
        "proyec =  pd.DataFrame(proyec,\n",
        "                        columns=['PC1','PC2'])"
      ],
      "execution_count": 189,
      "outputs": []
    },
    {
      "cell_type": "code",
      "metadata": {
        "colab": {
          "base_uri": "https://localhost:8080/",
          "height": 282
        },
        "id": "S0hPtvEpbK1Y",
        "outputId": "55053e48-b4ce-4840-f482-8ea6604ea4ad"
      },
      "source": [
        "plt.scatter(proyec['PC1'],proyec['PC2'])"
      ],
      "execution_count": 190,
      "outputs": [
        {
          "output_type": "execute_result",
          "data": {
            "text/plain": [
              "<matplotlib.collections.PathCollection at 0x7f18a586e210>"
            ]
          },
          "metadata": {},
          "execution_count": 190
        },
        {
          "output_type": "display_data",
          "data": {
            "image/png": "[encoded data removed]",
            "text/plain": [
              "<Figure size 432x288 with 1 Axes>"
            ]
          },
          "metadata": {
            "needs_background": "light"
          }
        }
      ]
    },
    {
      "cell_type": "code",
      "metadata": {
        "colab": {
          "base_uri": "https://localhost:8080/",
          "height": 282
        },
        "id": "6cZ-YxuZb5Y8",
        "outputId": "e75bcae5-6b7f-4ddf-ce32-3dc1385a9c75"
      },
      "source": [
        "plt.scatter(proyec['PC1'][Y==0],proyec['PC2'][Y==0])\n",
        "plt.scatter(proyec['PC1'][Y==1],proyec['PC2'][Y==1])\n",
        "plt.scatter(proyec['PC1'][Y==2],proyec['PC2'][Y==2])\n"
      ],
      "execution_count": 193,
      "outputs": [
        {
          "output_type": "execute_result",
          "data": {
            "text/plain": [
              "<matplotlib.collections.PathCollection at 0x7f18a2f78b50>"
            ]
          },
          "metadata": {},
          "execution_count": 193
        },
        {
          "output_type": "display_data",
          "data": {
            "image/png": "[encoded data removed]",
            "text/plain": [
              "<Figure size 432x288 with 1 Axes>"
            ]
          },
          "metadata": {
            "needs_background": "light"
          }
        }
      ]
    },
    {
      "cell_type": "markdown",
      "metadata": {
        "id": "5bOv8nulVenh"
      },
      "source": [
        ""
      ]
    }
  ]
}