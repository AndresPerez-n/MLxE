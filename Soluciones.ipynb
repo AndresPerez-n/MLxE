{
 "cells": [
  {
   "cell_type": "markdown",
   "metadata": {},
   "source": [
    "#Proyecto 3 \n",
    "#Andres Arturo Perez Moreno\n",
    "#Nicolas Giraldo \n",
    "#Jordy Samir Mera Toro"
   ]
  },
  {
   "cell_type": "markdown",
   "metadata": {},
   "source": [
    "Cree una lista vacía. Agregue los siguientes números con una línea de código: 1,56,43,4,56,7,8. Organice la lista de menor a mayor. Elimine el último elemento. Elimine el primer elemento. Utilice una función predeterminada para encontrar el valor máximo. Agregue el número 4. Organice la lista de mayor a menor. Acceda al elemento de la lista en la última posición. Imprima \"trabajo terminado\"."
   ]
  },
  {
   "cell_type": "code",
   "execution_count": 46,
   "metadata": {},
   "outputs": [
    {
     "name": "stdout",
     "output_type": "stream",
     "text": [
      "trabajo terminado [56, 43, 8, 7, 4, 4]\n"
     ]
    }
   ],
   "source": [
    "lista_vacia=[]\n",
    "lista_vacia.extend([1,56,43,4,56,7,8])\n",
    "lista_vacia.sort()\n",
    "lista_vacia.pop(6)\n",
    "lista_vacia.pop(0)\n",
    "max(lista_vacia)\n",
    "lista_vacia.append(4)\n",
    "lista_vacia.sort(reverse=True)\n",
    "print('trabajo terminado',lista_vacia)"
   ]
  },
  {
   "cell_type": "markdown",
   "metadata": {},
   "source": [
    "Cree una lista utilizando la función range que vaya desde el 0 hasta el 5. Utilice un bucle para imprimir todos los elementos. Utilice un bucle para imprimir todos los elementos elevados al cuadrado. Utilice un bucle para imprimir todos los elementos elevados al cubo.\n"
   ]
  },
  {
   "cell_type": "code",
   "execution_count": 52,
   "metadata": {},
   "outputs": [
    {
     "name": "stdout",
     "output_type": "stream",
     "text": [
      "0\n",
      "1\n",
      "2\n",
      "3\n",
      "4\n"
     ]
    }
   ],
   "source": [
    "lista_1=list(range(0,5))\n",
    "lista_1\n",
    "for n in lista_1:\n",
    "    print(n)"
   ]
  },
  {
   "cell_type": "code",
   "execution_count": 53,
   "metadata": {},
   "outputs": [
    {
     "name": "stdout",
     "output_type": "stream",
     "text": [
      "0\n",
      "1\n",
      "4\n",
      "9\n",
      "16\n"
     ]
    }
   ],
   "source": [
    "for n in lista_1:\n",
    "    print(n**2)"
   ]
  },
  {
   "cell_type": "code",
   "execution_count": 54,
   "metadata": {},
   "outputs": [
    {
     "name": "stdout",
     "output_type": "stream",
     "text": [
      "0\n",
      "1\n",
      "8\n",
      "27\n",
      "64\n"
     ]
    }
   ],
   "source": [
    "for n in lista_1:\n",
    "    print(n**3)"
   ]
  },
  {
   "cell_type": "markdown",
   "metadata": {},
   "source": [
    "Cree un diccionario con las siguientes llaves: países, idiomas, capitales y continentes. Para cada llave incluya cinco valores en una lista. Utilice un bucle anidado para imprimir cada uno de los elementos contenidos en las listas."
   ]
  },
  {
   "cell_type": "code",
   "execution_count": 64,
   "metadata": {},
   "outputs": [
    {
     "data": {
      "text/plain": [
       "{'paises': ['colombia', 'venezuela', 'ecuador', 'brasil', 'argentina'],\n",
       " 'idiomas': ['español', 'español', 'español', 'portugues', 'español'],\n",
       " 'capitales': ['Bogota', 'caracas', 'quito', 'brazilia', 'buenos aires'],\n",
       " 'continentes': ['america', 'america', 'america', 'america', 'america']}"
      ]
     },
     "execution_count": 64,
     "metadata": {},
     "output_type": "execute_result"
    }
   ],
   "source": [
    "dic_1={'paises':['colombia','venezuela','ecuador','brasil','argentina'],\"idiomas\":[\"español\",\"español\",\"español\",\"portugues\",\"español\"],\"capitales\":[\"Bogota\", \"caracas\",\"quito\", \"brazilia\", \"buenos aires\"] ,'continentes':['america','america','america','america','america']}\n",
    "dic_1"
   ]
  },
  {
   "cell_type": "code",
   "execution_count": 75,
   "metadata": {},
   "outputs": [
    {
     "name": "stdout",
     "output_type": "stream",
     "text": [
      "continentes\n",
      "continentes\n",
      "continentes\n",
      "continentes\n"
     ]
    }
   ],
   "source": [
    "for n in dic_1:\n",
    "    print(idiomas)"
   ]
  },
  {
   "cell_type": "code",
   "execution_count": 66,
   "metadata": {},
   "outputs": [
    {
     "name": "stdout",
     "output_type": "stream",
     "text": [
      "paises\n",
      "idiomas\n",
      "capitales\n",
      "continentes\n"
     ]
    }
   ],
   "source": [
    "for idiomas in dic_1:\n",
    "    print(idiomas)"
   ]
  },
  {
   "cell_type": "code",
   "execution_count": 67,
   "metadata": {},
   "outputs": [
    {
     "name": "stdout",
     "output_type": "stream",
     "text": [
      "paises\n",
      "idiomas\n",
      "capitales\n",
      "continentes\n"
     ]
    }
   ],
   "source": [
    "for capitales in dic_1:\n",
    "    print(capitales)"
   ]
  },
  {
   "cell_type": "code",
   "execution_count": 68,
   "metadata": {},
   "outputs": [
    {
     "name": "stdout",
     "output_type": "stream",
     "text": [
      "paises\n",
      "idiomas\n",
      "capitales\n",
      "continentes\n"
     ]
    }
   ],
   "source": [
    "for continentes in dic_1:\n",
    "    print(continentes)"
   ]
  },
  {
   "cell_type": "markdown",
   "metadata": {},
   "source": [
    "Cree una función que determine si un número es múltiplo de 3."
   ]
  },
  {
   "cell_type": "code",
   "execution_count": null,
   "metadata": {},
   "outputs": [],
   "source": [
    "lista_pares = []\n",
    "lista_impares = []\n",
    "for i in range(0,30):\n",
    "  if i == 0:\n",
    "    None\n",
    "  elif i % 2 == 0:\n",
    "    lista_pares.append(i)\n",
    "  else:\n",
    "    lista_impares.append(i)\n",
    "\n",
    "print(lista_pares)\n",
    "print(lista_impares)"
   ]
  }
 ],
 "metadata": {
  "kernelspec": {
   "display_name": "Python 3",
   "language": "python",
   "name": "python3"
  },
  "language_info": {
   "codemirror_mode": {
    "name": "ipython",
    "version": 3
   },
   "file_extension": ".py",
   "mimetype": "text/x-python",
   "name": "python",
   "nbconvert_exporter": "python",
   "pygments_lexer": "ipython3",
   "version": "3.8.5"
  }
 },
 "nbformat": 4,
 "nbformat_minor": 4
}
