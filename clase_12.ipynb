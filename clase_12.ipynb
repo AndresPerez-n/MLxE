{
  "nbformat": 4,
  "nbformat_minor": 0,
  "metadata": {
    "colab": {
      "name": "clase_12.ipynb",
      "provenance": []
    },
    "kernelspec": {
      "name": "python3",
      "display_name": "Python 3"
    },
    "language_info": {
      "name": "python"
    }
  },
  "cells": [
    {
      "cell_type": "markdown",
      "metadata": {
        "id": "Sp1AoIfwSUKV"
      },
      "source": [
        "# Clase 12: Tree based (Decision tree, random forest, XGBoost)\n",
        "\n",
        "1. Agenda\n",
        " - Bootstrapping\n",
        " - Decision Tree\n",
        " - Random forest\n",
        " - XGBoost"
      ]
    },
    {
      "cell_type": "code",
      "metadata": {
        "id": "wwlUYP7o_LNs"
      },
      "source": [
        "pip install wooldridge"
      ],
      "execution_count": null,
      "outputs": []
    },
    {
      "cell_type": "code",
      "metadata": {
        "id": "XkwmPTn5TIfx"
      },
      "source": [
        "import matplotlib.pyplot as plt\n",
        "import numpy as np\n",
        "import pandas as pd\n",
        "import seaborn as sns\n",
        "import wooldridge as wd"
      ],
      "execution_count": null,
      "outputs": []
    },
    {
      "cell_type": "markdown",
      "metadata": {
        "id": "teeKg4MB1aRP"
      },
      "source": [
        "## Bootstrap\n",
        "\n",
        "Se utiliza para aproximar la distribución en el muestreo de un estadístico.\n",
        "\n",
        "### Algoritmo\n",
        "\n",
        "- Con una muestra dada de datos\n",
        "\n",
        "$$x={x_i;1,...,n}$$\n",
        "\n",
        "- Se seleccionan $B$ muestras bootstrap independientes cada una con $n$ elementos obtenidos de la muestra original.\n",
        "\n",
        "- Para cada muestra bootstrap se calcula el estadístico de interés $\\theta(b)=t(x_B)$\n",
        "\n",
        "- La muestra de estadísticos resultante será la distribución de probabilidades del estadístico.\n",
        "\n",
        "- Se puede calcular el error estándar como:\n",
        "\n",
        "$$se_B=\\bigg\\{\\frac{1}{B-1}\\sum_{b=1}^B[\\theta(b)-\\bar{\\theta}]^2 \\bigg\\}^{1/2}$$\n",
        "\n"
      ]
    },
    {
      "cell_type": "markdown",
      "metadata": {
        "id": "xOjW9UO4srBS"
      },
      "source": [
        "## Decision Tree\n",
        "\n",
        "Los métodos basados en árboles que se verán a continuación pueden ser utilizados tanto para regresión como para clasificación.\n",
        "\n",
        "El proceso para la construcción de un árbol de decisión es simple:\n",
        "\n",
        "1. Se divide el espacio de variables independientes en $J$ regiones diferentes sin traslaparse: \n",
        "\n",
        "$$R_1,R_2,...,R_J$$\n",
        "\n",
        "2. Para cada observación que cae en la región $R_j$ se hace la misma predicción, simplemente la media de las variables de respuesta para el número de observaciones en $R_j$.\n",
        "\n",
        "¿Cómo se construyen las regiones $R_1,...,R_J$? El objetivo es encontrar cajas $R_1,...,R_j$ que minimicen RSS\n",
        "\n",
        "$$\\sum_{j=1}^J\\sum_{i\\in R_j}(y_i-\\hat{y}_{R_j})^2$$\n",
        "\n",
        "Donde $\\hat{y}_{R_j}$ es la media de la variable de respuesta para las observaciones de entrenamiento dentro de la $j$-ésima caja.\n",
        "\n",
        "Aunque es la intención, es computacionalmente costoso llevarlo a cabo de esta forma. \n",
        "\n",
        "Para contrarrestar esto se puede hacer splitting binario recursivo. Se selecciona una variable $X_j$ y el punto de corte $s$ de tal forma que se devida el espacio de la variable en las regiones\n",
        "\n",
        "$$\\{X|X_j<s\\} \\text{ y }\\{X|X_j\\geq s\\}$$\n",
        "\n",
        "que lleven a la mayor reducción posible en RSS. \n",
        "\n",
        "Formalmente, para cualquier $j$ y $s$ se define un par de planos\n",
        "\n",
        "$$R_1(j,s)=\\{X|X_j <s\\} \\text{ y }R_2(j,s)=\\{X|X_j\\geq s\\}$$\n",
        "\n",
        "y se busca el valor de $j$ y $s$ que minimice la ecuación\n",
        "\n",
        "$$\\sum_{}(y_i-\\hat{y}_{R_1})^2+\\sum_{}(y_i-\\hat{y}_{R_2})^2$$\n",
        "\n",
        "El proceso continúa hasta que se alcance un criterio determinado.\n",
        "\n",
        "Es posible que este proceso pueda producir buenas predicciones en el conjunto de entrenamienot, pero puede llevar a un mal desempeño en el conjunto de testeo. Hay una estrategia y consiste en hacer crecer un árbol grande $T_0$ y podarlo para obtener un subárbol. ¿Cuál es la mejor forma de podar? Tomar cada subárbol es costoso computacionalmente, así que se toma una secuencia de árobles indexados por un parámetro no negativo $\\alpha$. Para cada valor de $\\alpha$ corresponde un subárbol $T$ $\\subset$ $T_0$ tal que\n",
        "\n",
        "$$\\sum_{m=1}^{|T|}\\sum_{i:x_i \\in R_m}(y_i-\\hat{y}_{R_m})^2+\\alpha|T|$$\n",
        "\n",
        "sea tan pequeño como sea posible.\n",
        "\n",
        "El algoritmo para regresión es el siguiente:\n",
        "\n",
        "1. Emplear splitting binario recursivo para hacer crecer un árbol, deteniéndose únicamente cuando cada nodo temrinal tenga menos de un número específico de observaciones.\n",
        "\n",
        "2. Aplicar cost complexity pruning al árbol para obtener una secuencia de mejores subárboles, como una función de $\\alpha$.\n",
        "\n",
        "3. Utilizar K-fold cross-validation para escoger $\\alpha$. Esto es dividir el conjunto de entrenamiento en $K$ folds para encontrar el mejor $\\alpha$.\n",
        "\n",
        "4. Devolver el árbol que corresponda con el mejor valor de $\\alpha$.\n",
        "\n",
        "Básicamente, hacer crecer un árbol y encontrar el que mejor parámetro $\\alpha$ tenga."
      ]
    },
    {
      "cell_type": "code",
      "metadata": {
        "id": "yWbxCsu8SSWV"
      },
      "source": [
        "from sklearn.tree import DecisionTreeRegressor\n",
        "from sklearn.model_selection import train_test_split\n",
        "from sklearn.metrics import mean_squared_error, mean_absolute_error, max_error"
      ],
      "execution_count": null,
      "outputs": []
    },
    {
      "cell_type": "code",
      "metadata": {
        "id": "iR6T6XYesLpt"
      },
      "source": [
        "gpa = wd.data('gpa1')"
      ],
      "execution_count": null,
      "outputs": []
    },
    {
      "cell_type": "code",
      "metadata": {
        "colab": {
          "base_uri": "https://localhost:8080/"
        },
        "id": "p5tiDhiuPyIS",
        "outputId": "65e0b9a9-dc34-41de-c88a-ec5d33c62375"
      },
      "source": [
        "wd.data('gpa1', description=True)"
      ],
      "execution_count": null,
      "outputs": [
        {
          "output_type": "stream",
          "name": "stdout",
          "text": [
            "name of dataset: gpa1\n",
            "no of variables: 29\n",
            "no of observations: 141\n",
            "\n",
            "+----------+--------------------------------+\n",
            "| variable | label                          |\n",
            "+----------+--------------------------------+\n",
            "| age      | in years                       |\n",
            "| soph     | =1 if sophomore                |\n",
            "| junior   | =1 if junior                   |\n",
            "| senior   | =1 if senior                   |\n",
            "| senior5  | =1 if fifth year senior        |\n",
            "| male     | =1 if male                     |\n",
            "| campus   | =1 if live on campus           |\n",
            "| business | =1 if business major           |\n",
            "| engineer | =1 if engineering major        |\n",
            "| colGPA   | MSU GPA                        |\n",
            "| hsGPA    | high school GPA                |\n",
            "| ACT      | 'achievement' score            |\n",
            "| job19    | =1 if job <= 19 hours          |\n",
            "| job20    | =1 if job >= 20 hours          |\n",
            "| drive    | =1 if drive to campus          |\n",
            "| bike     | =1 if bicycle to campus        |\n",
            "| walk     | =1 if walk to campus           |\n",
            "| voluntr  | =1 if do volunteer work        |\n",
            "| PC       | =1 of pers computer at sch     |\n",
            "| greek    | =1 if fraternity or sorority   |\n",
            "| car      | =1 if own car                  |\n",
            "| siblings | =1 if have siblings            |\n",
            "| bgfriend | =1 if boy- or girlfriend       |\n",
            "| clubs    | =1 if belong to MSU club       |\n",
            "| skipped  | avg lectures missed per week   |\n",
            "| alcohol  | avg # days per week drink alc. |\n",
            "| gradMI   | =1 if Michigan high school     |\n",
            "| fathcoll | =1 if father college grad      |\n",
            "| mothcoll | =1 if mother college grad      |\n",
            "+----------+--------------------------------+\n",
            "\n",
            "Christopher Lemmon, a former MSU undergraduate, collected these data\n",
            "from a survey he took of MSU students in Fall 1994.\n"
          ]
        }
      ]
    },
    {
      "cell_type": "code",
      "metadata": {
        "colab": {
          "base_uri": "https://localhost:8080/",
          "height": 296
        },
        "id": "4sFraDsg_ay-",
        "outputId": "21a027ca-d4cb-4a23-8f02-963cc3c67580"
      },
      "source": [
        "sns.histplot(data=gpa, x='colGPA', bins=15)"
      ],
      "execution_count": null,
      "outputs": [
        {
          "output_type": "execute_result",
          "data": {
            "text/plain": [
              "<matplotlib.axes._subplots.AxesSubplot at 0x7f2e3b386b10>"
            ]
          },
          "metadata": {},
          "execution_count": 7
        },
        {
          "output_type": "display_data",
          "data": {
            "image/png": "[encoded data removed]",
            "text/plain": [
              "<Figure size 432x288 with 1 Axes>"
            ]
          },
          "metadata": {
            "needs_background": "light"
          }
        }
      ]
    },
    {
      "cell_type": "code",
      "metadata": {
        "id": "l9AqJZKe_x8X"
      },
      "source": [
        "X = gpa.filter(['PC','hsGPA','ACT'])\n",
        "y = gpa.pop('colGPA')"
      ],
      "execution_count": null,
      "outputs": []
    },
    {
      "cell_type": "code",
      "metadata": {
        "id": "t_U45Au4_6dO"
      },
      "source": [
        "X_train, X_test, y_train, y_test = train_test_split(X,y, test_size=0.2, random_state=42)"
      ],
      "execution_count": null,
      "outputs": []
    },
    {
      "cell_type": "code",
      "metadata": {
        "colab": {
          "base_uri": "https://localhost:8080/"
        },
        "id": "Zc2t8KYy_6W9",
        "outputId": "7efecb4b-954a-4361-d5c2-7c5293ed2e91"
      },
      "source": [
        "reg_tree = DecisionTreeRegressor(max_depth=4)\n",
        "reg_tree.fit(X_train, y_train)"
      ],
      "execution_count": null,
      "outputs": [
        {
          "output_type": "execute_result",
          "data": {
            "text/plain": [
              "DecisionTreeRegressor(ccp_alpha=0.0, criterion='mse', max_depth=4,\n",
              "                      max_features=None, max_leaf_nodes=None,\n",
              "                      min_impurity_decrease=0.0, min_impurity_split=None,\n",
              "                      min_samples_leaf=1, min_samples_split=2,\n",
              "                      min_weight_fraction_leaf=0.0, presort='deprecated',\n",
              "                      random_state=None, splitter='best')"
            ]
          },
          "metadata": {},
          "execution_count": 15
        }
      ]
    },
    {
      "cell_type": "code",
      "metadata": {
        "id": "AjVwuZvqARrM"
      },
      "source": [
        "y_pred = reg_tree.predict(X_test)\n",
        "y_fit_train = reg_tree.predict(X_train)"
      ],
      "execution_count": null,
      "outputs": []
    },
    {
      "cell_type": "code",
      "metadata": {
        "id": "HyHH35yKARad"
      },
      "source": [
        "def metricas(y_true, y_pred):\n",
        "  print(f'MSE: {mean_squared_error(y_true, y_pred)}')\n",
        "  print(f'MAE: {mean_absolute_error(y_true, y_pred)}')\n",
        "  print(f'RMSE: {np.sqrt(mean_squared_error(y_true,y_pred))}')"
      ],
      "execution_count": null,
      "outputs": []
    },
    {
      "cell_type": "code",
      "metadata": {
        "colab": {
          "base_uri": "https://localhost:8080/"
        },
        "id": "whBLs20L_6P9",
        "outputId": "b6cb0a51-e27e-4837-d026-b60c1143b7e0"
      },
      "source": [
        "print('Métricas del entrenamiento',end='\\n')\n",
        "print('---'*10)\n",
        "metricas(y_train, y_fit_train)\n",
        "print('---'*10)\n",
        "print('Métricas del testeo')\n",
        "print('---'*10)\n",
        "metricas(y_test, y_pred)"
      ],
      "execution_count": null,
      "outputs": [
        {
          "output_type": "stream",
          "name": "stdout",
          "text": [
            "Métricas del entrenamiento\n",
            "------------------------------\n",
            "MSE: 0.08627729899187123\n",
            "MAE: 0.23557414744824343\n",
            "RMSE: 0.29372997632497644\n",
            "------------------------------\n",
            "Métricas del testeo\n",
            "------------------------------\n",
            "MSE: 0.1054165372866283\n",
            "MAE: 0.23599054827893243\n",
            "RMSE: 0.32467912973677304\n"
          ]
        }
      ]
    },
    {
      "cell_type": "code",
      "metadata": {
        "id": "lZrBkYCUB16F",
        "colab": {
          "base_uri": "https://localhost:8080/",
          "height": 605
        },
        "outputId": "d9735e4a-eb77-49ef-af9e-0fe1851c9436"
      },
      "source": [
        "from sklearn import tree\n",
        "\n",
        "tree.plot_tree(reg_tree)"
      ],
      "execution_count": null,
      "outputs": [
        {
          "output_type": "execute_result",
          "data": {
            "text/plain": [
              "[Text(193.55625, 195.696, 'X[1] <= 3.85\\nmse = 0.138\\nsamples = 112\\nvalue = 3.043'),\n",
              " Text(136.01250000000002, 152.208, 'X[1] <= 3.15\\nmse = 0.116\\nsamples = 105\\nvalue = 3.007'),\n",
              " Text(83.7, 108.72, 'X[0] <= 0.5\\nmse = 0.13\\nsamples = 27\\nvalue = 2.833'),\n",
              " Text(41.85, 65.232, 'X[2] <= 23.5\\nmse = 0.071\\nsamples = 17\\nvalue = 2.759'),\n",
              " Text(20.925, 21.744, 'mse = 0.031\\nsamples = 11\\nvalue = 2.636'),\n",
              " Text(62.775000000000006, 21.744, 'mse = 0.065\\nsamples = 6\\nvalue = 2.983'),\n",
              " Text(125.55000000000001, 65.232, 'X[1] <= 2.8\\nmse = 0.204\\nsamples = 10\\nvalue = 2.96'),\n",
              " Text(104.625, 21.744, 'mse = 0.002\\nsamples = 2\\nvalue = 2.55'),\n",
              " Text(146.475, 21.744, 'mse = 0.202\\nsamples = 8\\nvalue = 3.062'),\n",
              " Text(188.32500000000002, 108.72, 'X[2] <= 17.5\\nmse = 0.098\\nsamples = 78\\nvalue = 3.067'),\n",
              " Text(167.4, 65.232, 'mse = 0.0\\nsamples = 1\\nvalue = 3.5'),\n",
              " Text(209.25, 65.232, 'X[1] <= 3.65\\nmse = 0.096\\nsamples = 77\\nvalue = 3.061'),\n",
              " Text(188.32500000000002, 21.744, 'mse = 0.102\\nsamples = 60\\nvalue = 3.035'),\n",
              " Text(230.175, 21.744, 'mse = 0.065\\nsamples = 17\\nvalue = 3.153'),\n",
              " Text(251.10000000000002, 152.208, 'X[0] <= 0.5\\nmse = 0.15\\nsamples = 7\\nvalue = 3.586'),\n",
              " Text(230.175, 108.72, 'mse = 0.0\\nsamples = 1\\nvalue = 3.0'),\n",
              " Text(272.02500000000003, 108.72, 'X[2] <= 25.5\\nmse = 0.108\\nsamples = 6\\nvalue = 3.683'),\n",
              " Text(251.10000000000002, 65.232, 'mse = 0.0\\nsamples = 1\\nvalue = 3.0'),\n",
              " Text(292.95, 65.232, 'X[1] <= 3.95\\nmse = 0.018\\nsamples = 5\\nvalue = 3.82'),\n",
              " Text(272.02500000000003, 21.744, 'mse = 0.016\\nsamples = 3\\nvalue = 3.767'),\n",
              " Text(313.875, 21.744, 'mse = 0.01\\nsamples = 2\\nvalue = 3.9')]"
            ]
          },
          "metadata": {},
          "execution_count": 19
        },
        {
          "output_type": "display_data",
          "data": {
            "image/png": "[encoded data removed]",
            "text/plain": [
              "<Figure size 432x288 with 1 Axes>"
            ]
          },
          "metadata": {
            "needs_background": "light"
          }
        }
      ]
    },
    {
      "cell_type": "code",
      "metadata": {
        "id": "osdXa1p5Cuxu"
      },
      "source": [
        "wage1 = wd.data('wage1')"
      ],
      "execution_count": null,
      "outputs": []
    },
    {
      "cell_type": "code",
      "metadata": {
        "id": "2qY8xo4oCyyv"
      },
      "source": [
        "X = wage1.filter(['female','educ','exper','tenure'])\n",
        "y = wage1.pop('wage')"
      ],
      "execution_count": null,
      "outputs": []
    },
    {
      "cell_type": "code",
      "metadata": {
        "id": "TGyzH56FCysM"
      },
      "source": [
        "X_train, X_test, y_train, y_test = train_test_split(X, y, test_size=0.2, random_state=42)"
      ],
      "execution_count": null,
      "outputs": []
    },
    {
      "cell_type": "code",
      "metadata": {
        "colab": {
          "base_uri": "https://localhost:8080/"
        },
        "id": "i3b51c21DBPs",
        "outputId": "ee61383b-f9d4-4a66-d6b0-b9129e27ae1b"
      },
      "source": [
        "reg_tree2 = DecisionTreeRegressor(max_depth=3)\n",
        "reg_tree2.fit(X_train, y_train)"
      ],
      "execution_count": null,
      "outputs": [
        {
          "output_type": "execute_result",
          "data": {
            "text/plain": [
              "DecisionTreeRegressor(ccp_alpha=0.0, criterion='mse', max_depth=3,\n",
              "                      max_features=None, max_leaf_nodes=None,\n",
              "                      min_impurity_decrease=0.0, min_impurity_split=None,\n",
              "                      min_samples_leaf=1, min_samples_split=2,\n",
              "                      min_weight_fraction_leaf=0.0, presort='deprecated',\n",
              "                      random_state=None, splitter='best')"
            ]
          },
          "metadata": {},
          "execution_count": 27
        }
      ]
    },
    {
      "cell_type": "code",
      "metadata": {
        "id": "zDngQLnMDBHi"
      },
      "source": [
        "y_pred = reg_tree2.predict(X_test)\n",
        "y_pred_train = reg_tree2.predict(X_train)"
      ],
      "execution_count": null,
      "outputs": []
    },
    {
      "cell_type": "code",
      "metadata": {
        "colab": {
          "base_uri": "https://localhost:8080/"
        },
        "id": "a1jt6u-eDA-q",
        "outputId": "6b4df6bf-4dcf-45b3-ae31-307f0119ca1a"
      },
      "source": [
        "print('Métricas del entrenamiento',end='\\n')\n",
        "print('---'*10)\n",
        "metricas(y_train, y_pred_train)\n",
        "print('---'*10)\n",
        "print('Métricas del testeo')\n",
        "print('---'*10)\n",
        "metricas(y_test, y_pred)"
      ],
      "execution_count": null,
      "outputs": [
        {
          "output_type": "stream",
          "name": "stdout",
          "text": [
            "Métricas del entrenamiento\n",
            "------------------------------\n",
            "MSE: 8.189002058642126\n",
            "MAE: 1.9846693877965496\n",
            "RMSE: 2.8616432444737283\n",
            "------------------------------\n",
            "Métricas del testeo\n",
            "------------------------------\n",
            "MSE: 9.434193648199999\n",
            "MAE: 2.1117408786822827\n",
            "RMSE: 3.071513250533033\n"
          ]
        }
      ]
    },
    {
      "cell_type": "code",
      "metadata": {
        "id": "5dUxaKz0DA2_",
        "colab": {
          "base_uri": "https://localhost:8080/",
          "height": 503
        },
        "outputId": "cb499386-bc15-4df8-a5d7-156f2edabc0d"
      },
      "source": [
        "tree.plot_tree(reg_tree2)"
      ],
      "execution_count": null,
      "outputs": [
        {
          "output_type": "execute_result",
          "data": {
            "text/plain": [
              "[Text(167.4, 190.26, 'X[1] <= 15.5\\nmse = 13.533\\nsamples = 420\\nvalue = 5.859'),\n",
              " Text(83.7, 135.9, 'X[3] <= 2.5\\nmse = 8.628\\nsamples = 344\\nvalue = 5.195'),\n",
              " Text(41.85, 81.53999999999999, 'X[0] <= 0.5\\nmse = 3.86\\nsamples = 177\\nvalue = 4.171'),\n",
              " Text(20.925, 27.180000000000007, 'mse = 5.92\\nsamples = 76\\nvalue = 4.884'),\n",
              " Text(62.775000000000006, 27.180000000000007, 'mse = 1.64\\nsamples = 101\\nvalue = 3.635'),\n",
              " Text(125.55000000000001, 81.53999999999999, 'X[0] <= 0.5\\nmse = 11.393\\nsamples = 167\\nvalue = 6.281'),\n",
              " Text(104.625, 27.180000000000007, 'mse = 14.679\\nsamples = 93\\nvalue = 7.175'),\n",
              " Text(146.475, 27.180000000000007, 'mse = 4.992\\nsamples = 74\\nvalue = 5.156'),\n",
              " Text(251.10000000000002, 135.9, 'X[3] <= 4.5\\nmse = 24.708\\nsamples = 76\\nvalue = 8.864'),\n",
              " Text(209.25, 81.53999999999999, 'X[2] <= 9.5\\nmse = 10.207\\nsamples = 56\\nvalue = 7.287'),\n",
              " Text(188.32500000000002, 27.180000000000007, 'mse = 5.181\\nsamples = 39\\nvalue = 6.452'),\n",
              " Text(230.175, 27.180000000000007, 'mse = 16.464\\nsamples = 17\\nvalue = 9.204'),\n",
              " Text(292.95, 81.53999999999999, 'X[3] <= 21.5\\nmse = 38.85\\nsamples = 20\\nvalue = 13.28'),\n",
              " Text(272.02500000000003, 27.180000000000007, 'mse = 33.708\\nsamples = 17\\nvalue = 12.056'),\n",
              " Text(313.875, 27.180000000000007, 'mse = 11.433\\nsamples = 3\\nvalue = 20.213')]"
            ]
          },
          "metadata": {},
          "execution_count": 30
        },
        {
          "output_type": "display_data",
          "data": {
            "image/png": "[encoded data removed]",
            "text/plain": [
              "<Figure size 432x288 with 1 Axes>"
            ]
          },
          "metadata": {
            "needs_background": "light"
          }
        }
      ]
    },
    {
      "cell_type": "markdown",
      "metadata": {
        "id": "_gGIKxBTEEAi"
      },
      "source": [
        "### Árboles de clasificación\n",
        "\n",
        "El proceso es similar al de un árbol de regresión. Para el problema de regresión, la respuesta predicha para una observación es dada por la media de la respuesta de las observaciones de entrenamiento que pertenecen al mismo nodo. Para los árboles de decisión, se predice que cada observación pertenece a la clase más común en las observaciones de entrenamiento que pertenecen al nodo en cuestión.\n",
        "\n",
        "La diferencia radica en que en este caso no se puede utilizar RSS como criterio para hacer los splits binarios. En su lugar pueden ser utilizados el índice Gini o la entropía:\n",
        "\n",
        "$$G=\\sum_{k=1}^K\\hat{p}_{mk}(1-\\hat{p}_{mk})$$\n",
        "\n",
        "$$D=-\\sum_{k=1}^K\\hat{p}_{mk}\\log \\hat{p}_{mk}$$\n",
        "\n",
        "Cuando se está construyendo un árbol de clasificación, cualquier de los dos es utilizado para evaluar la calidad de un split específico. Pueden ser utilizados para podar el árbol, pero si el ojetivo es la precisión de la predicción la tasa de error de clasificación puede ser mejor \n",
        "\n",
        "$$E=1-\\max_k(\\hat{p}_{mk})$$"
      ]
    },
    {
      "cell_type": "code",
      "metadata": {
        "id": "eViwB8gHEE36"
      },
      "source": [
        "from sklearn.tree import DecisionTreeClassifier\n",
        "from sklearn.metrics import accuracy_score, precision_score, recall_score, confusion_matrix\n",
        "from sklearn.datasets import load_iris"
      ],
      "execution_count": null,
      "outputs": []
    },
    {
      "cell_type": "code",
      "metadata": {
        "id": "Vg8Mi01bUX4Y"
      },
      "source": [
        "iris = load_iris()"
      ],
      "execution_count": null,
      "outputs": []
    },
    {
      "cell_type": "code",
      "metadata": {
        "id": "JqWn3zJCE0lE"
      },
      "source": [
        "X = iris['data']\n",
        "y = iris['target']"
      ],
      "execution_count": null,
      "outputs": []
    },
    {
      "cell_type": "code",
      "metadata": {
        "id": "8eyBeTPEEcYz"
      },
      "source": [
        "X_train, X_test, y_train, y_test = train_test_split(X,y, test_size=0.2, random_state=42)"
      ],
      "execution_count": null,
      "outputs": []
    },
    {
      "cell_type": "code",
      "metadata": {
        "colab": {
          "base_uri": "https://localhost:8080/"
        },
        "id": "6e_MVzJTEcPT",
        "outputId": "305fd2b1-5f2a-484b-afc6-a7130ae28275"
      },
      "source": [
        "clsr = DecisionTreeClassifier(max_depth=4)\n",
        "clsr.fit(X_train, y_train)"
      ],
      "execution_count": null,
      "outputs": [
        {
          "output_type": "execute_result",
          "data": {
            "text/plain": [
              "DecisionTreeClassifier(ccp_alpha=0.0, class_weight=None, criterion='gini',\n",
              "                       max_depth=4, max_features=None, max_leaf_nodes=None,\n",
              "                       min_impurity_decrease=0.0, min_impurity_split=None,\n",
              "                       min_samples_leaf=1, min_samples_split=2,\n",
              "                       min_weight_fraction_leaf=0.0, presort='deprecated',\n",
              "                       random_state=None, splitter='best')"
            ]
          },
          "metadata": {},
          "execution_count": 46
        }
      ]
    },
    {
      "cell_type": "code",
      "metadata": {
        "id": "K-PmK-taEcF3"
      },
      "source": [
        "y_pred = clsr.predict(X_test)\n",
        "y_fit_train = clsr.predict(X_train)"
      ],
      "execution_count": null,
      "outputs": []
    },
    {
      "cell_type": "code",
      "metadata": {
        "id": "6UAzuRx1Eb92"
      },
      "source": [
        "def metricas_clas(y_true, y_pred):\n",
        "  print(f'Accuracy: {accuracy_score(y_true, y_pred)}')\n",
        "  print(f\"Precision: {precision_score(y_true, y_pred, average='weighted')}\")\n",
        "  print(f\"Recall: {recall_score(y_true, y_pred,average='weighted')}\")"
      ],
      "execution_count": null,
      "outputs": []
    },
    {
      "cell_type": "code",
      "metadata": {
        "colab": {
          "base_uri": "https://localhost:8080/"
        },
        "id": "wtZwEdNjEb1P",
        "outputId": "618bc97e-3b7a-4b10-cc61-82accb364570"
      },
      "source": [
        "print('---'*10)\n",
        "print('Métricas en entrenamiento')\n",
        "print('---'*10)\n",
        "metricas_clas(y_train, y_fit_train)\n",
        "print('---'*10)\n",
        "print('Métricas en testeo')\n",
        "print('---'*10)\n",
        "metricas_clas(y_test, y_pred)"
      ],
      "execution_count": null,
      "outputs": [
        {
          "output_type": "stream",
          "name": "stdout",
          "text": [
            "------------------------------\n",
            "Métricas en entrenamiento\n",
            "------------------------------\n",
            "Accuracy: 0.975\n",
            "Precision: 0.9767857142857144\n",
            "Recall: 0.975\n",
            "------------------------------\n",
            "Métricas en testeo\n",
            "------------------------------\n",
            "Accuracy: 1.0\n",
            "Precision: 1.0\n",
            "Recall: 1.0\n"
          ]
        }
      ]
    },
    {
      "cell_type": "code",
      "metadata": {
        "colab": {
          "base_uri": "https://localhost:8080/",
          "height": 282
        },
        "id": "BCDddql0GnIJ",
        "outputId": "8fc5cb04-def9-4469-e4bc-6fed2cc866ef"
      },
      "source": [
        "cm = confusion_matrix(y_test, y_pred)\n",
        "sns.heatmap(cm, annot=True)"
      ],
      "execution_count": null,
      "outputs": [
        {
          "output_type": "execute_result",
          "data": {
            "text/plain": [
              "<matplotlib.axes._subplots.AxesSubplot at 0x7f2e39ffe990>"
            ]
          },
          "metadata": {},
          "execution_count": 50
        },
        {
          "output_type": "display_data",
          "data": {
            "image/png": "[encoded data removed]",
            "text/plain": [
              "<Figure size 432x288 with 2 Axes>"
            ]
          },
          "metadata": {
            "needs_background": "light"
          }
        }
      ]
    },
    {
      "cell_type": "code",
      "metadata": {
        "colab": {
          "base_uri": "https://localhost:8080/",
          "height": 469
        },
        "id": "Sw-2MNCOG6IN",
        "outputId": "890daa47-84e1-41da-c3df-bd66e23f56b4"
      },
      "source": [
        "tree.plot_tree(clsr)"
      ],
      "execution_count": null,
      "outputs": [
        {
          "output_type": "execute_result",
          "data": {
            "text/plain": [
              "[Text(106.52727272727273, 195.696, 'X[2] <= 2.45\\ngini = 0.667\\nsamples = 120\\nvalue = [40, 41, 39]'),\n",
              " Text(76.0909090909091, 152.208, 'gini = 0.0\\nsamples = 40\\nvalue = [40, 0, 0]'),\n",
              " Text(136.96363636363637, 152.208, 'X[2] <= 4.75\\ngini = 0.5\\nsamples = 80\\nvalue = [0, 41, 39]'),\n",
              " Text(60.872727272727275, 108.72, 'X[3] <= 1.65\\ngini = 0.053\\nsamples = 37\\nvalue = [0, 36, 1]'),\n",
              " Text(30.436363636363637, 65.232, 'gini = 0.0\\nsamples = 36\\nvalue = [0, 36, 0]'),\n",
              " Text(91.30909090909091, 65.232, 'gini = 0.0\\nsamples = 1\\nvalue = [0, 0, 1]'),\n",
              " Text(213.05454545454546, 108.72, 'X[3] <= 1.75\\ngini = 0.206\\nsamples = 43\\nvalue = [0, 5, 38]'),\n",
              " Text(152.1818181818182, 65.232, 'X[2] <= 4.95\\ngini = 0.5\\nsamples = 8\\nvalue = [0, 4, 4]'),\n",
              " Text(121.74545454545455, 21.744, 'gini = 0.0\\nsamples = 2\\nvalue = [0, 2, 0]'),\n",
              " Text(182.61818181818182, 21.744, 'gini = 0.444\\nsamples = 6\\nvalue = [0, 2, 4]'),\n",
              " Text(273.92727272727274, 65.232, 'X[2] <= 4.85\\ngini = 0.056\\nsamples = 35\\nvalue = [0, 1, 34]'),\n",
              " Text(243.4909090909091, 21.744, 'gini = 0.444\\nsamples = 3\\nvalue = [0, 1, 2]'),\n",
              " Text(304.3636363636364, 21.744, 'gini = 0.0\\nsamples = 32\\nvalue = [0, 0, 32]')]"
            ]
          },
          "metadata": {},
          "execution_count": 51
        },
        {
          "output_type": "display_data",
          "data": {
            "image/png": "[encoded data removed]",
            "text/plain": [
              "<Figure size 432x288 with 1 Axes>"
            ]
          },
          "metadata": {
            "needs_background": "light"
          }
        }
      ]
    },
    {
      "cell_type": "markdown",
      "metadata": {
        "id": "lD1CuR3yEFad"
      },
      "source": [
        "### Ventajas y desventajas de los árboles de decisión\n",
        "\n",
        "#### Ventajas\n",
        "\n",
        "- Son fáciles de explicar a las personas. Son incluso más fáciles de explicar que la regresión lineal.\n",
        "- Se cree que se parece más a la forma en que una persona toma decisiones que otros modelos.\n",
        "- Los árboles pueden trabajar con variables cualitativas sin la necesidad de crear variables dummy. \n",
        "#### Desventajas\n",
        "\n",
        "- No tienen usualmente la misma precisión de otros modelos de regresión y clasificación.\n",
        "\n",
        "- Los árboles pueden ser poco robustos. Un pequeño cambio en los datos puede provocar un gran cambio en el árbol estimado final.\n",
        "\n",
        "Todo esto se puede mejorar a través de random forests y metodologías de boosting."
      ]
    },
    {
      "cell_type": "markdown",
      "metadata": {
        "id": "LlNqM7mtssnm"
      },
      "source": [
        "## Random Forest\n",
        "\n",
        "Una forma de reducir la varianza de un estimador es promediar juntos varios estimadores. Por ejemplo, se pueden entrenar $M$ árboles diferentes en diferentes subconjuntos de los datos, seleccionados aleatoriamente con remplazo, y así computar el ensable\n",
        "\n",
        "$$f(\\textbf{x})=\\sum_{m=1}^M\\frac{1}{M}f_m(\\textbf{x})$$\n",
        "\n",
        "donde $f_m$ es el árbol $m$-ésimo. Esto es conocido como bagging, que proviene de \"bootstrap aggregating\".\n",
        "\n",
        "No obstante, las consecuencias de estos puede ser que se tengan variables predictoras altamente correlacionadas, lo cuál limita el monto de reducción de varianza posible.\n",
        "\n",
        "La técnica de \"Random forest\" intenta evitar esta correlación creando árboles basados en selección aleatoria subconjunto de variables predictores, así como un subconjunto del total de los datos.\n",
        "\n",
        "Como en el bagging, se construyen un número de árboles de decisión en muestras boostrap de entrenamiento. Pero cuando estos árboles de decisión se van construir, cada vez que se considera un split en el árbol, se toma una muestra aleatoria de $m$ variables predictoras del conjunto total de $p$ variables existentes.\n",
        "\n",
        "La técnica de RF puede que no tome en cuenta la mayoría de las variables. ¿Por qué?\n",
        "\n",
        "Suponga que hay una predictora fuerte, junto con predictoras moderadas. En el bagging, la mayoría o todos los árboles utilizarán la predictora fuerte, como consecuencia los árboles serán muy similares entre sí. RF fuerza que cada split considere solo un subconjunto de las predictoras. \n",
        "\n",
        "Si $m=p$ se tiene bagging, usualmente para RF se piensa en $m=\\sqrt{p}$"
      ]
    },
    {
      "cell_type": "code",
      "metadata": {
        "id": "DYA9YSvbsutv"
      },
      "source": [
        "from sklearn.ensemble import RandomForestClassifier, RandomForestRegressor\n",
        "from sklearn.datasets import make_regression, make_classification"
      ],
      "execution_count": null,
      "outputs": []
    },
    {
      "cell_type": "code",
      "metadata": {
        "id": "B7OSQNmvsvCQ"
      },
      "source": [
        "X, y = make_classification(n_samples=1000,n_features=4)"
      ],
      "execution_count": null,
      "outputs": []
    },
    {
      "cell_type": "code",
      "metadata": {
        "id": "vG5FsVI6dwgi"
      },
      "source": [
        "X_train, X_test, y_train, y_test = train_test_split(X,y, test_size=0.2, random_state=42)"
      ],
      "execution_count": null,
      "outputs": []
    },
    {
      "cell_type": "code",
      "metadata": {
        "colab": {
          "base_uri": "https://localhost:8080/"
        },
        "id": "Z1jl2XRyd_f6",
        "outputId": "6492bfa8-445d-4ea8-9075-01853b76e8b5"
      },
      "source": [
        "rf_cls = RandomForestClassifier(n_estimators=10)\n",
        "rf_cls.fit(X_train,y_train)"
      ],
      "execution_count": null,
      "outputs": [
        {
          "output_type": "execute_result",
          "data": {
            "text/plain": [
              "RandomForestClassifier(bootstrap=True, ccp_alpha=0.0, class_weight=None,\n",
              "                       criterion='gini', max_depth=None, max_features='auto',\n",
              "                       max_leaf_nodes=None, max_samples=None,\n",
              "                       min_impurity_decrease=0.0, min_impurity_split=None,\n",
              "                       min_samples_leaf=1, min_samples_split=2,\n",
              "                       min_weight_fraction_leaf=0.0, n_estimators=10,\n",
              "                       n_jobs=None, oob_score=False, random_state=None,\n",
              "                       verbose=0, warm_start=False)"
            ]
          },
          "metadata": {},
          "execution_count": 61
        }
      ]
    },
    {
      "cell_type": "code",
      "metadata": {
        "id": "NOEiKu7aeIVM"
      },
      "source": [
        "y_fit_train = rf_cls.predict(X_train)\n",
        "y_pred = rf_cls.predict(X_test)"
      ],
      "execution_count": null,
      "outputs": []
    },
    {
      "cell_type": "code",
      "metadata": {
        "colab": {
          "base_uri": "https://localhost:8080/"
        },
        "id": "FGZQCzihd_VG",
        "outputId": "1ac36380-d903-45cb-e447-561416bafb8e"
      },
      "source": [
        "print('---'*10)\n",
        "print('Métricas en entrenamiento')\n",
        "print('---'*10)\n",
        "metricas_clas(y_train, y_fit_train)\n",
        "print('---'*10)\n",
        "print('Métricas en testeo')\n",
        "print('---'*10)\n",
        "metricas_clas(y_test, y_pred)"
      ],
      "execution_count": null,
      "outputs": [
        {
          "output_type": "stream",
          "name": "stdout",
          "text": [
            "------------------------------\n",
            "Métricas en entrenamiento\n",
            "------------------------------\n",
            "Accuracy: 0.995\n",
            "Precision: 0.9950130052020808\n",
            "Recall: 0.995\n",
            "------------------------------\n",
            "Métricas en testeo\n",
            "------------------------------\n",
            "Accuracy: 0.865\n",
            "Precision: 0.8651177944862155\n",
            "Recall: 0.865\n"
          ]
        }
      ]
    },
    {
      "cell_type": "code",
      "metadata": {
        "colab": {
          "base_uri": "https://localhost:8080/",
          "height": 282
        },
        "id": "wms5g2ndd_KK",
        "outputId": "f6792cd5-6236-4c33-91ad-597c70582d41"
      },
      "source": [
        "cm = confusion_matrix(y_test, y_pred)\n",
        "sns.heatmap(cm, annot=True)"
      ],
      "execution_count": null,
      "outputs": [
        {
          "output_type": "execute_result",
          "data": {
            "text/plain": [
              "<matplotlib.axes._subplots.AxesSubplot at 0x7f2e2ea22390>"
            ]
          },
          "metadata": {},
          "execution_count": 64
        },
        {
          "output_type": "display_data",
          "data": {
            "image/png": "[encoded data removed]",
            "text/plain": [
              "<Figure size 432x288 with 2 Axes>"
            ]
          },
          "metadata": {
            "needs_background": "light"
          }
        }
      ]
    },
    {
      "cell_type": "code",
      "metadata": {
        "id": "hOy7Gv7id-_u"
      },
      "source": [
        "X, y = make_regression(n_samples=1000, n_features=4, noise=0.2)"
      ],
      "execution_count": null,
      "outputs": []
    },
    {
      "cell_type": "code",
      "metadata": {
        "id": "XfK9fKcHd-0T"
      },
      "source": [
        "X_train, X_test, y_train, y_test = train_test_split(X,y, test_size=0.2, random_state=42)"
      ],
      "execution_count": null,
      "outputs": []
    },
    {
      "cell_type": "code",
      "metadata": {
        "colab": {
          "base_uri": "https://localhost:8080/"
        },
        "id": "v88R2vkHfL_n",
        "outputId": "d58050a0-4a92-453c-d97f-11950f97eb2e"
      },
      "source": [
        "rf_reg = RandomForestRegressor(max_depth=4, n_estimators=20)\n",
        "rf_reg.fit(X_train, y_train)"
      ],
      "execution_count": null,
      "outputs": [
        {
          "output_type": "execute_result",
          "data": {
            "text/plain": [
              "RandomForestRegressor(bootstrap=True, ccp_alpha=0.0, criterion='mse',\n",
              "                      max_depth=4, max_features='auto', max_leaf_nodes=None,\n",
              "                      max_samples=None, min_impurity_decrease=0.0,\n",
              "                      min_impurity_split=None, min_samples_leaf=1,\n",
              "                      min_samples_split=2, min_weight_fraction_leaf=0.0,\n",
              "                      n_estimators=20, n_jobs=None, oob_score=False,\n",
              "                      random_state=None, verbose=0, warm_start=False)"
            ]
          },
          "metadata": {},
          "execution_count": 75
        }
      ]
    },
    {
      "cell_type": "code",
      "metadata": {
        "id": "H_byXjikfLzT"
      },
      "source": [
        "y_fit_train = rf_reg.predict(X_train)\n",
        "y_pred = rf_reg.predict(X_test)"
      ],
      "execution_count": null,
      "outputs": []
    },
    {
      "cell_type": "code",
      "metadata": {
        "colab": {
          "base_uri": "https://localhost:8080/"
        },
        "id": "IOrJ-DG1fLnR",
        "outputId": "4e0f0092-786f-4588-cd9d-8b5af52ef01c"
      },
      "source": [
        "print('Métricas del entrenamiento',end='\\n')\n",
        "print('---'*10)\n",
        "metricas(y_train, y_fit_train)\n",
        "print('---'*10)\n",
        "print('Métricas del testeo')\n",
        "print('---'*10)\n",
        "metricas(y_test, y_pred)"
      ],
      "execution_count": null,
      "outputs": [
        {
          "output_type": "stream",
          "name": "stdout",
          "text": [
            "Métricas del entrenamiento\n",
            "------------------------------\n",
            "MSE: 2001.5758017794221\n",
            "MAE: 34.844321591781004\n",
            "RMSE: 44.73897408054215\n",
            "------------------------------\n",
            "Métricas del testeo\n",
            "------------------------------\n",
            "MSE: 2599.5026269032955\n",
            "MAE: 40.36237930112169\n",
            "RMSE: 50.98531775818697\n"
          ]
        }
      ]
    },
    {
      "cell_type": "code",
      "metadata": {
        "colab": {
          "base_uri": "https://localhost:8080/"
        },
        "id": "pbmVW3QoZhTD",
        "outputId": "c41bcaeb-f874-4dbf-a7fe-24db1dabe207"
      },
      "source": [
        "prof = [2,3,4,5]\n",
        "n_est = [10,20,30,50,100]\n",
        "\n",
        "for i in prof:\n",
        "  for j in n_est:\n",
        "    rf_reg = RandomForestRegressor(max_depth=i, n_estimators=j)\n",
        "    rf_reg.fit(X_train, y_train)\n",
        "    y_fit_train = rf_reg.predict(X_train)\n",
        "    y_pred = rf_reg.predict(X_test)\n",
        "    print(f'max_depth = {i}, n_estimators = {j}')\n",
        "    print('---'*10)\n",
        "    print('Métricas del entrenamiento',end='\\n')\n",
        "    print('---'*10)\n",
        "    metricas(y_train, y_fit_train)\n",
        "    print('---'*10)\n",
        "    print('Métricas del testeo')\n",
        "    print('---'*10)\n",
        "    metricas(y_test, y_pred)\n"
      ],
      "execution_count": null,
      "outputs": [
        {
          "output_type": "stream",
          "name": "stdout",
          "text": [
            "max_depth = 2, n_estimators = 10\n",
            "------------------------------\n",
            "Métricas del entrenamiento\n",
            "------------------------------\n",
            "MSE: 5734.82562142832\n",
            "MAE: 59.37016363164548\n",
            "RMSE: 75.72863145091372\n",
            "------------------------------\n",
            "Métricas del testeo\n",
            "------------------------------\n",
            "MSE: 6434.586591821818\n",
            "MAE: 61.94134404302212\n",
            "RMSE: 80.21587493646017\n",
            "max_depth = 2, n_estimators = 20\n",
            "------------------------------\n",
            "Métricas del entrenamiento\n",
            "------------------------------\n",
            "MSE: 5744.625798296284\n",
            "MAE: 59.49437184919455\n",
            "RMSE: 75.79330971989734\n",
            "------------------------------\n",
            "Métricas del testeo\n",
            "------------------------------\n",
            "MSE: 6548.520387014764\n",
            "MAE: 62.78338352203069\n",
            "RMSE: 80.92292868535323\n",
            "max_depth = 2, n_estimators = 30\n",
            "------------------------------\n",
            "Métricas del entrenamiento\n",
            "------------------------------\n",
            "MSE: 5530.274103493309\n",
            "MAE: 58.44870920728802\n",
            "RMSE: 74.36581273336094\n",
            "------------------------------\n",
            "Métricas del testeo\n",
            "------------------------------\n",
            "MSE: 6257.286004393155\n",
            "MAE: 61.40647427823505\n",
            "RMSE: 79.10300882010213\n",
            "max_depth = 2, n_estimators = 50\n",
            "------------------------------\n",
            "Métricas del entrenamiento\n",
            "------------------------------\n",
            "MSE: 5653.224343530626\n",
            "MAE: 59.09031449548058\n",
            "RMSE: 75.18792684687234\n",
            "------------------------------\n",
            "Métricas del testeo\n",
            "------------------------------\n",
            "MSE: 6421.882664130498\n",
            "MAE: 61.73852871727448\n",
            "RMSE: 80.13664994327189\n",
            "max_depth = 2, n_estimators = 100\n",
            "------------------------------\n",
            "Métricas del entrenamiento\n",
            "------------------------------\n",
            "MSE: 5529.655872677525\n",
            "MAE: 58.20953494325227\n",
            "RMSE: 74.36165593017361\n",
            "------------------------------\n",
            "Métricas del testeo\n",
            "------------------------------\n",
            "MSE: 6170.591091853159\n",
            "MAE: 60.53037290670598\n",
            "RMSE: 78.55311000751759\n",
            "max_depth = 3, n_estimators = 10\n",
            "------------------------------\n",
            "Métricas del entrenamiento\n",
            "------------------------------\n",
            "MSE: 3810.001938518457\n",
            "MAE: 48.16635803641351\n",
            "RMSE: 61.725213150854785\n",
            "------------------------------\n",
            "Métricas del testeo\n",
            "------------------------------\n",
            "MSE: 4226.562041979465\n",
            "MAE: 51.72962764296452\n",
            "RMSE: 65.01201459714554\n",
            "max_depth = 3, n_estimators = 20\n",
            "------------------------------\n",
            "Métricas del entrenamiento\n",
            "------------------------------\n",
            "MSE: 3619.4163499414267\n",
            "MAE: 46.89994076885393\n",
            "RMSE: 60.16158533434293\n",
            "------------------------------\n",
            "Métricas del testeo\n",
            "------------------------------\n",
            "MSE: 4131.010666579766\n",
            "MAE: 50.68837600787316\n",
            "RMSE: 64.27293883571659\n",
            "max_depth = 3, n_estimators = 30\n",
            "------------------------------\n",
            "Métricas del entrenamiento\n",
            "------------------------------\n",
            "MSE: 3544.808736575905\n",
            "MAE: 46.33381221678238\n",
            "RMSE: 59.53829638624123\n",
            "------------------------------\n",
            "Métricas del testeo\n",
            "------------------------------\n",
            "MSE: 4003.7278683845334\n",
            "MAE: 50.33100910729664\n",
            "RMSE: 63.27501772725578\n",
            "max_depth = 3, n_estimators = 50\n",
            "------------------------------\n",
            "Métricas del entrenamiento\n",
            "------------------------------\n",
            "MSE: 3507.9784456283924\n",
            "MAE: 46.059813440674446\n",
            "RMSE: 59.228189619710584\n",
            "------------------------------\n",
            "Métricas del testeo\n",
            "------------------------------\n",
            "MSE: 3968.180838943146\n",
            "MAE: 50.042137033709515\n",
            "RMSE: 62.99349838628702\n",
            "max_depth = 3, n_estimators = 100\n",
            "------------------------------\n",
            "Métricas del entrenamiento\n",
            "------------------------------\n",
            "MSE: 3522.508183771166\n",
            "MAE: 46.14790042260861\n",
            "RMSE: 59.35072184709438\n",
            "------------------------------\n",
            "Métricas del testeo\n",
            "------------------------------\n",
            "MSE: 3988.3917421743427\n",
            "MAE: 49.85442662994752\n",
            "RMSE: 63.153715189008025\n",
            "max_depth = 4, n_estimators = 10\n",
            "------------------------------\n",
            "Métricas del entrenamiento\n",
            "------------------------------\n",
            "MSE: 1965.3732338555938\n",
            "MAE: 34.50953460678494\n",
            "RMSE: 44.3325301991167\n",
            "------------------------------\n",
            "Métricas del testeo\n",
            "------------------------------\n",
            "MSE: 2506.7162066119186\n",
            "MAE: 39.64431585161296\n",
            "RMSE: 50.06711701917656\n",
            "max_depth = 4, n_estimators = 20\n",
            "------------------------------\n",
            "Métricas del entrenamiento\n",
            "------------------------------\n",
            "MSE: 2026.9367494911194\n",
            "MAE: 34.857765135466046\n",
            "RMSE: 45.02151429584659\n",
            "------------------------------\n",
            "Métricas del testeo\n",
            "------------------------------\n",
            "MSE: 2503.7469878173815\n",
            "MAE: 39.704635793000364\n",
            "RMSE: 50.03745584876775\n",
            "max_depth = 4, n_estimators = 30\n",
            "------------------------------\n",
            "Métricas del entrenamiento\n",
            "------------------------------\n",
            "MSE: 1981.77632424845\n",
            "MAE: 34.67700910146389\n",
            "RMSE: 44.51714640729401\n",
            "------------------------------\n",
            "Métricas del testeo\n",
            "------------------------------\n",
            "MSE: 2611.1923468697405\n",
            "MAE: 39.97623938662146\n",
            "RMSE: 51.09982726849221\n",
            "max_depth = 4, n_estimators = 50\n",
            "------------------------------\n",
            "Métricas del entrenamiento\n",
            "------------------------------\n",
            "MSE: 1891.9673046263604\n",
            "MAE: 33.84480961062659\n",
            "RMSE: 43.49675050651899\n",
            "------------------------------\n",
            "Métricas del testeo\n",
            "------------------------------\n",
            "MSE: 2450.584637352809\n",
            "MAE: 37.859022080053755\n",
            "RMSE: 49.50338005987883\n",
            "max_depth = 4, n_estimators = 100\n",
            "------------------------------\n",
            "Métricas del entrenamiento\n",
            "------------------------------\n",
            "MSE: 1912.7029698016122\n",
            "MAE: 34.00080970142085\n",
            "RMSE: 43.734459752026346\n",
            "------------------------------\n",
            "Métricas del testeo\n",
            "------------------------------\n",
            "MSE: 2398.5377538092953\n",
            "MAE: 38.04162537952856\n",
            "RMSE: 48.97486859409931\n",
            "max_depth = 5, n_estimators = 10\n",
            "------------------------------\n",
            "Métricas del entrenamiento\n",
            "------------------------------\n",
            "MSE: 1128.016723191176\n",
            "MAE: 26.41797950730185\n",
            "RMSE: 33.58596020945621\n",
            "------------------------------\n",
            "Métricas del testeo\n",
            "------------------------------\n",
            "MSE: 1663.0863118775776\n",
            "MAE: 30.37731315354682\n",
            "RMSE: 40.7809552595029\n",
            "max_depth = 5, n_estimators = 20\n",
            "------------------------------\n",
            "Métricas del entrenamiento\n",
            "------------------------------\n",
            "MSE: 1087.4594314454544\n",
            "MAE: 25.80619562367651\n",
            "RMSE: 32.976649791109075\n",
            "------------------------------\n",
            "Métricas del testeo\n",
            "------------------------------\n",
            "MSE: 1598.603844636758\n",
            "MAE: 30.932982771381624\n",
            "RMSE: 39.98254424916901\n",
            "max_depth = 5, n_estimators = 30\n",
            "------------------------------\n",
            "Métricas del entrenamiento\n",
            "------------------------------\n",
            "MSE: 1057.3574393574477\n",
            "MAE: 25.545373651152204\n",
            "RMSE: 32.51703306510986\n",
            "------------------------------\n",
            "Métricas del testeo\n",
            "------------------------------\n",
            "MSE: 1711.8743678162311\n",
            "MAE: 32.28418633932914\n",
            "RMSE: 41.37480353809829\n",
            "max_depth = 5, n_estimators = 50\n",
            "------------------------------\n",
            "Métricas del entrenamiento\n",
            "------------------------------\n",
            "MSE: 1052.9107222246662\n",
            "MAE: 25.414847896306128\n",
            "RMSE: 32.44858582780868\n",
            "------------------------------\n",
            "Métricas del testeo\n",
            "------------------------------\n",
            "MSE: 1601.6406352469587\n",
            "MAE: 30.661850083164545\n",
            "RMSE: 40.02050268608527\n",
            "max_depth = 5, n_estimators = 100\n",
            "------------------------------\n",
            "Métricas del entrenamiento\n",
            "------------------------------\n",
            "MSE: 1049.47346853883\n",
            "MAE: 25.33783312598723\n",
            "RMSE: 32.39557791641986\n",
            "------------------------------\n",
            "Métricas del testeo\n",
            "------------------------------\n",
            "MSE: 1620.9546615114637\n",
            "MAE: 30.9250047673118\n",
            "RMSE: 40.26108122630916\n"
          ]
        }
      ]
    },
    {
      "cell_type": "markdown",
      "metadata": {
        "id": "V0RIIkZIqWgI"
      },
      "source": [
        "## Boosting\n",
        "\n",
        "Existe otro método para mejorar la predicción de un árbol de decisión. Mientras el bagging consiste en crear multiples copias de los datos de entrenamiento utilizando bootstrap, ajustando un árbol de decisión por separado para cada uno, y después los comibna para crear un solo modelo predictivo, el boosting hace algo similar, excepto que los árboles crecen secuencialmente: cada árbol crece utilizando información de los árboles precedentes.\n",
        "\n",
        "El boosting no utiliza boostrap, en lugar de eso cada árbol es ajustado en una versión modificada de los datos de entrenamiento."
      ]
    },
    {
      "cell_type": "code",
      "metadata": {
        "id": "_wELx_HNqV7W"
      },
      "source": [
        "from sklearn.tree import DecisionTreeRegressor\n",
        "from sklearn.datasets import make_regression"
      ],
      "execution_count": null,
      "outputs": []
    },
    {
      "cell_type": "code",
      "metadata": {
        "id": "OzguWuM4rJe1"
      },
      "source": [
        "X, y = make_regression(n_samples=1000, n_features=5)"
      ],
      "execution_count": null,
      "outputs": []
    },
    {
      "cell_type": "code",
      "metadata": {
        "id": "c_q1SL2nrJQb"
      },
      "source": [
        "X_train, X_test, y_train, y_test = train_test_split(X,y, test_size=0.2, random_state=42)"
      ],
      "execution_count": null,
      "outputs": []
    },
    {
      "cell_type": "code",
      "metadata": {
        "colab": {
          "base_uri": "https://localhost:8080/"
        },
        "id": "HM_aFOrIrdXy",
        "outputId": "1c32bed6-94e5-400b-c261-11a68dd0889a"
      },
      "source": [
        "tree_reg1 = DecisionTreeRegressor(max_depth=2)\n",
        "tree_reg1.fit(X_train,y_train)\n",
        "\n",
        "y_train2 = y_train - tree_reg1.predict(X_train)\n",
        "tree_reg2 = DecisionTreeRegressor(max_depth=2)\n",
        "tree_reg2.fit(X_train, y_train2)\n",
        "\n",
        "y_train3 = y_train2 - tree_reg2.predict(X_train)\n",
        "tree_reg3 = DecisionTreeRegressor(max_depth=2)\n",
        "tree_reg3.fit(X_train, y_train3)"
      ],
      "execution_count": null,
      "outputs": [
        {
          "output_type": "execute_result",
          "data": {
            "text/plain": [
              "DecisionTreeRegressor(ccp_alpha=0.0, criterion='mse', max_depth=2,\n",
              "                      max_features=None, max_leaf_nodes=None,\n",
              "                      min_impurity_decrease=0.0, min_impurity_split=None,\n",
              "                      min_samples_leaf=1, min_samples_split=2,\n",
              "                      min_weight_fraction_leaf=0.0, presort='deprecated',\n",
              "                      random_state=None, splitter='best')"
            ]
          },
          "metadata": {},
          "execution_count": 82
        }
      ]
    },
    {
      "cell_type": "markdown",
      "metadata": {
        "id": "Yw1OPY99sLKZ"
      },
      "source": [
        "Lo visto anteriormente se puede utilizar el módulo `GradientBoosting`  de sklearn. Puede utilizarse tanto para regresión como para clasificación."
      ]
    },
    {
      "cell_type": "code",
      "metadata": {
        "colab": {
          "base_uri": "https://localhost:8080/"
        },
        "id": "t_m_9_fxsRJ3",
        "outputId": "45a1c19b-1286-4a36-f7f4-7a687375a7bd"
      },
      "source": [
        "from sklearn.ensemble import GradientBoostingRegressor\n",
        "\n",
        "gbrt = GradientBoostingRegressor(max_depth=2, n_estimators=3, learning_rate=1)\n",
        "gbrt.fit(X_train, y_train)"
      ],
      "execution_count": null,
      "outputs": [
        {
          "output_type": "execute_result",
          "data": {
            "text/plain": [
              "GradientBoostingRegressor(alpha=0.9, ccp_alpha=0.0, criterion='friedman_mse',\n",
              "                          init=None, learning_rate=1, loss='ls', max_depth=2,\n",
              "                          max_features=None, max_leaf_nodes=None,\n",
              "                          min_impurity_decrease=0.0, min_impurity_split=None,\n",
              "                          min_samples_leaf=1, min_samples_split=2,\n",
              "                          min_weight_fraction_leaf=0.0, n_estimators=3,\n",
              "                          n_iter_no_change=None, presort='deprecated',\n",
              "                          random_state=None, subsample=1.0, tol=0.0001,\n",
              "                          validation_fraction=0.1, verbose=0, warm_start=False)"
            ]
          },
          "metadata": {},
          "execution_count": 84
        }
      ]
    },
    {
      "cell_type": "code",
      "metadata": {
        "id": "T4yGdXVjs371"
      },
      "source": [
        "y_fit_train = gbrt.predict(X_train)\n",
        "y_pred = gbrt.predict(X_test)"
      ],
      "execution_count": null,
      "outputs": []
    },
    {
      "cell_type": "code",
      "metadata": {
        "colab": {
          "base_uri": "https://localhost:8080/"
        },
        "id": "8MCkRNbXs_v7",
        "outputId": "af0dd1be-76eb-4858-8a70-6b32d381d0f9"
      },
      "source": [
        "print('Métricas del entrenamiento',end='\\n')\n",
        "print('---'*10)\n",
        "metricas(y_train, y_fit_train)\n",
        "print('---'*10)\n",
        "print('Métricas del testeo')\n",
        "print('---'*10)\n",
        "metricas(y_test, y_pred)"
      ],
      "execution_count": null,
      "outputs": [
        {
          "output_type": "stream",
          "name": "stdout",
          "text": [
            "Métricas del entrenamiento\n",
            "------------------------------\n",
            "MSE: 4578.077528863841\n",
            "MAE: 54.21405682569437\n",
            "RMSE: 67.66149221576362\n",
            "------------------------------\n",
            "Métricas del testeo\n",
            "------------------------------\n",
            "MSE: 5319.234116580901\n",
            "MAE: 56.925052164156895\n",
            "RMSE: 72.93307971408379\n"
          ]
        }
      ]
    },
    {
      "cell_type": "markdown",
      "metadata": {
        "id": "vf5XbMmSsvYl"
      },
      "source": [
        "## XGBoost\n"
      ]
    },
    {
      "cell_type": "code",
      "metadata": {
        "id": "LZyrQf4jsw0l"
      },
      "source": [
        "import xgboost as xgb"
      ],
      "execution_count": null,
      "outputs": []
    },
    {
      "cell_type": "code",
      "metadata": {
        "id": "Z7uMUE6msxqJ"
      },
      "source": [
        "xg_reg = xgb.XGBRegressor(objective='reg:squarederror', n_estimators=3)"
      ],
      "execution_count": null,
      "outputs": []
    },
    {
      "cell_type": "code",
      "metadata": {
        "id": "m7ohVpMnnVP4"
      },
      "source": [
        "wage1 = wd.data('wage1')\n",
        "X = wage1.filter(['female','educ','exper','tenure'])\n",
        "y = wage1.pop('wage')"
      ],
      "execution_count": null,
      "outputs": []
    },
    {
      "cell_type": "code",
      "metadata": {
        "id": "xYkvadDEv_4l"
      },
      "source": [
        "X_train, X_test, y_train, y_test = train_test_split(X,y, test_size=0.2, random_state=42)"
      ],
      "execution_count": null,
      "outputs": []
    },
    {
      "cell_type": "code",
      "metadata": {
        "colab": {
          "base_uri": "https://localhost:8080/"
        },
        "id": "rXROMvCfwGc0",
        "outputId": "0a372cf0-a552-41fe-f529-6baa4ce52fb7"
      },
      "source": [
        "xg_reg.fit(X_train,y_train)"
      ],
      "execution_count": null,
      "outputs": [
        {
          "output_type": "execute_result",
          "data": {
            "text/plain": [
              "XGBRegressor(base_score=0.5, booster='gbtree', colsample_bylevel=1,\n",
              "             colsample_bynode=1, colsample_bytree=1, gamma=0,\n",
              "             importance_type='gain', learning_rate=0.1, max_delta_step=0,\n",
              "             max_depth=3, min_child_weight=1, missing=None, n_estimators=3,\n",
              "             n_jobs=1, nthread=None, objective='reg:squarederror',\n",
              "             random_state=0, reg_alpha=0, reg_lambda=1, scale_pos_weight=1,\n",
              "             seed=None, silent=None, subsample=1, verbosity=1)"
            ]
          },
          "metadata": {},
          "execution_count": 93
        }
      ]
    },
    {
      "cell_type": "code",
      "metadata": {
        "id": "tXdwFIk0wJhm"
      },
      "source": [
        "y_fit_train = xg_reg.predict(X_train)\n",
        "y_pred = xg_reg.predict(X_test)"
      ],
      "execution_count": null,
      "outputs": []
    },
    {
      "cell_type": "code",
      "metadata": {
        "colab": {
          "base_uri": "https://localhost:8080/"
        },
        "id": "Yn3Pu9-Dwhwp",
        "outputId": "7937a404-ab5f-445f-95b0-bb4245022d0b"
      },
      "source": [
        "print('Métricas del entrenamiento',end='\\n')\n",
        "print('---'*10)\n",
        "metricas(y_train, y_fit_train)\n",
        "print('---'*10)\n",
        "print('Métricas del testeo')\n",
        "print('---'*10)\n",
        "metricas(y_test, y_pred)"
      ],
      "execution_count": null,
      "outputs": [
        {
          "output_type": "stream",
          "name": "stdout",
          "text": [
            "Métricas del entrenamiento\n",
            "------------------------------\n",
            "MSE: 26.662555126801383\n",
            "MAE: 3.9500313145773753\n",
            "RMSE: 5.163579681461436\n",
            "------------------------------\n",
            "Métricas del testeo\n",
            "------------------------------\n",
            "MSE: 27.490410669700978\n",
            "MAE: 4.03102677385762\n",
            "RMSE: 5.243129854361894\n"
          ]
        }
      ]
    },
    {
      "cell_type": "code",
      "metadata": {
        "id": "cxLhLavRcUTm"
      },
      "source": [
        ""
      ],
      "execution_count": null,
      "outputs": []
    }
  ]
}