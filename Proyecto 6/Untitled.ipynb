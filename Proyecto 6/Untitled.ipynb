{
 "cells": [
  {
   "cell_type": "code",
   "execution_count": 1,
   "metadata": {},
   "outputs": [],
   "source": [
    "import pandas as pd \n",
    "import numpy as np\n",
    "import seaborn as sns\n"
   ]
  },
  {
   "cell_type": "code",
   "execution_count": 2,
   "metadata": {
    "scrolled": false
   },
   "outputs": [
    {
     "data": {
      "text/html": [
       "<div>\n",
       "<style scoped>\n",
       "    .dataframe tbody tr th:only-of-type {\n",
       "        vertical-align: middle;\n",
       "    }\n",
       "\n",
       "    .dataframe tbody tr th {\n",
       "        vertical-align: top;\n",
       "    }\n",
       "\n",
       "    .dataframe thead th {\n",
       "        text-align: right;\n",
       "    }\n",
       "</style>\n",
       "<table border=\"1\" class=\"dataframe\">\n",
       "  <thead>\n",
       "    <tr style=\"text-align: right;\">\n",
       "      <th></th>\n",
       "      <th>Tipo</th>\n",
       "      <th>Rubro</th>\n",
       "      <th>Subregion</th>\n",
       "      <th>AÃ±</th>\n",
       "      <th>Municipio</th>\n",
       "      <th>Área Total</th>\n",
       "      <th>Área Producción</th>\n",
       "      <th>Volumen ProducciÃ³</th>\n",
       "    </tr>\n",
       "  </thead>\n",
       "  <tbody>\n",
       "    <tr>\n",
       "      <th>0</th>\n",
       "      <td>Permanentes</td>\n",
       "      <td>Aguacate</td>\n",
       "      <td>Oriente</td>\n",
       "      <td>1,990</td>\n",
       "      <td>Abejorral</td>\n",
       "      <td>45.0</td>\n",
       "      <td>23.0</td>\n",
       "      <td>138.0</td>\n",
       "    </tr>\n",
       "    <tr>\n",
       "      <th>1</th>\n",
       "      <td>Permanentes</td>\n",
       "      <td>Aguacate</td>\n",
       "      <td>UrabÃ</td>\n",
       "      <td>1,990</td>\n",
       "      <td>ApartadÃ</td>\n",
       "      <td>29.0</td>\n",
       "      <td>27.0</td>\n",
       "      <td>405.0</td>\n",
       "    </tr>\n",
       "    <tr>\n",
       "      <th>2</th>\n",
       "      <td>Permanentes</td>\n",
       "      <td>Aguacate</td>\n",
       "      <td>Suroeste</td>\n",
       "      <td>1,990</td>\n",
       "      <td>Montebello</td>\n",
       "      <td>17.0</td>\n",
       "      <td>12.0</td>\n",
       "      <td>78.0</td>\n",
       "    </tr>\n",
       "    <tr>\n",
       "      <th>3</th>\n",
       "      <td>Permanentes</td>\n",
       "      <td>Aguacate</td>\n",
       "      <td>Suroeste</td>\n",
       "      <td>1,990</td>\n",
       "      <td>Santa BÃ¡rbar</td>\n",
       "      <td>150.0</td>\n",
       "      <td>140.0</td>\n",
       "      <td>980.0</td>\n",
       "    </tr>\n",
       "    <tr>\n",
       "      <th>4</th>\n",
       "      <td>Permanentes</td>\n",
       "      <td>Aguacate</td>\n",
       "      <td>UrabÃ</td>\n",
       "      <td>1,990</td>\n",
       "      <td>Turbo</td>\n",
       "      <td>75.0</td>\n",
       "      <td>55.0</td>\n",
       "      <td>825.0</td>\n",
       "    </tr>\n",
       "  </tbody>\n",
       "</table>\n",
       "</div>"
      ],
      "text/plain": [
       "          Tipo     Rubro Subregion    AÃ±      Municipio  Área Total  \\\n",
       "0  Permanentes  Aguacate   Oriente  1,990      Abejorral        45.0   \n",
       "1  Permanentes  Aguacate     UrabÃ  1,990       ApartadÃ        29.0   \n",
       "2  Permanentes  Aguacate  Suroeste  1,990     Montebello        17.0   \n",
       "3  Permanentes  Aguacate  Suroeste  1,990  Santa BÃ¡rbar       150.0   \n",
       "4  Permanentes  Aguacate     UrabÃ  1,990          Turbo        75.0   \n",
       "\n",
       "   Área Producción  Volumen ProducciÃ³  \n",
       "0             23.0               138.0  \n",
       "1             27.0               405.0  \n",
       "2             12.0                78.0  \n",
       "3            140.0               980.0  \n",
       "4             55.0               825.0  "
      ]
     },
     "execution_count": 2,
     "metadata": {},
     "output_type": "execute_result"
    }
   ],
   "source": [
    "df_agricola_antioquia=pd.read_csv(r'produccion agricola Antioquia 2019.csv',encoding='latin1',sep='\\t')# problema con el encoding hay que encontrar un encoding que corriga los nombres \n",
    "df_agricola_antioquia.head()"
   ]
  },
  {
   "cell_type": "markdown",
   "metadata": {},
   "source": [
    "#  Aproximación inicial a los datos"
   ]
  },
  {
   "cell_type": "code",
   "execution_count": 3,
   "metadata": {
    "scrolled": true
   },
   "outputs": [
    {
     "data": {
      "text/html": [
       "<div>\n",
       "<style scoped>\n",
       "    .dataframe tbody tr th:only-of-type {\n",
       "        vertical-align: middle;\n",
       "    }\n",
       "\n",
       "    .dataframe tbody tr th {\n",
       "        vertical-align: top;\n",
       "    }\n",
       "\n",
       "    .dataframe thead th {\n",
       "        text-align: right;\n",
       "    }\n",
       "</style>\n",
       "<table border=\"1\" class=\"dataframe\">\n",
       "  <thead>\n",
       "    <tr style=\"text-align: right;\">\n",
       "      <th></th>\n",
       "      <th>Área Total</th>\n",
       "      <th>Área Producción</th>\n",
       "      <th>Volumen ProducciÃ³</th>\n",
       "    </tr>\n",
       "  </thead>\n",
       "  <tbody>\n",
       "    <tr>\n",
       "      <th>count</th>\n",
       "      <td>29383.000000</td>\n",
       "      <td>29383.000000</td>\n",
       "      <td>2.938300e+04</td>\n",
       "    </tr>\n",
       "    <tr>\n",
       "      <th>mean</th>\n",
       "      <td>453.997058</td>\n",
       "      <td>411.631588</td>\n",
       "      <td>3.203483e+03</td>\n",
       "    </tr>\n",
       "    <tr>\n",
       "      <th>std</th>\n",
       "      <td>1255.210698</td>\n",
       "      <td>1170.081091</td>\n",
       "      <td>2.357929e+04</td>\n",
       "    </tr>\n",
       "    <tr>\n",
       "      <th>min</th>\n",
       "      <td>0.000000</td>\n",
       "      <td>0.000000</td>\n",
       "      <td>0.000000e+00</td>\n",
       "    </tr>\n",
       "    <tr>\n",
       "      <th>25%</th>\n",
       "      <td>20.000000</td>\n",
       "      <td>16.000000</td>\n",
       "      <td>5.752000e+01</td>\n",
       "    </tr>\n",
       "    <tr>\n",
       "      <th>50%</th>\n",
       "      <td>80.500000</td>\n",
       "      <td>70.000000</td>\n",
       "      <td>3.000000e+02</td>\n",
       "    </tr>\n",
       "    <tr>\n",
       "      <th>75%</th>\n",
       "      <td>336.000000</td>\n",
       "      <td>299.400000</td>\n",
       "      <td>1.313250e+03</td>\n",
       "    </tr>\n",
       "    <tr>\n",
       "      <th>max</th>\n",
       "      <td>36000.000000</td>\n",
       "      <td>36000.000000</td>\n",
       "      <td>1.039280e+06</td>\n",
       "    </tr>\n",
       "  </tbody>\n",
       "</table>\n",
       "</div>"
      ],
      "text/plain": [
       "         Área Total  Área Producción  Volumen ProducciÃ³\n",
       "count  29383.000000     29383.000000        2.938300e+04\n",
       "mean     453.997058       411.631588        3.203483e+03\n",
       "std     1255.210698      1170.081091        2.357929e+04\n",
       "min        0.000000         0.000000        0.000000e+00\n",
       "25%       20.000000        16.000000        5.752000e+01\n",
       "50%       80.500000        70.000000        3.000000e+02\n",
       "75%      336.000000       299.400000        1.313250e+03\n",
       "max    36000.000000     36000.000000        1.039280e+06"
      ]
     },
     "execution_count": 3,
     "metadata": {},
     "output_type": "execute_result"
    }
   ],
   "source": [
    "df_agricola_antioquia.describe()"
   ]
  },
  {
   "cell_type": "markdown",
   "metadata": {},
   "source": [
    "# Descripción estadística y económica de los datos"
   ]
  },
  {
   "cell_type": "code",
   "execution_count": 4,
   "metadata": {},
   "outputs": [
    {
     "data": {
      "text/plain": [
       "Tipo                   object\n",
       "Rubro                  object\n",
       "Subregion              object\n",
       "AÃ±                    object\n",
       "Municipio              object\n",
       "Área Total            float64\n",
       "Área Producción       float64\n",
       "Volumen ProducciÃ³    float64\n",
       "dtype: object"
      ]
     },
     "execution_count": 4,
     "metadata": {},
     "output_type": "execute_result"
    }
   ],
   "source": [
    "df_agricola_antioquia.dtypes"
   ]
  },
  {
   "cell_type": "code",
   "execution_count": 5,
   "metadata": {},
   "outputs": [
    {
     "data": {
      "text/plain": [
       "Permanentes     17755\n",
       "Transitorios     9444\n",
       "Anuales          2184\n",
       "Name: Tipo, dtype: int64"
      ]
     },
     "execution_count": 5,
     "metadata": {},
     "output_type": "execute_result"
    }
   ],
   "source": [
    "df_agricola_antioquia['Tipo'] .value_counts()"
   ]
  },
  {
   "cell_type": "code",
   "execution_count": 18,
   "metadata": {},
   "outputs": [
    {
     "data": {
      "text/plain": [
       "<AxesSubplot:xlabel='Count', ylabel='Tipo'>"
      ]
     },
     "execution_count": 18,
     "metadata": {},
     "output_type": "execute_result"
    },
    {
     "data": {
      "image/png": "[encoded data removed]",
      "text/plain": [
       "<Figure size 432x288 with 1 Axes>"
      ]
     },
     "metadata": {
      "needs_background": "light"
     },
     "output_type": "display_data"
    }
   ],
   "source": [
    "sns.histplot(data=df_agricola_antioquia,y='Tipo')"
   ]
  },
  {
   "cell_type": "code",
   "execution_count": 6,
   "metadata": {},
   "outputs": [
    {
     "data": {
      "text/plain": [
       "CafÃ                 2616\n",
       "MaÃ­z Tradiciona     2410\n",
       "CaÃ±                 2274\n",
       "PlÃ¡tano En Asoci    2178\n",
       "Yuca                 1737\n",
       "                     ... \n",
       "Ruda                    1\n",
       "Papayuela               1\n",
       "Berenjena               1\n",
       "PlÃ¡tano X Boroj        1\n",
       "Estropajo               1\n",
       "Name: Rubro, Length: 147, dtype: int64"
      ]
     },
     "execution_count": 6,
     "metadata": {},
     "output_type": "execute_result"
    }
   ],
   "source": [
    "df_agricola_antioquia['Rubro'] .value_counts()."
   ]
  },
  {
   "cell_type": "code",
   "execution_count": null,
   "metadata": {},
   "outputs": [],
   "source": []
  },
  {
   "cell_type": "code",
   "execution_count": 7,
   "metadata": {},
   "outputs": [
    {
     "data": {
      "text/plain": [
       "Suroeste           6072\n",
       "Oriente            6062\n",
       "Occidente          4710\n",
       "Norte              3511\n",
       "UrabÃ              2591\n",
       "Nordeste           2092\n",
       "Valle de Aburra    1963\n",
       "Magdalena Medio    1243\n",
       "Bajo Cauca         1139\n",
       "Name: Subregion, dtype: int64"
      ]
     },
     "execution_count": 7,
     "metadata": {},
     "output_type": "execute_result"
    }
   ],
   "source": [
    "\n",
    "df_agricola_antioquia['Subregion'] .value_counts()"
   ]
  },
  {
   "cell_type": "code",
   "execution_count": 8,
   "metadata": {},
   "outputs": [
    {
     "data": {
      "text/plain": [
       "2,020    1585\n",
       "2,019    1583\n",
       "2,018    1492\n",
       "2,016    1433\n",
       "2,017    1432\n",
       "2,015    1311\n",
       "2,013    1304\n",
       "2,014    1284\n",
       "2,012    1276\n",
       "2,011    1189\n",
       "2,010    1158\n",
       "2,009    1107\n",
       "2,008    1045\n",
       "2,007     951\n",
       "2,006     877\n",
       "2,005     857\n",
       "2,003     811\n",
       "2,000     785\n",
       "2,004     784\n",
       "1,999     783\n",
       "2,001     778\n",
       "2,002     777\n",
       "1,998     701\n",
       "1,995     680\n",
       "1,996     658\n",
       "1,997     656\n",
       "1,993     457\n",
       "1,992     444\n",
       "1,994     407\n",
       "1,991     400\n",
       "1,990     378\n",
       "Name: AÃ±, dtype: int64"
      ]
     },
     "execution_count": 8,
     "metadata": {},
     "output_type": "execute_result"
    }
   ],
   "source": [
    "\n",
    "df_agricola_antioquia['AÃ±'] .value_counts()"
   ]
  },
  {
   "cell_type": "code",
   "execution_count": 17,
   "metadata": {},
   "outputs": [
    {
     "data": {
      "text/plain": [
       "<AxesSubplot:xlabel='Count', ylabel='AÃ±'>"
      ]
     },
     "execution_count": 17,
     "metadata": {},
     "output_type": "execute_result"
    },
    {
     "data": {
      "image/png": "[encoded data removed]",
      "text/plain": [
       "<Figure size 432x288 with 1 Axes>"
      ]
     },
     "metadata": {
      "needs_background": "light"
     },
     "output_type": "display_data"
    }
   ],
   "source": [
    "sns.histplot(data=df_agricola_antioquia,y='AÃ±' )"
   ]
  },
  {
   "cell_type": "markdown",
   "metadata": {},
   "source": [
    "cada seis años se esta doblando la produccion agricola "
   ]
  },
  {
   "cell_type": "code",
   "execution_count": 10,
   "metadata": {},
   "outputs": [
    {
     "data": {
      "text/plain": [
       "MedellÃ­                  663\n",
       "Marinilla                 525\n",
       "Urrao                     485\n",
       "TÃ¡mesi                   463\n",
       "El Carmen De Viboral      447\n",
       "                         ... \n",
       "Belmira                    80\n",
       "Sabaneta                   62\n",
       "La Pintada                 42\n",
       "San Jose De La MontaÃ±     18\n",
       "Itagui                     10\n",
       "Name: Municipio, Length: 125, dtype: int64"
      ]
     },
     "execution_count": 10,
     "metadata": {},
     "output_type": "execute_result"
    }
   ],
   "source": [
    "df_agricola_antioquia['Municipio'] .value_counts()"
   ]
  },
  {
   "cell_type": "code",
   "execution_count": 11,
   "metadata": {},
   "outputs": [
    {
     "data": {
      "text/plain": [
       "10.0      575\n",
       "20.0      505\n",
       "40.0      410\n",
       "30.0      398\n",
       "2.0       385\n",
       "         ... \n",
       "2559.0      1\n",
       "70.2        1\n",
       "380.3       1\n",
       "397.7       1\n",
       "1283.5      1\n",
       "Name: Área Total, Length: 3799, dtype: int64"
      ]
     },
     "execution_count": 11,
     "metadata": {},
     "output_type": "execute_result"
    }
   ],
   "source": [
    "         \n",
    "df_agricola_antioquia['Área Total'] .value_counts()"
   ]
  },
  {
   "cell_type": "code",
   "execution_count": 12,
   "metadata": {},
   "outputs": [
    {
     "data": {
      "text/plain": [
       "<AxesSubplot:xlabel='Área Total', ylabel='Count'>"
      ]
     },
     "execution_count": 12,
     "metadata": {},
     "output_type": "execute_result"
    },
    {
     "data": {
      "image/png": "[encoded data removed]",
      "text/plain": [
       "<Figure size 432x288 with 1 Axes>"
      ]
     },
     "metadata": {
      "needs_background": "light"
     },
     "output_type": "display_data"
    }
   ],
   "source": [
    "sns.histplot(data=df_agricola_antioquia['Área Total'] )"
   ]
  },
  {
   "cell_type": "code",
   "execution_count": 13,
   "metadata": {},
   "outputs": [
    {
     "data": {
      "text/plain": [
       "0.0       1059\n",
       "10.0       609\n",
       "20.0       474\n",
       "5.0        416\n",
       "2.0        410\n",
       "          ... \n",
       "105.3        1\n",
       "1447.0       1\n",
       "2963.0       1\n",
       "1661.0       1\n",
       "31.1         1\n",
       "Name: Área Producción, Length: 3742, dtype: int64"
      ]
     },
     "execution_count": 13,
     "metadata": {},
     "output_type": "execute_result"
    }
   ],
   "source": [
    "      \n",
    "df_agricola_antioquia['Área Producción'] .value_counts()"
   ]
  },
  {
   "cell_type": "code",
   "execution_count": 14,
   "metadata": {},
   "outputs": [
    {
     "data": {
      "text/plain": [
       "<AxesSubplot:xlabel='Área Producción', ylabel='Count'>"
      ]
     },
     "execution_count": 14,
     "metadata": {},
     "output_type": "execute_result"
    },
    {
     "data": {
      "image/png": "[encoded data removed]",
      "text/plain": [
       "<Figure size 432x288 with 1 Axes>"
      ]
     },
     "metadata": {
      "needs_background": "light"
     },
     "output_type": "display_data"
    }
   ],
   "source": [
    "sns.histplot(data=df_agricola_antioquia['Área Producción'] )"
   ]
  },
  {
   "cell_type": "code",
   "execution_count": 15,
   "metadata": {},
   "outputs": [
    {
     "data": {
      "text/plain": [
       "0.0       1191\n",
       "60.0       208\n",
       "120.0      177\n",
       "40.0       168\n",
       "30.0       162\n",
       "          ... \n",
       "1510.0       1\n",
       "1906.0       1\n",
       "65.6         1\n",
       "771.2        1\n",
       "765.1        1\n",
       "Name: Volumen ProducciÃ³, Length: 8386, dtype: int64"
      ]
     },
     "execution_count": 15,
     "metadata": {},
     "output_type": "execute_result"
    }
   ],
   "source": [
    "\n",
    "df_agricola_antioquia['Volumen ProducciÃ³'] .value_counts()"
   ]
  },
  {
   "cell_type": "code",
   "execution_count": 16,
   "metadata": {},
   "outputs": [
    {
     "data": {
      "text/plain": [
       "<AxesSubplot:xlabel='Volumen ProducciÃ³', ylabel='Count'>"
      ]
     },
     "execution_count": 16,
     "metadata": {},
     "output_type": "execute_result"
    },
    {
     "data": {
      "image/png": "[encoded data removed]",
      "text/plain": [
       "<Figure size 432x288 with 1 Axes>"
      ]
     },
     "metadata": {
      "needs_background": "light"
     },
     "output_type": "display_data"
    }
   ],
   "source": [
    "sns.histplot(data=df_agricola_antioquia['Volumen ProducciÃ³'] )"
   ]
  },
  {
   "cell_type": "code",
   "execution_count": null,
   "metadata": {},
   "outputs": [],
   "source": [
    "sns.lineplot(data=df_agricola_antioquia,y=)"
   ]
  }
 ],
 "metadata": {
  "kernelspec": {
   "display_name": "Python 3",
   "language": "python",
   "name": "python3"
  },
  "language_info": {
   "codemirror_mode": {
    "name": "ipython",
    "version": 3
   },
   "file_extension": ".py",
   "mimetype": "text/x-python",
   "name": "python",
   "nbconvert_exporter": "python",
   "pygments_lexer": "ipython3",
   "version": "3.8.5"
  }
 },
 "nbformat": 4,
 "nbformat_minor": 4
}
