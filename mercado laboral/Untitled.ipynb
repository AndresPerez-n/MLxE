{
 "cells": [
  {
   "cell_type": "markdown",
   "metadata": {},
   "source": [
    "# Random forest ocupados"
   ]
  },
  {
   "cell_type": "code",
   "execution_count": 67,
   "metadata": {},
   "outputs": [],
   "source": [
    "import pandas as pd \n",
    "import numpy as np\n",
    "import seaborn as sns\n",
    "import math"
   ]
  },
  {
   "cell_type": "code",
   "execution_count": 41,
   "metadata": {},
   "outputs": [],
   "source": [
    "pd.set_option('display.max.columns',None)\n",
    "pd.set_option('display.max.rows',None)\n"
   ]
  },
  {
   "cell_type": "code",
   "execution_count": 42,
   "metadata": {},
   "outputs": [],
   "source": [
    "base=pd.read_csv('base de datos machine learning.csv', sep=';',encoding='932')"
   ]
  },
  {
   "cell_type": "code",
   "execution_count": 43,
   "metadata": {},
   "outputs": [
    {
     "data": {
      "text/html": [
       "<div>\n",
       "<style scoped>\n",
       "    .dataframe tbody tr th:only-of-type {\n",
       "        vertical-align: middle;\n",
       "    }\n",
       "\n",
       "    .dataframe tbody tr th {\n",
       "        vertical-align: top;\n",
       "    }\n",
       "\n",
       "    .dataframe thead th {\n",
       "        text-align: right;\n",
       "    }\n",
       "</style>\n",
       "<table border=\"1\" class=\"dataframe\">\n",
       "  <thead>\n",
       "    <tr style=\"text-align: right;\">\n",
       "      <th></th>\n",
       "      <th>DIRECTORIO</th>\n",
       "      <th>AREA</th>\n",
       "      <th>ocupados</th>\n",
       "      <th>sexo</th>\n",
       "      <th>estudia</th>\n",
       "      <th>edad</th>\n",
       "      <th>educaci</th>\n",
       "    </tr>\n",
       "  </thead>\n",
       "  <tbody>\n",
       "    <tr>\n",
       "      <th>0</th>\n",
       "      <td>4903659.0</td>\n",
       "      <td>5.0</td>\n",
       "      <td>1.0</td>\n",
       "      <td>0</td>\n",
       "      <td>0.0</td>\n",
       "      <td>38</td>\n",
       "      <td>6.0</td>\n",
       "    </tr>\n",
       "    <tr>\n",
       "      <th>1</th>\n",
       "      <td>4903659.0</td>\n",
       "      <td>5.0</td>\n",
       "      <td>1.0</td>\n",
       "      <td>1</td>\n",
       "      <td>1.0</td>\n",
       "      <td>47</td>\n",
       "      <td>6.0</td>\n",
       "    </tr>\n",
       "    <tr>\n",
       "      <th>2</th>\n",
       "      <td>4903660.0</td>\n",
       "      <td>5.0</td>\n",
       "      <td>0.0</td>\n",
       "      <td>1</td>\n",
       "      <td>0.0</td>\n",
       "      <td>79</td>\n",
       "      <td>6.0</td>\n",
       "    </tr>\n",
       "    <tr>\n",
       "      <th>3</th>\n",
       "      <td>4903660.0</td>\n",
       "      <td>5.0</td>\n",
       "      <td>0.0</td>\n",
       "      <td>0</td>\n",
       "      <td>0.0</td>\n",
       "      <td>67</td>\n",
       "      <td>5.0</td>\n",
       "    </tr>\n",
       "    <tr>\n",
       "      <th>4</th>\n",
       "      <td>4903660.0</td>\n",
       "      <td>5.0</td>\n",
       "      <td>1.0</td>\n",
       "      <td>0</td>\n",
       "      <td>0.0</td>\n",
       "      <td>42</td>\n",
       "      <td>6.0</td>\n",
       "    </tr>\n",
       "  </tbody>\n",
       "</table>\n",
       "</div>"
      ],
      "text/plain": [
       "   DIRECTORIO  AREA  ocupados  sexo  estudia  edad  educaci\n",
       "0   4903659.0   5.0       1.0     0      0.0    38       6.0\n",
       "1   4903659.0   5.0       1.0     1      1.0    47       6.0\n",
       "2   4903660.0   5.0       0.0     1      0.0    79       6.0\n",
       "3   4903660.0   5.0       0.0     0      0.0    67       5.0\n",
       "4   4903660.0   5.0       1.0     0      0.0    42       6.0"
      ]
     },
     "execution_count": 43,
     "metadata": {},
     "output_type": "execute_result"
    }
   ],
   "source": [
    "base.head()"
   ]
  },
  {
   "cell_type": "code",
   "execution_count": 44,
   "metadata": {},
   "outputs": [
    {
     "name": "stdout",
     "output_type": "stream",
     "text": [
      "<class 'pandas.core.frame.DataFrame'>\n",
      "RangeIndex: 30485 entries, 0 to 30484\n",
      "Data columns (total 7 columns):\n",
      " #   Column      Non-Null Count  Dtype  \n",
      "---  ------      --------------  -----  \n",
      " 0   DIRECTORIO  25580 non-null  float64\n",
      " 1   AREA        25580 non-null  float64\n",
      " 2   ocupados    25580 non-null  float64\n",
      " 3   sexo        30485 non-null  int64  \n",
      " 4   estudia     29417 non-null  float64\n",
      " 5   edad        30485 non-null  int64  \n",
      " 6   educaci    29417 non-null  float64\n",
      "dtypes: float64(5), int64(2)\n",
      "memory usage: 1.6 MB\n"
     ]
    }
   ],
   "source": [
    "base.info()"
   ]
  },
  {
   "cell_type": "code",
   "execution_count": 45,
   "metadata": {},
   "outputs": [],
   "source": [
    "base=base.dropna()"
   ]
  },
  {
   "cell_type": "code",
   "execution_count": 46,
   "metadata": {},
   "outputs": [
    {
     "name": "stdout",
     "output_type": "stream",
     "text": [
      "<class 'pandas.core.frame.DataFrame'>\n",
      "Int64Index: 24678 entries, 0 to 25579\n",
      "Data columns (total 7 columns):\n",
      " #   Column      Non-Null Count  Dtype  \n",
      "---  ------      --------------  -----  \n",
      " 0   DIRECTORIO  24678 non-null  float64\n",
      " 1   AREA        24678 non-null  float64\n",
      " 2   ocupados    24678 non-null  float64\n",
      " 3   sexo        24678 non-null  int64  \n",
      " 4   estudia     24678 non-null  float64\n",
      " 5   edad        24678 non-null  int64  \n",
      " 6   educaci    24678 non-null  float64\n",
      "dtypes: float64(5), int64(2)\n",
      "memory usage: 1.5 MB\n"
     ]
    }
   ],
   "source": [
    "base.info()"
   ]
  },
  {
   "cell_type": "markdown",
   "metadata": {},
   "source": [
    "Modelo de clasificación.\n",
    "Como variable dependiente tendremos si las personas están ocupadas o no, para eso utilizamos la variable de la gran encuesta de hogares del DANE, asimismo esa variable tiene como pregunta central de a que se dedicó la persona en la última semana, teniendo como varias opciones como trabajar, estudiar oficios del hogar entre otros, ahora bien, le hicimos un tratamiento para que tomara el valor de uno si su respuesta era igual a trabajar y para las demás opciones un valor de 0.\n",
    "Como variables independientes tomamos algunas características de las personas encuestadas como lo son sexo, edad, estudia y educación. A continuación, se dará una explicación un poco más detallada:\n",
    "Sexo: esta variable es muy importante ya que es una característica que nos muestra cual es la incidencia de ser mujer en estar ocupado o desocupado en la vida laboral, tenemos 30,485 observaciones de las cuales tenemos 16,180 mujeres y 14,305 hombres.\n",
    "Edad: La edad también es una variable muy importante para determinar ya que a muy temprana edad es muy factible de que se encuentre desocupados, en esta variable nos encontramos con 30,485 observaciones con un max de 103 años y una media 34,69 y una desviación estándar de 21,50.\n",
    "Educación: ¿cuál es el título o diploma de mayor nivel educativo que usted ha recibido?, esta variable nos muestra cual es el estudio que mayor alcanzado, para saber cómo incide el mayor titulo en si la persona ocupada o desocupada, para esta variable solo tenemos 29,417 observaciones, con una mayor frecuencia en post grado y bachiller.\n",
    "Estudia: Esta variable nos muestra si la persona está estudiando una carrera en el momento o no, con 29,417 observaciones con 21,469 no, y con 7,948 con que si estudia. Esta variable es importante para saber si el estudiar genera impacto en el de trabajar o no.\n",
    "\n"
   ]
  },
  {
   "cell_type": "code",
   "execution_count": 64,
   "metadata": {},
   "outputs": [],
   "source": [
    "from sklearn.tree import DecisionTreeRegressor\n",
    "from sklearn.model_selection import train_test_split\n",
    "from sklearn.metrics import mean_squared_error, mean_absolute_error, max_error\n",
    "from sklearn.tree import DecisionTreeClassifier\n",
    "from sklearn.metrics import accuracy_score, precision_score, recall_score, confusion_matrix\n",
    "from sklearn.datasets import load_iris\n",
    "from sklearn.ensemble import RandomForestClassifier, RandomForestRegressor\n",
    "from sklearn.datasets import make_regression, make_classification"
   ]
  },
  {
   "cell_type": "code",
   "execution_count": 48,
   "metadata": {},
   "outputs": [
    {
     "data": {
      "text/plain": [
       "<AxesSubplot:xlabel='AREA', ylabel='Count'>"
      ]
     },
     "execution_count": 48,
     "metadata": {},
     "output_type": "execute_result"
    },
    {
     "data": {
      "image/png": "[encoded data removed]",
      "text/plain": [
       "<Figure size 432x288 with 1 Axes>"
      ]
     },
     "metadata": {
      "needs_background": "light"
     },
     "output_type": "display_data"
    }
   ],
   "source": [
    "sns.histplot(data=base,x='AREA')"
   ]
  },
  {
   "cell_type": "code",
   "execution_count": 49,
   "metadata": {},
   "outputs": [
    {
     "data": {
      "text/plain": [
       "<AxesSubplot:xlabel='ocupados', ylabel='Count'>"
      ]
     },
     "execution_count": 49,
     "metadata": {},
     "output_type": "execute_result"
    },
    {
     "data": {
      "image/png": "[encoded data removed]",
      "text/plain": [
       "<Figure size 432x288 with 1 Axes>"
      ]
     },
     "metadata": {
      "needs_background": "light"
     },
     "output_type": "display_data"
    }
   ],
   "source": [
    "sns.histplot(data=base,x='ocupados')"
   ]
  },
  {
   "cell_type": "code",
   "execution_count": 34,
   "metadata": {},
   "outputs": [
    {
     "data": {
      "text/plain": [
       "<AxesSubplot:xlabel='sexo', ylabel='Count'>"
      ]
     },
     "execution_count": 34,
     "metadata": {},
     "output_type": "execute_result"
    },
    {
     "data": {
      "image/png": "[encoded data removed]",
      "text/plain": [
       "<Figure size 432x288 with 1 Axes>"
      ]
     },
     "metadata": {
      "needs_background": "light"
     },
     "output_type": "display_data"
    }
   ],
   "source": [
    "sns.histplot(data=base,x='sexo')"
   ]
  },
  {
   "cell_type": "code",
   "execution_count": 35,
   "metadata": {},
   "outputs": [
    {
     "data": {
      "text/plain": [
       "<AxesSubplot:xlabel='estudia', ylabel='Count'>"
      ]
     },
     "execution_count": 35,
     "metadata": {},
     "output_type": "execute_result"
    },
    {
     "data": {
      "image/png": "[encoded data removed]",
      "text/plain": [
       "<Figure size 432x288 with 1 Axes>"
      ]
     },
     "metadata": {
      "needs_background": "light"
     },
     "output_type": "display_data"
    }
   ],
   "source": [
    "sns.histplot(data=base,x='estudia')"
   ]
  },
  {
   "cell_type": "code",
   "execution_count": 36,
   "metadata": {},
   "outputs": [
    {
     "data": {
      "text/plain": [
       "<AxesSubplot:xlabel='educaci\\ue262', ylabel='Count'>"
      ]
     },
     "execution_count": 36,
     "metadata": {},
     "output_type": "execute_result"
    },
    {
     "name": "stderr",
     "output_type": "stream",
     "text": [
      "C:\\Users\\Ryzen 5\\anaconda3\\lib\\site-packages\\matplotlib\\backends\\backend_agg.py:240: RuntimeWarning: Glyph 57954 missing from current font.\n",
      "  font.set_text(s, 0.0, flags=flags)\n",
      "C:\\Users\\Ryzen 5\\anaconda3\\lib\\site-packages\\matplotlib\\backends\\backend_agg.py:203: RuntimeWarning: Glyph 57954 missing from current font.\n",
      "  font.set_text(s, 0, flags=flags)\n"
     ]
    },
    {
     "data": {
      "image/png": "[encoded data removed]",
      "text/plain": [
       "<Figure size 432x288 with 1 Axes>"
      ]
     },
     "metadata": {
      "needs_background": "light"
     },
     "output_type": "display_data"
    }
   ],
   "source": [
    "sns.histplot(data=base,x='educaci')"
   ]
  },
  {
   "cell_type": "code",
   "execution_count": 50,
   "metadata": {},
   "outputs": [],
   "source": [
    "X = base.filter(['sexo','estudia','edad','educaci'])\n",
    "y = base.pop('ocupados')"
   ]
  },
  {
   "cell_type": "code",
   "execution_count": 52,
   "metadata": {},
   "outputs": [],
   "source": [
    "X_train, X_test, y_train, y_test = train_test_split(X,y, test_size=0.2, random_state=42)"
   ]
  },
  {
   "cell_type": "code",
   "execution_count": 53,
   "metadata": {},
   "outputs": [
    {
     "data": {
      "text/plain": [
       "DecisionTreeRegressor(max_depth=4)"
      ]
     },
     "execution_count": 53,
     "metadata": {},
     "output_type": "execute_result"
    }
   ],
   "source": [
    "reg_tree = DecisionTreeRegressor(max_depth=4)\n",
    "reg_tree.fit(X_train, y_train)"
   ]
  },
  {
   "cell_type": "code",
   "execution_count": 54,
   "metadata": {},
   "outputs": [],
   "source": [
    "y_pred = reg_tree.predict(X_test)\n",
    "y_fit_train = reg_tree.predict(X_train)"
   ]
  },
  {
   "cell_type": "code",
   "execution_count": 55,
   "metadata": {},
   "outputs": [],
   "source": [
    "def metricas(y_true, y_pred):\n",
    "  print(f'MSE: {mean_squared_error(y_true, y_pred)}')\n",
    "  print(f'MAE: {mean_absolute_error(y_true, y_pred)}')\n",
    "  print(f'RMSE: {np.sqrt(mean_squared_error(y_true,y_pred))}')"
   ]
  },
  {
   "cell_type": "code",
   "execution_count": 56,
   "metadata": {},
   "outputs": [
    {
     "name": "stdout",
     "output_type": "stream",
     "text": [
      "Métricas del entrenamiento\n",
      "------------------------------\n",
      "MSE: 0.2486887668826478\n",
      "MAE: 0.4973775337652955\n",
      "RMSE: 0.49868704302663386\n",
      "------------------------------\n",
      "Métricas del testeo\n",
      "------------------------------\n",
      "MSE: 0.24970263566082446\n",
      "MAE: 0.4983808378455426\n",
      "RMSE: 0.4997025471826459\n"
     ]
    }
   ],
   "source": [
    "print('Métricas del entrenamiento',end='\\n')\n",
    "print('---'*10)\n",
    "metricas(y_train, y_fit_train)\n",
    "print('---'*10)\n",
    "print('Métricas del testeo')\n",
    "print('---'*10)\n",
    "metricas(y_test, y_pred)"
   ]
  },
  {
   "cell_type": "code",
   "execution_count": 57,
   "metadata": {},
   "outputs": [
    {
     "data": {
      "text/plain": [
       "[Text(202.275, 195.696, 'X[2] <= 91.5\\nmse = 0.249\\nsamples = 19742\\nvalue = 0.47'),\n",
       " Text(111.60000000000001, 152.208, 'X[2] <= 86.5\\nmse = 0.249\\nsamples = 19699\\nvalue = 0.47'),\n",
       " Text(55.800000000000004, 108.72, 'X[2] <= 52.5\\nmse = 0.249\\nsamples = 19587\\nvalue = 0.471'),\n",
       " Text(27.900000000000002, 65.232, 'X[0] <= 0.5\\nmse = 0.249\\nsamples = 14926\\nvalue = 0.466'),\n",
       " Text(13.950000000000001, 21.744, 'mse = 0.248\\nsamples = 7808\\nvalue = 0.459'),\n",
       " Text(41.85, 21.744, 'mse = 0.249\\nsamples = 7118\\nvalue = 0.474'),\n",
       " Text(83.7, 65.232, 'X[2] <= 54.5\\nmse = 0.25\\nsamples = 4661\\nvalue = 0.484'),\n",
       " Text(69.75, 21.744, 'mse = 0.249\\nsamples = 516\\nvalue = 0.525'),\n",
       " Text(97.65, 21.744, 'mse = 0.25\\nsamples = 4145\\nvalue = 0.479'),\n",
       " Text(167.4, 108.72, 'X[0] <= 0.5\\nmse = 0.234\\nsamples = 112\\nvalue = 0.375'),\n",
       " Text(139.5, 65.232, 'X[2] <= 90.5\\nmse = 0.245\\nsamples = 70\\nvalue = 0.429'),\n",
       " Text(125.55000000000001, 21.744, 'mse = 0.238\\nsamples = 54\\nvalue = 0.389'),\n",
       " Text(153.45000000000002, 21.744, 'mse = 0.246\\nsamples = 16\\nvalue = 0.562'),\n",
       " Text(195.3, 65.232, 'X[3] <= 3.5\\nmse = 0.204\\nsamples = 42\\nvalue = 0.286'),\n",
       " Text(181.35000000000002, 21.744, 'mse = 0.219\\nsamples = 31\\nvalue = 0.323'),\n",
       " Text(209.25000000000003, 21.744, 'mse = 0.149\\nsamples = 11\\nvalue = 0.182'),\n",
       " Text(292.95000000000005, 152.208, 'X[2] <= 102.5\\nmse = 0.227\\nsamples = 43\\nvalue = 0.651'),\n",
       " Text(279.0, 108.72, 'X[3] <= 3.5\\nmse = 0.222\\nsamples = 42\\nvalue = 0.667'),\n",
       " Text(251.10000000000002, 65.232, 'X[2] <= 93.5\\nmse = 0.208\\nsamples = 34\\nvalue = 0.706'),\n",
       " Text(237.15, 21.744, 'mse = 0.249\\nsamples = 15\\nvalue = 0.533'),\n",
       " Text(265.05, 21.744, 'mse = 0.133\\nsamples = 19\\nvalue = 0.842'),\n",
       " Text(306.90000000000003, 65.232, 'X[2] <= 93.5\\nmse = 0.25\\nsamples = 8\\nvalue = 0.5'),\n",
       " Text(292.95000000000005, 21.744, 'mse = 0.0\\nsamples = 2\\nvalue = 1.0'),\n",
       " Text(320.85, 21.744, 'mse = 0.222\\nsamples = 6\\nvalue = 0.333'),\n",
       " Text(306.90000000000003, 108.72, 'mse = 0.0\\nsamples = 1\\nvalue = 0.0')]"
      ]
     },
     "execution_count": 57,
     "metadata": {},
     "output_type": "execute_result"
    },
    {
     "data": {
      "image/png": "[encoded data removed]",
      "text/plain": [
       "<Figure size 432x288 with 1 Axes>"
      ]
     },
     "metadata": {
      "needs_background": "light"
     },
     "output_type": "display_data"
    }
   ],
   "source": [
    "from sklearn import tree\n",
    "\n",
    "tree.plot_tree(reg_tree)"
   ]
  },
  {
   "cell_type": "code",
   "execution_count": 61,
   "metadata": {},
   "outputs": [
    {
     "data": {
      "text/plain": [
       "DecisionTreeClassifier(max_depth=4)"
      ]
     },
     "execution_count": 61,
     "metadata": {},
     "output_type": "execute_result"
    }
   ],
   "source": [
    "clsr = DecisionTreeClassifier(max_depth=4)\n",
    "clsr.fit(X_train, y_train)"
   ]
  },
  {
   "cell_type": "code",
   "execution_count": 65,
   "metadata": {},
   "outputs": [
    {
     "name": "stdout",
     "output_type": "stream",
     "text": [
      "max_depth = 2, n_estimators = 10\n",
      "------------------------------\n",
      "Métricas del entrenamiento\n",
      "------------------------------\n",
      "MSE: 0.24885959279684888\n",
      "MAE: 0.49785492787818986\n",
      "RMSE: 0.49885828929351156\n",
      "------------------------------\n",
      "Métricas del testeo\n",
      "------------------------------\n",
      "MSE: 0.249477987537651\n",
      "MAE: 0.4984723737511538\n",
      "RMSE: 0.4994777147557747\n",
      "max_depth = 2, n_estimators = 20\n",
      "------------------------------\n",
      "Métricas del entrenamiento\n",
      "------------------------------\n",
      "MSE: 0.2488402869201157\n",
      "MAE: 0.4978372507705636\n",
      "RMSE: 0.49883893885713826\n",
      "------------------------------\n",
      "Métricas del testeo\n",
      "------------------------------\n",
      "MSE: 0.24951868780083794\n",
      "MAE: 0.4985194983438569\n",
      "RMSE: 0.49951845591613325\n",
      "max_depth = 2, n_estimators = 30\n",
      "------------------------------\n",
      "Métricas del entrenamiento\n",
      "------------------------------\n",
      "MSE: 0.24885337194740684\n",
      "MAE: 0.4978525020637332\n",
      "RMSE: 0.4988520541677731\n",
      "------------------------------\n",
      "Métricas del testeo\n",
      "------------------------------\n",
      "MSE: 0.24951951369265254\n",
      "MAE: 0.4985126521429067\n",
      "RMSE: 0.4995192826034372\n",
      "max_depth = 2, n_estimators = 50\n",
      "------------------------------\n",
      "Métricas del entrenamiento\n",
      "------------------------------\n",
      "MSE: 0.2488476908647545\n",
      "MAE: 0.4978863416546497\n",
      "RMSE: 0.4988463599794575\n",
      "------------------------------\n",
      "Métricas del testeo\n",
      "------------------------------\n",
      "MSE: 0.2494794023986208\n",
      "MAE: 0.4985204142628281\n",
      "RMSE: 0.4994791310942038\n",
      "max_depth = 2, n_estimators = 100\n",
      "------------------------------\n",
      "Métricas del entrenamiento\n",
      "------------------------------\n",
      "MSE: 0.24884455938701822\n",
      "MAE: 0.4979045010833241\n",
      "RMSE: 0.4988432212499416\n",
      "------------------------------\n",
      "Métricas del testeo\n",
      "------------------------------\n",
      "MSE: 0.24946483151062843\n",
      "MAE: 0.49852249374179075\n",
      "RMSE: 0.49946454479835545\n",
      "max_depth = 3, n_estimators = 10\n",
      "------------------------------\n",
      "Métricas del entrenamiento\n",
      "------------------------------\n",
      "MSE: 0.24865063295490672\n",
      "MAE: 0.4975915983170564\n",
      "RMSE: 0.49864880723301314\n",
      "------------------------------\n",
      "Métricas del testeo\n",
      "------------------------------\n",
      "MSE: 0.24950824140622152\n",
      "MAE: 0.4984571999608949\n",
      "RMSE: 0.49950799934157364\n",
      "max_depth = 3, n_estimators = 20\n",
      "------------------------------\n",
      "Métricas del entrenamiento\n",
      "------------------------------\n",
      "MSE: 0.24858997350813342\n",
      "MAE: 0.4975456908921022\n",
      "RMSE: 0.49858797970682506\n",
      "------------------------------\n",
      "Métricas del testeo\n",
      "------------------------------\n",
      "MSE: 0.2493578912511911\n",
      "MAE: 0.4983013777129063\n",
      "RMSE: 0.49935747841720673\n",
      "max_depth = 3, n_estimators = 30\n",
      "------------------------------\n",
      "Métricas del entrenamiento\n",
      "------------------------------\n",
      "MSE: 0.24859224217392117\n",
      "MAE: 0.49747924696098716\n",
      "RMSE: 0.49859025479237074\n",
      "------------------------------\n",
      "Métricas del testeo\n",
      "------------------------------\n",
      "MSE: 0.249513038216831\n",
      "MAE: 0.49839427922235\n",
      "RMSE: 0.49951280085382294\n",
      "max_depth = 3, n_estimators = 50\n",
      "------------------------------\n",
      "Métricas del entrenamiento\n",
      "------------------------------\n",
      "MSE: 0.24859557341490082\n",
      "MAE: 0.49762160853982473\n",
      "RMSE: 0.4985935954411176\n",
      "------------------------------\n",
      "Métricas del testeo\n",
      "------------------------------\n",
      "MSE: 0.2494512929185137\n",
      "MAE: 0.4984801190060127\n",
      "RMSE: 0.4994509915081896\n",
      "max_depth = 3, n_estimators = 100\n",
      "------------------------------\n",
      "Métricas del entrenamiento\n",
      "------------------------------\n",
      "MSE: 0.24858129549824476\n",
      "MAE: 0.49758497724645007\n",
      "RMSE: 0.49857927704452853\n",
      "------------------------------\n",
      "Métricas del testeo\n",
      "------------------------------\n",
      "MSE: 0.2494718431178735\n",
      "MAE: 0.498478901567256\n",
      "RMSE: 0.4994715638731333\n",
      "max_depth = 4, n_estimators = 10\n",
      "------------------------------\n",
      "Métricas del entrenamiento\n",
      "------------------------------\n",
      "MSE: 0.24825315712724566\n",
      "MAE: 0.4970183714955314\n",
      "RMSE: 0.4982500949595952\n",
      "------------------------------\n",
      "Métricas del testeo\n",
      "------------------------------\n",
      "MSE: 0.24955178789372148\n",
      "MAE: 0.4983078764277819\n",
      "RMSE: 0.4995515868193409\n",
      "max_depth = 4, n_estimators = 20\n",
      "------------------------------\n",
      "Métricas del entrenamiento\n",
      "------------------------------\n",
      "MSE: 0.24830758160218425\n",
      "MAE: 0.49719987224925694\n",
      "RMSE: 0.49830470758581463\n",
      "------------------------------\n",
      "Métricas del testeo\n",
      "------------------------------\n",
      "MSE: 0.249522471641133\n",
      "MAE: 0.4984286121824369\n",
      "RMSE: 0.4995222433897544\n",
      "max_depth = 4, n_estimators = 30\n",
      "------------------------------\n",
      "Métricas del entrenamiento\n",
      "------------------------------\n",
      "MSE: 0.2482053552689612\n",
      "MAE: 0.4970498609571421\n",
      "RMSE: 0.4982021229069194\n",
      "------------------------------\n",
      "Métricas del testeo\n",
      "------------------------------\n",
      "MSE: 0.24945516473667068\n",
      "MAE: 0.49832235868352714\n",
      "RMSE: 0.4994548675673015\n",
      "max_depth = 4, n_estimators = 50\n",
      "------------------------------\n",
      "Métricas del entrenamiento\n",
      "------------------------------\n",
      "MSE: 0.24821483526518542\n",
      "MAE: 0.4970921495255229\n",
      "RMSE: 0.4982116370230481\n",
      "------------------------------\n",
      "Métricas del testeo\n",
      "------------------------------\n",
      "MSE: 0.2494004946210403\n",
      "MAE: 0.49829497918751064\n",
      "RMSE: 0.49940013478276146\n",
      "max_depth = 4, n_estimators = 100\n",
      "------------------------------\n",
      "Métricas del entrenamiento\n",
      "------------------------------\n",
      "MSE: 0.24821562633838362\n",
      "MAE: 0.497103772409545\n",
      "RMSE: 0.4982124309352223\n",
      "------------------------------\n",
      "Métricas del testeo\n",
      "------------------------------\n",
      "MSE: 0.24945227915216084\n",
      "MAE: 0.4983471611778778\n",
      "RMSE: 0.4994519788249525\n",
      "max_depth = 5, n_estimators = 10\n",
      "------------------------------\n",
      "Métricas del entrenamiento\n",
      "------------------------------\n",
      "MSE: 0.24774245888943275\n",
      "MAE: 0.49634169162528885\n",
      "RMSE: 0.49773733925578934\n",
      "------------------------------\n",
      "Métricas del testeo\n",
      "------------------------------\n",
      "MSE: 0.24955382709748627\n",
      "MAE: 0.4981542616814935\n",
      "RMSE: 0.49955362784938945\n",
      "max_depth = 5, n_estimators = 20\n",
      "------------------------------\n",
      "Métricas del entrenamiento\n",
      "------------------------------\n",
      "MSE: 0.247779741759431\n",
      "MAE: 0.4964392050795422\n",
      "RMSE: 0.49777479020078047\n",
      "------------------------------\n",
      "Métricas del testeo\n",
      "------------------------------\n",
      "MSE: 0.24989086286600387\n",
      "MAE: 0.49855273268084416\n",
      "RMSE: 0.4998908509524893\n",
      "max_depth = 5, n_estimators = 30\n",
      "------------------------------\n",
      "Métricas del entrenamiento\n",
      "------------------------------\n",
      "MSE: 0.24768514122552016\n",
      "MAE: 0.49652164077826616\n",
      "RMSE: 0.497679757701195\n",
      "------------------------------\n",
      "Métricas del testeo\n",
      "------------------------------\n",
      "MSE: 0.24972713524932053\n",
      "MAE: 0.4985842821945712\n",
      "RMSE: 0.4997270607534882\n",
      "max_depth = 5, n_estimators = 50\n",
      "------------------------------\n",
      "Métricas del entrenamiento\n",
      "------------------------------\n",
      "MSE: 0.24766094653940718\n",
      "MAE: 0.4963710686139081\n",
      "RMSE: 0.49765544962293656\n",
      "------------------------------\n",
      "Métricas del testeo\n",
      "------------------------------\n",
      "MSE: 0.24946577241557846\n",
      "MAE: 0.4981914490749791\n",
      "RMSE: 0.49946548671112245\n",
      "max_depth = 5, n_estimators = 100\n",
      "------------------------------\n",
      "Métricas del entrenamiento\n",
      "------------------------------\n",
      "MSE: 0.24765617716496763\n",
      "MAE: 0.4964129292056075\n",
      "RMSE: 0.4976506577559881\n",
      "------------------------------\n",
      "Métricas del testeo\n",
      "------------------------------\n",
      "MSE: 0.24944628297708654\n",
      "MAE: 0.4982135837794814\n",
      "RMSE: 0.4994459760345322\n"
     ]
    }
   ],
   "source": [
    "prof = [2,3,4,5]\n",
    "n_est = [10,20,30,50,100]\n",
    "\n",
    "for i in prof:\n",
    "  for j in n_est:\n",
    "    rf_reg = RandomForestRegressor(max_depth=i, n_estimators=j)\n",
    "    rf_reg.fit(X_train, y_train)\n",
    "    y_fit_train = rf_reg.predict(X_train)\n",
    "    y_pred = rf_reg.predict(X_test)\n",
    "    print(f'max_depth = {i}, n_estimators = {j}')\n",
    "    print('---'*10)\n",
    "    print('Métricas del entrenamiento',end='\\n')\n",
    "    print('---'*10)\n",
    "    metricas(y_train, y_fit_train)\n",
    "    print('---'*10)\n",
    "    print('Métricas del testeo')\n",
    "    print('---'*10)\n",
    "    metricas(y_test, y_pred)"
   ]
  }
 ],
 "metadata": {
  "kernelspec": {
   "display_name": "Python 3",
   "language": "python",
   "name": "python3"
  },
  "language_info": {
   "codemirror_mode": {
    "name": "ipython",
    "version": 3
   },
   "file_extension": ".py",
   "mimetype": "text/x-python",
   "name": "python",
   "nbconvert_exporter": "python",
   "pygments_lexer": "ipython3",
   "version": "3.8.5"
  }
 },
 "nbformat": 4,
 "nbformat_minor": 4
}
