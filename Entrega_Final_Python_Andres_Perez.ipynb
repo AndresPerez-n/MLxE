{
  "nbformat": 4,
  "nbformat_minor": 0,
  "metadata": {
    "colab": {
      "name": "Untitled3.ipynb",
      "provenance": [],
      "collapsed_sections": []
    },
    "kernelspec": {
      "name": "python3",
      "display_name": "Python 3"
    },
    "language_info": {
      "name": "python"
    }
  },
  "cells": [
    {
      "cell_type": "code",
      "metadata": {
        "id": "mIVUgH4H9oFl"
      },
      "source": [
        "import os\n",
        "import pandas as pd \n",
        "import numpy as np \n",
        "import seaborn as sns\n",
        "import datetime as datetime\n",
        "import warnings; \n",
        "import pandas as pd\n",
        "import numpy as np\n",
        "import pystan\n",
        "import seaborn as sns\n",
        "import tensorflow as tf\n",
        "import matplotlib.pyplot as plt\n",
        "from tensorflow import keras \n",
        "from tensorflow.keras.preprocessing.sequence import TimeseriesGenerator"
      ],
      "execution_count": 68,
      "outputs": []
    },
    {
      "cell_type": "markdown",
      "metadata": {
        "id": "Gni04mtnEALQ"
      },
      "source": [
        "# Entrega Trabajo final 3er corte Andres Perez "
      ]
    },
    {
      "cell_type": "code",
      "metadata": {
        "id": "wMmnZVQsO9er"
      },
      "source": [
        "link='https://www.datos.gov.co/api/views/gt2j-8ykr/rows.csv?accessType=DOWNLOAD'"
      ],
      "execution_count": 2,
      "outputs": []
    },
    {
      "cell_type": "code",
      "metadata": {
        "colab": {
          "base_uri": "https://localhost:8080/"
        },
        "id": "EJKs6hNDPH_-",
        "outputId": "1443e010-8c31-4143-c0aa-d01f8afad1d1"
      },
      "source": [
        "covid=pd.read_csv(link)"
      ],
      "execution_count": 3,
      "outputs": [
        {
          "output_type": "stream",
          "name": "stderr",
          "text": [
            "/usr/local/lib/python3.7/dist-packages/IPython/core/interactiveshell.py:2718: DtypeWarning: Columns (14,22) have mixed types.Specify dtype option on import or set low_memory=False.\n",
            "  interactivity=interactivity, compiler=compiler, result=result)\n"
          ]
        }
      ]
    },
    {
      "cell_type": "code",
      "metadata": {
        "colab": {
          "base_uri": "https://localhost:8080/",
          "height": 382
        },
        "id": "oOh6LQC2Spab",
        "outputId": "59b003ce-193b-4955-d5a5-f7ea1aa909a2"
      },
      "source": [
        "covid.head()"
      ],
      "execution_count": 4,
      "outputs": [
        {
          "output_type": "execute_result",
          "data": {
            "text/html": [
              "<div>\n",
              "<style scoped>\n",
              "    .dataframe tbody tr th:only-of-type {\n",
              "        vertical-align: middle;\n",
              "    }\n",
              "\n",
              "    .dataframe tbody tr th {\n",
              "        vertical-align: top;\n",
              "    }\n",
              "\n",
              "    .dataframe thead th {\n",
              "        text-align: right;\n",
              "    }\n",
              "</style>\n",
              "<table border=\"1\" class=\"dataframe\">\n",
              "  <thead>\n",
              "    <tr style=\"text-align: right;\">\n",
              "      <th></th>\n",
              "      <th>fecha reporte web</th>\n",
              "      <th>ID de caso</th>\n",
              "      <th>Fecha de notificación</th>\n",
              "      <th>Código DIVIPOLA departamento</th>\n",
              "      <th>Nombre departamento</th>\n",
              "      <th>Código DIVIPOLA municipio</th>\n",
              "      <th>Nombre municipio</th>\n",
              "      <th>Edad</th>\n",
              "      <th>Unidad de medida de edad</th>\n",
              "      <th>Sexo</th>\n",
              "      <th>Tipo de contagio</th>\n",
              "      <th>Ubicación del caso</th>\n",
              "      <th>Estado</th>\n",
              "      <th>Código ISO del país</th>\n",
              "      <th>Nombre del país</th>\n",
              "      <th>Recuperado</th>\n",
              "      <th>Fecha de inicio de síntomas</th>\n",
              "      <th>Fecha de muerte</th>\n",
              "      <th>Fecha de diagnóstico</th>\n",
              "      <th>Fecha de recuperación</th>\n",
              "      <th>Tipo de recuperación</th>\n",
              "      <th>Pertenencia étnica</th>\n",
              "      <th>Nombre del grupo étnico</th>\n",
              "    </tr>\n",
              "  </thead>\n",
              "  <tbody>\n",
              "    <tr>\n",
              "      <th>0</th>\n",
              "      <td>6/3/2020 0:00:00</td>\n",
              "      <td>1</td>\n",
              "      <td>2/3/2020 0:00:00</td>\n",
              "      <td>11</td>\n",
              "      <td>BOGOTA</td>\n",
              "      <td>11001</td>\n",
              "      <td>BOGOTA</td>\n",
              "      <td>19</td>\n",
              "      <td>1</td>\n",
              "      <td>F</td>\n",
              "      <td>Importado</td>\n",
              "      <td>Casa</td>\n",
              "      <td>Leve</td>\n",
              "      <td>380.0</td>\n",
              "      <td>ITALIA</td>\n",
              "      <td>Recuperado</td>\n",
              "      <td>27/2/2020 0:00:00</td>\n",
              "      <td>NaN</td>\n",
              "      <td>6/3/2020 0:00:00</td>\n",
              "      <td>13/3/2020 0:00:00</td>\n",
              "      <td>PCR</td>\n",
              "      <td>6.0</td>\n",
              "      <td>NaN</td>\n",
              "    </tr>\n",
              "    <tr>\n",
              "      <th>1</th>\n",
              "      <td>9/3/2020 0:00:00</td>\n",
              "      <td>2</td>\n",
              "      <td>6/3/2020 0:00:00</td>\n",
              "      <td>76</td>\n",
              "      <td>VALLE</td>\n",
              "      <td>76111</td>\n",
              "      <td>BUGA</td>\n",
              "      <td>34</td>\n",
              "      <td>1</td>\n",
              "      <td>M</td>\n",
              "      <td>Importado</td>\n",
              "      <td>Casa</td>\n",
              "      <td>Leve</td>\n",
              "      <td>724.0</td>\n",
              "      <td>ESPAÑA</td>\n",
              "      <td>Recuperado</td>\n",
              "      <td>4/3/2020 0:00:00</td>\n",
              "      <td>NaN</td>\n",
              "      <td>9/3/2020 0:00:00</td>\n",
              "      <td>19/3/2020 0:00:00</td>\n",
              "      <td>PCR</td>\n",
              "      <td>5.0</td>\n",
              "      <td>NaN</td>\n",
              "    </tr>\n",
              "    <tr>\n",
              "      <th>2</th>\n",
              "      <td>9/3/2020 0:00:00</td>\n",
              "      <td>3</td>\n",
              "      <td>7/3/2020 0:00:00</td>\n",
              "      <td>5</td>\n",
              "      <td>ANTIOQUIA</td>\n",
              "      <td>5001</td>\n",
              "      <td>MEDELLIN</td>\n",
              "      <td>50</td>\n",
              "      <td>1</td>\n",
              "      <td>F</td>\n",
              "      <td>Importado</td>\n",
              "      <td>Casa</td>\n",
              "      <td>Leve</td>\n",
              "      <td>724.0</td>\n",
              "      <td>ESPAÑA</td>\n",
              "      <td>Recuperado</td>\n",
              "      <td>29/2/2020 0:00:00</td>\n",
              "      <td>NaN</td>\n",
              "      <td>9/3/2020 0:00:00</td>\n",
              "      <td>15/3/2020 0:00:00</td>\n",
              "      <td>PCR</td>\n",
              "      <td>6.0</td>\n",
              "      <td>NaN</td>\n",
              "    </tr>\n",
              "    <tr>\n",
              "      <th>3</th>\n",
              "      <td>11/3/2020 0:00:00</td>\n",
              "      <td>4</td>\n",
              "      <td>9/3/2020 0:00:00</td>\n",
              "      <td>5</td>\n",
              "      <td>ANTIOQUIA</td>\n",
              "      <td>5001</td>\n",
              "      <td>MEDELLIN</td>\n",
              "      <td>55</td>\n",
              "      <td>1</td>\n",
              "      <td>M</td>\n",
              "      <td>Relacionado</td>\n",
              "      <td>Casa</td>\n",
              "      <td>Leve</td>\n",
              "      <td>NaN</td>\n",
              "      <td>NaN</td>\n",
              "      <td>Recuperado</td>\n",
              "      <td>6/3/2020 0:00:00</td>\n",
              "      <td>NaN</td>\n",
              "      <td>11/3/2020 0:00:00</td>\n",
              "      <td>26/3/2020 0:00:00</td>\n",
              "      <td>PCR</td>\n",
              "      <td>6.0</td>\n",
              "      <td>NaN</td>\n",
              "    </tr>\n",
              "    <tr>\n",
              "      <th>4</th>\n",
              "      <td>11/3/2020 0:00:00</td>\n",
              "      <td>5</td>\n",
              "      <td>9/3/2020 0:00:00</td>\n",
              "      <td>5</td>\n",
              "      <td>ANTIOQUIA</td>\n",
              "      <td>5001</td>\n",
              "      <td>MEDELLIN</td>\n",
              "      <td>25</td>\n",
              "      <td>1</td>\n",
              "      <td>M</td>\n",
              "      <td>Relacionado</td>\n",
              "      <td>Casa</td>\n",
              "      <td>Leve</td>\n",
              "      <td>NaN</td>\n",
              "      <td>NaN</td>\n",
              "      <td>Recuperado</td>\n",
              "      <td>8/3/2020 0:00:00</td>\n",
              "      <td>NaN</td>\n",
              "      <td>11/3/2020 0:00:00</td>\n",
              "      <td>23/3/2020 0:00:00</td>\n",
              "      <td>PCR</td>\n",
              "      <td>6.0</td>\n",
              "      <td>NaN</td>\n",
              "    </tr>\n",
              "  </tbody>\n",
              "</table>\n",
              "</div>"
            ],
            "text/plain": [
              "   fecha reporte web  ID de caso  ... Pertenencia étnica  Nombre del grupo étnico\n",
              "0   6/3/2020 0:00:00           1  ...                6.0                      NaN\n",
              "1   9/3/2020 0:00:00           2  ...                5.0                      NaN\n",
              "2   9/3/2020 0:00:00           3  ...                6.0                      NaN\n",
              "3  11/3/2020 0:00:00           4  ...                6.0                      NaN\n",
              "4  11/3/2020 0:00:00           5  ...                6.0                      NaN\n",
              "\n",
              "[5 rows x 23 columns]"
            ]
          },
          "metadata": {},
          "execution_count": 4
        }
      ]
    },
    {
      "cell_type": "markdown",
      "metadata": {
        "id": "2zNICbsXDZZZ"
      },
      "source": [
        "# descriptivos\n"
      ]
    },
    {
      "cell_type": "code",
      "metadata": {
        "id": "6VgR_N2nPIH0"
      },
      "source": [
        "covid_bogota=covid[covid['Nombre municipio']=='BOGOTA']"
      ],
      "execution_count": 5,
      "outputs": []
    },
    {
      "cell_type": "code",
      "metadata": {
        "colab": {
          "base_uri": "https://localhost:8080/",
          "height": 382
        },
        "id": "1bbOUpS7PIKW",
        "outputId": "57f88c4e-e275-46f4-d3bd-4ab6a48020cb"
      },
      "source": [
        "covid_bogota.head()"
      ],
      "execution_count": 6,
      "outputs": [
        {
          "output_type": "execute_result",
          "data": {
            "text/html": [
              "<div>\n",
              "<style scoped>\n",
              "    .dataframe tbody tr th:only-of-type {\n",
              "        vertical-align: middle;\n",
              "    }\n",
              "\n",
              "    .dataframe tbody tr th {\n",
              "        vertical-align: top;\n",
              "    }\n",
              "\n",
              "    .dataframe thead th {\n",
              "        text-align: right;\n",
              "    }\n",
              "</style>\n",
              "<table border=\"1\" class=\"dataframe\">\n",
              "  <thead>\n",
              "    <tr style=\"text-align: right;\">\n",
              "      <th></th>\n",
              "      <th>fecha reporte web</th>\n",
              "      <th>ID de caso</th>\n",
              "      <th>Fecha de notificación</th>\n",
              "      <th>Código DIVIPOLA departamento</th>\n",
              "      <th>Nombre departamento</th>\n",
              "      <th>Código DIVIPOLA municipio</th>\n",
              "      <th>Nombre municipio</th>\n",
              "      <th>Edad</th>\n",
              "      <th>Unidad de medida de edad</th>\n",
              "      <th>Sexo</th>\n",
              "      <th>Tipo de contagio</th>\n",
              "      <th>Ubicación del caso</th>\n",
              "      <th>Estado</th>\n",
              "      <th>Código ISO del país</th>\n",
              "      <th>Nombre del país</th>\n",
              "      <th>Recuperado</th>\n",
              "      <th>Fecha de inicio de síntomas</th>\n",
              "      <th>Fecha de muerte</th>\n",
              "      <th>Fecha de diagnóstico</th>\n",
              "      <th>Fecha de recuperación</th>\n",
              "      <th>Tipo de recuperación</th>\n",
              "      <th>Pertenencia étnica</th>\n",
              "      <th>Nombre del grupo étnico</th>\n",
              "    </tr>\n",
              "  </thead>\n",
              "  <tbody>\n",
              "    <tr>\n",
              "      <th>0</th>\n",
              "      <td>6/3/2020 0:00:00</td>\n",
              "      <td>1</td>\n",
              "      <td>2/3/2020 0:00:00</td>\n",
              "      <td>11</td>\n",
              "      <td>BOGOTA</td>\n",
              "      <td>11001</td>\n",
              "      <td>BOGOTA</td>\n",
              "      <td>19</td>\n",
              "      <td>1</td>\n",
              "      <td>F</td>\n",
              "      <td>Importado</td>\n",
              "      <td>Casa</td>\n",
              "      <td>Leve</td>\n",
              "      <td>380.0</td>\n",
              "      <td>ITALIA</td>\n",
              "      <td>Recuperado</td>\n",
              "      <td>27/2/2020 0:00:00</td>\n",
              "      <td>NaN</td>\n",
              "      <td>6/3/2020 0:00:00</td>\n",
              "      <td>13/3/2020 0:00:00</td>\n",
              "      <td>PCR</td>\n",
              "      <td>6.0</td>\n",
              "      <td>NaN</td>\n",
              "    </tr>\n",
              "    <tr>\n",
              "      <th>7</th>\n",
              "      <td>11/3/2020 0:00:00</td>\n",
              "      <td>8</td>\n",
              "      <td>9/3/2020 0:00:00</td>\n",
              "      <td>11</td>\n",
              "      <td>BOGOTA</td>\n",
              "      <td>11001</td>\n",
              "      <td>BOGOTA</td>\n",
              "      <td>22</td>\n",
              "      <td>1</td>\n",
              "      <td>F</td>\n",
              "      <td>Importado</td>\n",
              "      <td>Casa</td>\n",
              "      <td>Leve</td>\n",
              "      <td>724.0</td>\n",
              "      <td>ESPAÑA</td>\n",
              "      <td>Recuperado</td>\n",
              "      <td>6/3/2020 0:00:00</td>\n",
              "      <td>NaN</td>\n",
              "      <td>11/3/2020 0:00:00</td>\n",
              "      <td>21/3/2020 0:00:00</td>\n",
              "      <td>PCR</td>\n",
              "      <td>6.0</td>\n",
              "      <td>NaN</td>\n",
              "    </tr>\n",
              "    <tr>\n",
              "      <th>8</th>\n",
              "      <td>11/3/2020 0:00:00</td>\n",
              "      <td>9</td>\n",
              "      <td>8/3/2020 0:00:00</td>\n",
              "      <td>11</td>\n",
              "      <td>BOGOTA</td>\n",
              "      <td>11001</td>\n",
              "      <td>BOGOTA</td>\n",
              "      <td>28</td>\n",
              "      <td>1</td>\n",
              "      <td>F</td>\n",
              "      <td>Importado</td>\n",
              "      <td>Casa</td>\n",
              "      <td>Leve</td>\n",
              "      <td>724.0</td>\n",
              "      <td>ESPAÑA</td>\n",
              "      <td>Recuperado</td>\n",
              "      <td>7/3/2020 0:00:00</td>\n",
              "      <td>NaN</td>\n",
              "      <td>11/3/2020 0:00:00</td>\n",
              "      <td>23/3/2020 0:00:00</td>\n",
              "      <td>PCR</td>\n",
              "      <td>6.0</td>\n",
              "      <td>NaN</td>\n",
              "    </tr>\n",
              "    <tr>\n",
              "      <th>9</th>\n",
              "      <td>12/3/2020 0:00:00</td>\n",
              "      <td>10</td>\n",
              "      <td>12/3/2020 0:00:00</td>\n",
              "      <td>11</td>\n",
              "      <td>BOGOTA</td>\n",
              "      <td>11001</td>\n",
              "      <td>BOGOTA</td>\n",
              "      <td>36</td>\n",
              "      <td>1</td>\n",
              "      <td>F</td>\n",
              "      <td>Importado</td>\n",
              "      <td>Casa</td>\n",
              "      <td>Leve</td>\n",
              "      <td>724.0</td>\n",
              "      <td>ESPAÑA</td>\n",
              "      <td>Recuperado</td>\n",
              "      <td>6/3/2020 0:00:00</td>\n",
              "      <td>NaN</td>\n",
              "      <td>12/3/2020 0:00:00</td>\n",
              "      <td>21/3/2020 0:00:00</td>\n",
              "      <td>PCR</td>\n",
              "      <td>6.0</td>\n",
              "      <td>NaN</td>\n",
              "    </tr>\n",
              "    <tr>\n",
              "      <th>10</th>\n",
              "      <td>12/3/2020 0:00:00</td>\n",
              "      <td>11</td>\n",
              "      <td>11/3/2020 0:00:00</td>\n",
              "      <td>11</td>\n",
              "      <td>BOGOTA</td>\n",
              "      <td>11001</td>\n",
              "      <td>BOGOTA</td>\n",
              "      <td>42</td>\n",
              "      <td>1</td>\n",
              "      <td>F</td>\n",
              "      <td>Importado</td>\n",
              "      <td>Casa</td>\n",
              "      <td>Leve</td>\n",
              "      <td>724.0</td>\n",
              "      <td>ESPAÑA</td>\n",
              "      <td>Recuperado</td>\n",
              "      <td>6/3/2020 0:00:00</td>\n",
              "      <td>NaN</td>\n",
              "      <td>12/3/2020 0:00:00</td>\n",
              "      <td>31/3/2020 0:00:00</td>\n",
              "      <td>PCR</td>\n",
              "      <td>6.0</td>\n",
              "      <td>NaN</td>\n",
              "    </tr>\n",
              "  </tbody>\n",
              "</table>\n",
              "</div>"
            ],
            "text/plain": [
              "    fecha reporte web  ID de caso  ... Pertenencia étnica  Nombre del grupo étnico\n",
              "0    6/3/2020 0:00:00           1  ...                6.0                      NaN\n",
              "7   11/3/2020 0:00:00           8  ...                6.0                      NaN\n",
              "8   11/3/2020 0:00:00           9  ...                6.0                      NaN\n",
              "9   12/3/2020 0:00:00          10  ...                6.0                      NaN\n",
              "10  12/3/2020 0:00:00          11  ...                6.0                      NaN\n",
              "\n",
              "[5 rows x 23 columns]"
            ]
          },
          "metadata": {},
          "execution_count": 6
        }
      ]
    },
    {
      "cell_type": "code",
      "metadata": {
        "id": "IEssmtpaHyBG"
      },
      "source": [
        "numeric_data = covid.select_dtypes(include=[np.number])\n",
        "categorical_data = covid.select_dtypes(exclude=[np.number])"
      ],
      "execution_count": 85,
      "outputs": []
    },
    {
      "cell_type": "code",
      "metadata": {
        "colab": {
          "base_uri": "https://localhost:8080/",
          "height": 300
        },
        "id": "7UP_V2H-H5bY",
        "outputId": "e3be9ada-cae8-45ed-9026-2f6f536970d8"
      },
      "source": [
        "numeric_data.describe()"
      ],
      "execution_count": 88,
      "outputs": [
        {
          "output_type": "execute_result",
          "data": {
            "text/html": [
              "<div>\n",
              "<style scoped>\n",
              "    .dataframe tbody tr th:only-of-type {\n",
              "        vertical-align: middle;\n",
              "    }\n",
              "\n",
              "    .dataframe tbody tr th {\n",
              "        vertical-align: top;\n",
              "    }\n",
              "\n",
              "    .dataframe thead th {\n",
              "        text-align: right;\n",
              "    }\n",
              "</style>\n",
              "<table border=\"1\" class=\"dataframe\">\n",
              "  <thead>\n",
              "    <tr style=\"text-align: right;\">\n",
              "      <th></th>\n",
              "      <th>ID de caso</th>\n",
              "      <th>Código DIVIPOLA departamento</th>\n",
              "      <th>Código DIVIPOLA municipio</th>\n",
              "      <th>Edad</th>\n",
              "      <th>Unidad de medida de edad</th>\n",
              "      <th>Código ISO del país</th>\n",
              "      <th>Pertenencia étnica</th>\n",
              "    </tr>\n",
              "  </thead>\n",
              "  <tbody>\n",
              "    <tr>\n",
              "      <th>count</th>\n",
              "      <td>5.055253e+06</td>\n",
              "      <td>5.055253e+06</td>\n",
              "      <td>5.055253e+06</td>\n",
              "      <td>5.055253e+06</td>\n",
              "      <td>5.055253e+06</td>\n",
              "      <td>3143.000000</td>\n",
              "      <td>5.040665e+06</td>\n",
              "    </tr>\n",
              "    <tr>\n",
              "      <th>mean</th>\n",
              "      <td>2.527667e+06</td>\n",
              "      <td>1.345545e+03</td>\n",
              "      <td>2.831293e+04</td>\n",
              "      <td>3.950593e+01</td>\n",
              "      <td>1.003612e+00</td>\n",
              "      <td>594.374801</td>\n",
              "      <td>5.905402e+00</td>\n",
              "    </tr>\n",
              "    <tr>\n",
              "      <th>std</th>\n",
              "      <td>1.459326e+06</td>\n",
              "      <td>5.988937e+03</td>\n",
              "      <td>2.612073e+04</td>\n",
              "      <td>1.797564e+01</td>\n",
              "      <td>6.522722e-02</td>\n",
              "      <td>287.664267</td>\n",
              "      <td>6.095319e-01</td>\n",
              "    </tr>\n",
              "    <tr>\n",
              "      <th>min</th>\n",
              "      <td>1.000000e+00</td>\n",
              "      <td>5.000000e+00</td>\n",
              "      <td>5.001000e+03</td>\n",
              "      <td>1.000000e+00</td>\n",
              "      <td>1.000000e+00</td>\n",
              "      <td>4.000000</td>\n",
              "      <td>1.000000e+00</td>\n",
              "    </tr>\n",
              "    <tr>\n",
              "      <th>25%</th>\n",
              "      <td>1.263854e+06</td>\n",
              "      <td>1.100000e+01</td>\n",
              "      <td>1.100100e+04</td>\n",
              "      <td>2.600000e+01</td>\n",
              "      <td>1.000000e+00</td>\n",
              "      <td>380.000000</td>\n",
              "      <td>6.000000e+00</td>\n",
              "    </tr>\n",
              "    <tr>\n",
              "      <th>50%</th>\n",
              "      <td>2.527667e+06</td>\n",
              "      <td>1.700000e+01</td>\n",
              "      <td>1.100100e+04</td>\n",
              "      <td>3.700000e+01</td>\n",
              "      <td>1.000000e+00</td>\n",
              "      <td>724.000000</td>\n",
              "      <td>6.000000e+00</td>\n",
              "    </tr>\n",
              "    <tr>\n",
              "      <th>75%</th>\n",
              "      <td>3.791480e+06</td>\n",
              "      <td>6.800000e+01</td>\n",
              "      <td>5.000600e+04</td>\n",
              "      <td>5.200000e+01</td>\n",
              "      <td>1.000000e+00</td>\n",
              "      <td>840.000000</td>\n",
              "      <td>6.000000e+00</td>\n",
              "    </tr>\n",
              "    <tr>\n",
              "      <th>max</th>\n",
              "      <td>5.055293e+06</td>\n",
              "      <td>4.700100e+04</td>\n",
              "      <td>9.977300e+04</td>\n",
              "      <td>1.140000e+02</td>\n",
              "      <td>3.000000e+00</td>\n",
              "      <td>1724.000000</td>\n",
              "      <td>6.000000e+00</td>\n",
              "    </tr>\n",
              "  </tbody>\n",
              "</table>\n",
              "</div>"
            ],
            "text/plain": [
              "         ID de caso  ...  Pertenencia étnica\n",
              "count  5.055253e+06  ...        5.040665e+06\n",
              "mean   2.527667e+06  ...        5.905402e+00\n",
              "std    1.459326e+06  ...        6.095319e-01\n",
              "min    1.000000e+00  ...        1.000000e+00\n",
              "25%    1.263854e+06  ...        6.000000e+00\n",
              "50%    2.527667e+06  ...        6.000000e+00\n",
              "75%    3.791480e+06  ...        6.000000e+00\n",
              "max    5.055293e+06  ...        6.000000e+00\n",
              "\n",
              "[8 rows x 7 columns]"
            ]
          },
          "metadata": {},
          "execution_count": 88
        }
      ]
    },
    {
      "cell_type": "code",
      "metadata": {
        "colab": {
          "base_uri": "https://localhost:8080/",
          "height": 344
        },
        "id": "_l72F5gNIHUb",
        "outputId": "d40d18c5-ee98-40c5-89ed-9066d201f815"
      },
      "source": [
        "categorical_data.head()"
      ],
      "execution_count": 89,
      "outputs": [
        {
          "output_type": "execute_result",
          "data": {
            "text/html": [
              "<div>\n",
              "<style scoped>\n",
              "    .dataframe tbody tr th:only-of-type {\n",
              "        vertical-align: middle;\n",
              "    }\n",
              "\n",
              "    .dataframe tbody tr th {\n",
              "        vertical-align: top;\n",
              "    }\n",
              "\n",
              "    .dataframe thead th {\n",
              "        text-align: right;\n",
              "    }\n",
              "</style>\n",
              "<table border=\"1\" class=\"dataframe\">\n",
              "  <thead>\n",
              "    <tr style=\"text-align: right;\">\n",
              "      <th></th>\n",
              "      <th>fecha reporte web</th>\n",
              "      <th>Fecha de notificación</th>\n",
              "      <th>Nombre departamento</th>\n",
              "      <th>Nombre municipio</th>\n",
              "      <th>Sexo</th>\n",
              "      <th>Tipo de contagio</th>\n",
              "      <th>Ubicación del caso</th>\n",
              "      <th>Estado</th>\n",
              "      <th>Nombre del país</th>\n",
              "      <th>Recuperado</th>\n",
              "      <th>Fecha de inicio de síntomas</th>\n",
              "      <th>Fecha de muerte</th>\n",
              "      <th>Fecha de diagnóstico</th>\n",
              "      <th>Fecha de recuperación</th>\n",
              "      <th>Tipo de recuperación</th>\n",
              "      <th>Nombre del grupo étnico</th>\n",
              "    </tr>\n",
              "  </thead>\n",
              "  <tbody>\n",
              "    <tr>\n",
              "      <th>0</th>\n",
              "      <td>6/3/2020 0:00:00</td>\n",
              "      <td>2/3/2020 0:00:00</td>\n",
              "      <td>BOGOTA</td>\n",
              "      <td>BOGOTA</td>\n",
              "      <td>F</td>\n",
              "      <td>Importado</td>\n",
              "      <td>Casa</td>\n",
              "      <td>Leve</td>\n",
              "      <td>ITALIA</td>\n",
              "      <td>Recuperado</td>\n",
              "      <td>27/2/2020 0:00:00</td>\n",
              "      <td>NaN</td>\n",
              "      <td>6/3/2020 0:00:00</td>\n",
              "      <td>13/3/2020 0:00:00</td>\n",
              "      <td>PCR</td>\n",
              "      <td>NaN</td>\n",
              "    </tr>\n",
              "    <tr>\n",
              "      <th>1</th>\n",
              "      <td>9/3/2020 0:00:00</td>\n",
              "      <td>6/3/2020 0:00:00</td>\n",
              "      <td>VALLE</td>\n",
              "      <td>BUGA</td>\n",
              "      <td>M</td>\n",
              "      <td>Importado</td>\n",
              "      <td>Casa</td>\n",
              "      <td>Leve</td>\n",
              "      <td>ESPAÑA</td>\n",
              "      <td>Recuperado</td>\n",
              "      <td>4/3/2020 0:00:00</td>\n",
              "      <td>NaN</td>\n",
              "      <td>9/3/2020 0:00:00</td>\n",
              "      <td>19/3/2020 0:00:00</td>\n",
              "      <td>PCR</td>\n",
              "      <td>NaN</td>\n",
              "    </tr>\n",
              "    <tr>\n",
              "      <th>2</th>\n",
              "      <td>9/3/2020 0:00:00</td>\n",
              "      <td>7/3/2020 0:00:00</td>\n",
              "      <td>ANTIOQUIA</td>\n",
              "      <td>MEDELLIN</td>\n",
              "      <td>F</td>\n",
              "      <td>Importado</td>\n",
              "      <td>Casa</td>\n",
              "      <td>Leve</td>\n",
              "      <td>ESPAÑA</td>\n",
              "      <td>Recuperado</td>\n",
              "      <td>29/2/2020 0:00:00</td>\n",
              "      <td>NaN</td>\n",
              "      <td>9/3/2020 0:00:00</td>\n",
              "      <td>15/3/2020 0:00:00</td>\n",
              "      <td>PCR</td>\n",
              "      <td>NaN</td>\n",
              "    </tr>\n",
              "    <tr>\n",
              "      <th>3</th>\n",
              "      <td>11/3/2020 0:00:00</td>\n",
              "      <td>9/3/2020 0:00:00</td>\n",
              "      <td>ANTIOQUIA</td>\n",
              "      <td>MEDELLIN</td>\n",
              "      <td>M</td>\n",
              "      <td>Relacionado</td>\n",
              "      <td>Casa</td>\n",
              "      <td>Leve</td>\n",
              "      <td>NaN</td>\n",
              "      <td>Recuperado</td>\n",
              "      <td>6/3/2020 0:00:00</td>\n",
              "      <td>NaN</td>\n",
              "      <td>11/3/2020 0:00:00</td>\n",
              "      <td>26/3/2020 0:00:00</td>\n",
              "      <td>PCR</td>\n",
              "      <td>NaN</td>\n",
              "    </tr>\n",
              "    <tr>\n",
              "      <th>4</th>\n",
              "      <td>11/3/2020 0:00:00</td>\n",
              "      <td>9/3/2020 0:00:00</td>\n",
              "      <td>ANTIOQUIA</td>\n",
              "      <td>MEDELLIN</td>\n",
              "      <td>M</td>\n",
              "      <td>Relacionado</td>\n",
              "      <td>Casa</td>\n",
              "      <td>Leve</td>\n",
              "      <td>NaN</td>\n",
              "      <td>Recuperado</td>\n",
              "      <td>8/3/2020 0:00:00</td>\n",
              "      <td>NaN</td>\n",
              "      <td>11/3/2020 0:00:00</td>\n",
              "      <td>23/3/2020 0:00:00</td>\n",
              "      <td>PCR</td>\n",
              "      <td>NaN</td>\n",
              "    </tr>\n",
              "  </tbody>\n",
              "</table>\n",
              "</div>"
            ],
            "text/plain": [
              "   fecha reporte web  ... Nombre del grupo étnico\n",
              "0   6/3/2020 0:00:00  ...                     NaN\n",
              "1   9/3/2020 0:00:00  ...                     NaN\n",
              "2   9/3/2020 0:00:00  ...                     NaN\n",
              "3  11/3/2020 0:00:00  ...                     NaN\n",
              "4  11/3/2020 0:00:00  ...                     NaN\n",
              "\n",
              "[5 rows x 16 columns]"
            ]
          },
          "metadata": {},
          "execution_count": 89
        }
      ]
    },
    {
      "cell_type": "code",
      "metadata": {
        "colab": {
          "base_uri": "https://localhost:8080/"
        },
        "id": "r1E9Q3inIMEH",
        "outputId": "00a20e1e-1f27-4c3c-fc6d-f3f0afc30d8e"
      },
      "source": [
        "categorical_data['Estado'].value_counts()"
      ],
      "execution_count": 90,
      "outputs": [
        {
          "output_type": "execute_result",
          "data": {
            "text/plain": [
              "Leve         4889657\n",
              "Fallecido     128236\n",
              "leve           14744\n",
              "Moderado        1387\n",
              "Grave            386\n",
              "LEVE               2\n",
              "Name: Estado, dtype: int64"
            ]
          },
          "metadata": {},
          "execution_count": 90
        }
      ]
    },
    {
      "cell_type": "code",
      "metadata": {
        "colab": {
          "base_uri": "https://localhost:8080/"
        },
        "id": "1n4DG2cKISmq",
        "outputId": "95de8af8-72c4-4755-82f3-9bff3968ffbe"
      },
      "source": [
        "categorical_data['Nombre del grupo étnico'].value_counts()"
      ],
      "execution_count": 91,
      "outputs": [
        {
          "output_type": "execute_result",
          "data": {
            "text/plain": [
              "Por definir                  17140\n",
              "Sin Comunidad                 7974\n",
              "ZENU                          7831\n",
              "PIJAO                         3539\n",
              "PASTO                         2565\n",
              "                             ...  \n",
              "VEREDA EL CARMEN - ASATAV        1\n",
              "LA FLORESTA JAIDE                1\n",
              "NASA UH                          1\n",
              "POLUMOU                          1\n",
              "GUAYABERO                        1\n",
              "Name: Nombre del grupo étnico, Length: 1753, dtype: int64"
            ]
          },
          "metadata": {},
          "execution_count": 91
        }
      ]
    },
    {
      "cell_type": "code",
      "metadata": {
        "colab": {
          "base_uri": "https://localhost:8080/"
        },
        "id": "buzLBd4OIeMB",
        "outputId": "c4770d6c-997f-425b-957b-b01e66bcd0e6"
      },
      "source": [
        "categorical_data['Nombre departamento'].value_counts()"
      ],
      "execution_count": 93,
      "outputs": [
        {
          "output_type": "execute_result",
          "data": {
            "text/plain": [
              "BOGOTA             1461086\n",
              "ANTIOQUIA           766704\n",
              "VALLE               415384\n",
              "CUNDINAMARCA        265974\n",
              "SANTANDER           229543\n",
              "BARRANQUILLA        215149\n",
              "CARTAGENA           126061\n",
              "ATLANTICO           122587\n",
              "TOLIMA              108031\n",
              "BOYACA              106289\n",
              "CORDOBA             104499\n",
              "CALDAS              101145\n",
              "NORTE SANTANDER      97658\n",
              "CESAR                91432\n",
              "NARIÑO               90287\n",
              "META                 90062\n",
              "HUILA                88839\n",
              "RISARALDA            88354\n",
              "STA MARTA D.E.       70338\n",
              "SUCRE                59626\n",
              "QUINDIO              57805\n",
              "CAUCA                56677\n",
              "GUAJIRA              45334\n",
              "CASANARE             35865\n",
              "BOLIVAR              34015\n",
              "MAGDALENA            28986\n",
              "CAQUETA              22980\n",
              "PUTUMAYO             16885\n",
              "CHOCO                16488\n",
              "ARAUCA               13952\n",
              "SAN ANDRES            7930\n",
              "AMAZONAS              6888\n",
              "GUAVIARE              5155\n",
              "VICHADA               2992\n",
              "GUAINIA               2457\n",
              "VAUPES                1794\n",
              "Tolima                   1\n",
              "Caldas                   1\n",
              "Name: Nombre departamento, dtype: int64"
            ]
          },
          "metadata": {},
          "execution_count": 93
        }
      ]
    },
    {
      "cell_type": "code",
      "metadata": {
        "colab": {
          "base_uri": "https://localhost:8080/"
        },
        "id": "wYX_4tQGIojf",
        "outputId": "0256d991-4e57-4fda-de38-67b31ec0a8f4"
      },
      "source": [
        "categorical_data['Recuperado'].value_counts()"
      ],
      "execution_count": 95,
      "outputs": [
        {
          "output_type": "execute_result",
          "data": {
            "text/plain": [
              "Recuperado    4895931\n",
              "Fallecido      127941\n",
              "Activo          13615\n",
              "fallecido         295\n",
              "Name: Recuperado, dtype: int64"
            ]
          },
          "metadata": {},
          "execution_count": 95
        }
      ]
    },
    {
      "cell_type": "markdown",
      "metadata": {
        "id": "dmhRM8kFIxOx"
      },
      "source": [
        "# Conteo de casos por fecha"
      ]
    },
    {
      "cell_type": "code",
      "metadata": {
        "id": "-jMyET74TCsY"
      },
      "source": [
        "covid_bogota=covid_bogota['fecha reporte web'].value_counts()"
      ],
      "execution_count": 7,
      "outputs": []
    },
    {
      "cell_type": "code",
      "metadata": {
        "colab": {
          "base_uri": "https://localhost:8080/",
          "height": 301
        },
        "id": "bW7n1X4fTybO",
        "outputId": "ac442c98-18ef-44e9-f9b0-905607cbcfb8"
      },
      "source": [
        "#covid_bogota.info()"
      ],
      "execution_count": 8,
      "outputs": [
        {
          "output_type": "error",
          "ename": "AttributeError",
          "evalue": "ignored",
          "traceback": [
            "\u001b[0;31m---------------------------------------------------------------------------\u001b[0m",
            "\u001b[0;31mAttributeError\u001b[0m                            Traceback (most recent call last)",
            "\u001b[0;32m<ipython-input-8-b3f675dc7791>\u001b[0m in \u001b[0;36m<module>\u001b[0;34m()\u001b[0m\n\u001b[0;32m----> 1\u001b[0;31m \u001b[0mcovid_bogota\u001b[0m\u001b[0;34m.\u001b[0m\u001b[0minfo\u001b[0m\u001b[0;34m(\u001b[0m\u001b[0;34m)\u001b[0m\u001b[0;34m\u001b[0m\u001b[0;34m\u001b[0m\u001b[0m\n\u001b[0m",
            "\u001b[0;32m/usr/local/lib/python3.7/dist-packages/pandas/core/generic.py\u001b[0m in \u001b[0;36m__getattr__\u001b[0;34m(self, name)\u001b[0m\n\u001b[1;32m   5139\u001b[0m             \u001b[0;32mif\u001b[0m \u001b[0mself\u001b[0m\u001b[0;34m.\u001b[0m\u001b[0m_info_axis\u001b[0m\u001b[0;34m.\u001b[0m\u001b[0m_can_hold_identifiers_and_holds_name\u001b[0m\u001b[0;34m(\u001b[0m\u001b[0mname\u001b[0m\u001b[0;34m)\u001b[0m\u001b[0;34m:\u001b[0m\u001b[0;34m\u001b[0m\u001b[0;34m\u001b[0m\u001b[0m\n\u001b[1;32m   5140\u001b[0m                 \u001b[0;32mreturn\u001b[0m \u001b[0mself\u001b[0m\u001b[0;34m[\u001b[0m\u001b[0mname\u001b[0m\u001b[0;34m]\u001b[0m\u001b[0;34m\u001b[0m\u001b[0;34m\u001b[0m\u001b[0m\n\u001b[0;32m-> 5141\u001b[0;31m             \u001b[0;32mreturn\u001b[0m \u001b[0mobject\u001b[0m\u001b[0;34m.\u001b[0m\u001b[0m__getattribute__\u001b[0m\u001b[0;34m(\u001b[0m\u001b[0mself\u001b[0m\u001b[0;34m,\u001b[0m \u001b[0mname\u001b[0m\u001b[0;34m)\u001b[0m\u001b[0;34m\u001b[0m\u001b[0;34m\u001b[0m\u001b[0m\n\u001b[0m\u001b[1;32m   5142\u001b[0m \u001b[0;34m\u001b[0m\u001b[0m\n\u001b[1;32m   5143\u001b[0m     \u001b[0;32mdef\u001b[0m \u001b[0m__setattr__\u001b[0m\u001b[0;34m(\u001b[0m\u001b[0mself\u001b[0m\u001b[0;34m,\u001b[0m \u001b[0mname\u001b[0m\u001b[0;34m:\u001b[0m \u001b[0mstr\u001b[0m\u001b[0;34m,\u001b[0m \u001b[0mvalue\u001b[0m\u001b[0;34m)\u001b[0m \u001b[0;34m->\u001b[0m \u001b[0;32mNone\u001b[0m\u001b[0;34m:\u001b[0m\u001b[0;34m\u001b[0m\u001b[0;34m\u001b[0m\u001b[0m\n",
            "\u001b[0;31mAttributeError\u001b[0m: 'Series' object has no attribute 'info'"
          ]
        }
      ]
    },
    {
      "cell_type": "code",
      "metadata": {
        "id": "amR0hbkzTcZ5"
      },
      "source": [
        "covid_bogota=pd.DataFrame({'fecha reporte web':covid_bogota.index, 'conteo':covid_bogota.values})"
      ],
      "execution_count": 9,
      "outputs": []
    },
    {
      "cell_type": "code",
      "metadata": {
        "colab": {
          "base_uri": "https://localhost:8080/",
          "height": 423
        },
        "id": "6VDwhZoHUaHr",
        "outputId": "6daba63f-43f1-458c-ee9d-a6dbba50995e"
      },
      "source": [
        "covid_bogota"
      ],
      "execution_count": 10,
      "outputs": [
        {
          "output_type": "execute_result",
          "data": {
            "text/html": [
              "<div>\n",
              "<style scoped>\n",
              "    .dataframe tbody tr th:only-of-type {\n",
              "        vertical-align: middle;\n",
              "    }\n",
              "\n",
              "    .dataframe tbody tr th {\n",
              "        vertical-align: top;\n",
              "    }\n",
              "\n",
              "    .dataframe thead th {\n",
              "        text-align: right;\n",
              "    }\n",
              "</style>\n",
              "<table border=\"1\" class=\"dataframe\">\n",
              "  <thead>\n",
              "    <tr style=\"text-align: right;\">\n",
              "      <th></th>\n",
              "      <th>fecha reporte web</th>\n",
              "      <th>conteo</th>\n",
              "    </tr>\n",
              "  </thead>\n",
              "  <tbody>\n",
              "    <tr>\n",
              "      <th>0</th>\n",
              "      <td>24/6/2021 0:00:00</td>\n",
              "      <td>15569</td>\n",
              "    </tr>\n",
              "    <tr>\n",
              "      <th>1</th>\n",
              "      <td>17/6/2021 0:00:00</td>\n",
              "      <td>12493</td>\n",
              "    </tr>\n",
              "    <tr>\n",
              "      <th>2</th>\n",
              "      <td>19/6/2021 0:00:00</td>\n",
              "      <td>11729</td>\n",
              "    </tr>\n",
              "    <tr>\n",
              "      <th>3</th>\n",
              "      <td>1/7/2021 0:00:00</td>\n",
              "      <td>11545</td>\n",
              "    </tr>\n",
              "    <tr>\n",
              "      <th>4</th>\n",
              "      <td>30/6/2021 0:00:00</td>\n",
              "      <td>11493</td>\n",
              "    </tr>\n",
              "    <tr>\n",
              "      <th>...</th>\n",
              "      <td>...</td>\n",
              "      <td>...</td>\n",
              "    </tr>\n",
              "    <tr>\n",
              "      <th>620</th>\n",
              "      <td>22/3/2020 0:00:00</td>\n",
              "      <td>4</td>\n",
              "    </tr>\n",
              "    <tr>\n",
              "      <th>621</th>\n",
              "      <td>12/3/2020 0:00:00</td>\n",
              "      <td>2</td>\n",
              "    </tr>\n",
              "    <tr>\n",
              "      <th>622</th>\n",
              "      <td>11/3/2020 0:00:00</td>\n",
              "      <td>2</td>\n",
              "    </tr>\n",
              "    <tr>\n",
              "      <th>623</th>\n",
              "      <td>13/3/2020 0:00:00</td>\n",
              "      <td>1</td>\n",
              "    </tr>\n",
              "    <tr>\n",
              "      <th>624</th>\n",
              "      <td>6/3/2020 0:00:00</td>\n",
              "      <td>1</td>\n",
              "    </tr>\n",
              "  </tbody>\n",
              "</table>\n",
              "<p>625 rows × 2 columns</p>\n",
              "</div>"
            ],
            "text/plain": [
              "     fecha reporte web  conteo\n",
              "0    24/6/2021 0:00:00   15569\n",
              "1    17/6/2021 0:00:00   12493\n",
              "2    19/6/2021 0:00:00   11729\n",
              "3     1/7/2021 0:00:00   11545\n",
              "4    30/6/2021 0:00:00   11493\n",
              "..                 ...     ...\n",
              "620  22/3/2020 0:00:00       4\n",
              "621  12/3/2020 0:00:00       2\n",
              "622  11/3/2020 0:00:00       2\n",
              "623  13/3/2020 0:00:00       1\n",
              "624   6/3/2020 0:00:00       1\n",
              "\n",
              "[625 rows x 2 columns]"
            ]
          },
          "metadata": {},
          "execution_count": 10
        }
      ]
    },
    {
      "cell_type": "code",
      "metadata": {
        "id": "6O9k4hzqXcEH"
      },
      "source": [
        "df=covid_bogota"
      ],
      "execution_count": 20,
      "outputs": []
    },
    {
      "cell_type": "code",
      "metadata": {
        "colab": {
          "base_uri": "https://localhost:8080/"
        },
        "id": "Jv1xZj-xXHwR",
        "outputId": "ac209a23-5850-4818-ae67-78a3b3d417e5"
      },
      "source": [
        "df.info()"
      ],
      "execution_count": 21,
      "outputs": [
        {
          "output_type": "stream",
          "name": "stdout",
          "text": [
            "<class 'pandas.core.frame.DataFrame'>\n",
            "RangeIndex: 625 entries, 0 to 624\n",
            "Data columns (total 2 columns):\n",
            " #   Column             Non-Null Count  Dtype         \n",
            "---  ------             --------------  -----         \n",
            " 0   fecha reporte web  625 non-null    datetime64[ns]\n",
            " 1   conteo             625 non-null    int64         \n",
            "dtypes: datetime64[ns](1), int64(1)\n",
            "memory usage: 9.9 KB\n"
          ]
        }
      ]
    },
    {
      "cell_type": "code",
      "metadata": {
        "id": "Z_TeveCzXYjI"
      },
      "source": [
        "df['fecha reporte web'] = pd.to_datetime(df['fecha reporte web'])# convierte el series a dataframe"
      ],
      "execution_count": 70,
      "outputs": []
    },
    {
      "cell_type": "code",
      "metadata": {
        "id": "FHyngHUNy9hq"
      },
      "source": [
        "df=df.sort_values(by='fecha reporte web')"
      ],
      "execution_count": 71,
      "outputs": []
    },
    {
      "cell_type": "code",
      "metadata": {
        "colab": {
          "base_uri": "https://localhost:8080/"
        },
        "id": "unDsdGZMXthc",
        "outputId": "50239cad-65be-47bd-d242-f19623c78f40"
      },
      "source": [
        "df.info()"
      ],
      "execution_count": 72,
      "outputs": [
        {
          "output_type": "stream",
          "name": "stdout",
          "text": [
            "<class 'pandas.core.frame.DataFrame'>\n",
            "Int64Index: 625 entries, 585 to 465\n",
            "Data columns (total 2 columns):\n",
            " #   Column             Non-Null Count  Dtype         \n",
            "---  ------             --------------  -----         \n",
            " 0   fecha reporte web  625 non-null    datetime64[ns]\n",
            " 1   conteo             625 non-null    int64         \n",
            "dtypes: datetime64[ns](1), int64(1)\n",
            "memory usage: 14.6 KB\n"
          ]
        }
      ]
    },
    {
      "cell_type": "code",
      "metadata": {
        "colab": {
          "base_uri": "https://localhost:8080/",
          "height": 297
        },
        "id": "eDMXfkhkUm7h",
        "outputId": "49b83435-eb84-4795-ac69-ea053f853a83"
      },
      "source": [
        "sns.lineplot(data=df,y='conteo',x='fecha reporte web')"
      ],
      "execution_count": 73,
      "outputs": [
        {
          "output_type": "execute_result",
          "data": {
            "text/plain": [
              "<matplotlib.axes._subplots.AxesSubplot at 0x7f0822806bd0>"
            ]
          },
          "metadata": {},
          "execution_count": 73
        },
        {
          "output_type": "display_data",
          "data": {
            "image/png": "[encoded data removed]",
            "text/plain": [
              "<Figure size 432x288 with 1 Axes>"
            ]
          },
          "metadata": {
            "needs_background": "light"
          }
        }
      ]
    },
    {
      "cell_type": "code",
      "metadata": {
        "id": "RyWK86wqYYGn"
      },
      "source": [
        "df_1= np.array(df['conteo'].values)\n",
        "generator = TimeseriesGenerator(df_1,df_1,length=4,batch_size=12)"
      ],
      "execution_count": 74,
      "outputs": []
    },
    {
      "cell_type": "code",
      "metadata": {
        "id": "fBYg9X_wY-Ci"
      },
      "source": [
        "model =  tf.keras.models.Sequential()\n",
        "model.add(tf.keras.Input(shape=(4,)))\n",
        "model.add(tf.keras.layers.Dense(2,activation='relu'))\n",
        "model.add(tf.keras.layers.Dense(1,activation='linear'))"
      ],
      "execution_count": 75,
      "outputs": []
    },
    {
      "cell_type": "code",
      "metadata": {
        "colab": {
          "base_uri": "https://localhost:8080/",
          "height": 312
        },
        "id": "xdKYPXjeanLs",
        "outputId": "59c9489c-c60f-4e2c-feb9-6d21c65c3920"
      },
      "source": [
        "tf.keras.utils.plot_model(model,show_shapes=True)"
      ],
      "execution_count": 76,
      "outputs": [
        {
          "output_type": "execute_result",
          "data": {
            "image/png": "[encoded data removed]",
            "text/plain": [
              "<IPython.core.display.Image object>"
            ]
          },
          "metadata": {},
          "execution_count": 76
        }
      ]
    },
    {
      "cell_type": "code",
      "metadata": {
        "id": "HzWrckYud-FC"
      },
      "source": [
        "model.compile(loss='mse',optimizer='adam')"
      ],
      "execution_count": 77,
      "outputs": []
    },
    {
      "cell_type": "code",
      "metadata": {
        "colab": {
          "base_uri": "https://localhost:8080/"
        },
        "id": "nKIm75ADcEeT",
        "outputId": "3cab964e-4c5f-4cad-edb5-a87219f2b083"
      },
      "source": [
        "model.fit_generator(generator,epochs=300)"
      ],
      "execution_count": 78,
      "outputs": [
        {
          "output_type": "stream",
          "name": "stderr",
          "text": [
            "/usr/local/lib/python3.7/dist-packages/ipykernel_launcher.py:1: UserWarning:\n",
            "\n",
            "`Model.fit_generator` is deprecated and will be removed in a future version. Please use `Model.fit`, which supports generators.\n",
            "\n"
          ]
        },
        {
          "output_type": "stream",
          "name": "stdout",
          "text": [
            "Epoch 1/300\n",
            "52/52 [==============================] - 0s 2ms/step - loss: 4018284.0000\n",
            "Epoch 2/300\n",
            "52/52 [==============================] - 0s 2ms/step - loss: 3575257.7500\n",
            "Epoch 3/300\n",
            "52/52 [==============================] - 0s 2ms/step - loss: 3452861.5000\n",
            "Epoch 4/300\n",
            "52/52 [==============================] - 0s 2ms/step - loss: 3409787.5000\n",
            "Epoch 5/300\n",
            "52/52 [==============================] - 0s 2ms/step - loss: 3399772.2500\n",
            "Epoch 6/300\n",
            "52/52 [==============================] - 0s 2ms/step - loss: 3380696.0000\n",
            "Epoch 7/300\n",
            "52/52 [==============================] - 0s 2ms/step - loss: 3370098.5000\n",
            "Epoch 8/300\n",
            "52/52 [==============================] - 0s 2ms/step - loss: 3356236.0000\n",
            "Epoch 9/300\n",
            "52/52 [==============================] - 0s 2ms/step - loss: 3347631.0000\n",
            "Epoch 10/300\n",
            "52/52 [==============================] - 0s 2ms/step - loss: 3338930.0000\n",
            "Epoch 11/300\n",
            "52/52 [==============================] - 0s 2ms/step - loss: 3328663.7500\n",
            "Epoch 12/300\n",
            "52/52 [==============================] - 0s 1ms/step - loss: 3319705.2500\n",
            "Epoch 13/300\n",
            "52/52 [==============================] - 0s 2ms/step - loss: 3291198.7500\n",
            "Epoch 14/300\n",
            "52/52 [==============================] - 0s 2ms/step - loss: 3241700.2500\n",
            "Epoch 15/300\n",
            "52/52 [==============================] - 0s 2ms/step - loss: 3193166.7500\n",
            "Epoch 16/300\n",
            "52/52 [==============================] - 0s 2ms/step - loss: 3164220.0000\n",
            "Epoch 17/300\n",
            "52/52 [==============================] - 0s 2ms/step - loss: 3132730.2500\n",
            "Epoch 18/300\n",
            "52/52 [==============================] - 0s 2ms/step - loss: 3113293.5000\n",
            "Epoch 19/300\n",
            "52/52 [==============================] - 0s 2ms/step - loss: 3091535.5000\n",
            "Epoch 20/300\n",
            "52/52 [==============================] - 0s 2ms/step - loss: 3084904.0000\n",
            "Epoch 21/300\n",
            "52/52 [==============================] - 0s 2ms/step - loss: 3091035.0000\n",
            "Epoch 22/300\n",
            "52/52 [==============================] - 0s 2ms/step - loss: 3059027.0000\n",
            "Epoch 23/300\n",
            "52/52 [==============================] - 0s 2ms/step - loss: 3053722.5000\n",
            "Epoch 24/300\n",
            "52/52 [==============================] - 0s 2ms/step - loss: 3038049.7500\n",
            "Epoch 25/300\n",
            "52/52 [==============================] - 0s 2ms/step - loss: 3037137.7500\n",
            "Epoch 26/300\n",
            "52/52 [==============================] - 0s 2ms/step - loss: 3022484.5000\n",
            "Epoch 27/300\n",
            "52/52 [==============================] - 0s 2ms/step - loss: 3018109.2500\n",
            "Epoch 28/300\n",
            "52/52 [==============================] - 0s 2ms/step - loss: 3008882.0000\n",
            "Epoch 29/300\n",
            "52/52 [==============================] - 0s 2ms/step - loss: 3003481.0000\n",
            "Epoch 30/300\n",
            "52/52 [==============================] - 0s 2ms/step - loss: 2999833.2500\n",
            "Epoch 31/300\n",
            "52/52 [==============================] - 0s 2ms/step - loss: 2995070.2500\n",
            "Epoch 32/300\n",
            "52/52 [==============================] - 0s 2ms/step - loss: 2993144.2500\n",
            "Epoch 33/300\n",
            "52/52 [==============================] - 0s 2ms/step - loss: 3004467.7500\n",
            "Epoch 34/300\n",
            "52/52 [==============================] - 0s 2ms/step - loss: 2988127.0000\n",
            "Epoch 35/300\n",
            "52/52 [==============================] - 0s 2ms/step - loss: 2994761.5000\n",
            "Epoch 36/300\n",
            "52/52 [==============================] - 0s 2ms/step - loss: 2986732.7500\n",
            "Epoch 37/300\n",
            "52/52 [==============================] - 0s 2ms/step - loss: 2983848.2500\n",
            "Epoch 38/300\n",
            "52/52 [==============================] - 0s 2ms/step - loss: 2988279.2500\n",
            "Epoch 39/300\n",
            "52/52 [==============================] - 0s 2ms/step - loss: 2977871.2500\n",
            "Epoch 40/300\n",
            "52/52 [==============================] - 0s 2ms/step - loss: 2975768.0000\n",
            "Epoch 41/300\n",
            "52/52 [==============================] - 0s 2ms/step - loss: 2975700.0000\n",
            "Epoch 42/300\n",
            "52/52 [==============================] - 0s 2ms/step - loss: 2972540.2500\n",
            "Epoch 43/300\n",
            "52/52 [==============================] - 0s 2ms/step - loss: 2974237.5000\n",
            "Epoch 44/300\n",
            "52/52 [==============================] - 0s 2ms/step - loss: 2977998.5000\n",
            "Epoch 45/300\n",
            "52/52 [==============================] - 0s 2ms/step - loss: 2972027.5000\n",
            "Epoch 46/300\n",
            "52/52 [==============================] - 0s 2ms/step - loss: 2967153.2500\n",
            "Epoch 47/300\n",
            "52/52 [==============================] - 0s 2ms/step - loss: 2968245.5000\n",
            "Epoch 48/300\n",
            "52/52 [==============================] - 0s 2ms/step - loss: 2966341.7500\n",
            "Epoch 49/300\n",
            "52/52 [==============================] - 0s 2ms/step - loss: 2966186.7500\n",
            "Epoch 50/300\n",
            "52/52 [==============================] - 0s 2ms/step - loss: 2962820.7500\n",
            "Epoch 51/300\n",
            "52/52 [==============================] - 0s 2ms/step - loss: 2969491.7500\n",
            "Epoch 52/300\n",
            "52/52 [==============================] - 0s 2ms/step - loss: 2965114.5000\n",
            "Epoch 53/300\n",
            "52/52 [==============================] - 0s 2ms/step - loss: 2959224.5000\n",
            "Epoch 54/300\n",
            "52/52 [==============================] - 0s 2ms/step - loss: 2964434.0000\n",
            "Epoch 55/300\n",
            "52/52 [==============================] - 0s 2ms/step - loss: 2959201.5000\n",
            "Epoch 56/300\n",
            "52/52 [==============================] - 0s 2ms/step - loss: 2962824.0000\n",
            "Epoch 57/300\n",
            "52/52 [==============================] - 0s 2ms/step - loss: 2961158.0000\n",
            "Epoch 58/300\n",
            "52/52 [==============================] - 0s 2ms/step - loss: 2959826.0000\n",
            "Epoch 59/300\n",
            "52/52 [==============================] - 0s 2ms/step - loss: 2958233.2500\n",
            "Epoch 60/300\n",
            "52/52 [==============================] - 0s 2ms/step - loss: 2959584.7500\n",
            "Epoch 61/300\n",
            "52/52 [==============================] - 0s 2ms/step - loss: 2961564.2500\n",
            "Epoch 62/300\n",
            "52/52 [==============================] - 0s 2ms/step - loss: 2961620.0000\n",
            "Epoch 63/300\n",
            "52/52 [==============================] - 0s 2ms/step - loss: 2967108.2500\n",
            "Epoch 64/300\n",
            "52/52 [==============================] - 0s 2ms/step - loss: 2961635.2500\n",
            "Epoch 65/300\n",
            "52/52 [==============================] - 0s 2ms/step - loss: 2957873.7500\n",
            "Epoch 66/300\n",
            "52/52 [==============================] - 0s 2ms/step - loss: 2960947.0000\n",
            "Epoch 67/300\n",
            "52/52 [==============================] - 0s 2ms/step - loss: 2955044.5000\n",
            "Epoch 68/300\n",
            "52/52 [==============================] - 0s 2ms/step - loss: 2958010.2500\n",
            "Epoch 69/300\n",
            "52/52 [==============================] - 0s 2ms/step - loss: 2960252.0000\n",
            "Epoch 70/300\n",
            "52/52 [==============================] - 0s 2ms/step - loss: 2959794.5000\n",
            "Epoch 71/300\n",
            "52/52 [==============================] - 0s 2ms/step - loss: 2960650.5000\n",
            "Epoch 72/300\n",
            "52/52 [==============================] - 0s 2ms/step - loss: 2961568.2500\n",
            "Epoch 73/300\n",
            "52/52 [==============================] - 0s 2ms/step - loss: 2956690.0000\n",
            "Epoch 74/300\n",
            "52/52 [==============================] - 0s 2ms/step - loss: 2955275.5000\n",
            "Epoch 75/300\n",
            "52/52 [==============================] - 0s 2ms/step - loss: 2957626.0000\n",
            "Epoch 76/300\n",
            "52/52 [==============================] - 0s 2ms/step - loss: 2957669.0000\n",
            "Epoch 77/300\n",
            "52/52 [==============================] - 0s 2ms/step - loss: 2959061.5000\n",
            "Epoch 78/300\n",
            "52/52 [==============================] - 0s 2ms/step - loss: 2953836.7500\n",
            "Epoch 79/300\n",
            "52/52 [==============================] - 0s 2ms/step - loss: 2958972.0000\n",
            "Epoch 80/300\n",
            "52/52 [==============================] - 0s 2ms/step - loss: 2962743.0000\n",
            "Epoch 81/300\n",
            "52/52 [==============================] - 0s 2ms/step - loss: 2958043.0000\n",
            "Epoch 82/300\n",
            "52/52 [==============================] - 0s 2ms/step - loss: 2960715.0000\n",
            "Epoch 83/300\n",
            "52/52 [==============================] - 0s 2ms/step - loss: 2953892.5000\n",
            "Epoch 84/300\n",
            "52/52 [==============================] - 0s 2ms/step - loss: 2962367.0000\n",
            "Epoch 85/300\n",
            "52/52 [==============================] - 0s 2ms/step - loss: 2955216.5000\n",
            "Epoch 86/300\n",
            "52/52 [==============================] - 0s 2ms/step - loss: 2957647.7500\n",
            "Epoch 87/300\n",
            "52/52 [==============================] - 0s 2ms/step - loss: 2953697.2500\n",
            "Epoch 88/300\n",
            "52/52 [==============================] - 0s 2ms/step - loss: 2955031.7500\n",
            "Epoch 89/300\n",
            "52/52 [==============================] - 0s 2ms/step - loss: 2958961.2500\n",
            "Epoch 90/300\n",
            "52/52 [==============================] - 0s 2ms/step - loss: 2957400.2500\n",
            "Epoch 91/300\n",
            "52/52 [==============================] - 0s 2ms/step - loss: 2952867.0000\n",
            "Epoch 92/300\n",
            "52/52 [==============================] - 0s 2ms/step - loss: 2953627.7500\n",
            "Epoch 93/300\n",
            "52/52 [==============================] - 0s 2ms/step - loss: 2955053.2500\n",
            "Epoch 94/300\n",
            "52/52 [==============================] - 0s 2ms/step - loss: 2950779.7500\n",
            "Epoch 95/300\n",
            "52/52 [==============================] - 0s 2ms/step - loss: 2952552.7500\n",
            "Epoch 96/300\n",
            "52/52 [==============================] - 0s 2ms/step - loss: 2953482.0000\n",
            "Epoch 97/300\n",
            "52/52 [==============================] - 0s 2ms/step - loss: 2955406.2500\n",
            "Epoch 98/300\n",
            "52/52 [==============================] - 0s 2ms/step - loss: 2960002.2500\n",
            "Epoch 99/300\n",
            "52/52 [==============================] - 0s 2ms/step - loss: 2959975.2500\n",
            "Epoch 100/300\n",
            "52/52 [==============================] - 0s 2ms/step - loss: 2950037.0000\n",
            "Epoch 101/300\n",
            "52/52 [==============================] - 0s 2ms/step - loss: 2950207.7500\n",
            "Epoch 102/300\n",
            "52/52 [==============================] - 0s 2ms/step - loss: 2953126.5000\n",
            "Epoch 103/300\n",
            "52/52 [==============================] - 0s 2ms/step - loss: 2958681.2500\n",
            "Epoch 104/300\n",
            "52/52 [==============================] - 0s 2ms/step - loss: 2955976.7500\n",
            "Epoch 105/300\n",
            "52/52 [==============================] - 0s 2ms/step - loss: 2956104.2500\n",
            "Epoch 106/300\n",
            "52/52 [==============================] - 0s 2ms/step - loss: 2954822.2500\n",
            "Epoch 107/300\n",
            "52/52 [==============================] - 0s 2ms/step - loss: 2952399.5000\n",
            "Epoch 108/300\n",
            "52/52 [==============================] - 0s 2ms/step - loss: 2959943.2500\n",
            "Epoch 109/300\n",
            "52/52 [==============================] - 0s 2ms/step - loss: 2953343.0000\n",
            "Epoch 110/300\n",
            "52/52 [==============================] - 0s 2ms/step - loss: 2956624.2500\n",
            "Epoch 111/300\n",
            "52/52 [==============================] - 0s 2ms/step - loss: 2949649.2500\n",
            "Epoch 112/300\n",
            "52/52 [==============================] - 0s 2ms/step - loss: 2950175.2500\n",
            "Epoch 113/300\n",
            "52/52 [==============================] - 0s 2ms/step - loss: 2949117.2500\n",
            "Epoch 114/300\n",
            "52/52 [==============================] - 0s 2ms/step - loss: 2953634.0000\n",
            "Epoch 115/300\n",
            "52/52 [==============================] - 0s 2ms/step - loss: 2952332.0000\n",
            "Epoch 116/300\n",
            "52/52 [==============================] - 0s 2ms/step - loss: 2951200.2500\n",
            "Epoch 117/300\n",
            "52/52 [==============================] - 0s 2ms/step - loss: 2949286.0000\n",
            "Epoch 118/300\n",
            "52/52 [==============================] - 0s 2ms/step - loss: 2959052.5000\n",
            "Epoch 119/300\n",
            "52/52 [==============================] - 0s 2ms/step - loss: 2954938.2500\n",
            "Epoch 120/300\n",
            "52/52 [==============================] - 0s 2ms/step - loss: 2949071.2500\n",
            "Epoch 121/300\n",
            "52/52 [==============================] - 0s 2ms/step - loss: 2951483.2500\n",
            "Epoch 122/300\n",
            "52/52 [==============================] - 0s 2ms/step - loss: 2953240.0000\n",
            "Epoch 123/300\n",
            "52/52 [==============================] - 0s 1ms/step - loss: 2953757.0000\n",
            "Epoch 124/300\n",
            "52/52 [==============================] - 0s 2ms/step - loss: 2949193.0000\n",
            "Epoch 125/300\n",
            "52/52 [==============================] - 0s 2ms/step - loss: 2950263.7500\n",
            "Epoch 126/300\n",
            "52/52 [==============================] - 0s 2ms/step - loss: 2952970.0000\n",
            "Epoch 127/300\n",
            "52/52 [==============================] - 0s 2ms/step - loss: 2949403.2500\n",
            "Epoch 128/300\n",
            "52/52 [==============================] - 0s 2ms/step - loss: 2952649.2500\n",
            "Epoch 129/300\n",
            "52/52 [==============================] - 0s 2ms/step - loss: 2953119.5000\n",
            "Epoch 130/300\n",
            "52/52 [==============================] - 0s 2ms/step - loss: 2960094.2500\n",
            "Epoch 131/300\n",
            "52/52 [==============================] - 0s 2ms/step - loss: 2953922.7500\n",
            "Epoch 132/300\n",
            "52/52 [==============================] - 0s 2ms/step - loss: 2951889.2500\n",
            "Epoch 133/300\n",
            "52/52 [==============================] - 0s 2ms/step - loss: 2953346.7500\n",
            "Epoch 134/300\n",
            "52/52 [==============================] - 0s 2ms/step - loss: 2956868.0000\n",
            "Epoch 135/300\n",
            "52/52 [==============================] - 0s 2ms/step - loss: 2954539.5000\n",
            "Epoch 136/300\n",
            "52/52 [==============================] - 0s 2ms/step - loss: 2948029.0000\n",
            "Epoch 137/300\n",
            "52/52 [==============================] - 0s 2ms/step - loss: 2952210.5000\n",
            "Epoch 138/300\n",
            "52/52 [==============================] - 0s 2ms/step - loss: 2954401.5000\n",
            "Epoch 139/300\n",
            "52/52 [==============================] - 0s 2ms/step - loss: 2960235.2500\n",
            "Epoch 140/300\n",
            "52/52 [==============================] - 0s 2ms/step - loss: 2952775.0000\n",
            "Epoch 141/300\n",
            "52/52 [==============================] - 0s 2ms/step - loss: 2948763.5000\n",
            "Epoch 142/300\n",
            "52/52 [==============================] - 0s 2ms/step - loss: 2952579.7500\n",
            "Epoch 143/300\n",
            "52/52 [==============================] - 0s 2ms/step - loss: 2949694.5000\n",
            "Epoch 144/300\n",
            "52/52 [==============================] - 0s 2ms/step - loss: 2950100.0000\n",
            "Epoch 145/300\n",
            "52/52 [==============================] - 0s 2ms/step - loss: 2953543.7500\n",
            "Epoch 146/300\n",
            "52/52 [==============================] - 0s 2ms/step - loss: 2957070.2500\n",
            "Epoch 147/300\n",
            "52/52 [==============================] - 0s 2ms/step - loss: 2953966.5000\n",
            "Epoch 148/300\n",
            "52/52 [==============================] - 0s 2ms/step - loss: 2952822.0000\n",
            "Epoch 149/300\n",
            "52/52 [==============================] - 0s 2ms/step - loss: 2956002.2500\n",
            "Epoch 150/300\n",
            "52/52 [==============================] - 0s 2ms/step - loss: 2948436.2500\n",
            "Epoch 151/300\n",
            "52/52 [==============================] - 0s 2ms/step - loss: 2946651.2500\n",
            "Epoch 152/300\n",
            "52/52 [==============================] - 0s 2ms/step - loss: 2949633.7500\n",
            "Epoch 153/300\n",
            "52/52 [==============================] - 0s 2ms/step - loss: 2951481.7500\n",
            "Epoch 154/300\n",
            "52/52 [==============================] - 0s 2ms/step - loss: 2954831.5000\n",
            "Epoch 155/300\n",
            "52/52 [==============================] - 0s 2ms/step - loss: 2958252.5000\n",
            "Epoch 156/300\n",
            "52/52 [==============================] - 0s 2ms/step - loss: 2954393.2500\n",
            "Epoch 157/300\n",
            "52/52 [==============================] - 0s 2ms/step - loss: 2949905.0000\n",
            "Epoch 158/300\n",
            "52/52 [==============================] - 0s 2ms/step - loss: 2954208.7500\n",
            "Epoch 159/300\n",
            "52/52 [==============================] - 0s 2ms/step - loss: 2949190.2500\n",
            "Epoch 160/300\n",
            "52/52 [==============================] - 0s 2ms/step - loss: 2949691.5000\n",
            "Epoch 161/300\n",
            "52/52 [==============================] - 0s 2ms/step - loss: 2951156.0000\n",
            "Epoch 162/300\n",
            "52/52 [==============================] - 0s 2ms/step - loss: 2953889.5000\n",
            "Epoch 163/300\n",
            "52/52 [==============================] - 0s 2ms/step - loss: 2947595.7500\n",
            "Epoch 164/300\n",
            "52/52 [==============================] - 0s 2ms/step - loss: 2951427.5000\n",
            "Epoch 165/300\n",
            "52/52 [==============================] - 0s 2ms/step - loss: 2949537.2500\n",
            "Epoch 166/300\n",
            "52/52 [==============================] - 0s 2ms/step - loss: 2956096.0000\n",
            "Epoch 167/300\n",
            "52/52 [==============================] - 0s 2ms/step - loss: 2958240.5000\n",
            "Epoch 168/300\n",
            "52/52 [==============================] - 0s 2ms/step - loss: 2950473.5000\n",
            "Epoch 169/300\n",
            "52/52 [==============================] - 0s 2ms/step - loss: 2948514.2500\n",
            "Epoch 170/300\n",
            "52/52 [==============================] - 0s 2ms/step - loss: 2949742.5000\n",
            "Epoch 171/300\n",
            "52/52 [==============================] - 0s 2ms/step - loss: 2952285.7500\n",
            "Epoch 172/300\n",
            "52/52 [==============================] - 0s 2ms/step - loss: 2952239.0000\n",
            "Epoch 173/300\n",
            "52/52 [==============================] - 0s 2ms/step - loss: 2953840.5000\n",
            "Epoch 174/300\n",
            "52/52 [==============================] - 0s 2ms/step - loss: 2946242.0000\n",
            "Epoch 175/300\n",
            "52/52 [==============================] - 0s 2ms/step - loss: 2953840.5000\n",
            "Epoch 176/300\n",
            "52/52 [==============================] - 0s 2ms/step - loss: 2954616.0000\n",
            "Epoch 177/300\n",
            "52/52 [==============================] - 0s 2ms/step - loss: 2949897.0000\n",
            "Epoch 178/300\n",
            "52/52 [==============================] - 0s 2ms/step - loss: 2945857.5000\n",
            "Epoch 179/300\n",
            "52/52 [==============================] - 0s 2ms/step - loss: 2953459.2500\n",
            "Epoch 180/300\n",
            "52/52 [==============================] - 0s 2ms/step - loss: 2958634.7500\n",
            "Epoch 181/300\n",
            "52/52 [==============================] - 0s 2ms/step - loss: 2948546.7500\n",
            "Epoch 182/300\n",
            "52/52 [==============================] - 0s 2ms/step - loss: 2955144.7500\n",
            "Epoch 183/300\n",
            "52/52 [==============================] - 0s 2ms/step - loss: 2953605.7500\n",
            "Epoch 184/300\n",
            "52/52 [==============================] - 0s 2ms/step - loss: 2949590.2500\n",
            "Epoch 185/300\n",
            "52/52 [==============================] - 0s 2ms/step - loss: 2961120.0000\n",
            "Epoch 186/300\n",
            "52/52 [==============================] - 0s 2ms/step - loss: 2947992.5000\n",
            "Epoch 187/300\n",
            "52/52 [==============================] - 0s 2ms/step - loss: 2944758.2500\n",
            "Epoch 188/300\n",
            "52/52 [==============================] - 0s 2ms/step - loss: 2946849.2500\n",
            "Epoch 189/300\n",
            "52/52 [==============================] - 0s 2ms/step - loss: 2950334.5000\n",
            "Epoch 190/300\n",
            "52/52 [==============================] - 0s 2ms/step - loss: 2958154.7500\n",
            "Epoch 191/300\n",
            "52/52 [==============================] - 0s 2ms/step - loss: 2950417.0000\n",
            "Epoch 192/300\n",
            "52/52 [==============================] - 0s 3ms/step - loss: 2948267.0000\n",
            "Epoch 193/300\n",
            "52/52 [==============================] - 0s 2ms/step - loss: 2950333.0000\n",
            "Epoch 194/300\n",
            "52/52 [==============================] - 0s 2ms/step - loss: 2952767.5000\n",
            "Epoch 195/300\n",
            "52/52 [==============================] - 0s 2ms/step - loss: 2948634.2500\n",
            "Epoch 196/300\n",
            "52/52 [==============================] - 0s 2ms/step - loss: 2956792.2500\n",
            "Epoch 197/300\n",
            "52/52 [==============================] - 0s 2ms/step - loss: 2947927.5000\n",
            "Epoch 198/300\n",
            "52/52 [==============================] - 0s 2ms/step - loss: 2952528.0000\n",
            "Epoch 199/300\n",
            "52/52 [==============================] - 0s 2ms/step - loss: 2950843.7500\n",
            "Epoch 200/300\n",
            "52/52 [==============================] - 0s 2ms/step - loss: 2950954.7500\n",
            "Epoch 201/300\n",
            "52/52 [==============================] - 0s 2ms/step - loss: 2949240.7500\n",
            "Epoch 202/300\n",
            "52/52 [==============================] - 0s 2ms/step - loss: 2948744.2500\n",
            "Epoch 203/300\n",
            "52/52 [==============================] - 0s 2ms/step - loss: 2949093.2500\n",
            "Epoch 204/300\n",
            "52/52 [==============================] - 0s 2ms/step - loss: 2949061.2500\n",
            "Epoch 205/300\n",
            "52/52 [==============================] - 0s 2ms/step - loss: 2949306.5000\n",
            "Epoch 206/300\n",
            "52/52 [==============================] - 0s 3ms/step - loss: 2952222.5000\n",
            "Epoch 207/300\n",
            "52/52 [==============================] - 0s 2ms/step - loss: 2942037.2500\n",
            "Epoch 208/300\n",
            "52/52 [==============================] - 0s 2ms/step - loss: 2950672.2500\n",
            "Epoch 209/300\n",
            "52/52 [==============================] - 0s 2ms/step - loss: 2950090.5000\n",
            "Epoch 210/300\n",
            "52/52 [==============================] - 0s 2ms/step - loss: 2953773.7500\n",
            "Epoch 211/300\n",
            "52/52 [==============================] - 0s 2ms/step - loss: 2949657.0000\n",
            "Epoch 212/300\n",
            "52/52 [==============================] - 0s 2ms/step - loss: 2969592.2500\n",
            "Epoch 213/300\n",
            "52/52 [==============================] - 0s 2ms/step - loss: 2952003.2500\n",
            "Epoch 214/300\n",
            "52/52 [==============================] - 0s 2ms/step - loss: 2947116.0000\n",
            "Epoch 215/300\n",
            "52/52 [==============================] - 0s 2ms/step - loss: 2953129.7500\n",
            "Epoch 216/300\n",
            "52/52 [==============================] - 0s 2ms/step - loss: 2948993.0000\n",
            "Epoch 217/300\n",
            "52/52 [==============================] - 0s 2ms/step - loss: 2945814.7500\n",
            "Epoch 218/300\n",
            "52/52 [==============================] - 0s 2ms/step - loss: 2955764.0000\n",
            "Epoch 219/300\n",
            "52/52 [==============================] - 0s 2ms/step - loss: 2957467.0000\n",
            "Epoch 220/300\n",
            "52/52 [==============================] - 0s 2ms/step - loss: 2948541.0000\n",
            "Epoch 221/300\n",
            "52/52 [==============================] - 0s 2ms/step - loss: 2947729.2500\n",
            "Epoch 222/300\n",
            "52/52 [==============================] - 0s 2ms/step - loss: 2949987.5000\n",
            "Epoch 223/300\n",
            "52/52 [==============================] - 0s 2ms/step - loss: 2948118.5000\n",
            "Epoch 224/300\n",
            "52/52 [==============================] - 0s 2ms/step - loss: 2954748.2500\n",
            "Epoch 225/300\n",
            "52/52 [==============================] - 0s 2ms/step - loss: 2951726.5000\n",
            "Epoch 226/300\n",
            "52/52 [==============================] - 0s 2ms/step - loss: 2951186.2500\n",
            "Epoch 227/300\n",
            "52/52 [==============================] - 0s 2ms/step - loss: 2948828.0000\n",
            "Epoch 228/300\n",
            "52/52 [==============================] - 0s 2ms/step - loss: 2945678.5000\n",
            "Epoch 229/300\n",
            "52/52 [==============================] - 0s 2ms/step - loss: 2949228.2500\n",
            "Epoch 230/300\n",
            "52/52 [==============================] - 0s 2ms/step - loss: 2949404.7500\n",
            "Epoch 231/300\n",
            "52/52 [==============================] - 0s 2ms/step - loss: 2947740.5000\n",
            "Epoch 232/300\n",
            "52/52 [==============================] - 0s 2ms/step - loss: 2945622.0000\n",
            "Epoch 233/300\n",
            "52/52 [==============================] - 0s 2ms/step - loss: 2951401.7500\n",
            "Epoch 234/300\n",
            "52/52 [==============================] - 0s 2ms/step - loss: 2946136.7500\n",
            "Epoch 235/300\n",
            "52/52 [==============================] - 0s 2ms/step - loss: 2963905.2500\n",
            "Epoch 236/300\n",
            "52/52 [==============================] - 0s 2ms/step - loss: 2941085.5000\n",
            "Epoch 237/300\n",
            "52/52 [==============================] - 0s 2ms/step - loss: 2951762.0000\n",
            "Epoch 238/300\n",
            "52/52 [==============================] - 0s 2ms/step - loss: 2953816.0000\n",
            "Epoch 239/300\n",
            "52/52 [==============================] - 0s 2ms/step - loss: 2947596.2500\n",
            "Epoch 240/300\n",
            "52/52 [==============================] - 0s 2ms/step - loss: 2948119.5000\n",
            "Epoch 241/300\n",
            "52/52 [==============================] - 0s 2ms/step - loss: 2946961.0000\n",
            "Epoch 242/300\n",
            "52/52 [==============================] - 0s 2ms/step - loss: 2944966.0000\n",
            "Epoch 243/300\n",
            "52/52 [==============================] - 0s 2ms/step - loss: 2952143.2500\n",
            "Epoch 244/300\n",
            "52/52 [==============================] - 0s 2ms/step - loss: 2943870.0000\n",
            "Epoch 245/300\n",
            "52/52 [==============================] - 0s 2ms/step - loss: 2945686.0000\n",
            "Epoch 246/300\n",
            "52/52 [==============================] - 0s 2ms/step - loss: 2945913.7500\n",
            "Epoch 247/300\n",
            "52/52 [==============================] - 0s 2ms/step - loss: 2948530.7500\n",
            "Epoch 248/300\n",
            "52/52 [==============================] - 0s 2ms/step - loss: 2950283.7500\n",
            "Epoch 249/300\n",
            "52/52 [==============================] - 0s 2ms/step - loss: 2948025.0000\n",
            "Epoch 250/300\n",
            "52/52 [==============================] - 0s 2ms/step - loss: 2948305.5000\n",
            "Epoch 251/300\n",
            "52/52 [==============================] - 0s 2ms/step - loss: 2956866.2500\n",
            "Epoch 252/300\n",
            "52/52 [==============================] - 0s 2ms/step - loss: 2947494.0000\n",
            "Epoch 253/300\n",
            "52/52 [==============================] - 0s 2ms/step - loss: 2949311.7500\n",
            "Epoch 254/300\n",
            "52/52 [==============================] - 0s 2ms/step - loss: 2952206.2500\n",
            "Epoch 255/300\n",
            "52/52 [==============================] - 0s 2ms/step - loss: 2955265.5000\n",
            "Epoch 256/300\n",
            "52/52 [==============================] - 0s 2ms/step - loss: 2946607.0000\n",
            "Epoch 257/300\n",
            "52/52 [==============================] - 0s 2ms/step - loss: 2951338.2500\n",
            "Epoch 258/300\n",
            "52/52 [==============================] - 0s 2ms/step - loss: 2951149.5000\n",
            "Epoch 259/300\n",
            "52/52 [==============================] - 0s 2ms/step - loss: 2947853.2500\n",
            "Epoch 260/300\n",
            "52/52 [==============================] - 0s 2ms/step - loss: 2945655.2500\n",
            "Epoch 261/300\n",
            "52/52 [==============================] - 0s 2ms/step - loss: 2961623.5000\n",
            "Epoch 262/300\n",
            "52/52 [==============================] - 0s 2ms/step - loss: 2944997.0000\n",
            "Epoch 263/300\n",
            "52/52 [==============================] - 0s 2ms/step - loss: 2943265.5000\n",
            "Epoch 264/300\n",
            "52/52 [==============================] - 0s 2ms/step - loss: 2947413.5000\n",
            "Epoch 265/300\n",
            "52/52 [==============================] - 0s 2ms/step - loss: 2953302.0000\n",
            "Epoch 266/300\n",
            "52/52 [==============================] - 0s 2ms/step - loss: 2948517.0000\n",
            "Epoch 267/300\n",
            "52/52 [==============================] - 0s 2ms/step - loss: 2944327.0000\n",
            "Epoch 268/300\n",
            "52/52 [==============================] - 0s 2ms/step - loss: 2948085.7500\n",
            "Epoch 269/300\n",
            "52/52 [==============================] - 0s 2ms/step - loss: 2944298.7500\n",
            "Epoch 270/300\n",
            "52/52 [==============================] - 0s 2ms/step - loss: 2952506.0000\n",
            "Epoch 271/300\n",
            "52/52 [==============================] - 0s 2ms/step - loss: 2945151.5000\n",
            "Epoch 272/300\n",
            "52/52 [==============================] - 0s 2ms/step - loss: 2944443.7500\n",
            "Epoch 273/300\n",
            "52/52 [==============================] - 0s 2ms/step - loss: 2942187.0000\n",
            "Epoch 274/300\n",
            "52/52 [==============================] - 0s 2ms/step - loss: 2948177.7500\n",
            "Epoch 275/300\n",
            "52/52 [==============================] - 0s 2ms/step - loss: 2945875.7500\n",
            "Epoch 276/300\n",
            "52/52 [==============================] - 0s 2ms/step - loss: 2948649.5000\n",
            "Epoch 277/300\n",
            "52/52 [==============================] - 0s 2ms/step - loss: 2956834.0000\n",
            "Epoch 278/300\n",
            "52/52 [==============================] - 0s 2ms/step - loss: 2955027.7500\n",
            "Epoch 279/300\n",
            "52/52 [==============================] - 0s 2ms/step - loss: 2946921.0000\n",
            "Epoch 280/300\n",
            "52/52 [==============================] - 0s 2ms/step - loss: 2951266.5000\n",
            "Epoch 281/300\n",
            "52/52 [==============================] - 0s 2ms/step - loss: 2965331.2500\n",
            "Epoch 282/300\n",
            "52/52 [==============================] - 0s 2ms/step - loss: 2958147.2500\n",
            "Epoch 283/300\n",
            "52/52 [==============================] - 0s 2ms/step - loss: 2942040.5000\n",
            "Epoch 284/300\n",
            "52/52 [==============================] - 0s 2ms/step - loss: 2956202.5000\n",
            "Epoch 285/300\n",
            "52/52 [==============================] - 0s 2ms/step - loss: 2945304.5000\n",
            "Epoch 286/300\n",
            "52/52 [==============================] - 0s 2ms/step - loss: 2953034.5000\n",
            "Epoch 287/300\n",
            "52/52 [==============================] - 0s 2ms/step - loss: 2947348.2500\n",
            "Epoch 288/300\n",
            "52/52 [==============================] - 0s 2ms/step - loss: 2948435.7500\n",
            "Epoch 289/300\n",
            "52/52 [==============================] - 0s 2ms/step - loss: 2947039.5000\n",
            "Epoch 290/300\n",
            "52/52 [==============================] - 0s 2ms/step - loss: 2947488.5000\n",
            "Epoch 291/300\n",
            "52/52 [==============================] - 0s 2ms/step - loss: 2941825.0000\n",
            "Epoch 292/300\n",
            "52/52 [==============================] - 0s 2ms/step - loss: 2948519.5000\n",
            "Epoch 293/300\n",
            "52/52 [==============================] - 0s 2ms/step - loss: 2946417.0000\n",
            "Epoch 294/300\n",
            "52/52 [==============================] - 0s 2ms/step - loss: 2945324.5000\n",
            "Epoch 295/300\n",
            "52/52 [==============================] - 0s 2ms/step - loss: 2946848.2500\n",
            "Epoch 296/300\n",
            "52/52 [==============================] - 0s 2ms/step - loss: 2948404.2500\n",
            "Epoch 297/300\n",
            "52/52 [==============================] - 0s 2ms/step - loss: 2947009.2500\n",
            "Epoch 298/300\n",
            "52/52 [==============================] - 0s 2ms/step - loss: 2950603.2500\n",
            "Epoch 299/300\n",
            "52/52 [==============================] - 0s 2ms/step - loss: 2947186.5000\n",
            "Epoch 300/300\n",
            "52/52 [==============================] - 0s 2ms/step - loss: 2949719.0000\n"
          ]
        },
        {
          "output_type": "execute_result",
          "data": {
            "text/plain": [
              "<keras.callbacks.History at 0x7f082282a1d0>"
            ]
          },
          "metadata": {},
          "execution_count": 78
        }
      ]
    },
    {
      "cell_type": "code",
      "metadata": {
        "colab": {
          "base_uri": "https://localhost:8080/"
        },
        "id": "NZDSpLc-cscy",
        "outputId": "479d174b-11af-4d72-e044-3470763e6dff"
      },
      "source": [
        "print(model.summary())"
      ],
      "execution_count": 79,
      "outputs": [
        {
          "output_type": "stream",
          "name": "stdout",
          "text": [
            "Model: \"sequential_4\"\n",
            "_________________________________________________________________\n",
            " Layer (type)                Output Shape              Param #   \n",
            "=================================================================\n",
            " dense_5 (Dense)             (None, 2)                 10        \n",
            "                                                                 \n",
            " dense_6 (Dense)             (None, 1)                 3         \n",
            "                                                                 \n",
            "=================================================================\n",
            "Total params: 13\n",
            "Trainable params: 13\n",
            "Non-trainable params: 0\n",
            "_________________________________________________________________\n",
            "None\n"
          ]
        }
      ]
    },
    {
      "cell_type": "code",
      "metadata": {
        "colab": {
          "base_uri": "https://localhost:8080/"
        },
        "id": "1vE6UTPYe8x1",
        "outputId": "22ca1038-530b-4b41-e1ee-c90abf242323"
      },
      "source": [
        "y_pred = model.predict_generator(generator)"
      ],
      "execution_count": 80,
      "outputs": [
        {
          "output_type": "stream",
          "name": "stderr",
          "text": [
            "/usr/local/lib/python3.7/dist-packages/ipykernel_launcher.py:1: UserWarning:\n",
            "\n",
            "`Model.predict_generator` is deprecated and will be removed in a future version. Please use `Model.predict`, which supports generators.\n",
            "\n"
          ]
        }
      ]
    },
    {
      "cell_type": "code",
      "metadata": {
        "colab": {
          "base_uri": "https://localhost:8080/",
          "height": 501
        },
        "id": "U_osfLpHfgDU",
        "outputId": "ed0dfc00-c9a5-436e-f07a-619f30dc6031"
      },
      "source": [
        "\n",
        "plt.figure(figsize=(12,8))\n",
        "\n",
        "plt.plot(df_1[4:])\n",
        "\n",
        "plt.plot(y_pred)"
      ],
      "execution_count": 81,
      "outputs": [
        {
          "output_type": "execute_result",
          "data": {
            "text/plain": [
              "[<matplotlib.lines.Line2D at 0x7f0820e4f590>]"
            ]
          },
          "metadata": {},
          "execution_count": 81
        },
        {
          "output_type": "display_data",
          "data": {
            "image/png": "[encoded data removed]",
            "text/plain": [
              "<Figure size 864x576 with 1 Axes>"
            ]
          },
          "metadata": {
            "needs_background": "light"
          }
        }
      ]
    },
    {
      "cell_type": "code",
      "metadata": {
        "id": "phQ6GfwN8M01"
      },
      "source": [
        "# "
      ],
      "execution_count": 82,
      "outputs": []
    },
    {
      "cell_type": "code",
      "metadata": {
        "id": "LoAEfMNbD1oD"
      },
      "source": [
        ""
      ],
      "execution_count": 82,
      "outputs": []
    },
    {
      "cell_type": "markdown",
      "metadata": {
        "id": "NN14SkPo_2qj"
      },
      "source": [
        "# intento de prediccion de modelo con prophet\n"
      ]
    },
    {
      "cell_type": "code",
      "metadata": {
        "colab": {
          "base_uri": "https://localhost:8080/"
        },
        "id": "rm8AyjDF_76S",
        "outputId": "c90068d0-787e-4c4f-e877-06e92a6d4244"
      },
      "source": [
        "pip install Prophet"
      ],
      "execution_count": 83,
      "outputs": [
        {
          "output_type": "stream",
          "name": "stdout",
          "text": [
            "Requirement already satisfied: Prophet in /usr/local/lib/python3.7/dist-packages (1.0.1)\n",
            "Requirement already satisfied: cmdstanpy==0.9.68 in /usr/local/lib/python3.7/dist-packages (from Prophet) (0.9.68)\n",
            "Requirement already satisfied: Cython>=0.22 in /usr/local/lib/python3.7/dist-packages (from Prophet) (0.29.24)\n",
            "Requirement already satisfied: numpy>=1.15.4 in /usr/local/lib/python3.7/dist-packages (from Prophet) (1.19.5)\n",
            "Requirement already satisfied: LunarCalendar>=0.0.9 in /usr/local/lib/python3.7/dist-packages (from Prophet) (0.0.9)\n",
            "Requirement already satisfied: python-dateutil>=2.8.0 in /usr/local/lib/python3.7/dist-packages (from Prophet) (2.8.2)\n",
            "Requirement already satisfied: convertdate>=2.1.2 in /usr/local/lib/python3.7/dist-packages (from Prophet) (2.3.2)\n",
            "Requirement already satisfied: tqdm>=4.36.1 in /usr/local/lib/python3.7/dist-packages (from Prophet) (4.62.3)\n",
            "Requirement already satisfied: pystan~=2.19.1.1 in /usr/local/lib/python3.7/dist-packages (from Prophet) (2.19.1.1)\n",
            "Requirement already satisfied: holidays>=0.10.2 in /usr/local/lib/python3.7/dist-packages (from Prophet) (0.10.5.2)\n",
            "Requirement already satisfied: setuptools-git>=1.2 in /usr/local/lib/python3.7/dist-packages (from Prophet) (1.2)\n",
            "Requirement already satisfied: matplotlib>=2.0.0 in /usr/local/lib/python3.7/dist-packages (from Prophet) (3.2.2)\n",
            "Requirement already satisfied: pandas>=1.0.4 in /usr/local/lib/python3.7/dist-packages (from Prophet) (1.1.5)\n",
            "Requirement already satisfied: ujson in /usr/local/lib/python3.7/dist-packages (from cmdstanpy==0.9.68->Prophet) (4.3.0)\n",
            "Requirement already satisfied: pymeeus<=1,>=0.3.13 in /usr/local/lib/python3.7/dist-packages (from convertdate>=2.1.2->Prophet) (0.5.11)\n",
            "Requirement already satisfied: pytz>=2014.10 in /usr/local/lib/python3.7/dist-packages (from convertdate>=2.1.2->Prophet) (2018.9)\n",
            "Requirement already satisfied: korean-lunar-calendar in /usr/local/lib/python3.7/dist-packages (from holidays>=0.10.2->Prophet) (0.2.1)\n",
            "Requirement already satisfied: six in /usr/local/lib/python3.7/dist-packages (from holidays>=0.10.2->Prophet) (1.15.0)\n",
            "Requirement already satisfied: hijri-converter in /usr/local/lib/python3.7/dist-packages (from holidays>=0.10.2->Prophet) (2.2.2)\n",
            "Requirement already satisfied: ephem>=3.7.5.3 in /usr/local/lib/python3.7/dist-packages (from LunarCalendar>=0.0.9->Prophet) (4.1)\n",
            "Requirement already satisfied: pyparsing!=2.0.4,!=2.1.2,!=2.1.6,>=2.0.1 in /usr/local/lib/python3.7/dist-packages (from matplotlib>=2.0.0->Prophet) (3.0.6)\n",
            "Requirement already satisfied: kiwisolver>=1.0.1 in /usr/local/lib/python3.7/dist-packages (from matplotlib>=2.0.0->Prophet) (1.3.2)\n",
            "Requirement already satisfied: cycler>=0.10 in /usr/local/lib/python3.7/dist-packages (from matplotlib>=2.0.0->Prophet) (0.11.0)\n"
          ]
        }
      ]
    },
    {
      "cell_type": "code",
      "metadata": {
        "id": "u6U-SLIv__Ms"
      },
      "source": [
        "from prophet import Prophet"
      ],
      "execution_count": 56,
      "outputs": []
    },
    {
      "cell_type": "code",
      "metadata": {
        "colab": {
          "base_uri": "https://localhost:8080/"
        },
        "id": "QLu75y0cAm11",
        "outputId": "92b69781-1459-42ee-a7b5-8653db3fe30d"
      },
      "source": [
        "df.columns"
      ],
      "execution_count": 57,
      "outputs": [
        {
          "output_type": "execute_result",
          "data": {
            "text/plain": [
              "Index(['fecha reporte web', 'conteo'], dtype='object')"
            ]
          },
          "metadata": {},
          "execution_count": 57
        }
      ]
    },
    {
      "cell_type": "code",
      "metadata": {
        "colab": {
          "base_uri": "https://localhost:8080/",
          "height": 423
        },
        "id": "nITM06saALeG",
        "outputId": "75c1a0d6-d27b-473d-a4bf-6bd9f562c6fe"
      },
      "source": [
        "df.rename(columns={'fecha reporte web':'sd','conteo':'y'})"
      ],
      "execution_count": 59,
      "outputs": [
        {
          "output_type": "execute_result",
          "data": {
            "text/html": [
              "<div>\n",
              "<style scoped>\n",
              "    .dataframe tbody tr th:only-of-type {\n",
              "        vertical-align: middle;\n",
              "    }\n",
              "\n",
              "    .dataframe tbody tr th {\n",
              "        vertical-align: top;\n",
              "    }\n",
              "\n",
              "    .dataframe thead th {\n",
              "        text-align: right;\n",
              "    }\n",
              "</style>\n",
              "<table border=\"1\" class=\"dataframe\">\n",
              "  <thead>\n",
              "    <tr style=\"text-align: right;\">\n",
              "      <th></th>\n",
              "      <th>sd</th>\n",
              "      <th>y</th>\n",
              "    </tr>\n",
              "  </thead>\n",
              "  <tbody>\n",
              "    <tr>\n",
              "      <th>585</th>\n",
              "      <td>2020-01-04</td>\n",
              "      <td>81</td>\n",
              "    </tr>\n",
              "    <tr>\n",
              "      <th>551</th>\n",
              "      <td>2020-01-05</td>\n",
              "      <td>147</td>\n",
              "    </tr>\n",
              "    <tr>\n",
              "      <th>457</th>\n",
              "      <td>2020-01-06</td>\n",
              "      <td>383</td>\n",
              "    </tr>\n",
              "    <tr>\n",
              "      <th>331</th>\n",
              "      <td>2020-01-07</td>\n",
              "      <td>1398</td>\n",
              "    </tr>\n",
              "    <tr>\n",
              "      <th>194</th>\n",
              "      <td>2020-01-08</td>\n",
              "      <td>2701</td>\n",
              "    </tr>\n",
              "    <tr>\n",
              "      <th>...</th>\n",
              "      <td>...</td>\n",
              "      <td>...</td>\n",
              "    </tr>\n",
              "    <tr>\n",
              "      <th>137</th>\n",
              "      <td>2021-12-07</td>\n",
              "      <td>3781</td>\n",
              "    </tr>\n",
              "    <tr>\n",
              "      <th>377</th>\n",
              "      <td>2021-12-08</td>\n",
              "      <td>1020</td>\n",
              "    </tr>\n",
              "    <tr>\n",
              "      <th>467</th>\n",
              "      <td>2021-12-09</td>\n",
              "      <td>361</td>\n",
              "    </tr>\n",
              "    <tr>\n",
              "      <th>554</th>\n",
              "      <td>2021-12-10</td>\n",
              "      <td>143</td>\n",
              "    </tr>\n",
              "    <tr>\n",
              "      <th>465</th>\n",
              "      <td>2021-12-11</td>\n",
              "      <td>369</td>\n",
              "    </tr>\n",
              "  </tbody>\n",
              "</table>\n",
              "<p>625 rows × 2 columns</p>\n",
              "</div>"
            ],
            "text/plain": [
              "            sd     y\n",
              "585 2020-01-04    81\n",
              "551 2020-01-05   147\n",
              "457 2020-01-06   383\n",
              "331 2020-01-07  1398\n",
              "194 2020-01-08  2701\n",
              "..         ...   ...\n",
              "137 2021-12-07  3781\n",
              "377 2021-12-08  1020\n",
              "467 2021-12-09   361\n",
              "554 2021-12-10   143\n",
              "465 2021-12-11   369\n",
              "\n",
              "[625 rows x 2 columns]"
            ]
          },
          "metadata": {},
          "execution_count": 59
        }
      ]
    },
    {
      "cell_type": "code",
      "metadata": {
        "colab": {
          "base_uri": "https://localhost:8080/",
          "height": 325
        },
        "id": "zYHiqxYzBk0F",
        "outputId": "1e32c862-a99e-46a0-82ac-0708c61749ae"
      },
      "source": [
        "model.fit(df)"
      ],
      "execution_count": 84,
      "outputs": [
        {
          "output_type": "error",
          "ename": "ValueError",
          "evalue": "ignored",
          "traceback": [
            "\u001b[0;31m---------------------------------------------------------------------------\u001b[0m",
            "\u001b[0;31mValueError\u001b[0m                                Traceback (most recent call last)",
            "\u001b[0;32m<ipython-input-84-4b544d73ba2e>\u001b[0m in \u001b[0;36m<module>\u001b[0;34m()\u001b[0m\n\u001b[0;32m----> 1\u001b[0;31m \u001b[0mmodel\u001b[0m\u001b[0;34m.\u001b[0m\u001b[0mfit\u001b[0m\u001b[0;34m(\u001b[0m\u001b[0mdf\u001b[0m\u001b[0;34m)\u001b[0m\u001b[0;34m\u001b[0m\u001b[0;34m\u001b[0m\u001b[0m\n\u001b[0m",
            "\u001b[0;32m/usr/local/lib/python3.7/dist-packages/keras/utils/traceback_utils.py\u001b[0m in \u001b[0;36merror_handler\u001b[0;34m(*args, **kwargs)\u001b[0m\n\u001b[1;32m     65\u001b[0m     \u001b[0;32mexcept\u001b[0m \u001b[0mException\u001b[0m \u001b[0;32mas\u001b[0m \u001b[0me\u001b[0m\u001b[0;34m:\u001b[0m  \u001b[0;31m# pylint: disable=broad-except\u001b[0m\u001b[0;34m\u001b[0m\u001b[0;34m\u001b[0m\u001b[0m\n\u001b[1;32m     66\u001b[0m       \u001b[0mfiltered_tb\u001b[0m \u001b[0;34m=\u001b[0m \u001b[0m_process_traceback_frames\u001b[0m\u001b[0;34m(\u001b[0m\u001b[0me\u001b[0m\u001b[0;34m.\u001b[0m\u001b[0m__traceback__\u001b[0m\u001b[0;34m)\u001b[0m\u001b[0;34m\u001b[0m\u001b[0;34m\u001b[0m\u001b[0m\n\u001b[0;32m---> 67\u001b[0;31m       \u001b[0;32mraise\u001b[0m \u001b[0me\u001b[0m\u001b[0;34m.\u001b[0m\u001b[0mwith_traceback\u001b[0m\u001b[0;34m(\u001b[0m\u001b[0mfiltered_tb\u001b[0m\u001b[0;34m)\u001b[0m \u001b[0;32mfrom\u001b[0m \u001b[0;32mNone\u001b[0m\u001b[0;34m\u001b[0m\u001b[0;34m\u001b[0m\u001b[0m\n\u001b[0m\u001b[1;32m     68\u001b[0m     \u001b[0;32mfinally\u001b[0m\u001b[0;34m:\u001b[0m\u001b[0;34m\u001b[0m\u001b[0;34m\u001b[0m\u001b[0m\n\u001b[1;32m     69\u001b[0m       \u001b[0;32mdel\u001b[0m \u001b[0mfiltered_tb\u001b[0m\u001b[0;34m\u001b[0m\u001b[0;34m\u001b[0m\u001b[0m\n",
            "\u001b[0;32m/usr/local/lib/python3.7/dist-packages/tensorflow/python/framework/constant_op.py\u001b[0m in \u001b[0;36mconvert_to_eager_tensor\u001b[0;34m(value, ctx, dtype)\u001b[0m\n\u001b[1;32m    104\u001b[0m       \u001b[0mdtype\u001b[0m \u001b[0;34m=\u001b[0m \u001b[0mdtypes\u001b[0m\u001b[0;34m.\u001b[0m\u001b[0mas_dtype\u001b[0m\u001b[0;34m(\u001b[0m\u001b[0mdtype\u001b[0m\u001b[0;34m)\u001b[0m\u001b[0;34m.\u001b[0m\u001b[0mas_datatype_enum\u001b[0m\u001b[0;34m\u001b[0m\u001b[0;34m\u001b[0m\u001b[0m\n\u001b[1;32m    105\u001b[0m   \u001b[0mctx\u001b[0m\u001b[0;34m.\u001b[0m\u001b[0mensure_initialized\u001b[0m\u001b[0;34m(\u001b[0m\u001b[0;34m)\u001b[0m\u001b[0;34m\u001b[0m\u001b[0;34m\u001b[0m\u001b[0m\n\u001b[0;32m--> 106\u001b[0;31m   \u001b[0;32mreturn\u001b[0m \u001b[0mops\u001b[0m\u001b[0;34m.\u001b[0m\u001b[0mEagerTensor\u001b[0m\u001b[0;34m(\u001b[0m\u001b[0mvalue\u001b[0m\u001b[0;34m,\u001b[0m \u001b[0mctx\u001b[0m\u001b[0;34m.\u001b[0m\u001b[0mdevice_name\u001b[0m\u001b[0;34m,\u001b[0m \u001b[0mdtype\u001b[0m\u001b[0;34m)\u001b[0m\u001b[0;34m\u001b[0m\u001b[0;34m\u001b[0m\u001b[0m\n\u001b[0m\u001b[1;32m    107\u001b[0m \u001b[0;34m\u001b[0m\u001b[0m\n\u001b[1;32m    108\u001b[0m \u001b[0;34m\u001b[0m\u001b[0m\n",
            "\u001b[0;31mValueError\u001b[0m: Failed to convert a NumPy array to a Tensor (Unsupported object type Timestamp)."
          ]
        }
      ]
    }
  ]
}