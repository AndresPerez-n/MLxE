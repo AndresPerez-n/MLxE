{
 "cells": [
  {
   "cell_type": "code",
   "execution_count": 1,
   "metadata": {},
   "outputs": [],
   "source": [
    "import requests as rq \n",
    "from bs4 import BeautifulSoup \n",
    "import pandas as pd "
   ]
  },
  {
   "cell_type": "code",
   "execution_count": 2,
   "metadata": {},
   "outputs": [],
   "source": [
    "pag_web = 'https://revistas.usantotomas.edu.co/index.php/cife/issue/archive'"
   ]
  },
  {
   "cell_type": "markdown",
   "metadata": {},
   "source": [
    "siempre en main, container o main container "
   ]
  },
  {
   "cell_type": "code",
   "execution_count": 3,
   "metadata": {},
   "outputs": [],
   "source": [
    "pag=rq.get(pag_web)"
   ]
  },
  {
   "cell_type": "code",
   "execution_count": 5,
   "metadata": {},
   "outputs": [],
   "source": [
    "pag_sopa = BeautifulSoup(pag.text,'lxml')"
   ]
  },
  {
   "cell_type": "code",
   "execution_count": 6,
   "metadata": {},
   "outputs": [],
   "source": [
    "volumenes=pag_sopa.find_all('h2',attrs={'class':'media-heading'})[:5]"
   ]
  },
  {
   "cell_type": "code",
   "execution_count": 11,
   "metadata": {},
   "outputs": [
    {
     "data": {
      "text/plain": [
       "'https://revistas.usantotomas.edu.co/index.php/cife/issue/view/568'"
      ]
     },
     "execution_count": 11,
     "metadata": {},
     "output_type": "execute_result"
    }
   ],
   "source": [
    "volumenes[0].a.get('href')"
   ]
  },
  {
   "cell_type": "code",
   "execution_count": 33,
   "metadata": {},
   "outputs": [
    {
     "name": "stdout",
     "output_type": "stream",
     "text": [
      "1\n",
      "2\n",
      "3\n",
      "4\n",
      "5\n",
      "6\n",
      "7\n",
      "8\n",
      "9\n",
      "10\n",
      "11\n",
      "12\n",
      "13\n",
      "14\n",
      "15\n",
      "16\n",
      "17\n",
      "18\n",
      "19\n",
      "20\n",
      "21\n",
      "22\n",
      "23\n",
      "24\n",
      "25\n",
      "26\n",
      "27\n",
      "28\n",
      "29\n",
      "30\n",
      "31\n",
      "32\n",
      "33\n",
      "34\n",
      "35\n"
     ]
    }
   ],
   "source": [
    "datos={'titulo':[],'autores':[],'abstract':[]}\n",
    "contador=0\n",
    "for volumen in volumenes:\n",
    "    pag_vol=rq.get(volumen.a.get('href'))\n",
    "    pag_vol_sopa=BeautifulSoup(pag_vol.text,'lxml')\n",
    "    articulos = pag_vol_sopa.find_all('h3',attrs={'class':'media-heading'})\n",
    "    for articulo in articulos:\n",
    "        pag_art=rq.get(articulo.a.get('href'))\n",
    "        pag_art_sopa =BeautifulSoup(pag_art.text,'lxml')\n",
    "        datos['titulo'].append(pag_art_sopa.find('h2',attrs={'class':'page-header'}).text)\n",
    "        datos['autores'].append(pag_art_sopa.find('div',attrs={'class':'authors'}).text)\n",
    "        datos['abstract'].append(pag_art_sopa.find('div',attrs={'class':'article-abstract'}).text)\n",
    "        contador+=1\n",
    "        print(contador)\n",
    "                                    \n",
    "                                               \n",
    "                                               "
   ]
  },
  {
   "cell_type": "code",
   "execution_count": null,
   "metadata": {},
   "outputs": [],
   "source": [
    "datos={'titulo':[],'autores':[],'abstract':[]}\n",
    "contador=0\n",
    "for volumen in volumenes:\n",
    "    pag_vol=rq.get(volumen.a.get('href'))\n",
    "    pag_vol_sopa=BeautifulSoup(pag_vol.text,'lxml')\n",
    "    articulos = pag_vol_sopa.find_all('h3',attrs={'class':'media-heading'})\n",
    "    for articulo in articulos:\n",
    "        pag_art=rq.get(articulo.a.get('href'))\n",
    "        pag_art_sopa =BeautifulSoup(pag_art.text,'lxml')\n",
    "        datos['titulo'].append(pag_art_sopa.find('h2',attrs={'class':'page-header'}).text)\n",
    "        datos['autores'].append(pag_art_sopa.find('div',attrs={'class':'authors'}).text)\n",
    "        datos['abstract'].append(pag_art_sopa.find('div',attrs={'class':'article-abstract'}).text)\n",
    "        contador+=1\n",
    "        print(contador)\n",
    "                        "
   ]
  },
  {
   "cell_type": "code",
   "execution_count": 35,
   "metadata": {},
   "outputs": [
    {
     "data": {
      "text/plain": [
       "{'titulo': ['\\n\\t\\t\\tCrónica de una transformación anunciada\\n\\t\\t\\t\\t\\t',\n",
       "  '\\n\\t\\t\\tEl sistema de crédito digital para microempresarios en Colombia\\n\\t\\t\\t\\t\\t',\n",
       "  '\\n\\t\\t\\tCreación de un plan para aumentar los índices de adopción digital en los canales de una institución financiera\\n\\t\\t\\t\\t\\t',\n",
       "  '\\n\\t\\t\\tImplementación de un modelo de planeación estratégica para una empresa de servicios de construcción\\n\\t\\t\\t\\t\\t',\n",
       "  '\\n\\t\\t\\tSistema de gestión del conocimiento para la seguridad del paciente y análisis de eventos adversos en IPS, profesionales independientes y transporte asistencial\\n\\t\\t\\t\\t\\t',\n",
       "  '\\n\\t\\t\\tAnálisis situacional y generación de un mapa estratégico para el incremento del mercado potencial en una institución prestadora de salud\\n\\t\\t\\t\\t\\t',\n",
       "  '\\n\\t\\t\\tAnálisis de la estructura del plan de negocio para ‘Serendipia Wooman’\\n\\t\\t\\t\\t\\t',\n",
       "  '\\n\\t\\t\\tUn análisis retrospectivo de la relación economía frente a la salud\\n\\t\\t\\t\\t\\t',\n",
       "  '\\n\\t\\t\\tCrecimiento, complejidad económica y emisiones de CO2: un análisis para Colombia\\n\\t\\t\\t\\t\\t',\n",
       "  '\\n\\t\\t\\tLos valores, la gestión y el desempeño de las pymes del sector industrial de Bogotá\\n\\t\\t\\t\\t\\t',\n",
       "  '\\n\\t\\t\\tEfectos de la estructura productiva en el crecimiento económico de las ciudades de la región centro de México durante el periodo 1998-2013\\n\\t\\t\\t\\t\\t',\n",
       "  '\\n\\t\\t\\tAnálisis de los cambios en la profesión contable tras el proceso de implementación de la facturación electrónica en Colombia\\n\\t\\t\\t\\t\\t',\n",
       "  '\\n\\t\\t\\tEvolución y características de la desigualdad en México en el siglo XXI: desafíos para una nueva agenda pública\\n\\t\\t\\t\\t\\t',\n",
       "  '\\n\\t\\t\\tEconomías sexoafectivas: significados, prácticas y relaciones en tensión en contextos petroleros de la Patagonia argentina\\n\\t\\t\\t\\t\\t',\n",
       "  '\\n\\t\\t\\tLos economistas más referenciados en Colombia\\n\\t\\t\\t\\t\\t',\n",
       "  '\\n\\t\\t\\tElementos de poder sindical y sus efectos en la desigualdad salarial argentina: afiliación, negociación colectiva y conflictos laborales\\n\\t\\t\\t\\t\\t',\n",
       "  '\\n\\t\\t\\tCarrera moral y significados del dinero en el trabajo sexual: el caso de Bogotá, Colombia\\n\\t\\t\\t\\t\\t',\n",
       "  '\\n\\t\\t\\tPersistencia y regionalización del desplazamiento forzado en Colombia (2005-2010; 2011-2016): una aproximación desde el análisis espacial\\n\\t\\t\\t\\t\\t',\n",
       "  '\\n\\t\\t\\tMercosur y la visión estratégica regional brasileña, 2003-2010\\n\\t\\t\\t\\t\\t',\n",
       "  '\\n\\t\\t\\tComportamiento de empresas de servicios profesionales en el sector rural\\n\\t\\t\\t\\t\\t',\n",
       "  '\\n\\t\\t\\tTrabajo, tiempo libre y movilidad cotidiana en México, 2014\\n\\t\\t\\t\\t\\t',\n",
       "  '\\n\\t\\t\\tLas luchas semánticas en los mercados laborales: una mirada a las economías colaborativas\\n\\t\\t\\t\\t\\t',\n",
       "  '\\n\\t\\t\\tMortalidad por enfermedades isquémicas del corazón en edad laboral según tamaño de ciudad: una vista a partir de las zonas metropolitanas de México\\n\\t\\t\\t\\t\\t',\n",
       "  '\\n\\t\\t\\tLa incidencia de la violencia y criminalidad en la localización sectorial de las empresas en el occidente de México\\n\\t\\t\\t\\t\\t',\n",
       "  '\\n\\t\\t\\tFortalecimiento de la dirección de proyectos de una fundación en el sector educativo en Colombia con un enfoque de oficina de proyectos Estudio de Caso\\n\\t\\t\\t\\t\\t',\n",
       "  '\\n\\t\\t\\tCooperativas y prácticas laborales en México\\n\\t\\t\\t\\t\\t',\n",
       "  '\\n\\t\\t\\tCultural traits and productive transformation: Colombia in international perspective\\n\\t\\t\\t\\t\\t',\n",
       "  '\\n\\t\\t\\tEvaluación financiera de la pyme del sector construcción de vivienda 1en Colombia (2011-2016)*\\n\\t\\t\\t\\t\\t',\n",
       "  '\\n\\t\\t\\tLas nuevas fronteras de la economía social\\n\\t\\t\\t\\t\\t',\n",
       "  '\\n\\t\\t\\tDesarrollo humano y expansión de capacidades: elementos para su comprensión e implementación\\n\\t\\t\\t\\t\\t',\n",
       "  '\\n\\t\\t\\tTrabajo en la infancia. Una aproximación al trabajo doméstico y extradoméstico en México desde el Módulo de Trabajo Infantil 2015\\n\\t\\t\\t\\t\\t',\n",
       "  '\\n\\t\\t\\tDeterminantes del nivel de inglés en la Educación Superior en Colombia\\n\\t\\t\\t\\t\\t',\n",
       "  '\\n\\t\\t\\tThe importance of information upon applying IFRS in financial entities that trade at the Colombian stock market\\n\\t\\t\\t\\t\\t',\n",
       "  '\\n\\t\\t\\tFactores que incrementan el riesgo de que los jóvenes se vean involucrados en situaciones violentas o delictivas en dos alcaldías de la Ciudad de México\\n\\t\\t\\t\\t\\t',\n",
       "  '\\n\\t\\t\\tLa política de prevención del delito en México: inconsistencias, datos y evaluaciones\\n\\t\\t\\t\\t\\t'],\n",
       " 'autores': ['\\nVíctor Hugo Malagón Basto\\n',\n",
       "  '\\nLenin A. Muñoz G.\\n',\n",
       "  '\\nCarlos David De La Ossa Paternina\\n',\n",
       "  '\\nMaría Camila Sandoval Acevedo\\nMauricio Eduardo Escobar Salas\\n',\n",
       "  '\\nEdison  Alonso Sosa\\nMaría Elizabeth Duque Montes\\nLina Paola Pasaje Beltrán\\n',\n",
       "  '\\nCarmen Juliana Villamizar Jaimes\\nAndrés  Villegas Mejía\\n',\n",
       "  '\\nPaula Marcela Gonzáles Bahamón\\n',\n",
       "  '\\nAlexander  Cotte Poveda\\n\\n\\t\\t\\t\\t\\t\\t\\t\\t\\tUniversidad Santo Tomas\\n\\t\\t\\t\\t\\t\\t\\t\\t\\n',\n",
       "  '\\nPaula Vanessa Sosa\\nDiana Milena Navarro\\n',\n",
       "  '\\nJorge Gámez Gutierrez\\nCarolina Aguirre Garzón\\nAndrés Sánchez De la Rosa\\n',\n",
       "  '\\nJosue Gómez Castellanos\\n',\n",
       "  '\\nMiguel Ángel Laverde Sarmiento\\nJairo Alonso Bautista\\n',\n",
       "  '\\nJesús Vaca\\n',\n",
       "  '\\nMelisa Cabrapan Duarte\\n',\n",
       "  '\\nAlexander Cotte Poveda\\n\\n\\t\\t\\t\\t\\t\\t\\t\\t\\tUniversidad Santo Tomas\\n\\t\\t\\t\\t\\t\\t\\t\\t\\n',\n",
       "  '\\nMaria Celeste Gómez\\n\\n\\t\\t\\t\\t\\t\\t\\t\\t\\tUniversidad Nacional de Córdoba, Facultad de Ciencias Económicas. Centro de Investigaciones en Ciencias Económicas, UNC-CONICET\\n\\t\\t\\t\\t\\t\\t\\t\\t\\n',\n",
       "  '\\nCarlos Alfonso Laverde Rodriguez\\n\\n\\t\\t\\t\\t\\t\\t\\t\\t\\tUniversidad Santo Tomás\\n\\t\\t\\t\\t\\t\\t\\t\\t\\nMisael Tirado Acero\\n\\n\\t\\t\\t\\t\\t\\t\\t\\t\\tUniversidad Católica de Colombia\\n\\t\\t\\t\\t\\t\\t\\t\\t\\n',\n",
       "  '\\nJoahanna Navarrete Suárez\\n\\n\\t\\t\\t\\t\\t\\t\\t\\t\\tEstudiante de Doctorado en Estudios de Población y Maestra en Demografía por el CEDUA, El Colegio de México\\n\\t\\t\\t\\t\\t\\t\\t\\t\\n',\n",
       "  '\\nJuan Camilo Arévalo Parra\\n\\n\\t\\t\\t\\t\\t\\t\\t\\t\\tDocente ocasional de la Escuela Ciencias Administrativas, Contables, Económicas y de Negocios - Universidad Nacional Abierta y a Distancia - UNAD\\n\\t\\t\\t\\t\\t\\t\\t\\t\\n',\n",
       "  '\\nMirna Camacho Bercherlt\\n\\n\\t\\t\\t\\t\\t\\t\\t\\t\\tUniversidad Autónoma de Chapingo\\n\\t\\t\\t\\t\\t\\t\\t\\t\\nAdán Guillermo Ramírez García\\n\\n\\t\\t\\t\\t\\t\\t\\t\\t\\tUniversidad Autónoma de Chapingo\\n\\t\\t\\t\\t\\t\\t\\t\\t\\nMaria Isabel Palacios Rangel\\n\\n\\t\\t\\t\\t\\t\\t\\t\\t\\tUniversidad Autónoma de Chapingo\\n\\t\\t\\t\\t\\t\\t\\t\\t\\n',\n",
       "  '\\nGabriela Alicia Cervantes Romo\\n\\n\\t\\t\\t\\t\\t\\t\\t\\t\\tEl Colegio de México\\n\\t\\t\\t\\t\\t\\t\\t\\t\\n',\n",
       "  '\\nCarlos Alfonso Laverde Rodriguez\\n\\n\\t\\t\\t\\t\\t\\t\\t\\t\\tUniversidad Santo Tomás\\n\\t\\t\\t\\t\\t\\t\\t\\t\\n',\n",
       "  '\\nArmando González Díaz\\n\\n\\t\\t\\t\\t\\t\\t\\t\\t\\tUniversidad Nacional Autónoma de México\\n\\t\\t\\t\\t\\t\\t\\t\\t\\n',\n",
       "  '\\nJosé Luis Hernández Angeles\\n',\n",
       "  '\\nSandra Caicedo\\n\\n\\t\\t\\t\\t\\t\\t\\t\\t\\tEAN\\n\\t\\t\\t\\t\\t\\t\\t\\t\\nLeonardo Fernández\\n\\n\\t\\t\\t\\t\\t\\t\\t\\t\\tEAN\\n\\t\\t\\t\\t\\t\\t\\t\\t\\nEdgar Ortiz\\n\\n\\t\\t\\t\\t\\t\\t\\t\\t\\tEAN\\n\\t\\t\\t\\t\\t\\t\\t\\t\\nWilson Sánchez\\n\\n\\t\\t\\t\\t\\t\\t\\t\\t\\tEAN\\n\\t\\t\\t\\t\\t\\t\\t\\t\\n',\n",
       "  '\\nGraciela Lara Gómez\\n\\n\\t\\t\\t\\t\\t\\t\\t\\t\\tUniversidad Autónoma de Querétaro\\n\\t\\t\\t\\t\\t\\t\\t\\t\\n',\n",
       "  '\\nFabián Garzón Cuervo\\n\\n\\t\\t\\t\\t\\t\\t\\t\\t\\tUniversity of Lisbon\\n\\t\\t\\t\\t\\t\\t\\t\\t\\n',\n",
       "  '\\nJorge Alberto Rivera Godoy\\n\\n\\t\\t\\t\\t\\t\\t\\t\\t\\tUniversidad del Valle\\n\\t\\t\\t\\t\\t\\t\\t\\t\\n',\n",
       "  '\\nCarlos Alfonso Laverde Rodriguez\\n',\n",
       "  '\\nMarco Ricardo Téllez Cabrera\\n',\n",
       "  '\\nCarmen Monzerrat Valdez Navarro\\n',\n",
       "  '\\nHéctor Andrés López Naranjo\\nAlexander Sellamen Garzón\\n',\n",
       "  '\\nMiguel Angel Laverde Sarmiento\\nJorge Fernando Garcia Carrillo\\nJuan Carlos Lezama Palomino\\nAlejandra Patiño Jacinto\\n',\n",
       "  '\\nAlejandra Pérez Pérez\\n',\n",
       "  '\\nMario Pavel Díaz Román\\nCarolina Jasso González\\n'],\n",
       " 'abstract': ['\\n\\t\\t\\t\\t\\t\\t\\tEn la actual sociedad del conocimiento, con el avance inevitable hacia lo que conocemos como Cuarta Revolución Industrial, cobran importancia los enfoques y teorías de desarrollo que privilegian la cooperación entre diversos actores relevantes para la generación, transmisión y aplicación de conocimiento pertinente. Mucho más ahora, en medio de esta inesperada coyuntura de pandemia que nos ha puesto a prueba como sociedad, ha puesto a prueba nuestros hábitos y costumbres y, lo que es más relevante, ha puesto a prueba las antiguas estructuras, metodologías, pedagogías y didácticas, obligándonos a empresas, universidades, Estados y sociedad civil a acelerar la inevitable transformación que venía siendo anunciada en la retórica de nuestra sociedad, pero que apenas avanzaba tímidamente hacia su concreción.\\n\\t\\t\\t\\t\\t\\t',\n",
       "  '\\n\\t\\t\\t\\t\\t\\t\\tEl proyecto aplicado empresarial denominado ‘abi-Microcréditos’ es un emprendimiento en el sector fintech colombiano. Tiene como base la economía colaborativa y busca constituirse en una estrategia sostenible frente a los sistemas de crédito informal. Se plantea, además, como solución a las necesidades y requerimientos de crédito para la inversión en capital de trabajo de microempresarios, y como un esquema seguro y rentable de apoyo al desarrollo empresarial con base en un gran componente tecnológico y social. Para el presente proyecto se empleó, como principal metodología de diseño, modelación y descubrimiento, el design thinking; igualmente, se recurrió a herramientas como el Value Proposition Canvas, para depurar la estrategia de valor, y el buyer persona, para definir el arquetipo de lo que se consideraría como cliente del servicio. A partir de la implementación de estas metodologías y del proceso de empatizar con el problema, el usuario y la competencia, se configuró la solución abi-Microcréditos. Finalmente, se modelaron los principales supuestos del mercado y el impacto de estos sobre el comportamiento financiero del negocio, identificando los principales factores de sensibilidad de la situación financiera y el flujo de caja esperado del proyecto.\\n\\t\\t\\t\\t\\t\\t',\n",
       "  '\\n\\t\\t\\t\\t\\t\\t\\tHay una tendencia mundial a la digitalización de servicios, donde el sector financiero es uno de los que está teniendo mayores transformaciones. El surgimiento de las fintech ha aportado, en gran medida, a la evolución de las soluciones que pueden brindarse mediante el uso de un celular, lo que resulta imprescindible para garantizar la permanencia en el mercado en unos años. En este orden de ideas, la banca móvil se convierte en una necesidad y no en una elección. Este trabajo ofrece una solución que impulsa la adopción de los desarrollos y cambios tecnológicos implementados en la entidad financiera Banco Amigo. Para ello, en primera instancia, se realiza una investigación a través de encuestas y de un modelo analítico para identificar las barreras y limitaciones de los clientes que no hacen uso de los canales digitales. La segunda parte se enfoca en la creación de estrategias en pro de acompañar a los clientes para que adopten el uso de estos canales, con el fin de aumentar el porcentaje de usuarios que ingresan y hacen sus transacciones por estos medios.\\n\\t\\t\\t\\t\\t\\t',\n",
       "  '\\n\\t\\t\\t\\t\\t\\t\\tMediante un estudio de caso, el presente artículo tiene como objetivo proponer un modelo de planeación estratégica para determinar las políticas y la metodología para que una empresa de servicios ―de carácter familiar, con 14 años de trayectoria, que trabaja en brindar soluciones de mantenimiento y construcción para infraestructura industrial, institucional y residencial― tenga una hoja de ruta clara a seguir, basada en su experiencia y en el modelo de gestión que ha llevado a cabo. Este trabajo responde a la necesidad de dicha empresa de contar con un modelo de planeación estratégica que le permita explorar nuevas metas. Se ha identificado la importancia de pensar a largo plazo, con el fin de potenciar sus fortalezas y aprovechar las oportunidades que ofrece su entorno, así como de reconocer y enfrentar las amenazas en el sector y minimizar las debilidades que se presentan al interior de la organización.\\n\\t\\t\\t\\t\\t\\t',\n",
       "  '\\n\\t\\t\\t\\t\\t\\t\\tEl sistema de salud para seguridad del paciente ha evolucionado desde la aplicación de métodos manuales hasta la descripción en bases de datos de las herramientas de apoyo, sin embargo, aún no se cuenta con un sistema de gestión inteligente que facilite la respuesta oportuna a los pacientes. Por lo anterior, esta investigación desarrolló un sistema de gestión del conocimiento para la seguridad del paciente, con el fin de dar solución a los principales problemas en la calidad y atención en la salud brindada por parte de las Entidades Administradoras de Planes de Beneficios (EAPB), Instituciones Prestadoras de Servicios de Salud (IPS), Servicios de Transporte Especial de Pacientes y profesionales independientes, así mismo, se busca generar la interacción de dicha información con las entidades departamentales, distritales y municipales de salud, el Instituto Nacional de Salud y el Organismo Técnico de Administración de la Cuenta de Alto Costo. Para tal efecto, se realizó la caracterización de la situación actual a través del método de descripción cuantitativa tecnológico, con base en una descripción en cascada, promoviendo el uso de tecnologías digitales en salud, ampliando los sistemas de información sanitaria y recopilando datos de estricta vigilancia. De esta manera, se espera facilitar la notificación y el análisis de riesgos, eventos adversos y otros indicadores de obligatorio cumplimiento, así como el reporte ante los entes territoriales de salud en Colombia lo que contribuiría a la implementación y el mejoramiento de prácticas asistenciales seguras, a través del seguimiento de los indicadores de gestión de seguridad y calidad.\\n\\t\\t\\t\\t\\t\\t',\n",
       "  '\\n\\t\\t\\t\\t\\t\\t\\tEl presente artículo analiza el caso de la institución de salud ‘Profesionales de la Salud y Cía. Ltda.’, con una trayectoria de más de 25 años, que se ha convertido en un socio estratégico para diferentes compañías de seguros; sin embargo, los problemas financieros que enfrenta actualmente, motivan la búsqueda de nuevos mercados. Para ello, se trabajó en el desarrollo de una estrategia de marketing en salud, con el fin de identificar a nuevos posibles usuarios de esta institución, lo que permitirá generar una propuesta de valor adecuada a las necesidades insatisfechas y reducir la dependencia de las aseguradoras. Así pues, el objetivo principal de este estudio es generar un mapa estratégico de marketing, que responda a las necesidades del entorno y pueda atraer una mayor población potencial. La propuesta de investigación, que tiene lugar en paralelo con un diagnóstico de la institución, está conformada por tres ejes temáticos, cada uno de los cuales engloba una estrategia de investigación de mercado. A través de esta propuesta, se espera establecer una segmentación de los mercados objetivo que, junto con la identificación de las brechas, pueda conducir a la creación del mapa estratégico de la institución, de este modo, a partir del plan estratégico creado, la gerencia general podrá tomar decisiones con base en evidencia.\\n\\t\\t\\t\\t\\t\\t',\n",
       "  '\\n\\t\\t\\t\\t\\t\\t\\tEste artículo analiza la estructura del plan de negocio para ‘Serendipia Wooman’, un emprendimiento colombiano que fomenta ambientes de aprendizaje para el desarrollo personal, impulsando el empoderamiento femenino a través de procesos de autoconocimiento por medio de la metodología Wooman. La promesa de valor se fundamenta, principalmente, en esta metodología, que se basa en un autoconocimiento ―físico, mental, emocional y existencial― que integra las diferentes fases del mes a través del ciclo femenino y lunar, y que permite expresar el máximo potencial personal, así como visualizar mejores resultados en las diferentes áreas de la vida. Por otra parte, se busca la creación de una comunidad femenina de empoderamiento, esto, mediante la contratación de agentes de transformación certificadas y con el perfil para implementar dicha metodología. ‘Serendipia Wooman’ busca, inicialmente, impactar positivamente en la calidad de vida de mujeres residentes en Bogotá que se encuentren en un rango de edades entre los 20 y los 40 años. En el modelo se han considerado factores clave como las variables macroeconómicas que influyen en las proyecciones; asimismo, se han tenido en cuenta todos los inputs que se requieren para desarrollar un análisis de venta en número de unidades y en dinero, costos de ventas y gastos operativos, con el fin de obtener un estado de resultados claro que muestre la utilidad neta. Además, a partir del flujo operativo, se busca saber cuál es el mes en el que se puede llegar a recuperar la inversión requerida para el inicio de la actividad comercial.\\n\\t\\t\\t\\t\\t\\t',\n",
       "  '\\n\\t\\t\\t\\t\\t\\t\\tNo existe ninguna dicotomía, ni clásica, ni neoclásica, ni keynesiana, y mucho menos asociada a cualquier corriente de la escuela económica conocida, sobre el trade off entre salud y economía. La salud, desde la teoría económica, es considerada un bien público puro, un servicio disponible para la sociedad; su uso por parte de algunos no implica la exclusión de dicho bien para otros que los puedan aprovechar. Desde la perspectiva práctica, esto supone las posibles restricciones de acceso que en algún momento puedan surgir. Dos ejemplos de países que privilegiaron lo económico sobre la salud bajo la premisa de tener sistemas de salud robustos y con las mejores dotaciones en Ciencia, Tecnología e Innovación, y un mayor gasto en Investigación y Desarrollo, fueron ee. uu. y Reino Unido, que ahora sufren las consecuencias de ciertas decisiones asumidas en su momento. La tabla 1 y la figura 1 resumen algunos de los indicadores para una serie de países seleccionados.\\n\\t\\t\\t\\t\\t\\t',\n",
       "  '\\n\\t\\t\\t\\t\\t\\t\\tLas emisiones de CO2 a nivel mundial representan un problema de primer orden, particularmente por sus efectos en el calentamiento del planeta. Este documento intenta validar la hipótesis medioambiental de Kuznets para Colombia, no solo a través de la medida tradicional empleada en este tipo de análisis (es decir, producto interno bruto —pib—), sino incorporando un nuevo índice de producción conocido como índice de complejidad económica. Dadas las relaciones no lineales de las variables, se decide emplear un modelo anfis. Además, como análisis de robustez, se utilizan algunas técnicas de series de tiempo tradicionales (fmols, dols y ccr). El estudio realizado indica que los resultados no son concluyentes para la hipótesis ambiental de Kuznets, por lo que esta no puede ser validada para Colombia.\\n\\t\\t\\t\\t\\t\\t',\n",
       "  '\\n\\t\\t\\t\\t\\t\\t\\tLa gestión de las pymes depende de las condiciones del emprendedor, sus características y valores, sus estrategias y su gestión (Blackman, 2003). El desempeño de las empresas, medido en las variaciones del beneficio económico, depende de los valores del emprendedor y estrategias frente a su empresa, así como del emprendedor como individuo, su comportamiento humano, antecedentes, entorno, objetivos, valores y motivaciones (McClelland, 1970; Gámez, 2013). La permanencia de la empresa es la productividad (Sanabria, 2003), y esta se puede explicar a través de los valores de los emprendedores como logro, autonomía, ambición, agresividad, igualdad, autoridad, lealtad, innovación, trabajo y honestidad. Con 383 pymes de la industria de Bogotá se prueba el modelo de Blackman. El desempeño expresado en obtención de beneficios por el desarrollo de la actividad empresarial en la industria bogotana está repartido entre quienes crecieron, no tuvieron cambios y quienes han tenido decrementos.\\n\\t\\t\\t\\t\\t\\t',\n",
       "  '\\n\\t\\t\\t\\t\\t\\t\\tEn este artículo se analiza la estructura productiva de las ciudades de la región centro de México y su influencia en el crecimiento económico local entre 1998 y 2013. Se estudian las catorce ciudades de la región centro de más de 100 000 habitantes según el Catálogo del Sistema Urbano Nacional 2012. Los resultados muestran que las ciudades de menor tamaño se especializan en sectores de valor agregado bajo, mientras que las de mayor tamaño han mantenido su especialización en sectores industriales modernos y en servicios de alto valor agregado con tendencia a la diversificación. Ante ello, el crecimiento económico local ha sido impulsado principalmente por la diversificación productiva y por algunos sectores industriales de alto valor, lo cual ha determinado ritmos de crecimiento diferenciales entre ciudades.\\n\\t\\t\\t\\t\\t\\t',\n",
       "  '\\n\\t\\t\\t\\t\\t\\t\\tEn esta investigación se analiza el efecto de la facturación electrónica en el profesional contable, para identificar los cambios que puede tener en la profesión. Para lograr esto, inicialmente se realiza la revisión de la legislación colombiana en el tema de facturación electrónica, en donde se identifican los principales cambios contables requeridos por ley; posteriormente, mediante encuestas, se establecen los beneficios y dificultades que puede presentar el contador público en Colombia y así analizar las posibles dificultades y ventajas que puedan existir. Luego en el resultado, se identificó que estos cambios pueden afectar a los profesionales y cambiar o eliminar sus dinámicas de trabajo, por lo que estos nuevos cambios pueden marginar a algunos contadores. Adicionalmente, se concluye que es primordial ver este proceso, por una parte, desde una perspectiva a largo plazo, en la que es posible afirmar que la profesión contable se dinamiza debido a la automatización de la información y, por otra, a corto y mediano plazo, pues genera más trabajo técnico.\\n\\t\\t\\t\\t\\t\\t',\n",
       "  '\\n\\t\\t\\t\\t\\t\\t\\tSe analiza la distribución de los ingresos en México y su evolución a lo largo del siglo xxi. Se encontró que los endowments y el acervo de capital son factores determinantes para entender este fenómeno, debido a la excesiva concentración de la riqueza y a la fuerza de divergencia (r > g). Este par de hechos ha ocasionado que los ingresos de la clase capitalista hayan pasado de 55 % del ingreso nacional en el 2003 a casi el 60 % entre el 2012 y el 2013. Se concluye que las estrategias de gasto social implementadas por el gobierno mexicano no han sido eficaces, debido a su poca capacidad de corregir el problema de fondo. La nueva agenda pública debe ir dirigida a reducir la brecha entre r y g, y un esquema que comienza a difundirse son los impuestos sobre el capital y la riqueza, pero se requieren más estudios para justificar dicha estrategia.\\n\\t\\t\\t\\t\\t\\t',\n",
       "  '\\n\\t\\t\\t\\t\\t\\t\\tEn este artículo, se analiza la configuración de las economías sexoafectivas en torno a la prostitución en contextos petroleros de la Patagonia argentina. Además, se estudian las diferentes dinámicas conyugales y familiares entre hombres y mujeres que se\\xa0 vincularon sexoafectivamente a través del mercado sexual o fuera de él, y que desenvuelven y sostienen económicamente sus vidas en contextos dependientes de la actividad hidrocarburífera. El objetivo es, a partir de las experiencias y discursos de diferentes actores, indagar en cómo se construye y significa la cotidianidad de esos relacionamientos, y el modo en que se expresan las tensiones entre la sexualidad, el afecto y la economía.\\n\\t\\t\\t\\t\\t\\t',\n",
       "  '\\n\\t\\t\\t\\t\\t\\t\\tEl prestigio, la credibilidad y la reputación son elementos centrales en la señalización cuando se logran publicaciones de alta calidad en journals de alto impacto dentro de determinada área del conocimiento, más aún y sobre todo cuando se consigue el reconocimiento de sus pares. Una breve revisión de las publicaciones de alto impacto realizadas por los economistas de mayor referenciación en Colombia puede, relativamente, señalar el grado de distinción y la cantidad de citaciones que tienen algunos de los investigadores y sus trabajos en economía.\\n\\t\\t\\t\\t\\t\\t',\n",
       "  '\\n\\t\\t\\t\\t\\t\\t\\tLa participación de los sindicatos en la dinámica de las relaciones laborales y la vida institucional de Argentina ha fluctuado de la mano de las distintas orientaciones políticas y económicas de los gobiernos nacionales. La literatura rescata, desde comienzos del siglo XXI, una considerable revitalización en estas organizaciones, junto a cierto crecimiento en el nivel de conflictividad laboral de los trabajadores. Al mismo tiempo, se registran fuertes caídas en los indicadores de desigualdad salarial, mejoras en el nivel de empleo, creciente inflación y fuertes pujas distributivas. En atención a tres elementos de poder sindical, como las negociaciones colectivas, la afiliación y los conflictos laborales, el objetivo de este artículo es examinar el vínculo entre ellos y el nivel y distribución de los salarios de los trabajadores formales del sector privado. Los resultados arrojan evidencia diferenciada según la posición de los trabajadores en la distribución salarial, con particularidades de acuerdo a la dimensión que se considere.\\n\\t\\t\\t\\t\\t\\t',\n",
       "  '\\n\\t\\t\\t\\t\\t\\t\\tA partir de datos etnográficos, se plantea un análisis de la forma en la que se entraman en la lógica del comercio sexual, o a través de él, las esferas de la intimidad y el mercado, de la sexualidad y la afectividad. Se explora, mediante una mirada a la forma en la que se construye socialmente el dinero y las jerarquías morales que produce, cuáles son las condiciones estructurales y afectivas en torno a experiencias personales y laborales de mujeres que participan o participaron en el comercio sexual y que se perciben a sí mismas como trabajadoras sexuales. Para esto, se recolectan una serie de narrativas de trabajadoras sexuales de la ciudad de Bogotá, que abogan por el reconocimiento de sus derechos laborales.\\n\\t\\t\\t\\t\\t\\t',\n",
       "  '\\n\\t\\t\\t\\t\\t\\t\\tEl presente documento analiza el fenómeno del desplazamiento forzado durante dos periodos: 2005-2010 y 2011-2016. Este último se encuentra entre el inicio de las conversaciones que antecedieron el pacto de paz con las farc y la modificación de políticas y programas para el combate del narcotráfico en los municipios con mayor presencia de conflicto y grupos armados ilegales (4 de septiembre de 2012 y 26 de septiembre de 2016). La investigación tiene como objetivo dar cuenta de la distribución y la concentración del desplazamiento forzado, evidenciar la persistencia de este fenómeno en los periodos establecidos, y evaluar sus determinantes en los municipios donde se presenta. A través del uso de métodos que evalúan la dependencia espacial y la existencia de regímenes espaciales se encontró que la distribución del desplazamiento no está dada aleatoriamente en el espacio; se comprobó que en el largo plazo de los periodos de análisis las proporciones de desplazamiento tienen una autocorrelación espacial positiva que muestra los rasgos de persistencia y difusión.\\n\\t\\t\\t\\t\\t\\t',\n",
       "  '\\n\\t\\t\\t\\t\\t\\t\\tA través de una metodología cualitativa, este estudio busca demostrar la siguiente hipótesis: el Mercosur, y su relanzamiento bajo el gobierno de Lula da Silva (2003-2010), plasmó una visión estratégica que se venía consolidando antes de los dos mandatos de este presidente, y que buscaba que este proyecto integracionista multidimensional se volviese una herramienta crucial para el fortalecimiento de un bloque suramericano liderado por Brasil. Con esto se quería contribuir al desarrollo de la región, y al posicionamiento del Cono Sur como una voz decisiva en la política internacional.\\n\\t\\t\\t\\t\\t\\t',\n",
       "  '\\n\\t\\t\\t\\t\\t\\t\\tSe analizó el desempeño de seis empresas dedicadas a brindar servicios profesionales en el Estado de México, para identificar el modelo de negocios con que operan y su relación con el entorno. El método y la técnica empleada se fundamentan en los estudios de caso, aplicando el modelo de negocios Canvas. Algunos resultados son que las empresas muestran debilidad estructural y carecen de una base económica sólida que les permita operar con independencia de los programas estatales. Se concluye que sus modelos de negocio están basados en la relación con sus patrocinadores, descuidando el contexto local, y así ponen en peligro su permanencia.\\n\\t\\t\\t\\t\\t\\t',\n",
       "  '\\n\\t\\t\\t\\t\\t\\t\\tLa movilidad cotidiana por motivos laborales se refiere a los viajes recurrentes con patrones específicos de horarios que se hacen día a día. Esta movilidad guarda un impacto directo en la distribución del tiempo de las personas para los trabajos extradomésticos, domésticos y de cuidados, además en el tiempo libre destinado al descanso, al ocio y la recreación. El objetivo de esta investigación es determinar la magnitud del efecto que la movilidad cotidiana por motivos de trabajo tiene en el tiempo libre, en el trabajo extradoméstico, doméstico y de cuidados. Se emplea la Encuesta Nacional de Uso del Tiempo (enut) 2014. Los hallazgos indican que sí existe un efecto negativo de la movilidad cotidiana por motivos laborales que reduce el tiempo libre; además, a partir de otras variables, se evidencian las desigualdades de género latentes en el uso del tiempo de la población ocupada.\\n\\t\\t\\t\\t\\t\\t',\n",
       "  '\\n\\n\\nLaverde Rodriguez, C. A. (2019). Las luchas semánticas en los mercados laborales: una mirada a las economías colaborativas. Revista CIFE: Lecturas De Economía Social, 21(35), 9-20. Recuperado a partir de https://revistas.usantotomas.edu.co/index.php/cife/article/view/5367\\n\\n\\n\\n\\n\\t\\t\\t\\t\\t\\t\\t    Formatos de citación\\n\\t\\t\\t\\t\\t\\t\\t\\t\\t\\n\\n\\n\\n\\n\\t\\t\\t\\t\\t\\t\\t\\t\\t\\t\\t\\tACM\\n\\t\\t\\t\\t\\t\\t\\t\\t\\t\\t\\t\\n\\n\\n\\n\\t\\t\\t\\t\\t\\t\\t\\t\\t\\t\\t\\tACS\\n\\t\\t\\t\\t\\t\\t\\t\\t\\t\\t\\t\\n\\n\\n\\n\\t\\t\\t\\t\\t\\t\\t\\t\\t\\t\\t\\tAPA\\n\\t\\t\\t\\t\\t\\t\\t\\t\\t\\t\\t\\n\\n\\n\\n\\t\\t\\t\\t\\t\\t\\t\\t\\t\\t\\t\\tABNT\\n\\t\\t\\t\\t\\t\\t\\t\\t\\t\\t\\t\\n\\n\\n\\n\\t\\t\\t\\t\\t\\t\\t\\t\\t\\t\\t\\tChicago\\n\\t\\t\\t\\t\\t\\t\\t\\t\\t\\t\\t\\n\\n\\n\\n\\t\\t\\t\\t\\t\\t\\t\\t\\t\\t\\t\\tHarvard\\n\\t\\t\\t\\t\\t\\t\\t\\t\\t\\t\\t\\n\\n\\n\\n\\t\\t\\t\\t\\t\\t\\t\\t\\t\\t\\t\\tIEEE\\n\\t\\t\\t\\t\\t\\t\\t\\t\\t\\t\\t\\n\\n\\n\\n\\t\\t\\t\\t\\t\\t\\t\\t\\t\\t\\t\\tMLA\\n\\t\\t\\t\\t\\t\\t\\t\\t\\t\\t\\t\\n\\n\\n\\n\\t\\t\\t\\t\\t\\t\\t\\t\\t\\t\\t\\tTurabian\\n\\t\\t\\t\\t\\t\\t\\t\\t\\t\\t\\t\\n\\n\\n\\n\\t\\t\\t\\t\\t\\t\\t\\t\\t\\t\\t\\tVancouver\\n\\t\\t\\t\\t\\t\\t\\t\\t\\t\\t\\t\\n\\n\\n\\n',\n",
       "  '\\n\\t\\t\\t\\t\\t\\t\\tLas zonas metropolitanas (ZM) son ciudades con alta concentración de población y actividades económicas que abarcan más de un municipio, por lo cual reúnen muchos de los factores asociados con una elevada mortalidad por enfermedades isquémicas del corazón (MEIC). En México, esta causa de muerte aumenta rápidamente en la población en edad laboral y afecta fundamentalmente zonas urbanas, entre las cuales destacan las ZM. Este artículo explora la relación entre el tamaño de ciudad y el nivel de MEIC. Para hacerlo, se categorizaron las ZM en cuatro: menor de 250 000, entre 250 y 500 000, entre 500 000 y un millón y más de un millón de habitantes. Mediante una regresión lineal, que contempló como variables de control las principales causas ecológicas de riesgo de MEIC, se encontró un gradiente de incremento en el nivel de esta causa de muerte para cada tamaño mayor de ciudad.\\n\\t\\t\\t\\t\\t\\t',\n",
       "  '\\n\\t\\t\\t\\t\\t\\t\\tLa localización y concentración de la actividad económica responde a muchos factores —algunos de ellos positivos y otros negativos— que desde la perspectiva de la teoría económica provocan economías de aglomeración. Uno de los elementos desfavorecedores y que provocan externalidades negativas son el crimen y la violencia (Hampley y McPheters, 1975; Pichardo-Muñíz y Chavarría, 2016). En particular, aquellos que afectan directa e indirectamente a las empresas son los analizados en el presente estudio. Los resultados obtenidos que aplican técnicas de análisis espacial y econometría lineal indican que, para el occidente de México, la afectación por la delincuencia oficialmente reportada es dispar y altamente dependiente de los sectores económicos analizados.No obstante, en la mayoría de los casos, factores que generan externalidades positivas, como el nivel educativo, son significativamente relevantes y acordes a los planteamientos propuestos.\\n\\t\\t\\t\\t\\t\\t',\n",
       "  '\\n\\t\\t\\t\\t\\t\\t\\tPara el desarrollo de este estudio de caso se llevó a cabo un análisis de la gestión de\\xa0proyectos en una fundación en el sector educativo en Colombia. Como resultado del\\xa0análisis se pudo establecer que, siendo una empresa enfocada a desarrollar consultoría\\xa0en contratación pública orientada a proyectos, la fundación carece de metodologías de\\xa0gestión de proyectos claramente definidas y documentadas, repercutiendo directamente\\xa0en el resultado esperado y en los procesos de seguimiento y gestión que la fundación\\xa0debe realizar. Como respuesta a estas problemáticas, se plantea un fortalecimiento de\\xa0la dirección de proyectos con un enfoque de oficina de proyectos que pueda proveer\\xa0servicios de apoyo; todo esto alineado a la metodología del PMI, en procura de obtener\\xa0una alineación de la estrategia con el portafolio de proyectos, mejorar el cumplimiento\\xa0de los objetivos trazados, mejorar las competencias internas en gestión de proyectos y\\xa0reforzar la cultura organizacional.\\n\\t\\t\\t\\t\\t\\t',\n",
       "  '\\n\\t\\t\\t\\t\\t\\t\\tEl objetivo del artículo fue identificar las consecuencias que derivan de las prácticas de trabajo indebidas que se efectúan a través de cooperativas de producción en México. El estudio se centró en la subcontratación como una estrategia ampliamente difundida entre el sector empresarial, para reducir cargas financieras e incrementar sus utilidades, e inició con la revisión teórica desde las perspectivas económica y legal, que incluyó el análisis de las normas legales, criterios administrativos e información económica. Finalmente, se establecen las consecuencias referidas a los contextos tributario y laboral, así como en relación con los avances que se han logrado para evitar tales prácticas.\\n\\t\\t\\t\\t\\t\\t',\n",
       "  '\\n\\t\\t\\t\\t\\t\\t\\tDrawing from the consideration of cultural values as an explanatory factor of economic development, this article correlates the cultural traits reported by Hofstede’s Cultural Dimension model with the results in terms of industrialization for Colombia and selected cultural clusters. By contrasting industrialization-oriented policy choices with the evolution of export composition and industrial competitiveness indicators, we conclude that guided by a short-term, materialistic, nepotistic, and intolerant to uncertainty orientation, Colombian economic authorities and elites have helped in the prolongation of an underdeveloped industrial structure by favoring closed groups through extractive institutions, while Asia, instead of adopting ‘western values’, has drawn upon a long-term orientation to implement risky but sound, coordinated, and convergent social and economic policies in order to industrialize.\\n\\t\\t\\t\\t\\t\\t',\n",
       "  '\\n\\t\\t\\t\\t\\t\\t\\tEl documento muestra los principales hallazgos de un análisis que tiene como intención el de valorar el comportamiento financiero de la pyme del sector construcción de vivienda en Colombia en el período 2011-2016, siguiendo como metodología el estudio de algunos de los más importantes indicadores de desempeño contables y de valoración a nivel económico para determinar el grado de cumplimiento del objetivo financiero de las empresas. La pyme del sector de la construcción en Colombia logra rendimientos contables, aunque superiores en la mediana empresa en razón a su eficacia en el control de los gastos y al uso de un mayor apalancamiento financiero positivo. No obstante lo anterior, los resultados también demuestran que existe una destrucción del valor económico agregado (EVA) en los años analizados. Esta destrucción de valor obedece a que el costo de recursos financieros es superior a la utilidad operacional después de impuestos.\\n\\t\\t\\t\\t\\t\\t',\n",
       "  '\\n\\n\\nLaverde Rodriguez, C. A. (2019). Las nuevas fronteras de la economía social. Revista CIFE: Lecturas De Economía Social, 21(34), 9-19. Recuperado a partir de https://revistas.usantotomas.edu.co/index.php/cife/article/view/5203\\n\\n\\n\\n\\n\\t\\t\\t\\t\\t\\t\\t    Formatos de citación\\n\\t\\t\\t\\t\\t\\t\\t\\t\\t\\n\\n\\n\\n\\n\\t\\t\\t\\t\\t\\t\\t\\t\\t\\t\\t\\tACM\\n\\t\\t\\t\\t\\t\\t\\t\\t\\t\\t\\t\\n\\n\\n\\n\\t\\t\\t\\t\\t\\t\\t\\t\\t\\t\\t\\tACS\\n\\t\\t\\t\\t\\t\\t\\t\\t\\t\\t\\t\\n\\n\\n\\n\\t\\t\\t\\t\\t\\t\\t\\t\\t\\t\\t\\tAPA\\n\\t\\t\\t\\t\\t\\t\\t\\t\\t\\t\\t\\n\\n\\n\\n\\t\\t\\t\\t\\t\\t\\t\\t\\t\\t\\t\\tABNT\\n\\t\\t\\t\\t\\t\\t\\t\\t\\t\\t\\t\\n\\n\\n\\n\\t\\t\\t\\t\\t\\t\\t\\t\\t\\t\\t\\tChicago\\n\\t\\t\\t\\t\\t\\t\\t\\t\\t\\t\\t\\n\\n\\n\\n\\t\\t\\t\\t\\t\\t\\t\\t\\t\\t\\t\\tHarvard\\n\\t\\t\\t\\t\\t\\t\\t\\t\\t\\t\\t\\n\\n\\n\\n\\t\\t\\t\\t\\t\\t\\t\\t\\t\\t\\t\\tIEEE\\n\\t\\t\\t\\t\\t\\t\\t\\t\\t\\t\\t\\n\\n\\n\\n\\t\\t\\t\\t\\t\\t\\t\\t\\t\\t\\t\\tMLA\\n\\t\\t\\t\\t\\t\\t\\t\\t\\t\\t\\t\\n\\n\\n\\n\\t\\t\\t\\t\\t\\t\\t\\t\\t\\t\\t\\tTurabian\\n\\t\\t\\t\\t\\t\\t\\t\\t\\t\\t\\t\\n\\n\\n\\n\\t\\t\\t\\t\\t\\t\\t\\t\\t\\t\\t\\tVancouver\\n\\t\\t\\t\\t\\t\\t\\t\\t\\t\\t\\t\\n\\n\\n\\n',\n",
       "  '\\n\\t\\t\\t\\t\\t\\t\\tDesde la perspectiva del desarrollo humano, tener una vida floreciente implica que la persona participa activamente en la expansión de sus capacidades u oportunidades de elección de tener una vida valiosa y digna de ser vivida. Esto significa que las capacidades se convierten en el objetivo para realizar la asignación de recursos y hacer política pública, lo que deja a la economía del bienestar la tarea de desarrollar indicadores que permitan monitorear y evaluar las capacidades en la población. Este artículo presenta una exposición teórica sobre los principales aspectos para entender en qué consiste el enfoque de capacidades, particularizando en la versión Seniana, así como de las formas más elementales para efectuar su operacionalizaciónen la construcción de indicadores.\\n\\t\\t\\t\\t\\t\\t',\n",
       "  '\\n\\t\\t\\t\\t\\t\\t\\tEl trabajo infantil se entiende como aquel que ocurre en el ámbito\\xa0extradoméstico; sin embargo, levantamientos de información y conceptualizaciones actuales permiten realizar aproximaciones a las labores que los niños, niñas y adolescentes realizan dentro de sus hogares y pueden vulnerar su desarrollo. Esta investigación tiene por objetivo estimar el efecto de\\xa0las características de los hogares\\xa0sobre la probabilidad que tienen\\xa0niños y adolescentes\\xa0mexicanos\\xa0de integrarse\\xa0–o no–\\xa0en el trabajo doméstico\\xa0o\\xa0extradoméstico.\\xa0Se emplea\\xa0como fuente de datos\\xa0el Módulo de Trabajo Infantil (MTI) 2015,\\xa0anexo a\\xa0la\\xa0Encuesta\\xa0Nacional\\xa0de Ocupación y Empleo. Los resultados muestran\\xa0que\\xa0existen diferencias significativas entre el tipo de hogar y la probabilidad de ingreso al trabajo\\xa0doméstico o\\xa0extradoméstico,\\xa0dependiendo del sexo del jefe(a)\\xa0de la unidad.\\n\\t\\t\\t\\t\\t\\t',\n",
       "  '\\n\\t\\t\\t\\t\\t\\t\\tLa presente investigación tuvo como objetivo analizar los determinantes del nivel de inglés en\\xa0la Educación Superior en Colombia, mediante las pruebas Saber Pro del año 2015. El estudio desarrollado,\\xa0tuvo un enfoque cuantitativo de tipo transversal,\\xa0descriptivo y correlacional. Los datos utilizados\\xa0correspondieron a las pruebas Saber Pro del año 2015 con\\xa0231.855\\xa0individuos. Se realizó un modelo\\xa0Logit\\xa0para estimar las probabilidades en la obtención de altos niveles en la competencia\\xa0del idioma\\xa0inglés, a partir de variables independientes conformadas por factores demográficos, socioeconómicos e institucionales. Los resultados evidenciaron que las variables\\xa0que conformaban los factores mencionados,\\xa0determinaban positiva o negativamente el nivel de desempeño de los estudiantes en el dominio de un segundo idioma (inglés). El estudio cuestiona\\xa0el papel de las políticas bilingües en Colombia\\xa0y\\xa0genera\\xa0planteamientos\\xa0acerca de\\xa0la manera en que las instituciones enseñan el\\xa0inglés\\xa0dentro de sus currículos,\\xa0como también a\\xa0la preparación docente y\\xa0al\\xa0uso de las tecnologías de la información y la comunicación.\\xa0\\xa0\\n\\t\\t\\t\\t\\t\\t',\n",
       "  '\\n\\t\\t\\t\\t\\t\\t\\tThe aim of this research is to determine whether the implementation of the International Financial Reporting Standards (IFRS) in the companies of the financial sector listed on the Colombian Stock Exchange has greater relevance compared to the previous accounting regulatory framework known as Generally Accepted Accounting Principles\\xa0(GAAP) in Colombia, for the years 2009 to 2016. Taking into account the concept of\\xa0valorative\\xa0relevance that indicates that the accounting information is relevant if it affects the stock price\\xa0reflected in the capital market exchange.\\xa0To determine this relationship, an adaptation of the model proposed by Ohlson (1995) is used, because it is the most frequently used to measure relevance. The modifications made to the model were to include accounting variables of financial instruments of assets and liabilities to better measure the impact of the IFRS. On a general\\xa0level, the\\xa0conclusion is reached that the\\xa0valorative\\xa0relevance of financial companies listed on the stock exchange between 2009 and 2016, does not change due to the application of the IFRS.\\xa0The results are\\xa0because\\xa0the regulation that financial companies that are listed on the stock exchange of Colombia are subject to has contributed to the relevance being maintained before and after the application of the new regulatory framework.\\xa0however,\\xa0when carrying out the study of the information taking into account only the variables and taking into account the regulations under the IFRS, they present a greater degree of significance.\\n\\t\\t\\t\\t\\t\\t',\n",
       "  '\\n\\t\\t\\t\\t\\t\\t\\tSe presentan dos modelos de regresión logística para explicar el involucramiento de jóvenes en situaciones de riesgo de iniciar una carrera delictiva o tener conductas violentas. Se incluyen habitantes de las ciudades más violentas de México y dos alcaldías de la Ciudad de México para identificar las desventajas que ayuden a explicar su involucramiento en situaciones como\\xa0el\\xa0consumo de alcohol y drogas, formar parte de pandillas o poseer armas. Se consideran características en el nivel individual (sexo, edad y ocupación); del hogar (estrato socioeconómico, tipo de hogar, índices de convivencia); y del entorno (percepción de riesgo en la colonia). En general, a nivel nacional y local las desventajas tienen\\xa0un\\xa0impacto similar en los jóvenes, siendo el sexo y la edad las que tuvieron el mayor impacto; en la Ciudad de México, características como tipo de hogar, estrato socioeconómico y ocupación no tienen significancia estadística.\\xa0\\n\\t\\t\\t\\t\\t\\t',\n",
       "  '\\n\\t\\t\\t\\t\\t\\t\\tEl objetivo de este artículo es\\xa0evidenciar\\xa0las inconsistencias en materia de prevención del delito durante la administración presidencial de Enrique Peña Nieto, tanto en el diseño del Programa Nacional (PRONAPRED), así como las debilidades analíticas detectadas en la definición de los municipios beneficiarios y en la identificación de los factores de riesgo. El argumento se divide en tres apartados: en el primero se analizan los elementos conceptuales y el origen de la política de prevención en México, donde se aborda el contexto y las principales inconsistencias del programa federal; en el segundo, se muestran las evaluaciones técnicas a las que fue sometida la política preventiva. En el último apartado se hace referencia a las fuentes de información disponibles sobre prevención del delito; se señalan una serie de falencias en el uso acrítico de factores de riesgo documentados desde la evidencia internacional y, finalmente, se reflexiona brevemente sobre la política de prevención en el contexto del actual cambio de gobierno en México.\\xa0\\n\\t\\t\\t\\t\\t\\t']}"
      ]
     },
     "execution_count": 35,
     "metadata": {},
     "output_type": "execute_result"
    }
   ],
   "source": [
    "datos"
   ]
  },
  {
   "cell_type": "code",
   "execution_count": null,
   "metadata": {},
   "outputs": [],
   "source": [
    "datos={'titulo':[],'autores':[],'abstract':[]}\n",
    "contador=0\n",
    "for volumen in volumenes:\n",
    "    pag_vol=rq.get(volumen.a.get('href'))\n",
    "    pag_vol_sopa=BeautifulSoup(pag_vol.text,'lxml')\n",
    "    publicaciones = pag_vol_sopa.find_all('h3',attrs={'class':'media-heading'})\n",
    "    for articulo in articulos:\n",
    "        pag_art=rq.get(articulo.a.get('href'))\n",
    "        pag_art_sopa =BeautifulSoup(pag_art.text,'lxml')\n",
    "        datos['titulo'].append(pag_art_sopa.find('h2',attrs={'class':'page-header'}).text)\n",
    "        datos['autores'].append(pag_art_sopa.find('div',attrs={'class':'authors'}).text)\n",
    "        datos['abstract'].append(pag_art_sopa.find('div',attrs={'class':'article-abstract'}).text)\n",
    "        contador+=1\n",
    "        print(contador)\n",
    "        \n",
    "        \n",
    "                        "
   ]
  },
  {
   "cell_type": "code",
   "execution_count": 39,
   "metadata": {},
   "outputs": [],
   "source": [
    "datos_inm={'nrobanos':[],\n",
    "          'nrocuartos':[],\n",
    "          'barrio':[],\n",
    "          'barrio_comun':[],\n",
    "          'localidad':[],\n",
    "          'valor':[]}"
   ]
  },
  {
   "cell_type": "code",
   "execution_count": null,
   "metadata": {},
   "outputs": [],
   "source": [
    "import requests\n",
    "   localidades=['Suba','Los Mártires','Usaquen','Teusaquillo','Chapinero']\n",
    "    \n",
    "    "
   ]
  },
  {
   "cell_type": "code",
   "execution_count": null,
   "metadata": {},
   "outputs": [],
   "source": [
    "web.robots.txt"
   ]
  },
  {
   "cell_type": "markdown",
   "metadata": {},
   "source": [
    "en Red search se encuentra donde estan los datos generales, cURl convertirla a python, paragrams "
   ]
  },
  {
   "cell_type": "code",
   "execution_count": null,
   "metadata": {},
   "outputs": [],
   "source": [
    "Streamlit para consruir paginas weeb "
   ]
  }
 ],
 "metadata": {
  "kernelspec": {
   "display_name": "Python 3",
   "language": "python",
   "name": "python3"
  },
  "language_info": {
   "codemirror_mode": {
    "name": "ipython",
    "version": 3
   },
   "file_extension": ".py",
   "mimetype": "text/x-python",
   "name": "python",
   "nbconvert_exporter": "python",
   "pygments_lexer": "ipython3",
   "version": "3.8.5"
  }
 },
 "nbformat": 4,
 "nbformat_minor": 4
}
